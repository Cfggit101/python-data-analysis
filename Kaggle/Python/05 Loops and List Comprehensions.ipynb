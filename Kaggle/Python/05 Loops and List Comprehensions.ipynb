{
 "cells": [
  {
   "cell_type": "markdown",
   "id": "59fedcdf-67d5-47eb-9b3a-05ace7146f0b",
   "metadata": {},
   "source": [
    "**LOOPS AND LIST COMPREHENSIONS**\n",
    "*For and while loops, and a much-loved Python feature: list comprehensions*"
   ]
  },
  {
   "cell_type": "markdown",
   "id": "89e539df-f0dc-4fed-acf8-312ccccc53e3",
   "metadata": {},
   "source": [
    "**Loops**\n",
    "Loops are a way to repeatedly execute some code"
   ]
  },
  {
   "cell_type": "code",
   "execution_count": 9,
   "id": "3d4f9b97-fcb6-4b47-af2b-f8de3f4417f5",
   "metadata": {},
   "outputs": [
    {
     "name": "stdout",
     "output_type": "stream",
     "text": [
      "Mercury Venus Earth Mars Jupiter Saturn Uranus Neptune "
     ]
    }
   ],
   "source": [
    "planets = ['Mercury', 'Venus', 'Earth', 'Mars', 'Jupiter', 'Saturn', 'Uranus', 'Neptune']\n",
    "for planet in planets:\n",
    "    print(planet,end=' ') #all on same line"
   ]
  },
  {
   "cell_type": "markdown",
   "id": "91f2cec5-e91f-4b09-aa68-c60cc056cb5f",
   "metadata": {},
   "source": [
    "The **for loop** specifies:\n",
    "\r\n",
    "the variable name to use (in this case, planet)\r\n",
    "the set of values to loop over (in this case, plane\n",
    "You use the word \"in\" to link them together.\r",
    "The object to the right of the \"in\" can be *any object that supports iteration*. Basically, if it can be thought of as a group of things, you can probably loop over it. In addition to **lists**, we can iterate over the elements of a **tuple**\n",
    "\r\n",
    "ts)"
   ]
  },
  {
   "cell_type": "code",
   "execution_count": 11,
   "id": "2acde850-af17-47ca-8d68-b36ff11e98e2",
   "metadata": {},
   "outputs": [
    {
     "data": {
      "text/plain": [
       "360"
      ]
     },
     "execution_count": 11,
     "metadata": {},
     "output_type": "execute_result"
    }
   ],
   "source": [
    "multiplicands = (2, 2, 2, 3, 3, 5)\n",
    "product = 1\n",
    "for mult in multiplicands:\n",
    "    product = product * mult\n",
    "product"
   ]
  },
  {
   "cell_type": "code",
   "execution_count": 13,
   "id": "e45fbf26-6777-4a5e-a112-92dada6722cf",
   "metadata": {},
   "outputs": [
    {
     "name": "stdout",
     "output_type": "stream",
     "text": [
      "HELLO"
     ]
    }
   ],
   "source": [
    "#You can even loop through each character in a string:\n",
    "s = 'steganograpHy is the practicE of conceaLing a file, message, image, or video within another fiLe, message, image, Or video.'\n",
    "# print all the uppercase letters in s, one at a time\n",
    "for letter in s:\n",
    "    if letter.isupper():\n",
    "        print(letter,end='')"
   ]
  },
  {
   "cell_type": "markdown",
   "id": "29f9c19b-c950-41d8-91cd-400ac2822e1c",
   "metadata": {},
   "source": [
    "**range()**\n",
    "range() is a function that returns a sequence of numbers. It turns out to be very useful for writing loops.\n",
    "For example, if we want to repeat some action 5 times:\r\n"
   ]
  },
  {
   "cell_type": "code",
   "execution_count": 17,
   "id": "e8e43995-77d2-4ce6-aaf3-d921c5b49e0a",
   "metadata": {},
   "outputs": [
    {
     "name": "stdout",
     "output_type": "stream",
     "text": [
      "hello 0\n",
      "hello 1\n",
      "hello 2\n",
      "hello 3\n",
      "hello 4\n"
     ]
    }
   ],
   "source": [
    "for i in range(5):\n",
    "    print('hello', i)"
   ]
  },
  {
   "cell_type": "markdown",
   "id": "4edc0bc8-2f6f-4d84-b0ce-58d069e92236",
   "metadata": {},
   "source": [
    "**while loops**\n",
    "The other type of loop in Python is a while loop, which iterates until some condition is met"
   ]
  },
  {
   "cell_type": "code",
   "execution_count": 25,
   "id": "9486fd35-e779-4b3c-b548-756490eba982",
   "metadata": {},
   "outputs": [
    {
     "name": "stdout",
     "output_type": "stream",
     "text": [
      "5 4 3 2 1 0 "
     ]
    }
   ],
   "source": [
    "i=5\n",
    "while i>-1:\n",
    "    print(i, end=' ')\n",
    "    i-=1 #decrease value by 1"
   ]
  },
  {
   "cell_type": "markdown",
   "id": "43d66f5d-aa81-4504-b0a1-b2b693565037",
   "metadata": {},
   "source": [
    "The argument of the while loop is evaluated as a **boolean statement**, and the loop is executed until the statement evaluates to False"
   ]
  },
  {
   "cell_type": "markdown",
   "id": "e5c1b77a-d32d-4263-a8b1-e9af5303cef4",
   "metadata": {},
   "source": [
    "**List comprehensions**\n",
    "List comprehensions are one of Python's most beloved and unique features."
   ]
  },
  {
   "cell_type": "code",
   "execution_count": 27,
   "id": "71c96545-f503-4323-a04e-436efece862e",
   "metadata": {},
   "outputs": [
    {
     "data": {
      "text/plain": [
       "[0, 1, 4, 9, 16, 25, 36, 49, 64, 81]"
      ]
     },
     "execution_count": 27,
     "metadata": {},
     "output_type": "execute_result"
    }
   ],
   "source": [
    "squares = [n**2 for n in range(10)]\n",
    "squares"
   ]
  },
  {
   "cell_type": "code",
   "execution_count": 37,
   "id": "7f0db7b6-688c-4e7d-9633-faaf75b31146",
   "metadata": {},
   "outputs": [
    {
     "data": {
      "text/plain": [
       "[0, 1, 4, 9, 16, 25, 36, 49, 64, 81]"
      ]
     },
     "execution_count": 37,
     "metadata": {},
     "output_type": "execute_result"
    }
   ],
   "source": [
    "#without the list comprehension\n",
    "squares = [] #create an empty list\n",
    "for n in range(10):\n",
    "    squares.append(n**2) #directly make it add the new number as it loops\n",
    "squares\n",
    "#this way i get a list as result"
   ]
  },
  {
   "cell_type": "code",
   "execution_count": 39,
   "id": "5b265f0d-9035-40a6-a2d4-a7ab2b9b3349",
   "metadata": {},
   "outputs": [
    {
     "data": {
      "text/plain": [
       "['Venus', 'Earth', 'Mars']"
      ]
     },
     "execution_count": 39,
     "metadata": {},
     "output_type": "execute_result"
    }
   ],
   "source": [
    "short_planets = [planet for planet in planets if len(planet)<6]\n",
    "short_planets\n",
    "#Construye una lista llamada short_planets que contenga todos los elementos planet de la lista planets solo si la longitud del nombre del planeta es menor que 6 caracteres."
   ]
  },
  {
   "cell_type": "markdown",
   "id": "f44c034e-7f73-4d60-937e-9bfacabb6784",
   "metadata": {},
   "source": [
    "Keep in mind --> ¡Las cadenas de texto (strings) se comportan como listas de caracteres!\n",
    "¿QUÉ GUARDO? for ¿CÓMO RECORRO? if ¿CONDICIÓN?\n"
   ]
  },
  {
   "cell_type": "markdown",
   "id": "c7d1e3c5-7e6c-494b-b528-17f76b0b07cb",
   "metadata": {},
   "source": [
    "Also posible --> filtering with an if condition and applying some transformation to the loop variable"
   ]
  },
  {
   "cell_type": "code",
   "execution_count": 41,
   "id": "d07962ed-056f-47ea-a42c-33ed7d890d29",
   "metadata": {},
   "outputs": [
    {
     "data": {
      "text/plain": [
       "['VENUS!', 'EARTH!', 'MARS!']"
      ]
     },
     "execution_count": 41,
     "metadata": {},
     "output_type": "execute_result"
    }
   ],
   "source": [
    "loud_short_planets = [planet.upper() + '!' for planet in planets if len(planet) < 6]\n",
    "loud_short_planets\n",
    "# str.upper() returns an all-caps version of a string"
   ]
  },
  {
   "cell_type": "markdown",
   "id": "f354c795-8922-4001-b01f-45b9f09ce36b",
   "metadata": {},
   "source": [
    "This expresion is normally writen on a single line, but to see the structure more clearly, you can also express it as:\n",
    "```\n",
    "[\r\n",
    "    planet.upper() + '!' \r\n",
    "    for planet in planets \r\n",
    "    if len(planet) < 6\r\n",
    "]\n",
    "(Continuing the SQL analogy, you could think of these three lines as SELECT, FROM, and WHERE)\n",
    "\n",
    "The expression on the left doesn't technically have to involve the loop variable (though it'd be pretty unusual for it not to)\n",
    "```"
   ]
  },
  {
   "cell_type": "code",
   "execution_count": 43,
   "id": "9f9b47c9-7a41-480b-92e0-ca5e46c9ff16",
   "metadata": {},
   "outputs": [
    {
     "data": {
      "text/plain": [
       "[32, 32, 32, 32, 32, 32, 32, 32]"
      ]
     },
     "execution_count": 43,
     "metadata": {},
     "output_type": "execute_result"
    }
   ],
   "source": [
    "[32 for planet in planets]"
   ]
  },
  {
   "cell_type": "markdown",
   "id": "93199ccb-8b37-4d5b-85c4-9fd5f4f532bd",
   "metadata": {},
   "source": [
    "List comprehensions combined with functions like min, max, and sum can lead to impressive one-line solutions for problems that would otherwise require several lines of code."
   ]
  },
  {
   "cell_type": "code",
   "execution_count": 53,
   "id": "7c4828cc-eea9-4797-8c1b-dd461ae6f5a3",
   "metadata": {},
   "outputs": [
    {
     "data": {
      "text/plain": [
       "2"
      ]
     },
     "execution_count": 53,
     "metadata": {},
     "output_type": "execute_result"
    }
   ],
   "source": [
    "def count_negatives(nums):\n",
    "    \"\"\"Return the number of negative numbers in the given list.\n",
    "    >>> count_negatives([5, -1, -2, 0, 3])\n",
    "    2\n",
    "    \"\"\"\n",
    "    n_negative = 0\n",
    "    for num in nums:\n",
    "        if num < 0:\n",
    "            n_negative = n_negative + 1\n",
    "    return n_negative\n",
    "count_negatives([5, -1, -2, 0, 3])"
   ]
  },
  {
   "cell_type": "code",
   "execution_count": 49,
   "id": "6ddb6100-83e5-40da-b360-c46496b1d6ae",
   "metadata": {},
   "outputs": [
    {
     "data": {
      "text/plain": [
       "2"
      ]
     },
     "execution_count": 49,
     "metadata": {},
     "output_type": "execute_result"
    }
   ],
   "source": [
    "negatives = ([5, -1, -2, 0, 3])\n",
    "negatives = [neg for neg in negatives if neg<0]\n",
    "len(negatives)"
   ]
  },
  {
   "cell_type": "code",
   "execution_count": 57,
   "id": "b5e95e6f-6e1c-4340-90b6-e7cc3f638959",
   "metadata": {},
   "outputs": [
    {
     "data": {
      "text/plain": [
       "2"
      ]
     },
     "execution_count": 57,
     "metadata": {},
     "output_type": "execute_result"
    }
   ],
   "source": [
    "#or as a function:\n",
    "def count(nums):\n",
    "    return len([num for num in nums if num<0]) #pass it as a list!!!\n",
    "count([5, -1, -2, 0, 3])"
   ]
  },
  {
   "cell_type": "code",
   "execution_count": 59,
   "id": "b3bb7f35-cc64-46ff-b894-1adcde116a5a",
   "metadata": {},
   "outputs": [
    {
     "data": {
      "text/plain": [
       "2"
      ]
     },
     "execution_count": 59,
     "metadata": {},
     "output_type": "execute_result"
    }
   ],
   "source": [
    "def count(nums):\n",
    "    # Reminder: in the \"booleans and conditionals\" exercises, we learned about a quirk of \n",
    "    # Python where it calculates something like True + True + False + True to be equal to 3.\n",
    "    return sum([num < 0 for num in nums])\n",
    "count([5, -1, -2, 0, 3])"
   ]
  },
  {
   "cell_type": "markdown",
   "id": "b1aba472-9f31-4a5d-9567-2147564e25e8",
   "metadata": {},
   "source": [
    "**ZEN OF PYTHON**"
   ]
  },
  {
   "cell_type": "code",
   "execution_count": 61,
   "id": "dab3f7f6-8443-470b-97a3-f22d8c08c127",
   "metadata": {},
   "outputs": [
    {
     "name": "stdout",
     "output_type": "stream",
     "text": [
      "The Zen of Python, by Tim Peters\n",
      "\n",
      "Beautiful is better than ugly.\n",
      "Explicit is better than implicit.\n",
      "Simple is better than complex.\n",
      "Complex is better than complicated.\n",
      "Flat is better than nested.\n",
      "Sparse is better than dense.\n",
      "Readability counts.\n",
      "Special cases aren't special enough to break the rules.\n",
      "Although practicality beats purity.\n",
      "Errors should never pass silently.\n",
      "Unless explicitly silenced.\n",
      "In the face of ambiguity, refuse the temptation to guess.\n",
      "There should be one-- and preferably only one --obvious way to do it.\n",
      "Although that way may not be obvious at first unless you're Dutch.\n",
      "Now is better than never.\n",
      "Although never is often better than *right* now.\n",
      "If the implementation is hard to explain, it's a bad idea.\n",
      "If the implementation is easy to explain, it may be a good idea.\n",
      "Namespaces are one honking great idea -- let's do more of those!\n"
     ]
    }
   ],
   "source": [
    "import this"
   ]
  },
  {
   "cell_type": "markdown",
   "id": "7f5e4a54-11ce-4edd-a47c-ceabb8077e25",
   "metadata": {},
   "source": [
    "**EXERCISES**"
   ]
  },
  {
   "cell_type": "code",
   "execution_count": 99,
   "id": "0e6cf3fc-592f-4ed5-9330-9368a5db45bc",
   "metadata": {},
   "outputs": [
    {
     "data": {
      "text/plain": [
       "False"
      ]
     },
     "execution_count": 99,
     "metadata": {},
     "output_type": "execute_result"
    }
   ],
   "source": [
    "#Try to identify the bug and fix it\n",
    "def has_lucky_number(nums):\n",
    "    \"\"\"Return whether the given list of numbers is lucky. A lucky list contains\n",
    "    at least one number divisible by 7.\n",
    "    \"\"\"\n",
    "    if len([num for num in nums if num % 7 == 0]) > 0:\n",
    "        return True\n",
    "    else:\n",
    "        return False\n",
    "\n",
    "has_lucky_number([1,2,3,4,5,6])"
   ]
  },
  {
   "cell_type": "code",
   "execution_count": 105,
   "id": "969b4446-485a-474b-b9c4-23e52e4df156",
   "metadata": {},
   "outputs": [
    {
     "data": {
      "text/plain": [
       "True"
      ]
     },
     "execution_count": 105,
     "metadata": {},
     "output_type": "execute_result"
    }
   ],
   "source": [
    "def has_lucky_number(nums):\n",
    "    \"\"\"Return whether the given list of numbers is lucky. A lucky list contains\n",
    "    at least one number divisible by 7.\n",
    "    \"\"\"\n",
    "    if sum([num%7 == 0 for num in nums]) > 0:\n",
    "        return True\n",
    "    else:\n",
    "        return False\n",
    "\n",
    "has_lucky_number([1,2,3,4,5,6,7])"
   ]
  },
  {
   "cell_type": "code",
   "execution_count": null,
   "id": "f29c1dc8-1830-4cf3-a6aa-bb5351d618d7",
   "metadata": {},
   "outputs": [],
   "source": [
    "#problem was in that it would exit the function before time\n",
    "#ive done it correctly but fixing the initial code would be:\n",
    "\n",
    "def has_lucky_number(nums):\n",
    "    for num in nums:\n",
    "        if num % 7 == 0:\n",
    "            return True\n",
    "    # We've exhausted the list without finding a lucky number\n",
    "    return False\n",
    "\n",
    "#Remember that return causes a function to exit immediately. \n",
    "#So our original implementation always ran for just one iteration. \n",
    "#We can only return False if we've looked at every element of the list \n",
    "#(and confirmed that none of them are lucky). \n",
    "#Though we can return early if the answer is True"
   ]
  },
  {
   "cell_type": "code",
   "execution_count": 107,
   "id": "d259a556-08da-4ae8-9268-06984849b7ef",
   "metadata": {},
   "outputs": [
    {
     "name": "stdout",
     "output_type": "stream",
     "text": [
      "Help on built-in function any in module builtins:\n",
      "\n",
      "any(iterable, /)\n",
      "    Return True if bool(x) is True for any x in the iterable.\n",
      "\n",
      "    If the iterable is empty, return False.\n",
      "\n"
     ]
    }
   ],
   "source": [
    "help(any)"
   ]
  },
  {
   "cell_type": "markdown",
   "id": "3e7403f2-f290-4cf9-ab6c-53b816f36d62",
   "metadata": {},
   "source": [
    "**any**\n",
    "Te permite comprobar rápidamente si al menos uno de los elementos de una lista (o iterable) es verdadero\n",
    "👉 Devuelve True si algún elemento del iterable es \"truthy\" (es decir, se evalúa como True).\n",
    "👉 Devuelve False si todos los elementos son \"falsy\"."
   ]
  },
  {
   "cell_type": "code",
   "execution_count": 113,
   "id": "265e0f85-b80c-43dc-9d17-bec0da2ab8bf",
   "metadata": {},
   "outputs": [
    {
     "data": {
      "text/plain": [
       "True"
      ]
     },
     "execution_count": 113,
     "metadata": {},
     "output_type": "execute_result"
    }
   ],
   "source": [
    "def lucky(nums):\n",
    "    return any([num % 7 == 0 for num in nums])\n",
    "\n",
    "lucky([1,2,3,4,5,6,7])"
   ]
  },
  {
   "cell_type": "code",
   "execution_count": 119,
   "id": "90b50711-08a3-4322-9003-93a54a098eee",
   "metadata": {},
   "outputs": [
    {
     "data": {
      "text/plain": [
       "[False, False, True, True]"
      ]
     },
     "execution_count": 119,
     "metadata": {},
     "output_type": "execute_result"
    }
   ],
   "source": [
    "#Implement a function that reproduces this behaviour, \n",
    "#returning a list of booleans corresponding to whether the corresponding element is greater than n.\n",
    "def elementwise_greater_than(L, thresh):\n",
    "    \"\"\"Return a list with the same length as L, where the value at index i is \n",
    "    True if L[i] is greater than thresh, and False otherwise.\n",
    "    \n",
    "    >>> elementwise_greater_than([1, 2, 3, 4], 2)\n",
    "    [False, False, True, True]\n",
    "    \"\"\"\n",
    "    return [num > thresh for num in L] #remember return!\n",
    "elementwise_greater_than([1, 2, 3, 4], 2)"
   ]
  },
  {
   "cell_type": "code",
   "execution_count": 123,
   "id": "94d9b1cd-fa9b-47ba-b997-40bf0ed1e7c8",
   "metadata": {},
   "outputs": [
    {
     "data": {
      "text/plain": [
       "[False, False, True, True]"
      ]
     },
     "execution_count": 123,
     "metadata": {},
     "output_type": "execute_result"
    }
   ],
   "source": [
    "#Another option:\n",
    "def elementwise_greater_than(L, thresh):\n",
    "    result = []\n",
    "    for num in L:\n",
    "        result.append(num>thresh) #appends \"this\" --> if its true, a 'True', if not, 'False'\n",
    "    return result\n",
    "elementwise_greater_than([1, 2, 3, 4], 2)"
   ]
  },
  {
   "cell_type": "code",
   "execution_count": 169,
   "id": "feb68207-ce98-484b-b8ea-134a53396b90",
   "metadata": {},
   "outputs": [
    {
     "data": {
      "text/plain": [
       "True"
      ]
     },
     "execution_count": 169,
     "metadata": {},
     "output_type": "execute_result"
    }
   ],
   "source": [
    "def menu_is_boring(meals):\n",
    "    \"\"\"Given a list of meals served over some period of time, return True if the\n",
    "    same meal has ever been served two days in a row, and False otherwise.\n",
    "    \"\"\"\n",
    "    n = len(meals)\n",
    "    x = 0\n",
    "    y = x+1\n",
    "    for meal in range(n-1):\n",
    "        if meals[x] == meals[y]:\n",
    "            return True\n",
    "        else:\n",
    "            x+=1\n",
    "            y+=1\n",
    "    return False\n",
    "menu_is_boring(['Spam', 'Spam', 'Eggs', 'Spam', 'Bacon', 'Spam'])"
   ]
  },
  {
   "cell_type": "markdown",
   "id": "5fcdef72-42d2-4d94-9ef3-8dcbd43dd09a",
   "metadata": {},
   "source": [
    "This is a case where it may be preferable to iterate over the indices of the list (using a call to range()) rather than iterating over the elements of the list itself. When indexing into the list, be mindful that you're not \"falling off the end\" (i.e. using an index that doesn't exist)."
   ]
  },
  {
   "cell_type": "code",
   "execution_count": 175,
   "id": "e77a3e23-aefc-472f-898a-f2c201a1fddb",
   "metadata": {},
   "outputs": [
    {
     "data": {
      "text/plain": [
       "False"
      ]
     },
     "execution_count": 175,
     "metadata": {},
     "output_type": "execute_result"
    }
   ],
   "source": [
    "#Better solution (dont need to create x and y)\n",
    "def menu_is_boring(meals):\n",
    "    for i in range(len(meals)-1):\n",
    "        if meals[i] == meals[i+1]:\n",
    "            return True\n",
    "    return False\n",
    "\n",
    "menu_is_boring(['Spam', 'Eggs', 'Spam', 'Bacon', 'Spam'])"
   ]
  },
  {
   "cell_type": "markdown",
   "id": "c1a53ade-af42-4818-8bea-e1b17d829508",
   "metadata": {},
   "source": [
    "The key to our solution is the call to range. range(len(meals)) would give us all the indices of meals. If we had used that range, the last iteration of the loop would be comparing the last element to the element after it, which is... IndexError! range(len(meals)-1) gives us all the indices except the index of the last element.\r\n",
    "\r\n",
    "But don't we need to check if meals is empty? Turns out that range(0) == range(-1) - they're both empty. So if meals has length 0 or 1, we just won't do any iterations of our for loop."
   ]
  },
  {
   "cell_type": "markdown",
   "id": "e30295ff-a09e-4836-b83c-f37067f7d560",
   "metadata": {},
   "source": [
    "**Exercise 4 🌶️**\n",
    "Each play costs $1\n",
    "On average, how much money can you expect to gain (or lose) every time you play the machine? The casino keeps it a secret, but you can estimate the average value of each pull using a technique called the Monte Carlo method. To estimate the average outcome, we simulate the scenario many times, and return the average result.\r\n",
    "\r\n",
    "Complete the following function to calculate the average value per play of the slot machine."
   ]
  },
  {
   "cell_type": "code",
   "execution_count": 181,
   "id": "bcb7c73a-3489-4b23-a302-f5602ebea059",
   "metadata": {},
   "outputs": [],
   "source": [
    "def estimate_average_slot_payout(n_runs):\n",
    "    \"\"\"Run the slot machine n_runs times and return the average net profit per run.\n",
    "    Example calls (note that return value is nondeterministic!):\n",
    "    >>> estimate_average_slot_payout(1)\n",
    "    -1\n",
    "    >>> estimate_average_slot_payout(1)\n",
    "    0.5\n",
    "    \"\"\"\n",
    "    results = []\n",
    "    for i in range(n_runs):\n",
    "        results.append(play_slot_machine()-1)\n",
    "    return sum(results)/n_runs\n",
    "\n",
    "estimate_average_slot_payout(10000000)"
   ]
  },
  {
   "cell_type": "code",
   "execution_count": null,
   "id": "7040a4c5-7ea2-4d6c-9e2d-fb43f60d9b2a",
   "metadata": {},
   "outputs": [],
   "source": [
    "def estimate_average_slot_payout(n_runs):\n",
    "    # Play slot machine n_runs times, calculate payout of each\n",
    "    payouts = [play_slot_machine()-1 for i in range(n_runs)] #much shorter!\n",
    "    # Calculate the average value\n",
    "    avg_payout = sum(payouts) / n_runs\n",
    "    return avg_payout\n",
    "    \n",
    "estimate_average_slot_payout(10000000)"
   ]
  },
  {
   "cell_type": "code",
   "execution_count": null,
   "id": "743e259d-6ac5-4098-81b1-aea269e002c8",
   "metadata": {},
   "outputs": [],
   "source": [
    "def estimate_average_slot_payout(n_runs):\n",
    "    return sum([play_slot_machine()-1 for i in range(n_runs)])/n_runs #remember parenthesis to pass it to the sum\n",
    "estimate_average_slot_payout(10000000)"
   ]
  }
 ],
 "metadata": {
  "kernelspec": {
   "display_name": "Python 3 (ipykernel)",
   "language": "python",
   "name": "python3"
  },
  "language_info": {
   "codemirror_mode": {
    "name": "ipython",
    "version": 3
   },
   "file_extension": ".py",
   "mimetype": "text/x-python",
   "name": "python",
   "nbconvert_exporter": "python",
   "pygments_lexer": "ipython3",
   "version": "3.12.4"
  }
 },
 "nbformat": 4,
 "nbformat_minor": 5
}
