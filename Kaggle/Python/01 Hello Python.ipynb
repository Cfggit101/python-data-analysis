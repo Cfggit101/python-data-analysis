{
 "cells": [
  {
   "cell_type": "markdown",
   "id": "eb67a4a5-b1c6-4f8d-b93c-4189413a5fb1",
   "metadata": {},
   "source": [
    "Variable assignment: create a variable and assign it a value through assignment operator \"=\" (no need to declare it first or tell what type of value it is going to be)\n",
    "\n",
    "Function calls: We call functions by putting parentheses after their name, and putting the inputs (or arguments) to the function in those parentheses\n",
    "F ex: print() displays the value passed to it on the screen\n",
    "\n",
    "Reassigning: still w \"=\" --> Python evaluates the expression on the right-hand-side of the \"=\", and then assigns that value to the variable on the left-hand-side.\n",
    "\n",
    "Conditionals: introduces a condition in which depends the activation of the subsequent block of code\n",
    "The colon (:) at the end of the if line indicates that a new code block is starting. Subsequent lines which are indented are part of that code block --> indended code\n",
    "\n",
    "String --> can be marked either by double or single quotation marks\n",
    "\n",
    "Operators:\n",
    "    * operator --> used to multiply two numbers but also a string by a number to get a version that's been repeated that many times\n",
    "    + --> sum\n",
    "    - --> subtraction\n",
    "    / --> true division: Quotient of a and b --> It always gives us a float!\n",
    "    // --> floor division: Quotient of a and b, removing fractional parts\n",
    "    % --> modulus: Integer *remainder* after division of a by b -- what remains after dividing 7/3 f ex\n",
    "    ---> a = (a // b) * b + (a % b)\n",
    "    ** --> exponentiation: a raised to the power of b\n",
    "    -a --> negation: the negative of a\n",
    "    ---> Order of operations: PEMDAS - Parentheses, Exponents, Multiplication/Division, Addition/Subtraction\n",
    "Operator overloading --> Python offers a number of cheeky little time-saving tricks like this where operators like * and + have a different meaning depending on what kind of thing they're applied to --> \"\"\"where different operators have different implementations depending on their arguments\"\"\" \n",
    "\n",
    "To ask Python how it would describe the type of thing that a variable is: type(variable):\n",
    "    int --> interger --> number w no decimals\n",
    "    float --> number with a decimal place\n",
    "\n",
    "Builtin functions for working with numbers:\n",
    "    min and max return the minimum and maximum of their arguments, respectively...\n",
    "    abs returns the absolute value of an argument\n",
    "    int and float can also be called as functions which convert their arguments to the corresponding type:\n",
    "        print(float(10)) --> 10.0\n",
    "        print(int(3.33)) --> 3\n",
    "        print(int('807') + 1) --> 808\n",
    "\n",
    "\n",
    "\n",
    "to convert all to comments --> select all the lines and press ctrl + /\n",
    "to convert cell to markdown (all notes) --> esc + m\n",
    "to convert cell to code (code to run) --> esc + y"
   ]
  },
  {
   "cell_type": "markdown",
   "id": "9bbab27a-0c33-4aa7-a794-25ed21894a51",
   "metadata": {},
   "source": [
    "Can add a new code cell by clicking on an existing code cell, hitting the escape key, and then hitting the a or b key. The a key will add a cell above the current cell, and b adds a cell below"
   ]
  },
  {
   "cell_type": "markdown",
   "id": "ec14713a-6ed0-45ef-94d1-c62f5fb44d5b",
   "metadata": {},
   "source": [
    "Trick to switch two variables:\n",
    "Instead of using a third temporary variable, we use tuples: a, b = b, a "
   ]
  }
 ],
 "metadata": {
  "kernelspec": {
   "display_name": "Python 3 (ipykernel)",
   "language": "python",
   "name": "python3"
  },
  "language_info": {
   "codemirror_mode": {
    "name": "ipython",
    "version": 3
   },
   "file_extension": ".py",
   "mimetype": "text/x-python",
   "name": "python",
   "nbconvert_exporter": "python",
   "pygments_lexer": "ipython3",
   "version": "3.12.4"
  }
 },
 "nbformat": 4,
 "nbformat_minor": 5
}
