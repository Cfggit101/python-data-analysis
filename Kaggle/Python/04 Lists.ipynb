{
 "cells": [
  {
   "cell_type": "markdown",
   "id": "7967a470-0c94-4f64-a048-b00442e3fd76",
   "metadata": {},
   "source": [
    "**LISTS**"
   ]
  },
  {
   "cell_type": "markdown",
   "id": "aed755d9-23f8-4702-8adc-4179dfcc3155",
   "metadata": {},
   "source": [
    "Lists in Python represent ordered sequences of values"
   ]
  },
  {
   "cell_type": "code",
   "execution_count": 7,
   "id": "0ed23202-0715-4ab8-83b6-cc0040d9c474",
   "metadata": {},
   "outputs": [
    {
     "name": "stdout",
     "output_type": "stream",
     "text": [
      "[1, 2, 3, 4]\n"
     ]
    }
   ],
   "source": [
    "#w numbers\n",
    "list = [1,2,3,4]\n",
    "print(list)"
   ]
  },
  {
   "cell_type": "code",
   "execution_count": 9,
   "id": "e9c00b91-efcb-47b5-af26-d883569b701d",
   "metadata": {},
   "outputs": [
    {
     "name": "stdout",
     "output_type": "stream",
     "text": [
      "['Mercury', 'Venus', 'Earth', 'Mars', 'Jupiter', 'Saturn', 'Uranus', 'Neptune']\n"
     ]
    }
   ],
   "source": [
    "#w strings\n",
    "planets = ['Mercury', 'Venus', 'Earth', 'Mars', 'Jupiter', 'Saturn', 'Uranus', 'Neptune']\n",
    "print(planets)"
   ]
  },
  {
   "cell_type": "code",
   "execution_count": 19,
   "id": "91454457-2776-43da-b4be-d473666e2623",
   "metadata": {},
   "outputs": [
    {
     "name": "stdout",
     "output_type": "stream",
     "text": [
      "[[1, 2, 3], [4, 5, 6], [7, 8, 9]]\n",
      "[[1, 2, 3], [4, 5, 6], [7, 8, 9]]\n"
     ]
    }
   ],
   "source": [
    "#lists of lists\n",
    "matrixx = [\n",
    "    [1,2,3],\n",
    "    [4,5,6],\n",
    "    [7,8,9],\n",
    "]\n",
    "#can also be writen:\n",
    "matrix = [[1,2,3], [4,5,6], [7,8,9]]\n",
    "\n",
    "print(matrix)\n",
    "print(matrixx)"
   ]
  },
  {
   "cell_type": "code",
   "execution_count": 23,
   "id": "1b79025b-8469-4dfe-adf0-92edafbc528e",
   "metadata": {},
   "outputs": [
    {
     "name": "stdout",
     "output_type": "stream",
     "text": [
      "[32, 'raindrops on roses', Type help() for interactive help, or help(object) for help about object.]\n"
     ]
    }
   ],
   "source": [
    "my_favourite_things = [32, 'raindrops on roses', help]\n",
    "print(my_favourite_things)"
   ]
  },
  {
   "cell_type": "markdown",
   "id": "86dfb2a7-3788-40bb-b992-1d3321019d07",
   "metadata": {},
   "source": [
    "¿Qué está pasando?\n",
    "En Python, las funciones son ciudadanos de primera clase.\n",
    "Eso significa que puedes:\n",
    "Guardarlas en listas \n",
    "Pasarlas como argumentos \n",
    "Devolverlas desde otras funciones "
   ]
  },
  {
   "cell_type": "markdown",
   "id": "3eea5611-96fd-4b45-8ee9-f1c5256cf309",
   "metadata": {},
   "source": [
    "**Indexing**"
   ]
  },
  {
   "cell_type": "markdown",
   "id": "0cad2bce-42c2-470d-a63f-508a88c9238f",
   "metadata": {},
   "source": [
    "You can access individual list elements with square brackets.\n",
    "Python uses zero-based indexing, so the first element has index 0."
   ]
  },
  {
   "cell_type": "code",
   "execution_count": 31,
   "id": "965c368f-3aa1-4c65-af98-947acc66b3ef",
   "metadata": {},
   "outputs": [
    {
     "data": {
      "text/plain": [
       "'Neptune'"
      ]
     },
     "execution_count": 31,
     "metadata": {},
     "output_type": "execute_result"
    }
   ],
   "source": [
    "planets[7]"
   ]
  },
  {
   "cell_type": "markdown",
   "id": "6899fabb-a940-41b4-a940-b84ed5434d95",
   "metadata": {},
   "source": [
    "Elements at the end of the list can be accessed with negative numbers, starting from -1:\n",
    "(Useful if you don't know the length of the list)"
   ]
  },
  {
   "cell_type": "code",
   "execution_count": 33,
   "id": "41acea9f-66e4-4a02-94cb-611710abb615",
   "metadata": {},
   "outputs": [
    {
     "data": {
      "text/plain": [
       "'Neptune'"
      ]
     },
     "execution_count": 33,
     "metadata": {},
     "output_type": "execute_result"
    }
   ],
   "source": [
    "planets[-1]"
   ]
  },
  {
   "cell_type": "markdown",
   "id": "4cec02c4-9b70-4015-831d-444701e4065f",
   "metadata": {},
   "source": [
    "**Slicing**"
   ]
  },
  {
   "cell_type": "markdown",
   "id": "1df3cb8a-1dc9-4b53-aad8-3bd65c44d6de",
   "metadata": {},
   "source": [
    "Select a \"range\" inside the list"
   ]
  },
  {
   "cell_type": "code",
   "execution_count": 35,
   "id": "e4824750-e60b-48f9-9f58-80cd841ce2d4",
   "metadata": {},
   "outputs": [
    {
     "data": {
      "text/plain": [
       "['Mercury', 'Venus', 'Earth']"
      ]
     },
     "execution_count": 35,
     "metadata": {},
     "output_type": "execute_result"
    }
   ],
   "source": [
    "planets[0:3]"
   ]
  },
  {
   "cell_type": "markdown",
   "id": "ee27bc59-b70f-4249-a058-de1d05277398",
   "metadata": {},
   "source": [
    "It starts, and includes, first index indicated, and continues up to but not including the other index indicated"
   ]
  },
  {
   "cell_type": "code",
   "execution_count": 41,
   "id": "0c7efd68-1353-412f-8afc-b2c94f3b4908",
   "metadata": {},
   "outputs": [
    {
     "name": "stdout",
     "output_type": "stream",
     "text": [
      "['Mercury', 'Venus', 'Earth', 'Mars', 'Jupiter', 'Saturn', 'Uranus']\n",
      "['Earth', 'Mars', 'Jupiter', 'Saturn', 'Uranus', 'Neptune']\n",
      "['Mercury', 'Venus', 'Earth', 'Mars', 'Jupiter', 'Saturn', 'Uranus', 'Neptune']\n"
     ]
    }
   ],
   "source": [
    "#if i dont include the first index, it starts at the begining\n",
    "print(planets[:7])\n",
    "#if i dont include the last index, it's assumed the length of the list (goes till the end)\n",
    "print(planets[2:])\n",
    "\n",
    "print(planets[:])"
   ]
  },
  {
   "cell_type": "code",
   "execution_count": 47,
   "id": "e4918b46-dc91-4104-bd55-46db2c7780cf",
   "metadata": {},
   "outputs": [
    {
     "name": "stdout",
     "output_type": "stream",
     "text": [
      "['Venus', 'Earth', 'Mars', 'Jupiter', 'Saturn', 'Uranus']\n",
      "['Saturn', 'Uranus', 'Neptune']\n"
     ]
    }
   ],
   "source": [
    "#We can also use negative indices when slicing:\n",
    "print(planets[1:-1]) #--> All the planets except the first and last\n",
    "print(planets[-3:]) #--> The last 3 planets"
   ]
  },
  {
   "cell_type": "markdown",
   "id": "5d3af111-9400-4f4e-9bba-2493cf2eddaa",
   "metadata": {},
   "source": [
    "**Changing lists**"
   ]
  },
  {
   "cell_type": "markdown",
   "id": "0556f573-dbee-443a-abb0-c63d97b0ad67",
   "metadata": {},
   "source": [
    "Lists are \"mutable\", meaning they can be modified \"in place\".\n",
    "\r\n",
    "One way to modify a list is to assign to an index or slice expression."
   ]
  },
  {
   "cell_type": "code",
   "execution_count": 51,
   "id": "b1c2c733-0d85-4e82-b403-e3ccd6c33edc",
   "metadata": {},
   "outputs": [
    {
     "name": "stdout",
     "output_type": "stream",
     "text": [
      "Mars\n",
      "['Mercury', 'Venus', 'Earth', 'Malacandra', 'Jupiter', 'Saturn', 'Uranus', 'Neptune']\n"
     ]
    }
   ],
   "source": [
    "#wanna modify mars:\n",
    "print(planets[3])\n",
    "planets[3] = \"Malacandra\" \n",
    "print(planets)"
   ]
  },
  {
   "cell_type": "code",
   "execution_count": 53,
   "id": "bb277b42-df71-462c-925c-9ca5a92e4708",
   "metadata": {},
   "outputs": [
    {
     "data": {
      "text/plain": [
       "'Malacandra'"
      ]
     },
     "execution_count": 53,
     "metadata": {},
     "output_type": "execute_result"
    }
   ],
   "source": [
    "planets[3]"
   ]
  },
  {
   "cell_type": "code",
   "execution_count": 57,
   "id": "e29c9dd7-b061-4e95-82dc-fc13fa7100ac",
   "metadata": {},
   "outputs": [
    {
     "data": {
      "text/plain": [
       "['Mercury', 'Venus', 'Earth']"
      ]
     },
     "execution_count": 57,
     "metadata": {},
     "output_type": "execute_result"
    }
   ],
   "source": [
    "#Shorten the names:\n",
    "planets[:3]"
   ]
  },
  {
   "cell_type": "code",
   "execution_count": 61,
   "id": "6af57e37-6be3-471b-8688-97538cfcc946",
   "metadata": {},
   "outputs": [
    {
     "name": "stdout",
     "output_type": "stream",
     "text": [
      "['Mur', 'Vee', 'Ur', 'Mars', 'Jupiter', 'Saturn', 'Uranus', 'Neptune']\n",
      "['Mercury', 'Venus', 'Earth', 'Mars', 'Jupiter', 'Saturn', 'Uranus', 'Neptune']\n"
     ]
    }
   ],
   "source": [
    "planets[:3] = ['Mur', 'Vee', 'Ur']\n",
    "print(planets)\n",
    "# That was silly. Let's give them back their old names\n",
    "planets[:4] = ['Mercury', 'Venus', 'Earth', 'Mars',]\n",
    "print(planets)"
   ]
  },
  {
   "cell_type": "markdown",
   "id": "3cca2a0c-dda9-48a3-b9fb-48835d8675cd",
   "metadata": {},
   "source": [
    "**List functions**"
   ]
  },
  {
   "cell_type": "markdown",
   "id": "a943d302-3d7a-4180-b7a1-c84dbab6c6a2",
   "metadata": {},
   "source": [
    "Python has several useful functions for working with lists.\n",
    "len () gives the length of a list\n",
    "sorted () returns a sorted version of a list (in alphabetical order)\n",
    "sum () does what you might expect\n",
    "We've previously used the min and max to get the minimum or maximum of *several arguments*. But we can also pass in a *single list argument*.\n",
    "\n"
   ]
  },
  {
   "cell_type": "markdown",
   "id": "38cd31f3-f9a5-45b7-b20f-38387eddeecb",
   "metadata": {},
   "source": [
    "**Interlude: objects**"
   ]
  },
  {
   "cell_type": "markdown",
   "id": "1b1b17f5-ba4f-4d97-b3c4-8c3f3a71beaa",
   "metadata": {},
   "source": [
    "In short, objects carry some things around with them. You access that stuff using Python's dot syntax.\n",
    "For example, numbers in Python carry around an associated variable called imag representing their imaginary part. (You'll probably never need to use this unless you're doing some very weird math.)"
   ]
  },
  {
   "cell_type": "code",
   "execution_count": 71,
   "id": "fe860939-cffb-4e1e-9e93-76ee08790a12",
   "metadata": {},
   "outputs": [
    {
     "name": "stdout",
     "output_type": "stream",
     "text": [
      "0\n",
      "12\n",
      "3.0\n",
      "12\n"
     ]
    }
   ],
   "source": [
    "x = 12\n",
    "# x is a real number, so its imaginary part is 0.\n",
    "print(x.imag)\n",
    "print(x.real)\n",
    "# Here's how to make a complex number, in case you've ever been curious:\n",
    "c = 12 + 3j\n",
    "print(c.imag)\n",
    "print(x.real)\n"
   ]
  },
  {
   "cell_type": "code",
   "execution_count": 75,
   "id": "9025b24e-e840-47cc-82f2-709212633785",
   "metadata": {},
   "outputs": [
    {
     "name": "stdout",
     "output_type": "stream",
     "text": [
      "(12+3j)\n",
      "12.0\n",
      "3.0\n"
     ]
    }
   ],
   "source": [
    "#how to create them manually\n",
    "z = complex(12, 3)\n",
    "print(z)        # 12+3j\n",
    "print(z.real)   # 12.0\n",
    "print(z.imag)   # 3.0"
   ]
  },
  {
   "cell_type": "markdown",
   "id": "cc064b46-fdc0-4207-9e84-18b642038fb3",
   "metadata": {},
   "source": [
    "The things an object carries around can also include **functions**. A function attached to an object is called **a method**. (Non-function things attached to an object, such as imag, are called **attributes**)."
   ]
  },
  {
   "cell_type": "code",
   "execution_count": 77,
   "id": "9a70e48d-7853-42bd-8361-439a697223a9",
   "metadata": {},
   "outputs": [
    {
     "data": {
      "text/plain": [
       "<function int.bit_length()>"
      ]
     },
     "execution_count": 77,
     "metadata": {},
     "output_type": "execute_result"
    }
   ],
   "source": [
    "#For example, numbers have a method called bit_length - we access it using dot syntax:\n",
    "x.bit_length"
   ]
  },
  {
   "cell_type": "code",
   "execution_count": 81,
   "id": "bbef1650-04e3-4ae3-bc35-7ebe7f3144fb",
   "metadata": {},
   "outputs": [
    {
     "data": {
      "text/plain": [
       "4"
      ]
     },
     "execution_count": 81,
     "metadata": {},
     "output_type": "execute_result"
    }
   ],
   "source": [
    "#To actually call it, we add parentheses:\n",
    "x.bit_length()"
   ]
  },
  {
   "cell_type": "code",
   "execution_count": 83,
   "id": "296d9498-7e28-4490-a8e1-4f9ab7da7d48",
   "metadata": {},
   "outputs": [
    {
     "name": "stdout",
     "output_type": "stream",
     "text": [
      "Help on built-in function bit_length:\n",
      "\n",
      "bit_length() method of builtins.int instance\n",
      "    Number of bits necessary to represent self in binary.\n",
      "\n",
      "    >>> bin(37)\n",
      "    '0b100101'\n",
      "    >>> (37).bit_length()\n",
      "    6\n",
      "\n"
     ]
    }
   ],
   "source": [
    "#In the same way that we can pass functions to the help function (e.g. help(max)), we can also pass in methods:\n",
    "help(x.bit_length)"
   ]
  },
  {
   "cell_type": "markdown",
   "id": "ae64e719-e78d-49cc-afb3-8c4423ba6cdc",
   "metadata": {},
   "source": [
    "The examples above were utterly obscure. None of the types of objects we've looked at so far (numbers, functions, booleans) have attributes or methods you're likely ever to use.\n",
    "But it turns out that lists have several methods which you'll use all the time."
   ]
  },
  {
   "cell_type": "markdown",
   "id": "065aed63-d9dc-48b8-bf9f-709bad32a0cf",
   "metadata": {},
   "source": [
    "En Python, los objetos (como números, listas, cadenas, etc.) tienen cosas \"pegadas\" a ellos:\n",
    "📌 Atributos → datos asociados (como .imag en un número complejo).\n",
    "🔧 Métodos → funciones asociadas a ese tipo de dato. ¡Como herramientas que puedes usar en ese objeto!\n",
    "Las listas tienen muchos métodos súper útiles que usarás TODO el tiempo:\n",
    "mi_lista = [1, 2, 3]\r\n",
    "mi_lista.append(4)       ➕ Añade al final\n",
    "mi_lista.pop()           🗑️ Elimina el último elemento\n",
    "mi_lista.sort()          🔢 Ordena la lista\n",
    "mi_lista.reverse()       ↩️ Invierte el orden"
   ]
  },
  {
   "cell_type": "markdown",
   "id": "3fea1434-7c9a-4186-8a09-e29ffb518ca2",
   "metadata": {},
   "source": [
    "**List methods**"
   ]
  },
  {
   "cell_type": "code",
   "execution_count": 87,
   "id": "6d238c84-6d22-4002-8bdb-2fa2de658caa",
   "metadata": {},
   "outputs": [
    {
     "data": {
      "text/plain": [
       "['Mercury',\n",
       " 'Venus',\n",
       " 'Earth',\n",
       " 'Mars',\n",
       " 'Jupiter',\n",
       " 'Saturn',\n",
       " 'Uranus',\n",
       " 'Neptune',\n",
       " 'Pluto',\n",
       " 'Pluto']"
      ]
     },
     "execution_count": 87,
     "metadata": {},
     "output_type": "execute_result"
    }
   ],
   "source": [
    "#list.append modifies a list by adding an item to the end\n",
    "# Pluto is a planet darn it!\n",
    "planets.append('Pluto')\n",
    "planets"
   ]
  },
  {
   "cell_type": "markdown",
   "id": "29634ff3-cfbe-48a2-b2cd-790200fb67e5",
   "metadata": {},
   "source": [
    "Aside: append is a method carried around by all objects of type list, not just planets, so we also could have called help(list.append). However, if we try to call help(append), Python will complain that no variable exists called \"append\". The \"append\" name only exists within lists - it doesn't exist as a standalone name like builtin functions such as max or len.\r\n"
   ]
  },
  {
   "cell_type": "code",
   "execution_count": 91,
   "id": "8d721254-2ea1-49e3-ba40-d3d70915fa5d",
   "metadata": {},
   "outputs": [
    {
     "data": {
      "text/plain": [
       "['Mercury', 'Venus', 'Earth', 'Mars', 'Jupiter', 'Saturn', 'Uranus', 'Neptune']"
      ]
     },
     "execution_count": 91,
     "metadata": {},
     "output_type": "execute_result"
    }
   ],
   "source": [
    "#list.pop removes and returns the last element of a list\n",
    "planets.pop()\n",
    "planets"
   ]
  },
  {
   "cell_type": "code",
   "execution_count": 97,
   "id": "1caf4eaf-e6d0-41b3-b0d2-fb037098fed7",
   "metadata": {},
   "outputs": [
    {
     "name": "stdout",
     "output_type": "stream",
     "text": [
      "2\n"
     ]
    },
    {
     "data": {
      "text/plain": [
       "'Earth'"
      ]
     },
     "execution_count": 97,
     "metadata": {},
     "output_type": "execute_result"
    }
   ],
   "source": [
    "#Searching lists:  We can get an index using the list.index method\n",
    "print(planets.index('Earth'))\n",
    "planets[2]"
   ]
  },
  {
   "cell_type": "code",
   "execution_count": 99,
   "id": "2df42fba-7676-4e9c-9edc-8c3a9f93aad7",
   "metadata": {},
   "outputs": [
    {
     "data": {
      "text/plain": [
       "True"
      ]
     },
     "execution_count": 99,
     "metadata": {},
     "output_type": "execute_result"
    }
   ],
   "source": [
    "#To avoid unpleasant surprises of not finding one element, we can use the in operator to determine whether a list contains a particular value:\n",
    "\"Earth\" in planets"
   ]
  },
  {
   "cell_type": "markdown",
   "id": "9c17612d-0af9-4625-a8e1-56b867ce29ce",
   "metadata": {},
   "source": [
    "There are a few more interesting list methods we haven't covered. If you want to learn about all the methods and attributes attached to a particular object, we can call help() on the object itself. For example, help(planets) will tell us about all the list methods:"
   ]
  },
  {
   "cell_type": "code",
   "execution_count": 101,
   "id": "b7345630-fd93-46f6-b97a-4a410a15dc4d",
   "metadata": {},
   "outputs": [
    {
     "name": "stdout",
     "output_type": "stream",
     "text": [
      "Help on list object:\n",
      "\n",
      "class list(object)\n",
      " |  list(iterable=(), /)\n",
      " |\n",
      " |  Built-in mutable sequence.\n",
      " |\n",
      " |  If no argument is given, the constructor creates a new empty list.\n",
      " |  The argument must be an iterable if specified.\n",
      " |\n",
      " |  Methods defined here:\n",
      " |\n",
      " |  __add__(self, value, /)\n",
      " |      Return self+value.\n",
      " |\n",
      " |  __contains__(self, key, /)\n",
      " |      Return bool(key in self).\n",
      " |\n",
      " |  __delitem__(self, key, /)\n",
      " |      Delete self[key].\n",
      " |\n",
      " |  __eq__(self, value, /)\n",
      " |      Return self==value.\n",
      " |\n",
      " |  __ge__(self, value, /)\n",
      " |      Return self>=value.\n",
      " |\n",
      " |  __getattribute__(self, name, /)\n",
      " |      Return getattr(self, name).\n",
      " |\n",
      " |  __getitem__(self, index, /)\n",
      " |      Return self[index].\n",
      " |\n",
      " |  __gt__(self, value, /)\n",
      " |      Return self>value.\n",
      " |\n",
      " |  __iadd__(self, value, /)\n",
      " |      Implement self+=value.\n",
      " |\n",
      " |  __imul__(self, value, /)\n",
      " |      Implement self*=value.\n",
      " |\n",
      " |  __init__(self, /, *args, **kwargs)\n",
      " |      Initialize self.  See help(type(self)) for accurate signature.\n",
      " |\n",
      " |  __iter__(self, /)\n",
      " |      Implement iter(self).\n",
      " |\n",
      " |  __le__(self, value, /)\n",
      " |      Return self<=value.\n",
      " |\n",
      " |  __len__(self, /)\n",
      " |      Return len(self).\n",
      " |\n",
      " |  __lt__(self, value, /)\n",
      " |      Return self<value.\n",
      " |\n",
      " |  __mul__(self, value, /)\n",
      " |      Return self*value.\n",
      " |\n",
      " |  __ne__(self, value, /)\n",
      " |      Return self!=value.\n",
      " |\n",
      " |  __repr__(self, /)\n",
      " |      Return repr(self).\n",
      " |\n",
      " |  __reversed__(self, /)\n",
      " |      Return a reverse iterator over the list.\n",
      " |\n",
      " |  __rmul__(self, value, /)\n",
      " |      Return value*self.\n",
      " |\n",
      " |  __setitem__(self, key, value, /)\n",
      " |      Set self[key] to value.\n",
      " |\n",
      " |  __sizeof__(self, /)\n",
      " |      Return the size of the list in memory, in bytes.\n",
      " |\n",
      " |  append(self, object, /)\n",
      " |      Append object to the end of the list.\n",
      " |\n",
      " |  clear(self, /)\n",
      " |      Remove all items from list.\n",
      " |\n",
      " |  copy(self, /)\n",
      " |      Return a shallow copy of the list.\n",
      " |\n",
      " |  count(self, value, /)\n",
      " |      Return number of occurrences of value.\n",
      " |\n",
      " |  extend(self, iterable, /)\n",
      " |      Extend list by appending elements from the iterable.\n",
      " |\n",
      " |  index(self, value, start=0, stop=9223372036854775807, /)\n",
      " |      Return first index of value.\n",
      " |\n",
      " |      Raises ValueError if the value is not present.\n",
      " |\n",
      " |  insert(self, index, object, /)\n",
      " |      Insert object before index.\n",
      " |\n",
      " |  pop(self, index=-1, /)\n",
      " |      Remove and return item at index (default last).\n",
      " |\n",
      " |      Raises IndexError if list is empty or index is out of range.\n",
      " |\n",
      " |  remove(self, value, /)\n",
      " |      Remove first occurrence of value.\n",
      " |\n",
      " |      Raises ValueError if the value is not present.\n",
      " |\n",
      " |  reverse(self, /)\n",
      " |      Reverse *IN PLACE*.\n",
      " |\n",
      " |  sort(self, /, *, key=None, reverse=False)\n",
      " |      Sort the list in ascending order and return None.\n",
      " |\n",
      " |      The sort is in-place (i.e. the list itself is modified) and stable (i.e. the\n",
      " |      order of two equal elements is maintained).\n",
      " |\n",
      " |      If a key function is given, apply it once to each list item and sort them,\n",
      " |      ascending or descending, according to their function values.\n",
      " |\n",
      " |      The reverse flag can be set to sort in descending order.\n",
      " |\n",
      " |  ----------------------------------------------------------------------\n",
      " |  Class methods defined here:\n",
      " |\n",
      " |  __class_getitem__(...)\n",
      " |      See PEP 585\n",
      " |\n",
      " |  ----------------------------------------------------------------------\n",
      " |  Static methods defined here:\n",
      " |\n",
      " |  __new__(*args, **kwargs)\n",
      " |      Create and return a new object.  See help(type) for accurate signature.\n",
      " |\n",
      " |  ----------------------------------------------------------------------\n",
      " |  Data and other attributes defined here:\n",
      " |\n",
      " |  __hash__ = None\n",
      "\n"
     ]
    }
   ],
   "source": [
    "help(planets)"
   ]
  },
  {
   "cell_type": "markdown",
   "id": "80f83b2c-6b7a-421b-b104-98a0ecff6c2e",
   "metadata": {},
   "source": [
    "**Tuples**"
   ]
  },
  {
   "cell_type": "markdown",
   "id": "ba651521-886f-4795-a179-521b77d19303",
   "metadata": {},
   "source": [
    "Tuples are almost exactly the same as lists. They differ in just two ways.\n",
    "1: The syntax for creating them uses parentheses instead of square brackets"
   ]
  },
  {
   "cell_type": "code",
   "execution_count": 103,
   "id": "d63da227-fc18-4535-a396-6ccc7b9c24bc",
   "metadata": {},
   "outputs": [
    {
     "data": {
      "text/plain": [
       "(1, 2, 3)"
      ]
     },
     "execution_count": 103,
     "metadata": {},
     "output_type": "execute_result"
    }
   ],
   "source": [
    "t = (1, 2, 3)\n",
    "t = 1, 2, 3 # equivalent to above\n",
    "t"
   ]
  },
  {
   "cell_type": "markdown",
   "id": "1757525e-2ea3-4320-9443-6aac829a0499",
   "metadata": {},
   "source": [
    "2: They cannot be modified (they are immutable)."
   ]
  },
  {
   "cell_type": "markdown",
   "id": "3e36747c-ac67-4363-9f70-3ad2c6bda879",
   "metadata": {},
   "source": [
    "Tuples are often used for functions that have multiple return values.\n",
    "\r\n",
    "For example, the as_integer_ratio() method of float objects returns a numerator and a denominator in the form of a tuple:"
   ]
  },
  {
   "cell_type": "code",
   "execution_count": 105,
   "id": "dde8dd1f-f88b-468f-b92c-e4056038d4f2",
   "metadata": {},
   "outputs": [
    {
     "data": {
      "text/plain": [
       "(1, 8)"
      ]
     },
     "execution_count": 105,
     "metadata": {},
     "output_type": "execute_result"
    }
   ],
   "source": [
    "x = 0.125\n",
    "x.as_integer_ratio()"
   ]
  },
  {
   "cell_type": "code",
   "execution_count": 107,
   "id": "dd6a87ca-c587-45e7-b4d0-bcdf4ddf4f97",
   "metadata": {},
   "outputs": [
    {
     "name": "stdout",
     "output_type": "stream",
     "text": [
      "1\n",
      "8\n",
      "0.125\n"
     ]
    }
   ],
   "source": [
    "#These multiple return values can be individually assigned as follows:\n",
    "numerator, denominator = x.as_integer_ratio()\n",
    "print(numerator)\n",
    "print(denominator)\n",
    "print(numerator / denominator)"
   ]
  },
  {
   "cell_type": "code",
   "execution_count": 109,
   "id": "03f43cb4-8539-4355-a72b-b05c6848dbcb",
   "metadata": {},
   "outputs": [
    {
     "name": "stdout",
     "output_type": "stream",
     "text": [
      "0 1\n"
     ]
    }
   ],
   "source": [
    "a = 1\n",
    "b = 0\n",
    "a, b = b, a\n",
    "print(a, b)"
   ]
  },
  {
   "cell_type": "markdown",
   "id": "2e89eb09-216b-4d45-b08a-d73dd1662433",
   "metadata": {},
   "source": [
    "**EXERCISES**"
   ]
  },
  {
   "cell_type": "code",
   "execution_count": 13,
   "id": "af62d017-f91e-40ae-ab72-ab585758f5a6",
   "metadata": {},
   "outputs": [
    {
     "name": "stdout",
     "output_type": "stream",
     "text": [
      "None\n"
     ]
    }
   ],
   "source": [
    "def select_second(L):\n",
    "    \"\"\"Return the second element of the given list. If the list has no second\n",
    "    element, return None.\n",
    "    \"\"\"\n",
    "    if len(L)<2:\n",
    "        return \"None\"\n",
    "    else: \n",
    "        return L[1]\n",
    "print (select_second([1]))\n",
    "\n",
    "#be aware second element is 1 cos it starts at 0!!!\n",
    "#if not L[1] --> evaluates if second element is falsy --> if the element doesnt exists in the first place, the program explodes 💥\n",
    "# --> gotta verify the length first!!!"
   ]
  },
  {
   "cell_type": "code",
   "execution_count": 17,
   "id": "37689f46-4ed6-4160-8e9f-cf4b46272edc",
   "metadata": {},
   "outputs": [
    {
     "name": "stdout",
     "output_type": "stream",
     "text": [
      "None\n"
     ]
    }
   ],
   "source": [
    "#better:\n",
    "def select_second(L):\n",
    "    if len(L) < 2:\n",
    "        return None\n",
    "    return L[1]\n",
    "print (select_second([1]))\n",
    "\n",
    "#dont need to put 'else' cos if len(L)<2, it will run return None and so itll stop there (after the return and wont run the rest)"
   ]
  },
  {
   "cell_type": "code",
   "execution_count": 39,
   "id": "0b64e6e2-613d-426d-bd97-0b534df2b9f2",
   "metadata": {},
   "outputs": [
    {
     "name": "stdout",
     "output_type": "stream",
     "text": [
      "E\n"
     ]
    }
   ],
   "source": [
    "def losing_team_captain(teams):\n",
    "    \"\"\"Given a list of teams, where each team is a list of names, return the 2nd player (captain)\n",
    "    from the last listed team\n",
    "    \"\"\"\n",
    "    return teams[-1][1] #remember to put 'return'! if i dont, im not doing anything!\n",
    "\n",
    "print (losing_team_captain([['A','B','C'],['D','E','F']]))"
   ]
  },
  {
   "cell_type": "code",
   "execution_count": 71,
   "id": "388005ed-c09c-461d-b9e0-54910fbe80e1",
   "metadata": {},
   "outputs": [
    {
     "name": "stdout",
     "output_type": "stream",
     "text": [
      "['Luigi', 'Bowser', 'Mario']\n"
     ]
    }
   ],
   "source": [
    "def purple_shell(racers):\n",
    "    \"\"\"Given a list of racers, set the first place racer (at the front of the list) to last\n",
    "    place and vice versa.\n",
    "    \n",
    "    >>> r = [\"Mario\", \"Bowser\", \"Luigi\"]\n",
    "    >>> purple_shell(r)\n",
    "    >>> r\n",
    "    [\"Luigi\", \"Bowser\", \"Mario\"]\n",
    "    \"\"\"\n",
    "    racers[0], racers[-1] = racers[-1], racers[0]\n",
    "    return racers\n",
    "\n",
    "print(purple_shell([\"Mario\", \"Bowser\", \"Luigi\"]))"
   ]
  },
  {
   "cell_type": "code",
   "execution_count": 73,
   "id": "23b9efa3-12c3-42a3-9567-791ffe1b327b",
   "metadata": {},
   "outputs": [
    {
     "name": "stdout",
     "output_type": "stream",
     "text": [
      "['Luigi', 'Bowser', 'Mario']\n"
     ]
    }
   ],
   "source": [
    "#or: (but i have to use the []! not only swap varaibles in which ive put them!)\n",
    "def purple_shell(racers):\n",
    "    x = racers[0]\n",
    "    racers[0] = racers[-1]\n",
    "    racers[-1] = x\n",
    "    return racers\n",
    "    #think of the order!!!\n",
    "\n",
    "print(purple_shell([\"Mario\", \"Bowser\", \"Luigi\"]))"
   ]
  },
  {
   "cell_type": "code",
   "execution_count": null,
   "id": "0cd4762f-6df3-41b6-a0d1-3ef2e3f2af18",
   "metadata": {},
   "outputs": [],
   "source": [
    "a = [1, 2, 3]\n",
    "b = [1, [2, 3]] #2 --> list inside a list, but the main list is two elements!\n",
    "c = [] #0\n",
    "d = [1, 2, 3][1:] #2! cos it grabs from 1 onward, so 2,3\n",
    "\n",
    "# Put your predictions in the list below. Lengths should contain 4 numbers, the\n",
    "# first being the length of a, the second being the length of b and so on.\n",
    "lengths = [3,2,0,2]\n",
    "\n",
    "# a: There are three items in this list. Nothing tricky yet.\n",
    "# b: The list [2, 3] counts as a single item. It has one item before it. So we have 2 items in the list\n",
    "# c: The empty list has 0 items\n",
    "# d: The expression is the same as the list [2, 3], which has length 2."
   ]
  },
  {
   "cell_type": "markdown",
   "id": "2c4a99a8-0f6b-4de9-9f20-911e6ced327d",
   "metadata": {},
   "source": [
    "We're using lists to record people who attended our party and what order they arrived in. For example, the following list represents a party with 7 guests, in which Adela showed up first and Ford was the last to arrive:\r\n",
    "\r\n",
    "party_attendees = ['Adela', 'Fleda', 'Owen', 'May', 'Mona', 'Gilbert', 'Ford']\r\n",
    "A guest is considered 'fashionably late' if they arrived after at least half of the party's guests. However, they must not be the very last guest (that's taking it too far). In the above example, Mona and Gilbert are the only guests who were fashionably late.\r\n",
    "\r\n",
    "Complete the function below which takes a list of party attendees as well as a person, and tells us whether that person is fashionably late."
   ]
  },
  {
   "cell_type": "code",
   "execution_count": 149,
   "id": "8c1a2252-81b8-467e-9a3f-e3c0e16d4269",
   "metadata": {},
   "outputs": [
    {
     "name": "stdout",
     "output_type": "stream",
     "text": [
      "Adela is not fashionably late\n",
      "Fleda is not fashionably late\n",
      "Owen is not fashionably late\n",
      "May is not fashionably late\n",
      "Mona is fashionably late\n",
      "Gilbert is fashionably late\n",
      "Ford is fashionably late\n",
      "Pepe is not fashionably late\n"
     ]
    }
   ],
   "source": [
    "def fashionably_late(arrivals, name):\n",
    "    \"\"\"Given an ordered list of arrivals to the party and a name, return whether the guest with that\n",
    "    name was fashionably late.\n",
    "    \"\"\"\n",
    "    for n in name:\n",
    "        position = name.index(n)\n",
    "        last=name[-1]\n",
    "        if position>=(len(name)/2) and n!=last:\n",
    "            print(n, 'is fashionably late')\n",
    "        else:\n",
    "            print(n, 'is not fashionably late')\n",
    "            \n",
    "fashionably_late(arrivals=[1,2,3,4,5,6,7,8],name=['Adela', 'Fleda', 'Owen', 'May', 'Mona', 'Gilbert', 'Ford','Pepe'])"
   ]
  },
  {
   "cell_type": "code",
   "execution_count": 139,
   "id": "9deba953-ff5f-44a3-b382-2351b9840c79",
   "metadata": {},
   "outputs": [
    {
     "name": "stdout",
     "output_type": "stream",
     "text": [
      "a is not fashionably late\n",
      "b is not fashionably late\n",
      "c is not fashionably late\n",
      "d is not fashionably late\n",
      "e is fashionably late\n",
      "f is fashionably late\n",
      "g is fashionably late\n",
      "h is not fashionably late\n"
     ]
    }
   ],
   "source": [
    "name = ['a','b','c','d','e','f','g','h']\n",
    "for n in name:\n",
    "    position = name.index(n)\n",
    "    last=name[-1]\n",
    "    if position>=(len(name)/2) and n!=last:\n",
    "        print(n, 'is fashionably late')\n",
    "    else:\n",
    "        print(n, 'is not fashionably late')"
   ]
  },
  {
   "cell_type": "code",
   "execution_count": 151,
   "id": "66669dc8-6f49-4948-9065-7bdda3ce54ce",
   "metadata": {},
   "outputs": [
    {
     "data": {
      "text/plain": [
       "False"
      ]
     },
     "execution_count": 151,
     "metadata": {},
     "output_type": "execute_result"
    }
   ],
   "source": [
    "def fashionably_late(arrivals, name):\n",
    "    \"\"\"Given an ordered list of arrivals to the party and a name, return whether the guest with that\n",
    "    name was fashionably late.\n",
    "    \"\"\"\n",
    "    for n in name:\n",
    "        position = name.index(n)\n",
    "        last=name[-1]\n",
    "        if position>=(len(name)/2) and n!=last:\n",
    "            return True\n",
    "        else:\n",
    "            return False\n",
    "            \n",
    "fashionably_late(arrivals=[1,2,3,4,5,6,7,8],name=['Adela', 'Fleda', 'Owen', 'May', 'Mona', 'Gilbert', 'Ford','Pepe'])"
   ]
  },
  {
   "cell_type": "code",
   "execution_count": 153,
   "id": "d96a3892-bad5-46d4-a138-7fe098981269",
   "metadata": {},
   "outputs": [
    {
     "data": {
      "text/plain": [
       "8"
      ]
     },
     "execution_count": 153,
     "metadata": {},
     "output_type": "execute_result"
    }
   ],
   "source": [
    "a=[1,2,3,4,5,6,7,8]\n",
    "len(a)"
   ]
  },
  {
   "cell_type": "code",
   "execution_count": 159,
   "id": "fa5b839a-7340-43a5-941e-aee657d853c8",
   "metadata": {},
   "outputs": [
    {
     "data": {
      "text/plain": [
       "False"
      ]
     },
     "execution_count": 159,
     "metadata": {},
     "output_type": "execute_result"
    }
   ],
   "source": [
    "#list of names is in arrivals, and name is the name i wanna check\n",
    "def fashionably_late(arrivals, name):\n",
    "    \"\"\"Given an ordered list of arrivals to the party and a name, return whether the guest with that\n",
    "    name was fashionably late.\n",
    "    \"\"\"\n",
    "    position = arrivals.index(name)\n",
    "    return position>=(len(arrivals)/2) and position!=(len(arrivals)-1) #remember this -1!!! bc of 0-indexing\n",
    "    \n",
    "fashionably_late(arrivals= ['Adela', 'Fleda', 'Owen', 'May', 'Mona', 'Gilbert', 'Ford'],name= 'Ford')\n"
   ]
  },
  {
   "cell_type": "code",
   "execution_count": null,
   "id": "e1598ab0-186a-4495-bfd4-84aa7a19b703",
   "metadata": {},
   "outputs": [],
   "source": []
  }
 ],
 "metadata": {
  "kernelspec": {
   "display_name": "Python 3 (ipykernel)",
   "language": "python",
   "name": "python3"
  },
  "language_info": {
   "codemirror_mode": {
    "name": "ipython",
    "version": 3
   },
   "file_extension": ".py",
   "mimetype": "text/x-python",
   "name": "python",
   "nbconvert_exporter": "python",
   "pygments_lexer": "ipython3",
   "version": "3.12.4"
  }
 },
 "nbformat": 4,
 "nbformat_minor": 5
}
