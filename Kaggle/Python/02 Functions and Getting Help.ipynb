{
 "cells": [
  {
   "cell_type": "markdown",
   "id": "dc76452a-6337-4486-bbde-ebcde801e90d",
   "metadata": {},
   "source": [
    "Functions and Getting Help\n",
    "\n",
    "HELP:\n",
    "help() function:\n",
    "help() displays two things:\r\n",
    "\r\n",
    "the header of that function round(number, ndigits=None). In this case, this tells us that round() takes an argument we can describe as number. Additionally, we can optionally give a separate argument which could be described as ndigits.\r\n",
    "A brief English description of what the function do\n",
    "\n",
    "Remember to pass in the name of the function itself! and not the result of calling that function! -- cos python evaluates from the inside out\n",
    "\n",
    "DEFINING FUNCTIONS:\n",
    "Defining your own functions is a big part of python programming\n",
    "Functions start with a header introduced by the def keyword. The indented block of code following the : is run when the function is called\n",
    "return is another keyword uniquely associated with functions. When Python encounters a return statement, it exits the function immediately, and passes the value on the right hand side to the calling context.\n",
    "If i try help in one of my functions, python isn't smart enough to read my code and turn it into a nice English description. However, when I write a function, I can provide a description in what's called the docstring.\n",
    "The docstring is a triple-quoted string (which may span multiple lines) that comes immediately after the header of a function. When we call help() on a function, it shows the docstring.\n",
    "Good programmers use docstrings unless they expect to throw away the code soon after it's used (which is rare). So, you should start writing docstrings, too!\n",
    "Be careful --> Siempre que una función no tenga return, su valor de retorno es None. F ex function print() doesnt return anything --> None\n",
    "\n",
    "Can also give my own function a default value or modify the default value of an existing function to make it do whatever i prefer \n",
    "\n",
    "Functions applyed to functions: \n",
    "You can supply functions as arguments to other functions\n",
    "Functions that operate on other functions are called *\"higher-order functions\"* You probably won't write your own for a little while. But there are higher-order functions built into Python that you might find useful to call.\n",
    "\n",
    "\n",
    "Typ -- can use ``` in a mark down before and after some lines of code to mark them as code, not textes.\n"
   ]
  },
  {
   "cell_type": "code",
   "execution_count": 3,
   "id": "ec02b56c-8df4-45b5-b9d4-f558f1ba765c",
   "metadata": {},
   "outputs": [
    {
     "name": "stdout",
     "output_type": "stream",
     "text": [
      "5\n",
      "25\n"
     ]
    }
   ],
   "source": [
    "def mult_by_five(x):\n",
    "    return 5 * x\n",
    "\n",
    "def call(fn, arg): #fn is not a value as such, it is referring to a function, and so then when we call 'call(mult_by_five, 1)', its the sae as doing mult_by_five(1)\n",
    "    #es una variable que apunta a una función!!!\n",
    "    \"\"\"Call fn on arg\"\"\"\n",
    "    return fn(arg)\n",
    "\n",
    "def squared_call(fn, arg):\n",
    "    \"\"\"Call fn on the result of calling fn on arg\"\"\"\n",
    "    return fn(fn(arg))\n",
    "\n",
    "print(\n",
    "    call(mult_by_five, 1),\n",
    "    squared_call(mult_by_five, 1), \n",
    "    sep='\\n', # '\\n' is the newline character - it starts a new line\n",
    ")"
   ]
  },
  {
   "cell_type": "code",
   "execution_count": 7,
   "id": "7c7c84a7-9101-43ef-9779-1e6bf158a2e0",
   "metadata": {},
   "outputs": [
    {
     "name": "stdout",
     "output_type": "stream",
     "text": [
      "12\n"
     ]
    }
   ],
   "source": [
    "#¿Puedes crear una función triple(x) y usar call(triple, 4) para que te devuelva 12?\n",
    "def triple(x):\n",
    "    return x*3\n",
    "def call(fn,arg):\n",
    "    return fn(arg)\n",
    "print(call(triple,4))\n"
   ]
  },
  {
   "cell_type": "code",
   "execution_count": 9,
   "id": "900b2bda-8ca2-41f1-968e-8f704fdfab25",
   "metadata": {},
   "outputs": [
    {
     "name": "stdout",
     "output_type": "stream",
     "text": [
      "18\n"
     ]
    }
   ],
   "source": [
    "#¿Qué crees que devolvería este código?\n",
    "def triple(x):\n",
    "    return x * 3\n",
    "\n",
    "def squared_call(fn, arg):\n",
    "    return fn(fn(arg)) #here its gonna do triple(2) and \"then\" triple(triple(2)) --> 18\n",
    "\n",
    "print(squared_call(triple, 2))"
   ]
  },
  {
   "cell_type": "code",
   "execution_count": 15,
   "id": "8fcdcab8-09de-4972-a0a4-69e0a7dd22bd",
   "metadata": {},
   "outputs": [
    {
     "name": "stdout",
     "output_type": "stream",
     "text": [
      "Which number is biggest?\n",
      "100\n",
      "Which number is the biggest modulo 5?\n",
      "14\n",
      "0 1 4\n"
     ]
    }
   ],
   "source": [
    "def mod_5(x):\n",
    "    \"\"\"Return the remainder of x after dividing by 5\"\"\"\n",
    "    return x % 5\n",
    "\n",
    "print(\n",
    "    'Which number is biggest?',\n",
    "    max(100, 51, 14),\n",
    "    'Which number is the biggest modulo 5?',\n",
    "    max(100, 51, 14, key=mod_5),\n",
    "    sep='\\n',\n",
    ")\n",
    "\n",
    "print(mod_5(100), mod_5(51), mod_5(14)) #--> retunrs the largest that corresponds to 14"
   ]
  },
  {
   "cell_type": "code",
   "execution_count": 13,
   "id": "3029d339-6248-4502-bc1d-b776afec780c",
   "metadata": {},
   "outputs": [
    {
     "name": "stdout",
     "output_type": "stream",
     "text": [
      "Help on built-in function max in module builtins:\n",
      "\n",
      "max(...)\n",
      "    max(iterable, *[, default=obj, key=func]) -> value\n",
      "    max(arg1, arg2, *args, *[, key=func]) -> value\n",
      "\n",
      "    With a single iterable argument, return its biggest item. The\n",
      "    default keyword-only argument specifies an object to return if\n",
      "    the provided iterable is empty.\n",
      "    With two or more arguments, return the largest argument.\n",
      "\n"
     ]
    }
   ],
   "source": [
    "help(max)"
   ]
  },
  {
   "cell_type": "markdown",
   "id": "d5a40a7c-2f68-4fb4-a7ea-7ffb3408dc98",
   "metadata": {},
   "source": [
    "**EXERCISES**"
   ]
  },
  {
   "cell_type": "code",
   "execution_count": 25,
   "id": "7f0761cf-0f53-4a1f-8c53-5a8b19f42cc9",
   "metadata": {},
   "outputs": [
    {
     "name": "stdout",
     "output_type": "stream",
     "text": [
      "3.14\n"
     ]
    }
   ],
   "source": [
    "#Complete the body of the following function according to its docstring.\n",
    "def round_to_two_places(num):\n",
    "    \"\"\"Return the given number rounded to two decimal places. \n",
    "    \n",
    "    >>> round_to_two_places(3.14159)\n",
    "    3.14\n",
    "    \"\"\"\n",
    "    return round(num, 2)\n",
    "print(round_to_two_places(3.14159))\n",
    "    # Replace this body with your own code."
   ]
  },
  {
   "cell_type": "code",
   "execution_count": 17,
   "id": "b71c492b-bd9a-4ecf-b44d-fe6e2dc62d79",
   "metadata": {},
   "outputs": [
    {
     "name": "stdout",
     "output_type": "stream",
     "text": [
      "Help on built-in function round in module builtins:\n",
      "\n",
      "round(number, ndigits=None)\n",
      "    Round a number to a given precision in decimal digits.\n",
      "\n",
      "    The return value is an integer if ndigits is omitted or None.  Otherwise\n",
      "    the return value has the same type as the number.  ndigits may be negative.\n",
      "\n"
     ]
    }
   ],
   "source": [
    "help(round)"
   ]
  },
  {
   "cell_type": "code",
   "execution_count": 33,
   "id": "62236f6f-3efb-4207-914f-2b67cd18a919",
   "metadata": {},
   "outputs": [
    {
     "data": {
      "text/plain": [
       "100.0"
      ]
     },
     "execution_count": 33,
     "metadata": {},
     "output_type": "execute_result"
    }
   ],
   "source": [
    "round(122.14156,-1) #-1 indicates we wanna round one possition to the left of the decimal point --> to the neares ten (in case of -1) and to the nearest hundred (if -2),..."
   ]
  },
  {
   "cell_type": "markdown",
   "id": "618735d4-f1f1-4213-bb76-c19bcf881578",
   "metadata": {},
   "source": [
    "round(x, 2) → redondea a dos decimales\n",
    "round(x, 0) → redondea a un entero\n",
    "round(x, -1) → redondea a la decena más cercana\n",
    "round(x, -2) → redondea a la centena más cercana"
   ]
  },
  {
   "cell_type": "code",
   "execution_count": 35,
   "id": "a6b16c67-1308-4076-a5bc-03aee6a4524a",
   "metadata": {},
   "outputs": [
    {
     "data": {
      "text/plain": [
       "300"
      ]
     },
     "execution_count": 35,
     "metadata": {},
     "output_type": "execute_result"
    }
   ],
   "source": [
    "round(275,-2) --> nearest hundred wouldnt be 200, it would be 300!!!"
   ]
  },
  {
   "cell_type": "markdown",
   "id": "e4cf2e86-7eb2-4627-9260-a9129d91589d",
   "metadata": {},
   "source": [
    "**_Where might this be useful? Suppose we're dealing with large numbers:_**\n",
    "The area of Finland is 338,424 km²\n",
    "The area of Greenland is 2,166,086 km²"
   ]
  },
  {
   "cell_type": "code",
   "execution_count": 41,
   "id": "78157855-90de-4a6c-9e0a-f3cb17c6f88f",
   "metadata": {},
   "outputs": [
    {
     "data": {
      "text/plain": [
       "0.0"
      ]
     },
     "execution_count": 41,
     "metadata": {},
     "output_type": "execute_result"
    }
   ],
   "source": [
    "Area_Finland = 338.424\n",
    "round(Area_Finland, -3)"
   ]
  },
  {
   "cell_type": "code",
   "execution_count": 53,
   "id": "b99263aa-331e-4d67-a479-91a581d7ccd7",
   "metadata": {},
   "outputs": [
    {
     "data": {
      "text/plain": [
       "338000"
      ]
     },
     "execution_count": 53,
     "metadata": {},
     "output_type": "execute_result"
    }
   ],
   "source": [
    "round(338424,-3)"
   ]
  },
  {
   "cell_type": "code",
   "execution_count": 55,
   "id": "7bf7236a-fc48-433b-a875-97983967dc88",
   "metadata": {},
   "outputs": [
    {
     "data": {
      "text/plain": [
       "0"
      ]
     },
     "execution_count": 55,
     "metadata": {},
     "output_type": "execute_result"
    }
   ],
   "source": [
    "round(5,-1)"
   ]
  },
  {
   "cell_type": "code",
   "execution_count": 69,
   "id": "855c46d6-b3af-471e-98c8-97b039562905",
   "metadata": {},
   "outputs": [
    {
     "name": "stdout",
     "output_type": "stream",
     "text": [
      "1\n"
     ]
    }
   ],
   "source": [
    "#Below is a simple function that will calculate the number of candies to smash for any number of total candies.\n",
    "#Modify it so that it optionally takes a second argument representing the number of friends the candies are being split between. If no second argument is provided, it should assume 3 friends, as before.\n",
    "\n",
    "def to_smash(total_candies, x=3): #gotta put this 3 as an int (so no \"\"!), cos if i put it as a string, it wont be able to do the calculation w that\n",
    "    \"\"\"Return the number of leftover candies that must be smashed after distributing\n",
    "    the given number of candies evenly between 3 friends as a default value or x as a second argument if a number is specified\n",
    "    \n",
    "    >>> to_smash(91,3)\n",
    "    1\n",
    "    \"\"\"\n",
    "    return total_candies % x\n",
    "print(to_smash(91))"
   ]
  },
  {
   "cell_type": "code",
   "execution_count": 71,
   "id": "a886a119-f004-4e54-8533-517c128a3ff2",
   "metadata": {},
   "outputs": [
    {
     "name": "stdout",
     "output_type": "stream",
     "text": [
      "5\n",
      "5\n"
     ]
    }
   ],
   "source": [
    "# Which of the two variables above has the smallest absolute value?\n",
    "x = -10\n",
    "y = 5\n",
    "smallest_abs= min(abs(x),abs(y))\n",
    "print(smallest_abs)\n",
    "\n",
    "#can do it without creating a function (cos the values of x,y are already given to me), or with a function:\n",
    "x = -10\n",
    "y = 5\n",
    "def smallest_abs(x,y):\n",
    "    return min(abs(x),abs(y))\n",
    "print(smallest_abs(x,y))"
   ]
  },
  {
   "cell_type": "code",
   "execution_count": null,
   "id": "16143f6c-7444-4295-9b60-906f1c783f55",
   "metadata": {},
   "outputs": [],
   "source": []
  }
 ],
 "metadata": {
  "kernelspec": {
   "display_name": "Python 3 (ipykernel)",
   "language": "python",
   "name": "python3"
  },
  "language_info": {
   "codemirror_mode": {
    "name": "ipython",
    "version": 3
   },
   "file_extension": ".py",
   "mimetype": "text/x-python",
   "name": "python",
   "nbconvert_exporter": "python",
   "pygments_lexer": "ipython3",
   "version": "3.12.4"
  }
 },
 "nbformat": 4,
 "nbformat_minor": 5
}
