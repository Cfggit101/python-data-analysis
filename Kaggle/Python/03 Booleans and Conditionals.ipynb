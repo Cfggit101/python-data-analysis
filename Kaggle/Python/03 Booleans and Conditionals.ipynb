{
 "cells": [
  {
   "cell_type": "markdown",
   "id": "60693d74-020f-4079-9e8c-88f4d0723844",
   "metadata": {},
   "source": [
    "**BOOLEANS AND CONDITIONALS**"
   ]
  },
  {
   "cell_type": "markdown",
   "id": "7126eb79-b47b-44c4-b208-53a82b7526f6",
   "metadata": {},
   "source": [
    "**Booleans**"
   ]
  },
  {
   "cell_type": "markdown",
   "id": "bc9d0dfd-41fd-40a2-8e43-1aa1677b012b",
   "metadata": {},
   "source": [
    "Python has a type of variable called bool. It has two possible values: True and False.\r",
    "Rather than putting True or False directly in our code, we usually get boolean values from boolean operators. These are operators that answer yes/no questions\n",
    "\n",
    "**_Comparison Operations:_**\n",
    "a==b - a equal to b\n",
    "a!=b - a not equal to b\n",
    "a<b; a>b -- a less or greater than b\n",
    "a<=b; a>=b -- a less/greater or equal to b\n",
    "\r\n"
   ]
  },
  {
   "cell_type": "code",
   "execution_count": 1,
   "id": "cec6faca-f8c4-49c4-af4f-2b5c9c470b01",
   "metadata": {},
   "outputs": [
    {
     "name": "stdout",
     "output_type": "stream",
     "text": [
      "I can, w 19 yo, run for president... False\n",
      "I can, w 42 yo, run for president... True\n"
     ]
    }
   ],
   "source": [
    "def president(age):\n",
    "    return age>=35\n",
    "print('I can, w 19 yo, run for president...', president(19))\n",
    "print('I can, w 42 yo, run for president...', president(42))"
   ]
  },
  {
   "cell_type": "markdown",
   "id": "3f478b87-8e76-40e3-a8b9-456d01368b0a",
   "metadata": {},
   "source": [
    "Comparisons frequently work like you'd hope: 3.0 == 3 -- true\n",
    "But sometimes they can be tricky: '3'==3 --False\n",
    "Comparison operators can be combined with the arithmetic operators we've already seen to express a virtually limitless range of mathematical tests. For example, we can check if a number is odd by checking that the modulus with 2 returns 1:"
   ]
  },
  {
   "cell_type": "code",
   "execution_count": 3,
   "id": "b051a95b-c293-4dfc-935b-3d6d0132243f",
   "metadata": {},
   "outputs": [
    {
     "name": "stdout",
     "output_type": "stream",
     "text": [
      "100 is an odd number... False\n",
      "101 is an odd number... True\n"
     ]
    }
   ],
   "source": [
    "def is_odd(x):\n",
    "    return x%2 == 1\n",
    "print('100 is an odd number...',is_odd(100))\n",
    "print('101 is an odd number...',is_odd(101))"
   ]
  },
  {
   "cell_type": "markdown",
   "id": "3388f05a-dca4-45f8-9e77-c129a9a42ee1",
   "metadata": {},
   "source": [
    "Remember to use == instead of = when making comparisons. If you write n == 2 you are asking about the value of n. When you write n = 2 you are changing the value of n (assigning it a value)"
   ]
  },
  {
   "cell_type": "markdown",
   "id": "94a99e41-6807-4994-aa4d-681a0558bd4c",
   "metadata": {},
   "source": [
    "**_Combining Boolean Values_**\n",
    "You can combine boolean values using the words and, or, and not\n",
    "\n"
   ]
  },
  {
   "cell_type": "code",
   "execution_count": 9,
   "id": "aba19293-3e06-4a3f-9eb8-f884c87f9f2f",
   "metadata": {},
   "outputs": [
    {
     "name": "stdout",
     "output_type": "stream",
     "text": [
      "False\n",
      "False\n",
      "True\n"
     ]
    }
   ],
   "source": [
    "# The US Constitution says you must be a natural born citizen *and* at least 35 years old\n",
    "def president(age, born_citizen): #here born_citizen == True --> when later i enter it as false, it returns false to president (the function)\n",
    "    return age>=35 and born_citizen\n",
    "\n",
    "print(president(18, True))\n",
    "print(president(42, False))\n",
    "print(president(42, True))"
   ]
  },
  {
   "cell_type": "code",
   "execution_count": 11,
   "id": "a41c90a1-591a-4971-ba27-075716f67c7d",
   "metadata": {},
   "outputs": [
    {
     "data": {
      "text/plain": [
       "True"
      ]
     },
     "execution_count": 11,
     "metadata": {},
     "output_type": "execute_result"
    }
   ],
   "source": [
    "True or True and False"
   ]
  },
  {
   "cell_type": "markdown",
   "id": "d1e98898-d639-4834-9e5d-6c0ae4ff3225",
   "metadata": {},
   "source": [
    "Gotta see as if it was the result of some booleans\n",
    "Keep in mind and is evaluated before or \n",
    "You could try to memorize the order of precedence, but a safer bet is to just use *liberal parentheses*. Not only does this help prevent bugs, it makes your intentions clearer to anyone who reads your code."
   ]
  },
  {
   "cell_type": "code",
   "execution_count": null,
   "id": "c46f4046-d4a3-48c2-bc93-66e5a3bc6216",
   "metadata": {},
   "outputs": [],
   "source": [
    "#¿Puedes escribir tú una condición con and, or y not que represente esta idea?\n",
    "#\"Estoy feliz si es fin de semana o tengo vacaciones, pero no si estoy enfermo\"\n",
    "happy = (weekend or vacations) and not sick"
   ]
  },
  {
   "cell_type": "code",
   "execution_count": null,
   "id": "1fb23a71-c4e7-47cd-a42f-100591f58ee4",
   "metadata": {},
   "outputs": [],
   "source": [
    "#Can also split it over multiple lines to emphasize the structure \n",
    "prepared_for_weather = (\n",
    "    have_umbrella \n",
    "    or ((rain_level < 5) and have_hood) \n",
    "    or (not (rain_level > 0 and is_workday))\n",
    ")"
   ]
  },
  {
   "cell_type": "markdown",
   "id": "4f11533c-3ef8-4064-96d2-9ab4e11cd3ae",
   "metadata": {},
   "source": [
    "**Conditionals**\n"
   ]
  },
  {
   "cell_type": "markdown",
   "id": "9d8dabeb-8cab-47bd-8ab7-83a99e58d569",
   "metadata": {},
   "source": [
    "Booleans are most useful when combined with conditional statements, using the keywords if, elif, and else.\n",
    "Conditional statements, often referred to as if-then statements, let you control what pieces of code are run based on the value of some Boolean condition."
   ]
  },
  {
   "cell_type": "code",
   "execution_count": 13,
   "id": "7a67d1db-2bb7-4ad1-8e85-2066dc69ce23",
   "metadata": {},
   "outputs": [
    {
     "name": "stdout",
     "output_type": "stream",
     "text": [
      "0 is zero\n",
      "-15 is negative\n"
     ]
    }
   ],
   "source": [
    "def inspect(x):\n",
    "    if x == 0:\n",
    "        print(x, \"is zero\")\n",
    "    elif x > 0:\n",
    "        print(x, \"is positive\")\n",
    "    elif x < 0:\n",
    "        print(x, \"is negative\")\n",
    "    else:\n",
    "        print(x, \"is unlike anything I've ever seen...\")\n",
    "\n",
    "inspect(0)\n",
    "inspect(-15)"
   ]
  },
  {
   "cell_type": "markdown",
   "id": "3993a671-5226-4153-98a3-3ec457903a4d",
   "metadata": {},
   "source": [
    "The if and else keywords are often used in other languages; its more unique keyword is elif, a contraction of \"else if\". In these conditional clauses, elif and else blocks are optional; additionally, you can include as many elif statements as you would like.\r\n",
    "\r\n",
    "Note especially the use of colons (:) and whitespace to denote separate blocks of code. This is similar to what happens when we define a function - the function header ends with :, and the following line is indented with 4 spaces. All subsequent indented lines belong to the body of the function, until we encounter an unindented line, ending the function definition."
   ]
  },
  {
   "cell_type": "code",
   "execution_count": 15,
   "id": "e40ab826-4a32-4ba8-a52d-0b6050e91c01",
   "metadata": {},
   "outputs": [
    {
     "name": "stdout",
     "output_type": "stream",
     "text": [
      "Only printed when x is positive; x = 1\n",
      "Also only printed when x is positive; x = 1\n",
      "Always printed, regardless of x's value; x = 1\n",
      "Always printed, regardless of x's value; x = 0\n"
     ]
    }
   ],
   "source": [
    "def f(x):\n",
    "    if x > 0:\n",
    "        print(\"Only printed when x is positive; x =\", x)\n",
    "        print(\"Also only printed when x is positive; x =\", x)\n",
    "    print(\"Always printed, regardless of x's value; x =\", x)\n",
    "\n",
    "f(1)\n",
    "f(0)"
   ]
  },
  {
   "cell_type": "markdown",
   "id": "c2805440-88bd-4685-92df-052346e68bd8",
   "metadata": {},
   "source": [
    "**_Boolean conversion_**\n",
    "We've seen int(), which turns things into ints, and float(), which turns things into floats, so you might not be surprised to hear that *Python has a bool() function which turns things into bools*."
   ]
  },
  {
   "cell_type": "code",
   "execution_count": null,
   "id": "6f874035-3613-4e0d-bca3-2ba7d3b4e611",
   "metadata": {
    "scrolled": true
   },
   "outputs": [],
   "source": [
    "print(bool(1)) # all numbers are treated as true, except 0\n",
    "print(bool(0))\n",
    "print(bool(\"asf\")) # all strings are treated as true, except the empty string \"\"\n",
    "print(bool(\"\"))\n",
    "# Generally empty sequences (strings, lists, and other types we've yet to see like lists and tuples)\n",
    "# are \"falsey\" and the rest are \"truthy\""
   ]
  },
  {
   "cell_type": "markdown",
   "id": "f50200f1-8863-4177-aca1-f6ffdceac6c7",
   "metadata": {},
   "source": [
    "We can use non-boolean objects in if conditions and other places where a boolean would be expected. Python will implicitly treat them as their corresponding boolean value:"
   ]
  },
  {
   "cell_type": "code",
   "execution_count": 17,
   "id": "cb4d0ca7-2578-4aad-a04d-c4f7841639c5",
   "metadata": {},
   "outputs": [
    {
     "name": "stdout",
     "output_type": "stream",
     "text": [
      "spam\n"
     ]
    }
   ],
   "source": [
    "if 0: #En Python, el número 0 se considera falsy, o sea: Se comporta como False en un contexto lógico. Por lo tanto, no entra al bloque if.\n",
    "    print(0)\n",
    "elif \"spam\": #En cambio, la cadena \"spam\" es truthy, porque las cadenas no vacías siempre son verdaderas. Entonces entra aquí y lo ejecuta:\n",
    "    print(\"spam\")"
   ]
  },
  {
   "cell_type": "markdown",
   "id": "ebfe2906-900a-40cd-9df0-6acfff627e91",
   "metadata": {},
   "source": [
    "Valores falsy en Python (se evalúan como False):\n",
    "0 (cero)\n",
    "0.0\n",
    "\"\" (cadena vacía)\n",
    "[] (lista vacía)\n",
    "{} (diccionario vacío)\n",
    "None\n",
    "False (obviamente)\n",
    "Todo lo demás se evalúa como truthy"
   ]
  },
  {
   "cell_type": "code",
   "execution_count": 19,
   "id": "a9457379-9959-4e1b-97d3-e1cc750afe0e",
   "metadata": {},
   "outputs": [
    {
     "name": "stdout",
     "output_type": "stream",
     "text": [
      "C\n"
     ]
    }
   ],
   "source": [
    "if \"\":\n",
    "    print(\"A\")\n",
    "elif []:\n",
    "    print(\"B\")\n",
    "elif \"0\": #be aware! here its not 0, its a string with content --> truthy!!!\n",
    "    print(\"C\")"
   ]
  },
  {
   "cell_type": "markdown",
   "id": "3caa1889-3489-4b84-ab5a-99d6be396373",
   "metadata": {},
   "source": [
    "**EXERCISES**"
   ]
  },
  {
   "cell_type": "code",
   "execution_count": 25,
   "id": "c6a411bc-4a73-4721-ba7d-6e4c13a7e9a9",
   "metadata": {},
   "outputs": [
    {
     "name": "stdout",
     "output_type": "stream",
     "text": [
      "0\n",
      "1\n",
      "-1\n"
     ]
    }
   ],
   "source": [
    "#define a function called sign which takes a numerical argument and returns -1 if it's negative, 1 if it's positive, and 0 if it's 0\n",
    "def sign(x):\n",
    "    if x<0:\n",
    "        print(\"-1\")\n",
    "    elif x>0:\n",
    "        print(\"1\")\n",
    "    else:\n",
    "        print(\"0\")\n",
    "\n",
    "sign(0)\n",
    "sign(8)\n",
    "sign(-9)"
   ]
  },
  {
   "cell_type": "code",
   "execution_count": null,
   "id": "2e13489c-9b1b-47d0-9d09-e739bc5680ef",
   "metadata": {},
   "outputs": [],
   "source": [
    "#but that way i get a string!!!\n",
    "#If i want an int as a result:\n",
    "def sign(x):\n",
    "    if x<0:\n",
    "        return -1\n",
    "    elif x>0:\n",
    "        return 1\n",
    "    else:\n",
    "        return 0\n",
    "        \n",
    "print(sign(0))\n",
    "print(sign(8))\n",
    "print(sign(-9))"
   ]
  },
  {
   "cell_type": "code",
   "execution_count": 43,
   "id": "4141df47-3422-4292-b8b2-386b25029199",
   "metadata": {},
   "outputs": [
    {
     "name": "stdout",
     "output_type": "stream",
     "text": [
      "Splitting 91 candies\n"
     ]
    },
    {
     "data": {
      "text/plain": [
       "1"
      ]
     },
     "execution_count": 43,
     "metadata": {},
     "output_type": "execute_result"
    }
   ],
   "source": [
    "def to_smash(total_candies):\n",
    "    \"\"\"Return the number of leftover candies that must be smashed after distributing\n",
    "    the given number of candies evenly between 3 friends.\n",
    "    \n",
    "    >>> to_smash(91)\n",
    "    1\n",
    "    \"\"\"\n",
    "    print(\"Splitting\", total_candies, \"candies\")\n",
    "    return total_candies % 3 #will also print it in jupyter notebook cos im not \"saving it\" in a variable, nor printing it, so jupyter shows it to me\n",
    "\n",
    "to_smash(91)\n",
    "#be aware! Todo lo que pongas después de un return en una función se ignora porque la función ya terminó y devolvió el control al programa principal."
   ]
  },
  {
   "cell_type": "code",
   "execution_count": 45,
   "id": "e3cd070e-e2ea-4698-871c-bca6ec092aea",
   "metadata": {},
   "outputs": [
    {
     "name": "stdout",
     "output_type": "stream",
     "text": [
      "Splitting 91 candies\n",
      "Splitting 1 candies\n"
     ]
    },
    {
     "data": {
      "text/plain": [
       "1"
      ]
     },
     "execution_count": 45,
     "metadata": {},
     "output_type": "execute_result"
    }
   ],
   "source": [
    "def to_smash(total_candies):\n",
    "    print(\"Splitting\", total_candies, \"candies\")\n",
    "    return total_candies % 3 #will also print it in jupyter notebook cos im not \"saving it\" in a variable, nor printing it, so jupyter shows it to me\n",
    "\n",
    "to_smash(91)\n",
    "to_smash(1)"
   ]
  },
  {
   "cell_type": "code",
   "execution_count": 49,
   "id": "bb3f5359-e6a8-4e55-bcfd-de5f7fe192ea",
   "metadata": {},
   "outputs": [
    {
     "name": "stdout",
     "output_type": "stream",
     "text": [
      "Splitting 91 candies\n",
      "To smash 1 candies\n",
      "Splitting 1 candy\n",
      "To smash 1 candy\n"
     ]
    }
   ],
   "source": [
    "def to_smash(total_candies):\n",
    "    if total_candies>1:\n",
    "        print(\"Splitting\", total_candies, \"candies\")\n",
    "        print(\"To smash\", total_candies % 3, \"candies\") \n",
    "    if total_candies==1:\n",
    "        print(\"Splitting\", total_candies, \"candy\")\n",
    "        print(\"To smash\", total_candies % 3, \"candy\")\n",
    "to_smash(91)\n",
    "to_smash(1)"
   ]
  },
  {
   "cell_type": "code",
   "execution_count": 51,
   "id": "eed0b642-1b85-4940-836b-23048510cf4a",
   "metadata": {},
   "outputs": [
    {
     "name": "stdout",
     "output_type": "stream",
     "text": [
      "Splitting 91 candies\n",
      "Splitting 1 candy\n"
     ]
    },
    {
     "data": {
      "text/plain": [
       "1"
      ]
     },
     "execution_count": 51,
     "metadata": {},
     "output_type": "execute_result"
    }
   ],
   "source": [
    "def to_smash(total_candies):\n",
    "    if total_candies>1:\n",
    "        print(\"Splitting\", total_candies, \"candies\")\n",
    "        return total_candies % 3 \n",
    "    if total_candies==1:\n",
    "        print(\"Splitting\", total_candies, \"candy\")\n",
    "        return total_candies % 3 \n",
    "to_smash(91)\n",
    "to_smash(1)\n",
    "#why only 1 once? pq solo el resultado de la última expresión evaluada en una celda de Jupyter se imprime automáticamente si no está en un print()."
   ]
  },
  {
   "cell_type": "code",
   "execution_count": 55,
   "id": "d6eda733-8a42-4f79-8273-f3a23d5a6490",
   "metadata": {},
   "outputs": [
    {
     "name": "stdout",
     "output_type": "stream",
     "text": [
      "Splitting 91 candies\n",
      "Splitting 1 candy\n"
     ]
    },
    {
     "data": {
      "text/plain": [
       "1"
      ]
     },
     "execution_count": 55,
     "metadata": {},
     "output_type": "execute_result"
    }
   ],
   "source": [
    "#better yet:\n",
    "def to_smash(total_candies):\n",
    "    print(\"Splitting\", total_candies, \"candy\" if total_candies == 1 else \"candies\")\n",
    "    return total_candies % 3 \n",
    "to_smash(91)\n",
    "to_smash(1)"
   ]
  },
  {
   "cell_type": "code",
   "execution_count": 87,
   "id": "a3407a45-44a3-448f-bf9a-a74c9e018ab0",
   "metadata": {},
   "outputs": [
    {
     "name": "stdout",
     "output_type": "stream",
     "text": [
      "True\n"
     ]
    }
   ],
   "source": [
    "def prepared_for_weather(have_umbrella, rain_level, have_hood, is_workday):\n",
    "    # Don't change this code. Our goal is just to find the bug, not fix it!\n",
    "    return have_umbrella or rain_level < 5 and have_hood or not rain_level > 0 and is_workday\n",
    "\n",
    "# Change the values of these inputs so they represent a case where prepared_for_weather\n",
    "# returns the wrong answer.\n",
    "have_umbrella = False\n",
    "rain_level = 0\n",
    "have_hood = False\n",
    "is_workday = False\n",
    "\n",
    "# Check what the function returns given the current values of the variables above\n",
    "actual = prepared_for_weather(have_umbrella, rain_level, have_hood, is_workday)\n",
    "print(actual)\n",
    "\n",
    "#I'm safe from today's weather if...\n",
    "#I have an umbrella...\n",
    "#or if the rain isn't too heavy and I have a hood...\n",
    "#otherwise, I'm still fine unless it's raining and it's a workday"
   ]
  },
  {
   "cell_type": "markdown",
   "id": "ce60e008-b868-4d97-9602-efc05703e27b",
   "metadata": {},
   "source": [
    "The bug is in the last part bc:\n",
    "Python implictly parenthesizes the last part as: \r\n",
    "(not (rain_level > 0)) and is_workd\n",
    "Whereas what we were trying to express would look more like: \r\n",
    "not (rain_level > 0 and is_workda\n",
    "--> The bug in this code is caused by Python evaluating certain operations in the \"wrong\" order.y)ay"
   ]
  },
  {
   "cell_type": "code",
   "execution_count": 91,
   "id": "34255a2e-29c9-4587-93e8-175ded14d603",
   "metadata": {},
   "outputs": [
    {
     "name": "stdout",
     "output_type": "stream",
     "text": [
      "True\n"
     ]
    }
   ],
   "source": [
    "def prepared_for_weather(have_umbrella, rain_level, have_hood, is_workday):\n",
    "    return have_umbrella or rain_level < 5 and have_hood or not (rain_level > 0 and is_workday)\n",
    "\n",
    "have_umbrella = False\n",
    "rain_level = 0\n",
    "have_hood = False\n",
    "is_workday = False\n",
    "\n",
    "actual = prepared_for_weather(have_umbrella, rain_level, have_hood, is_workday)\n",
    "print(actual)"
   ]
  },
  {
   "cell_type": "markdown",
   "id": "51512af6-caa3-445c-a8e2-851332f76a1e",
   "metadata": {},
   "source": [
    "Problem:\n",
    "not rain_level > 0 and is_workday\r\n",
    "→ Solo te protege si NO está lloviendo Y ES día laboral\r\n",
    "🟥 ¡Pero debería protegerte si NO está lloviendo o NO es día labora\n",
    "--> El bug es de precedencia lógica, porque not se aplicaba solo a rain_level > 0 en lugar de a toda la expresión compuesta.l!"
   ]
  },
  {
   "cell_type": "code",
   "execution_count": 103,
   "id": "d92696df-fdfb-422a-970d-50567d8ab3cb",
   "metadata": {},
   "outputs": [
    {
     "data": {
      "text/plain": [
       "False"
      ]
     },
     "execution_count": 103,
     "metadata": {},
     "output_type": "execute_result"
    }
   ],
   "source": [
    "def is_negative(number):\n",
    "    if number < 0:\n",
    "        return True\n",
    "    else:\n",
    "        return False\n",
    "\n",
    "def concise_is_negative(number):\n",
    "    return(True if number<0 else False) \n",
    "\n",
    "concise_is_negative(8)\n",
    "type(concise_is_negative)"
   ]
  },
  {
   "cell_type": "markdown",
   "id": "efd6a06c-b227-42a4-804c-76f5fad515a8",
   "metadata": {},
   "source": [
    "Usar print --> Solo muestra el valor en pantalla\n",
    "Usar return --> Devuelve el valor para que puedas usarlo\n",
    "Careful! if i dont use return i wont be able to use it later on!"
   ]
  },
  {
   "cell_type": "code",
   "execution_count": 111,
   "id": "d6a08994-09b7-4b33-9866-0db0e644a270",
   "metadata": {},
   "outputs": [
    {
     "data": {
      "text/plain": [
       "False"
      ]
     },
     "execution_count": 111,
     "metadata": {},
     "output_type": "execute_result"
    }
   ],
   "source": [
    "#Cleaner:\n",
    "def concise_is_negative(number):\n",
    "    return number<0 #this is directly a boolean\n",
    "concise_is_negative(8)"
   ]
  },
  {
   "cell_type": "code",
   "execution_count": 125,
   "id": "a3cfeb15-8667-4fc5-9fbb-34cd7509310a",
   "metadata": {},
   "outputs": [
    {
     "name": "stdout",
     "output_type": "stream",
     "text": [
      "False\n",
      "True\n"
     ]
    }
   ],
   "source": [
    "def wants_all_toppings(ketchup, mustard, onion):\n",
    "    \"\"\"Return whether the customer wants \"the works\" (all 3 toppings)\n",
    "    \"\"\"\n",
    "    return ketchup and mustard and onion\n",
    "\n",
    "print(wants_all_toppings(True, False, True))\n",
    "print(wants_all_toppings(True, True, True))"
   ]
  },
  {
   "cell_type": "code",
   "execution_count": 147,
   "id": "0f7d9840-b96f-4e05-ad5a-79f1b8f9f830",
   "metadata": {},
   "outputs": [
    {
     "name": "stdout",
     "output_type": "stream",
     "text": [
      "True\n",
      "False\n"
     ]
    }
   ],
   "source": [
    "def wants_plain_hotdog(ketchup, mustard, onion):\n",
    "    return (ketchup==False and mustard==False and onion==False)\n",
    "\n",
    "print(wants_plain_hotdog(False, False, False))\n",
    "print(wants_plain_hotdog(False, True, True))"
   ]
  },
  {
   "cell_type": "code",
   "execution_count": 151,
   "id": "f9b5f1a3-4bc7-44d0-9c35-8b7deea307b7",
   "metadata": {},
   "outputs": [
    {
     "name": "stdout",
     "output_type": "stream",
     "text": [
      "True\n",
      "False\n"
     ]
    }
   ],
   "source": [
    "#Solution:\n",
    "def wants_plain_hotdog(ketchup, mustard, onion):\n",
    "    return not ketchup and not mustard and not onion\n",
    "\n",
    "print(wants_plain_hotdog(False, False, False))\n",
    "print(wants_plain_hotdog(False, True, True))"
   ]
  },
  {
   "cell_type": "code",
   "execution_count": 149,
   "id": "10d17c7a-4be8-4810-8fec-31f968ce795a",
   "metadata": {},
   "outputs": [
    {
     "name": "stdout",
     "output_type": "stream",
     "text": [
      "True\n",
      "False\n"
     ]
    }
   ],
   "source": [
    "def wants_plain_hotdog(ketchup, mustard, onion):\n",
    "    return not (ketchup or mustard or onion)\n",
    "# #¿Por qué funciona?\n",
    "# Si alguno de los toppings es True, el or lo detecta y todo será True\n",
    "# Entonces not (...) lo invierte → devuelve False\n",
    "# Si todos los toppings son False, entonces el or da False → not False → ✅ True\n",
    "\n",
    "print(wants_plain_hotdog(False, False, False))\n",
    "print(wants_plain_hotdog(False, True, True))"
   ]
  },
  {
   "cell_type": "code",
   "execution_count": null,
   "id": "e1b50aef-e02d-4b51-bc66-7183a10ad622",
   "metadata": {},
   "outputs": [],
   "source": [
    "#be careful w function names that are very similar!!!"
   ]
  },
  {
   "cell_type": "code",
   "execution_count": 159,
   "id": "7acd2c17-4da2-42fd-b78c-a5d5b8f492b2",
   "metadata": {},
   "outputs": [
    {
     "name": "stdout",
     "output_type": "stream",
     "text": [
      "False\n",
      "True\n",
      "False\n"
     ]
    }
   ],
   "source": [
    "def exactly_one_sauce(ketchup, mustard, onion):\n",
    "    \"\"\"Return whether the customer wants either ketchup or mustard, but not both.\n",
    "    (You may be familiar with this operation under the name \"exclusive or\")\n",
    "    \"\"\"\n",
    "    return (ketchup or mustard) and not (ketchup and mustard)\n",
    "\n",
    "print(exactly_one_sauce(False, False, False))\n",
    "print(exactly_one_sauce(False, True, True))\n",
    "print(exactly_one_sauce(True, True, True))\n",
    "#when ONLY ONE!!! - \"EXCLUSIVE OR\""
   ]
  },
  {
   "cell_type": "code",
   "execution_count": 161,
   "id": "14a94442-6134-4a82-8c05-5f005e74d8e3",
   "metadata": {},
   "outputs": [
    {
     "name": "stdout",
     "output_type": "stream",
     "text": [
      "False\n",
      "True\n",
      "False\n"
     ]
    }
   ],
   "source": [
    "#another way:\n",
    "def exactly_one_sauce(ketchup, mustard, onion):\n",
    "    \"\"\"Return whether the customer wants either ketchup or mustard, but not both.\n",
    "    (You may be familiar with this operation under the name \"exclusive or\")\n",
    "    \"\"\"\n",
    "    return (ketchup and not mustard) or (mustard and not ketchup)\n",
    "\n",
    "print(exactly_one_sauce(False, False, False))\n",
    "print(exactly_one_sauce(False, True, True))\n",
    "print(exactly_one_sauce(True, True, True))"
   ]
  },
  {
   "cell_type": "code",
   "execution_count": 163,
   "id": "14ce4346-d671-453e-a1aa-a047684b74e0",
   "metadata": {},
   "outputs": [
    {
     "name": "stdout",
     "output_type": "stream",
     "text": [
      "0\n",
      "1\n",
      "0\n"
     ]
    }
   ],
   "source": [
    "#We’ve seen that calling bool() on an integer returns False if it’s equal to 0 and True otherwise. \n",
    "#What happens if we call int() on a bool? Try it out in the notebook cell below.\n",
    "\n",
    "def exactly_one_sauce(ketchup, mustard, onion):\n",
    "    \"\"\"Return whether the customer wants either ketchup or mustard, but not both.\n",
    "    (You may be familiar with this operation under the name \"exclusive or\")\n",
    "    \"\"\"\n",
    "    return int((ketchup and not mustard) or (mustard and not ketchup))\n",
    "\n",
    "print(exactly_one_sauce(False, False, False))\n",
    "print(exactly_one_sauce(False, True, True))\n",
    "print(exactly_one_sauce(True, True, True))\n"
   ]
  },
  {
   "cell_type": "code",
   "execution_count": 177,
   "id": "a1399fab-5ef7-408c-a6ff-e84a514d191f",
   "metadata": {},
   "outputs": [
    {
     "name": "stdout",
     "output_type": "stream",
     "text": [
      "False\n",
      "False\n",
      "False\n",
      "True\n"
     ]
    }
   ],
   "source": [
    "#Can you take advantage of this to write a succinct function that corresponds to the English sentence \"does the customer want exactly one topping?\"?\n",
    "def exactly_one_topping(ketchup, mustard, onion):\n",
    "    \"\"\"Return whether the customer wants exactly one of the three available toppings\n",
    "    on their hot dog.\n",
    "    \"\"\"\n",
    "    return int(ketchup)+int(mustard)+int(onion) == 1\n",
    "\n",
    "    \n",
    "print(exactly_one_topping(False, False, False))\n",
    "print(exactly_one_topping(False, True, True))\n",
    "print(exactly_one_topping(True, True, True))\n",
    "print(exactly_one_topping(True, False, False))"
   ]
  },
  {
   "cell_type": "markdown",
   "id": "f2879d83-4b86-467e-b88f-96217e717e61",
   "metadata": {},
   "source": [
    "Fun fact: we don't technically need to call int on the arguments. Just by doing addition with booleans, Python implicitly does the integer conversion. \n",
    "So we could also write...\n",
    "```\n",
    "return (ketchup + mustard + onion) == 1\n",
    "```"
   ]
  },
  {
   "cell_type": "markdown",
   "id": "bbabd5a8-14d2-42d2-8bd1-53a8e7808def",
   "metadata": {},
   "source": [
    "In this problem we'll be working with a simplified version of blackjack (aka twenty-one). In this version there is one player (who you'll control) and a dealer. Play proceeds as follows:\n",
    "\n",
    "The player is dealt two face-up cards. The dealer is dealt one face-up card.\n",
    "The player may ask to be dealt another card ('hit') as many times as they wish. If the sum of their cards exceeds 21, they lose the round immediately.\n",
    "The dealer then deals additional cards to himself until either:\n",
    "the sum of the dealer's cards exceeds 21, in which case the player wins the round\n",
    "the sum of the dealer's cards is greater than or equal to 17. If the player's total is greater than the dealer's, the player wins. Otherwise, the dealer wins (even in case of a tie).\n",
    "When calculating the sum of cards, Jack, Queen, and King count for 10. Aces can count as 1 or 11 (when referring to a player's \"total\" above, we mean the largest total that can be made without exceeding 21. So e.g. A+8 = 19, A+8+8 = 17)\n",
    "\n",
    "For this problem, you'll write a function representing the player's decision-making strategy in this game. We've provided a very unintelligent implementation below:"
   ]
  }
 ],
 "metadata": {
  "kernelspec": {
   "display_name": "Python 3 (ipykernel)",
   "language": "python",
   "name": "python3"
  },
  "language_info": {
   "codemirror_mode": {
    "name": "ipython",
    "version": 3
   },
   "file_extension": ".py",
   "mimetype": "text/x-python",
   "name": "python",
   "nbconvert_exporter": "python",
   "pygments_lexer": "ipython3",
   "version": "3.12.4"
  }
 },
 "nbformat": 4,
 "nbformat_minor": 5
}
