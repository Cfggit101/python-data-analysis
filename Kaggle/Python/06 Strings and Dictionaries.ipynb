{
 "cells": [
  {
   "cell_type": "markdown",
   "id": "017c808a-1a9f-420d-8ff0-0e95ced89786",
   "metadata": {},
   "source": [
    "**STRINGS**k\r\n"
   ]
  },
  {
   "cell_type": "markdown",
   "id": "545bec4f-3ec8-4ebe-80db-3def12789a8d",
   "metadata": {},
   "source": [
    "One place where the Python language really shines is in the manipulation of strings. This section will cover some of Python's built-in string methods and formatting operations.\n",
    "Such string manipulation patterns come up often in the context of data science work"
   ]
  },
  {
   "cell_type": "markdown",
   "id": "9f83718e-4d05-4068-b6dc-a6f650088cee",
   "metadata": {},
   "source": [
    "**String syntax**\n",
    "Strings in Python can be defined using either single or double quotations. They are functionally equivalent.\n",
    "Double quotes are convenient if your string contains a single quote character (e.g. representing an apostrophe).\n",
    "\r\n",
    "Similarly, it's easy to create a string that contains double-quotes if you wrap it in single quot\n",
    "\n",
    "If we try to put a single quote character inside a single-quoted string, Python gets confused:\r",
    "We can fix this by \"escaping\" the single quote with a backslash.\n",
    "```\n",
    "'Pluto\\'s a planet!'\r",
    "```\n",
    "\n",
    "\n",
    "\r\n",
    "es"
   ]
  },
  {
   "cell_type": "markdown",
   "id": "d2667332-493b-42a8-934e-12bed5b80ca9",
   "metadata": {},
   "source": [
    "Some *important uses of the backslash character*:\n",
    "What you type...\tWhat you get\texample\tprint(example)\n",
    "\\'\t-->\t'What\\'s up?'\tWhat's up?\n",
    "\\\"\t-->\t\"That's \\\"cool\\\"\"\tThat's \"cool\"\n",
    "\\\\\t-->\t\"Look, a mountain: /\\\\\"\tLook, a mountain: /\\\n",
    "\\n\t--> \"1\\n2 3\":\n",
    "1\n",
    "2 3 --> \\n represents the newline character: causes Python to start a new line."
   ]
  },
  {
   "cell_type": "code",
   "execution_count": 2,
   "id": "14c16451-b585-4fd0-9d30-0c93baeee5ea",
   "metadata": {},
   "outputs": [
    {
     "name": "stdout",
     "output_type": "stream",
     "text": [
      "hello\n",
      "world\n"
     ]
    }
   ],
   "source": [
    "hello = \"hello\\nworld\"\n",
    "print(hello)"
   ]
  },
  {
   "cell_type": "markdown",
   "id": "193a46f5-77d6-415c-8a42-15d570070032",
   "metadata": {},
   "source": [
    "In addition, Python's *triple quote syntax* for strings lets us include newlines literally (i.e. by just hitting 'Enter' on our keyboard, rather than using the special '\\n' sequence). We've already seen this in the docstrings we use to document our functions, but we can use them anywhere we want to define a string."
   ]
  },
  {
   "cell_type": "code",
   "execution_count": 4,
   "id": "3c828ed4-57e9-4016-813e-5f071c92d9d1",
   "metadata": {},
   "outputs": [
    {
     "name": "stdout",
     "output_type": "stream",
     "text": [
      "hello\n",
      "world\n"
     ]
    },
    {
     "data": {
      "text/plain": [
       "True"
      ]
     },
     "execution_count": 4,
     "metadata": {},
     "output_type": "execute_result"
    }
   ],
   "source": [
    "triplequoted_hello = \"\"\"hello\n",
    "world\"\"\"\n",
    "print(triplequoted_hello)\n",
    "triplequoted_hello == hello \n",
    "#the hello from last code cell --> its the same to use \"\"\" \"\"\" and \\n"
   ]
  },
  {
   "cell_type": "markdown",
   "id": "630de92e-b24c-439e-b217-eaadd6a037fb",
   "metadata": {},
   "source": [
    "The print() function automatically adds a newline character unless we specify a value for the keyword argument end other than the default value of '\\n':"
   ]
  },
  {
   "cell_type": "code",
   "execution_count": 6,
   "id": "4a90bc23-d7fe-47e9-bb3c-88904904b802",
   "metadata": {},
   "outputs": [
    {
     "name": "stdout",
     "output_type": "stream",
     "text": [
      "hello\n",
      "world\n",
      "hellopluto"
     ]
    }
   ],
   "source": [
    "print(\"hello\")\n",
    "print(\"world\")\n",
    "print(\"hello\", end='')\n",
    "print(\"pluto\", end='')"
   ]
  },
  {
   "cell_type": "markdown",
   "id": "692c3af8-eb17-431d-9d2d-0ce3cccfa714",
   "metadata": {},
   "source": [
    "**Strings are sequences**"
   ]
  },
  {
   "cell_type": "markdown",
   "id": "af31f63f-9304-4745-94b9-99da72a1f8b0",
   "metadata": {},
   "source": [
    "Strings can be thought of as sequences of characters. Almost everything we've seen that we can do to a list, we can also do to a string"
   ]
  },
  {
   "cell_type": "code",
   "execution_count": 8,
   "id": "57d27f17-60bf-457c-a6ed-799c8666b636",
   "metadata": {},
   "outputs": [
    {
     "data": {
      "text/plain": [
       "'P'"
      ]
     },
     "execution_count": 8,
     "metadata": {},
     "output_type": "execute_result"
    }
   ],
   "source": [
    "# Indexing\n",
    "planet = 'Pluto'\n",
    "planet[0]"
   ]
  },
  {
   "cell_type": "code",
   "execution_count": 10,
   "id": "7491dfa0-cfbd-4398-8e26-29215edd0e9f",
   "metadata": {},
   "outputs": [
    {
     "data": {
      "text/plain": [
       "'uto'"
      ]
     },
     "execution_count": 10,
     "metadata": {},
     "output_type": "execute_result"
    }
   ],
   "source": [
    "# Slicing\n",
    "planet[-3:]"
   ]
  },
  {
   "cell_type": "code",
   "execution_count": 20,
   "id": "0b368e25-1e4a-4131-8545-58021c86ce11",
   "metadata": {},
   "outputs": [
    {
     "data": {
      "text/plain": [
       "6"
      ]
     },
     "execution_count": 20,
     "metadata": {},
     "output_type": "execute_result"
    }
   ],
   "source": [
    "# How long is this string?\n",
    "len(planet) #is measuring variable planet, that has 'Pluto' in it --> 5\n",
    "len('planet') #is measuring the string planet"
   ]
  },
  {
   "cell_type": "code",
   "execution_count": 30,
   "id": "d4fddc01-651f-4cb0-ae73-158a880692e7",
   "metadata": {},
   "outputs": [
    {
     "name": "stdout",
     "output_type": "stream",
     "text": [
      "['P! ', 'l! ', 'u! ', 't! ', 'o! ']\n",
      "['p! ', 'l! ', 'a! ', 'n! ', 'e! ', 't! ']\n"
     ]
    }
   ],
   "source": [
    "# Yes, we can even loop over them\n",
    "print([char+'! ' for char in planet])\n",
    "print([char+'! ' for char in 'planet'])"
   ]
  },
  {
   "cell_type": "markdown",
   "id": "bec876ba-3290-4d4b-a285-1b837f253a78",
   "metadata": {},
   "source": [
    "But a major way in which they differ from lists is that they are immutable. We can't modify them.\n",
    "--> planet[0] = 'B' won't work\n",
    "planet.append doesn't work either"
   ]
  },
  {
   "cell_type": "markdown",
   "id": "21440ecc-fb6d-49aa-9a92-1f8afa0d485c",
   "metadata": {},
   "source": [
    "**String methods**"
   ]
  },
  {
   "cell_type": "code",
   "execution_count": 32,
   "id": "e3c99ac1-aafc-4ac1-8f48-1776f4333e8f",
   "metadata": {},
   "outputs": [
    {
     "data": {
      "text/plain": [
       "'PLUTO IS A PLANET!'"
      ]
     },
     "execution_count": 32,
     "metadata": {},
     "output_type": "execute_result"
    }
   ],
   "source": [
    "# ALL CAPS\n",
    "claim = \"Pluto is a planet!\"\n",
    "claim.upper()"
   ]
  },
  {
   "cell_type": "code",
   "execution_count": 34,
   "id": "954500a1-18f2-4a32-bfc9-a0861e77022f",
   "metadata": {},
   "outputs": [
    {
     "data": {
      "text/plain": [
       "'pluto is a planet!'"
      ]
     },
     "execution_count": 34,
     "metadata": {},
     "output_type": "execute_result"
    }
   ],
   "source": [
    "# all lowercase\n",
    "claim.lower()"
   ]
  },
  {
   "cell_type": "code",
   "execution_count": 36,
   "id": "04778ca3-4628-48c9-af81-4ae8062045ac",
   "metadata": {},
   "outputs": [
    {
     "data": {
      "text/plain": [
       "11"
      ]
     },
     "execution_count": 36,
     "metadata": {},
     "output_type": "execute_result"
    }
   ],
   "source": [
    "# Searching for the first index of a substring\n",
    "claim.index('plan')"
   ]
  },
  {
   "cell_type": "code",
   "execution_count": 40,
   "id": "2dfb0b35-99a0-4bb7-896a-f6bcf9fcf1d1",
   "metadata": {},
   "outputs": [
    {
     "name": "stdout",
     "output_type": "stream",
     "text": [
      "True\n"
     ]
    },
    {
     "data": {
      "text/plain": [
       "False"
      ]
     },
     "execution_count": 40,
     "metadata": {},
     "output_type": "execute_result"
    }
   ],
   "source": [
    "print(claim.startswith(planet)) #starts w Pluto --> True\n",
    "(claim.startswith('planet'))"
   ]
  },
  {
   "cell_type": "code",
   "execution_count": 42,
   "id": "6fc8e476-3dbd-40ca-94d0-49221b741204",
   "metadata": {},
   "outputs": [
    {
     "data": {
      "text/plain": [
       "False"
      ]
     },
     "execution_count": 42,
     "metadata": {},
     "output_type": "execute_result"
    }
   ],
   "source": [
    "# false because of missing exclamation mark\n",
    "claim.endswith('planet')"
   ]
  },
  {
   "cell_type": "markdown",
   "id": "524ba27f-05e3-44b6-a2fd-5b3bdb949c3e",
   "metadata": {},
   "source": [
    "**Going between strings and lists: .split() and .join()**"
   ]
  },
  {
   "cell_type": "markdown",
   "id": "d143a2bf-847c-4a3d-bf6f-059e234f3089",
   "metadata": {},
   "source": [
    "str.split() turns a string into a list of smaller strings, *breaking on whitespace* by default. This is super useful for taking you from one big string to a list of words."
   ]
  },
  {
   "cell_type": "code",
   "execution_count": 44,
   "id": "aca849e0-e914-4714-9667-e286092da583",
   "metadata": {},
   "outputs": [
    {
     "data": {
      "text/plain": [
       "['Pluto', 'is', 'a', 'planet!']"
      ]
     },
     "execution_count": 44,
     "metadata": {},
     "output_type": "execute_result"
    }
   ],
   "source": [
    "words = claim.split()\n",
    "words"
   ]
  },
  {
   "cell_type": "code",
   "execution_count": 54,
   "id": "c07b156e-5171-41c8-8383-5e8925847230",
   "metadata": {},
   "outputs": [
    {
     "name": "stdout",
     "output_type": "stream",
     "text": [
      "1956 01 31\n"
     ]
    }
   ],
   "source": [
    "# If you want to split on something other than whitespace:\n",
    "datestr = '1956-01-31'\n",
    "year, month, day = datestr.split('-')\n",
    "print(year, month, day)"
   ]
  },
  {
   "cell_type": "markdown",
   "id": "58222966-33f2-4118-a9ce-37e8f6058f48",
   "metadata": {},
   "source": [
    "str.join() takes us in the other direction, sewing a list of strings up into one long string, using the string it was called on as a separator."
   ]
  },
  {
   "cell_type": "code",
   "execution_count": 56,
   "id": "8c071818-7b0e-4e54-a9d2-da9df3b5d108",
   "metadata": {},
   "outputs": [
    {
     "data": {
      "text/plain": [
       "'01/31/1956'"
      ]
     },
     "execution_count": 56,
     "metadata": {},
     "output_type": "execute_result"
    }
   ],
   "source": [
    "'/'.join([month, day, year])"
   ]
  },
  {
   "cell_type": "code",
   "execution_count": 58,
   "id": "b46da130-6da2-47e7-b37c-8c4929d0873a",
   "metadata": {},
   "outputs": [
    {
     "data": {
      "text/plain": [
       "'PLUTO 👏 IS 👏 A 👏 PLANET!'"
      ]
     },
     "execution_count": 58,
     "metadata": {},
     "output_type": "execute_result"
    }
   ],
   "source": [
    "# Yes, we can put unicode characters right in our string literals :)\n",
    "' 👏 '.join([word.upper() for word in words])"
   ]
  },
  {
   "cell_type": "markdown",
   "id": "76ebe431-cd96-4a1d-ae27-352297b5c40a",
   "metadata": {},
   "source": [
    "**Building strings with .format()**\n",
    "Python lets us concatenate strings with the + operator.\r\n"
   ]
  },
  {
   "cell_type": "code",
   "execution_count": 62,
   "id": "54142170-e225-453a-841b-6e7c63b28ed9",
   "metadata": {},
   "outputs": [
    {
     "data": {
      "text/plain": [
       "'Pluto, we miss you.'"
      ]
     },
     "execution_count": 62,
     "metadata": {},
     "output_type": "execute_result"
    }
   ],
   "source": [
    "planet + ', we miss you.'"
   ]
  },
  {
   "cell_type": "markdown",
   "id": "80593ab3-6cb9-4d24-8c73-ad9e5bed28fb",
   "metadata": {},
   "source": [
    "If we want to throw in any non-string objects, we have to be careful to call str() on them first"
   ]
  },
  {
   "cell_type": "code",
   "execution_count": 64,
   "id": "299f71b6-a034-4bb4-8c77-f5ead1323b39",
   "metadata": {},
   "outputs": [
    {
     "data": {
      "text/plain": [
       "\"Pluto, you'll always be the 9th planet to me.\""
      ]
     },
     "execution_count": 64,
     "metadata": {},
     "output_type": "execute_result"
    }
   ],
   "source": [
    "position = 9\n",
    "planet + \", you'll always be the \" + str(position) + \"th planet to me.\""
   ]
  },
  {
   "cell_type": "markdown",
   "id": "6e91930d-dbf2-44aa-a052-702c615ab174",
   "metadata": {},
   "source": [
    "This is getting hard to read and annoying to type. str.format() to the rescue."
   ]
  },
  {
   "cell_type": "code",
   "execution_count": 66,
   "id": "c93cee41-4dbe-4794-bc72-2477ef84a3a3",
   "metadata": {},
   "outputs": [
    {
     "data": {
      "text/plain": [
       "\"Pluto, you'll always be the 9th planet to me.\""
      ]
     },
     "execution_count": 66,
     "metadata": {},
     "output_type": "execute_result"
    }
   ],
   "source": [
    "\"{}, you'll always be the {}th planet to me.\".format(planet, position)"
   ]
  },
  {
   "cell_type": "markdown",
   "id": "94e35f6d-2fd0-4aa8-a11c-3eb30d43656c",
   "metadata": {},
   "source": [
    "So much cleaner! We call .format() on a \"format string\", where the Python values we want to insert are represented with {} placeholders.\r\n",
    "--> Este método reemplaza los {} en la cadena por los valores que le pasas, en orden. Es como dejar huecos para luego rellenar con tus propias palabras o números.\n",
    "\n",
    "\r\n",
    "Notice how we didn't even have to call str() to convert position from an int. format() takes care of that for us.\r\n",
    "\r\n",
    "If that was all that format() did, it would still be incredibly useful. But as it turns out, it can do a lot more. Here's just a taste:"
   ]
  },
  {
   "cell_type": "code",
   "execution_count": 68,
   "id": "b0e2976e-a4c8-4eb5-863d-eb97659d9b89",
   "metadata": {},
   "outputs": [
    {
     "data": {
      "text/plain": [
       "\"Pluto weighs about 1.3e+22 kilograms (0.218% of Earth's mass). It is home to 52,910,390 Plutonians.\""
      ]
     },
     "execution_count": 68,
     "metadata": {},
     "output_type": "execute_result"
    }
   ],
   "source": [
    "pluto_mass = 1.303 * 10**22\n",
    "earth_mass = 5.9722 * 10**24\n",
    "population = 52910390\n",
    "#         2 decimal points   3 decimal points, format as percent     separate with commas\n",
    "\"{} weighs about {:.2} kilograms ({:.3%} of Earth's mass). It is home to {:,} Plutonians.\".format(\n",
    "    planet, pluto_mass, pluto_mass / earth_mass, population,\n",
    ")"
   ]
  },
  {
   "cell_type": "code",
   "execution_count": 72,
   "id": "d66c556f-f93f-45ea-95c0-9aa7403ac8b9",
   "metadata": {},
   "outputs": [
    {
     "name": "stdout",
     "output_type": "stream",
     "text": [
      "Pluto's a planet.\n",
      "No, it's a dwarf planet.\n",
      "planet!\n",
      "dwarf planet!\n"
     ]
    }
   ],
   "source": [
    "#Referring to format() arguments by index, starting from 0\n",
    "s = \"\"\"Pluto's a {0}.\n",
    "No, it's a {1}.\n",
    "{0}!\n",
    "{1}!\"\"\".format('planet', 'dwarf planet')\n",
    "print(s)"
   ]
  },
  {
   "cell_type": "markdown",
   "id": "635562c7-a74c-4f1b-b1a8-5a20317708dc",
   "metadata": {},
   "source": [
    "**Dictionaries**\n",
    "Dictionaries are a built-in Python data structure for mapping keys to values.\r\n"
   ]
  },
  {
   "cell_type": "code",
   "execution_count": 74,
   "id": "2893789e-56af-41f9-bf79-680562900dc7",
   "metadata": {},
   "outputs": [],
   "source": [
    "numbers = {'one':1, 'two':2, 'three':3}"
   ]
  },
  {
   "cell_type": "markdown",
   "id": "b020b065-d38c-485f-93fc-db9be493c1fd",
   "metadata": {},
   "source": [
    "In this case 'one', 'two', and 'three' are the keys, and 1, 2 and 3 are their corresponding values.\r\n",
    "\r\n",
    "Values are accessed via square bracket syntax similar to indexing into lists and strings."
   ]
  },
  {
   "cell_type": "code",
   "execution_count": 76,
   "id": "77b25276-9d84-4de3-98e9-e23164a9540c",
   "metadata": {},
   "outputs": [
    {
     "data": {
      "text/plain": [
       "1"
      ]
     },
     "execution_count": 76,
     "metadata": {},
     "output_type": "execute_result"
    }
   ],
   "source": [
    "numbers['one']"
   ]
  },
  {
   "cell_type": "code",
   "execution_count": 78,
   "id": "e0cf326d-25f8-4fef-a124-ae6e2c031851",
   "metadata": {},
   "outputs": [
    {
     "data": {
      "text/plain": [
       "{'one': 1, 'two': 2, 'three': 3, 'eleven': 11}"
      ]
     },
     "execution_count": 78,
     "metadata": {},
     "output_type": "execute_result"
    }
   ],
   "source": [
    "#We can use the same syntax to add another key, value pair\n",
    "\n",
    "numbers['eleven'] = 11\n",
    "numbers"
   ]
  },
  {
   "cell_type": "code",
   "execution_count": 80,
   "id": "bd180c9e-8b01-4797-80b5-6ab1f284c035",
   "metadata": {},
   "outputs": [
    {
     "data": {
      "text/plain": [
       "{'one': 'Pluto', 'two': 2, 'three': 3, 'eleven': 11}"
      ]
     },
     "execution_count": 80,
     "metadata": {},
     "output_type": "execute_result"
    }
   ],
   "source": [
    "#Or to change the value associated with an existing key\n",
    "\n",
    "numbers['one'] = 'Pluto'\n",
    "numbers"
   ]
  },
  {
   "cell_type": "markdown",
   "id": "b91bae4d-9fdf-485a-a6e3-b80d6021191b",
   "metadata": {},
   "source": [
    "Python has **dictionary comprehensions** with a syntax similar to the list comprehensions we saw"
   ]
  },
  {
   "cell_type": "code",
   "execution_count": 82,
   "id": "ad9055ec-1c87-4ed5-af85-d04dc29809f8",
   "metadata": {},
   "outputs": [
    {
     "data": {
      "text/plain": [
       "{'Mercury': 'M',\n",
       " 'Venus': 'V',\n",
       " 'Earth': 'E',\n",
       " 'Mars': 'M',\n",
       " 'Jupiter': 'J',\n",
       " 'Saturn': 'S',\n",
       " 'Uranus': 'U',\n",
       " 'Neptune': 'N'}"
      ]
     },
     "execution_count": 82,
     "metadata": {},
     "output_type": "execute_result"
    }
   ],
   "source": [
    "planets = ['Mercury', 'Venus', 'Earth', 'Mars', 'Jupiter', 'Saturn', 'Uranus', 'Neptune']\n",
    "planet_to_initial = {planet: planet[0] for planet in planets}\n",
    "planet_to_initial"
   ]
  },
  {
   "cell_type": "markdown",
   "id": "6645c462-2f59-47cc-b9ab-aed9ee0a7712",
   "metadata": {},
   "source": [
    "Structure:\n",
    "{clave: valor for elemento in iterable}\n",
    "clave: lo que quieres usar como la clave en tu diccionario\n",
    "valor: lo que quieres guardar asociado a esa clave\n",
    "for elemento in iterable: lo que estás recorriendo (como una lista)"
   ]
  },
  {
   "cell_type": "code",
   "execution_count": 86,
   "id": "57c6535e-6d4f-42bd-9d2e-5cbc8220c1c4",
   "metadata": {},
   "outputs": [
    {
     "name": "stdout",
     "output_type": "stream",
     "text": [
      "True\n",
      "False\n"
     ]
    }
   ],
   "source": [
    "#The in operator tells us whether something is a key in the dictionary\n",
    "print('Saturn' in planet_to_initial)\n",
    "print('Betelgeuse' in planet_to_initial)"
   ]
  },
  {
   "cell_type": "markdown",
   "id": "5387a570-5352-4952-9d71-d85253162d60",
   "metadata": {},
   "source": [
    "A for loop over a dictionary will loop **over its keys**"
   ]
  },
  {
   "cell_type": "code",
   "execution_count": 92,
   "id": "7781064a-dd3d-4bd1-94ff-db472aff7d66",
   "metadata": {},
   "outputs": [
    {
     "name": "stdout",
     "output_type": "stream",
     "text": [
      "{'one': 'Pluto', 'two': 2, 'three': 3, 'eleven': 11}\n",
      "one = Pluto\n",
      "two = 2\n",
      "three = 3\n",
      "eleven = 11\n"
     ]
    }
   ],
   "source": [
    "print(numbers) \n",
    "for k in numbers:\n",
    "    print(\"{} = {}\".format(k, numbers[k]))"
   ]
  },
  {
   "cell_type": "markdown",
   "id": "62736386-75d8-4dac-8b78-5a4c00968829",
   "metadata": {},
   "source": [
    "We can access a collection of all the keys or all the values with dict.keys() and dict.values(), respectively."
   ]
  },
  {
   "cell_type": "code",
   "execution_count": 94,
   "id": "91089fbe-36b4-40f6-9c31-c7bc8e94593d",
   "metadata": {},
   "outputs": [
    {
     "data": {
      "text/plain": [
       "'E J M M N S U V'"
      ]
     },
     "execution_count": 94,
     "metadata": {},
     "output_type": "execute_result"
    }
   ],
   "source": [
    "# Get all the initials, sort them alphabetically, and put them in a space-separated string.\n",
    "' '.join(sorted(planet_to_initial.values()))"
   ]
  },
  {
   "cell_type": "markdown",
   "id": "bc9b0e2e-d435-41de-9c2d-c1d32982c33c",
   "metadata": {},
   "source": [
    "The very useful dict.items() method lets us iterate over the keys and values of a dictionary simultaneously. (In Python jargon, an item refers to a key, value pair)"
   ]
  },
  {
   "cell_type": "code",
   "execution_count": 96,
   "id": "0078ac56-5637-4428-ac32-6fdafd59adc7",
   "metadata": {},
   "outputs": [
    {
     "name": "stdout",
     "output_type": "stream",
     "text": [
      "   Mercury begins with \"M\"\n",
      "     Venus begins with \"V\"\n",
      "     Earth begins with \"E\"\n",
      "      Mars begins with \"M\"\n",
      "   Jupiter begins with \"J\"\n",
      "    Saturn begins with \"S\"\n",
      "    Uranus begins with \"U\"\n",
      "   Neptune begins with \"N\"\n"
     ]
    }
   ],
   "source": [
    "for planet, initial in planet_to_initial.items():\n",
    "    print(\"{} begins with \\\"{}\\\"\".format(planet.rjust(10), initial))\n",
    "    #.rjust(10) toma un string (planet) y lo rellena con espacios a la izquierda \n",
    "    #hasta que tenga una longitud total de 10 caracteres."
   ]
  },
  {
   "cell_type": "code",
   "execution_count": 98,
   "id": "7c0a9e93-4924-4448-b658-d9a751f123b8",
   "metadata": {},
   "outputs": [
    {
     "name": "stdout",
     "output_type": "stream",
     "text": [
      "Help on class dict in module builtins:\n",
      "\n",
      "class dict(object)\n",
      " |  dict() -> new empty dictionary\n",
      " |  dict(mapping) -> new dictionary initialized from a mapping object's\n",
      " |      (key, value) pairs\n",
      " |  dict(iterable) -> new dictionary initialized as if via:\n",
      " |      d = {}\n",
      " |      for k, v in iterable:\n",
      " |          d[k] = v\n",
      " |  dict(**kwargs) -> new dictionary initialized with the name=value pairs\n",
      " |      in the keyword argument list.  For example:  dict(one=1, two=2)\n",
      " |\n",
      " |  Built-in subclasses:\n",
      " |      StgDict\n",
      " |\n",
      " |  Methods defined here:\n",
      " |\n",
      " |  __contains__(self, key, /)\n",
      " |      True if the dictionary has the specified key, else False.\n",
      " |\n",
      " |  __delitem__(self, key, /)\n",
      " |      Delete self[key].\n",
      " |\n",
      " |  __eq__(self, value, /)\n",
      " |      Return self==value.\n",
      " |\n",
      " |  __ge__(self, value, /)\n",
      " |      Return self>=value.\n",
      " |\n",
      " |  __getattribute__(self, name, /)\n",
      " |      Return getattr(self, name).\n",
      " |\n",
      " |  __getitem__(self, key, /)\n",
      " |      Return self[key].\n",
      " |\n",
      " |  __gt__(self, value, /)\n",
      " |      Return self>value.\n",
      " |\n",
      " |  __init__(self, /, *args, **kwargs)\n",
      " |      Initialize self.  See help(type(self)) for accurate signature.\n",
      " |\n",
      " |  __ior__(self, value, /)\n",
      " |      Return self|=value.\n",
      " |\n",
      " |  __iter__(self, /)\n",
      " |      Implement iter(self).\n",
      " |\n",
      " |  __le__(self, value, /)\n",
      " |      Return self<=value.\n",
      " |\n",
      " |  __len__(self, /)\n",
      " |      Return len(self).\n",
      " |\n",
      " |  __lt__(self, value, /)\n",
      " |      Return self<value.\n",
      " |\n",
      " |  __ne__(self, value, /)\n",
      " |      Return self!=value.\n",
      " |\n",
      " |  __or__(self, value, /)\n",
      " |      Return self|value.\n",
      " |\n",
      " |  __repr__(self, /)\n",
      " |      Return repr(self).\n",
      " |\n",
      " |  __reversed__(self, /)\n",
      " |      Return a reverse iterator over the dict keys.\n",
      " |\n",
      " |  __ror__(self, value, /)\n",
      " |      Return value|self.\n",
      " |\n",
      " |  __setitem__(self, key, value, /)\n",
      " |      Set self[key] to value.\n",
      " |\n",
      " |  __sizeof__(...)\n",
      " |      D.__sizeof__() -> size of D in memory, in bytes\n",
      " |\n",
      " |  clear(...)\n",
      " |      D.clear() -> None.  Remove all items from D.\n",
      " |\n",
      " |  copy(...)\n",
      " |      D.copy() -> a shallow copy of D\n",
      " |\n",
      " |  get(self, key, default=None, /)\n",
      " |      Return the value for key if key is in the dictionary, else default.\n",
      " |\n",
      " |  items(...)\n",
      " |      D.items() -> a set-like object providing a view on D's items\n",
      " |\n",
      " |  keys(...)\n",
      " |      D.keys() -> a set-like object providing a view on D's keys\n",
      " |\n",
      " |  pop(...)\n",
      " |      D.pop(k[,d]) -> v, remove specified key and return the corresponding value.\n",
      " |\n",
      " |      If the key is not found, return the default if given; otherwise,\n",
      " |      raise a KeyError.\n",
      " |\n",
      " |  popitem(self, /)\n",
      " |      Remove and return a (key, value) pair as a 2-tuple.\n",
      " |\n",
      " |      Pairs are returned in LIFO (last-in, first-out) order.\n",
      " |      Raises KeyError if the dict is empty.\n",
      " |\n",
      " |  setdefault(self, key, default=None, /)\n",
      " |      Insert key with a value of default if key is not in the dictionary.\n",
      " |\n",
      " |      Return the value for key if key is in the dictionary, else default.\n",
      " |\n",
      " |  update(...)\n",
      " |      D.update([E, ]**F) -> None.  Update D from dict/iterable E and F.\n",
      " |      If E is present and has a .keys() method, then does:  for k in E: D[k] = E[k]\n",
      " |      If E is present and lacks a .keys() method, then does:  for k, v in E: D[k] = v\n",
      " |      In either case, this is followed by: for k in F:  D[k] = F[k]\n",
      " |\n",
      " |  values(...)\n",
      " |      D.values() -> an object providing a view on D's values\n",
      " |\n",
      " |  ----------------------------------------------------------------------\n",
      " |  Class methods defined here:\n",
      " |\n",
      " |  __class_getitem__(...)\n",
      " |      See PEP 585\n",
      " |\n",
      " |  fromkeys(iterable, value=None, /)\n",
      " |      Create a new dictionary with keys from iterable and values set to value.\n",
      " |\n",
      " |  ----------------------------------------------------------------------\n",
      " |  Static methods defined here:\n",
      " |\n",
      " |  __new__(*args, **kwargs)\n",
      " |      Create and return a new object.  See help(type) for accurate signature.\n",
      " |\n",
      " |  ----------------------------------------------------------------------\n",
      " |  Data and other attributes defined here:\n",
      " |\n",
      " |  __hash__ = None\n",
      "\n"
     ]
    }
   ],
   "source": [
    "help(dict)"
   ]
  },
  {
   "cell_type": "markdown",
   "id": "86ef232e-586f-4ed2-bf87-11db075b3fbe",
   "metadata": {},
   "source": [
    "**EXERCISES**"
   ]
  },
  {
   "cell_type": "markdown",
   "id": "e0610a58-8734-4861-85b3-86e8057cd1ca",
   "metadata": {},
   "source": [
    "**Exercise 0**\n",
    "The empty string has length zero. Note that the empty string is also the only string that Python considers as False when converting to boolean.\n",
    "\n",
    "Keep in mind Python includes spaces (and punctuation) when counting string length.\r\n",
    "The backslash is not part of the string, so it doesn't contribute to its length.\n",
    "\n",
    "The fact that a string was created using triple-quote syntax doesn't make any difference in terms of its content or length. This string is exactly the same as 'hey'.\n",
    "\n",
    "The newline character is just a single character! (Even though we represent it to Python using a combination of two characters.)\r\n",
    "\r\n",
    "\r\n"
   ]
  },
  {
   "cell_type": "markdown",
   "id": "a2880c02-5879-47d4-8aef-7460392e5bfe",
   "metadata": {},
   "source": [
    "**Exercise 1**\n",
    "There is a saying that \"Data scientists spend 80% of their time cleaning data, and 20% of their time complaining about cleaning data.\" Let's see if you can write a function to help clean US zip code data. Given a string, it should return whether or not that string represents a valid zip code. For our purposes, a valid zip code is any string consisting of exactly 5 digits.\n",
    "HINT: `str` has a method that will be useful here. Use `help(str)` to review a list of string methods."
   ]
  },
  {
   "cell_type": "code",
   "execution_count": 136,
   "id": "0baeb135-2db4-481f-9eb9-1395a5e4ede9",
   "metadata": {},
   "outputs": [
    {
     "name": "stdout",
     "output_type": "stream",
     "text": [
      "True\n",
      "False\n"
     ]
    }
   ],
   "source": [
    "def is_valid_zip(zip_code):\n",
    "    \"\"\"Returns whether the input string is a valid (5 digit) zip code\n",
    "    \"\"\"\n",
    "    if zip_code.isdigit() and len(zip_code) == 5:\n",
    "        return True\n",
    "    return False\n",
    "\n",
    "print(is_valid_zip('12345'))\n",
    "print(is_valid_zip('1234x'))"
   ]
  },
  {
   "cell_type": "code",
   "execution_count": 122,
   "id": "dc959af3-7428-452c-a7c7-cb80637b042a",
   "metadata": {},
   "outputs": [
    {
     "name": "stdout",
     "output_type": "stream",
     "text": [
      "Help on method_descriptor:\n",
      "\n",
      "isdigit(self, /) unbound builtins.str method\n",
      "    Return True if the string is a digit string, False otherwise.\n",
      "\n",
      "    A string is a digit string if all characters in the string are digits and there\n",
      "    is at least one character in the string.\n",
      "\n"
     ]
    }
   ],
   "source": [
    "help(str.isdigit)\n",
    "# #Es un método de strings (str) que responde a la pregunta:\n",
    "# ¿Esta cadena está compuesta solo por dígitos?\n",
    "# True → si todos los caracteres son dígitos y hay al menos uno.\n",
    "# False → si hay letras, espacios, signos u otros símbolos."
   ]
  },
  {
   "cell_type": "code",
   "execution_count": 138,
   "id": "0972f735-3933-482d-bc8e-24e45123ddab",
   "metadata": {},
   "outputs": [
    {
     "name": "stdout",
     "output_type": "stream",
     "text": [
      "True\n",
      "False\n"
     ]
    }
   ],
   "source": [
    "#directly:\n",
    "def is_valid_zip(zip_code):\n",
    "    \"\"\"Returns whether the input string is a valid (5 digit) zip code\n",
    "    \"\"\"\n",
    "    return zip_code.isdigit() and len(zip_code) == 5\n",
    "\n",
    "print(is_valid_zip('12345'))\n",
    "print(is_valid_zip('1234x'))"
   ]
  },
  {
   "cell_type": "markdown",
   "id": "20405a41-75c9-45ce-9f18-c7346f601afc",
   "metadata": {},
   "source": [
    "**Exercise 2**\n",
    "A researcher has gathered thousands of news articles. But she wants to focus her attention on articles including a specific word. Complete the function below to help her filter her list of articles.\r\n",
    "\r\n",
    "Your function should meet the following criteria:\r\n",
    "\r\n",
    "Do not include documents where the keyword string shows up only as a part of a larger word. For example, if she were looking for the keyword “closed”, you would not include the string “enclosed.”\r\n",
    "She does not want you to distinguish upper case from lower case letters. So the phrase “Closed the case.” would be included when the keyword is “closed”\r\n",
    "Do not let periods or commas affect what is matched. “It is closed.” would be included when the keyword is “closed”. But you can assume there are no other types of punctuation."
   ]
  },
  {
   "cell_type": "markdown",
   "id": "9dc8ae34-26a8-428f-a973-b97d0da047b9",
   "metadata": {},
   "source": [
    "El método .strip() elimina los espacios en blanco del inicio y del final de una cadena (no los del medio). También puedes pasarle una lista de caracteres que quieras quitar del inicio y del final\n",
    "\n",
    ".split() vs .rsplit()\n",
    "Ambos métodos dividen una cadena en partes, pero:\n",
    ".split() 👉 empieza a cortar desde la izquierda (inicio de la cadena).\n",
    ".rsplit() 👉 empieza a cortar desde la derecha (final de la cadena)."
   ]
  },
  {
   "cell_type": "markdown",
   "id": "0d004bb8-fa3d-4b66-8267-da253839ef97",
   "metadata": {},
   "source": [
    "**enumerate()** — para listas (y secuencias)\n",
    "Usamos enumerate() cuando queremos iterar sobre una lista y tener acceso tanto al índice como al elemento\n",
    "**.items()** — para diccionarios\n",
    "Usamos .items() cuando estamos iterando sobre un diccionario y queremos acceder a la clave y su valor\n",
    "\n",
    "🧠 Analogía rápida\n",
    "enumerate(lista) → te da (índice, valor) - para listas\n",
    "diccionario.items() → te da (clave, valor) - para diccionarios"
   ]
  },
  {
   "cell_type": "code",
   "execution_count": 105,
   "id": "9562c184-7c7b-4f8d-bb02-638a4b275c57",
   "metadata": {},
   "outputs": [
    {
     "name": "stdout",
     "output_type": "stream",
     "text": [
      "[0, 1]\n"
     ]
    }
   ],
   "source": [
    "def word_search(doc_list, keyword):\n",
    "    \"\"\"\n",
    "    Takes a list of documents (each document is a string) and a keyword. \n",
    "    Returns list of the index values into the original list for all documents \n",
    "    containing the keyword.\n",
    "\n",
    "    Example:\n",
    "    doc_list = [\"The Learn Python Challenge Casino.\", \"They bought a car\", \"Casinoville\"]\n",
    "    >>> word_search(doc_list, 'casino')\n",
    "    >>> [0]\n",
    "    \"\"\"\n",
    "    #convert keyword to lowercase:\n",
    "    keyword = keyword.lower()\n",
    "\n",
    "    #split each string inside the list into lists were each argument is the words separated:\n",
    "    separated = [str.split() for str in doc_list]\n",
    "\n",
    "    #convert to lower and strip each word to be able to compare it later to keyword\n",
    "    #for x in separated: --> don't need this!!! cos the comprehension is already doing it!!!\n",
    "    cleaned = [[y.lower().strip('.,') for y in x] for x in separated]\n",
    "\n",
    "    #create 'result' with the index of the list that contains the keyword\n",
    "    return [cleaned.index(x) for x in cleaned if (keyword in x)]\n",
    "\n",
    "doc_list = [\"The Learn Python Challenge Casino.\", \"They bought a casino\", \"Casinoville\"]\n",
    "print(word_search(doc_list, 'Casino'))\n",
    "\n",
    "#only problem with these is the scenario in which you've got two same strings inside doc_list, so index gets substituted and remains with the lats one and doesn't register the other one"
   ]
  },
  {
   "cell_type": "code",
   "execution_count": null,
   "id": "49545bee-0a42-416c-a887-64606bc3a8ab",
   "metadata": {},
   "outputs": [],
   "source": [
    "#Solution\n",
    "def word_search(doc_list, keyword):\r\n",
    "    # list to hold the indices of matching documents\r\n",
    "    indices = [] \r\n",
    "    # Iterate through the indices (i) and elements (doc) of documents\r\n",
    "    for i, doc in enumerate(doc_list):\r\n",
    "        # Split the string doc into a list of words (according to whitespace)\r\n",
    "        tokens = doc.split()\r\n",
    "        # Make a transformed list where we 'normalize' each word to facilitate matching.\r\n",
    "        # Periods and commas are removed from the end of each word, and it's set to all lowercase.\r\n",
    "        normalized = [token.rstrip('.,').lower() for token in tokens]\r\n",
    "        # Is there a match? If so, update the list of matching indices.\r\n",
    "        if keyword.lower() in normalized:\r\n",
    "            indices.appnd(i)\r\n",
    "    r\n",
    "\n",
    "\n",
    "doc_list = [\"The Learn Python Challenge Casino.\", \"They bought a casino\", \"Casinoville\"]\n",
    "print(word_search(doc_list, 'Casino'))eturn indices"
   ]
  },
  {
   "cell_type": "markdown",
   "id": "0125a87f-4699-467c-9d27-fe1e8c43ab9c",
   "metadata": {},
   "source": [
    "**Exercise 3:**\n",
    "Now the researcher wants to supply multiple keywords to search for. Complete the function below to help her.\r\n",
    "\r\n",
    "(You're encouraged to use the word_search function you just wrote when implementing this function. Reusing code in this way makes your programs more robust and readable - and it saves typing!)"
   ]
  },
  {
   "cell_type": "code",
   "execution_count": 115,
   "id": "a9f54670-c471-4dbe-98c7-ccc29033df29",
   "metadata": {},
   "outputs": [
    {
     "data": {
      "text/plain": [
       "{'casino': [0, 1], 'they': [1], 'banana': []}"
      ]
     },
     "execution_count": 115,
     "metadata": {},
     "output_type": "execute_result"
    }
   ],
   "source": [
    "def multi_word_search(doc_list, keywords):\n",
    "    \"\"\"\n",
    "    Takes list of documents (each document is a string) and a list of keywords.  \n",
    "    Returns a dictionary where each key is a keyword, and the value is a list of indices\n",
    "    (from doc_list) of the documents containing that keyword\n",
    "\n",
    "    >>> doc_list = [\"The Learn Python Challenge Casino.\", \"They bought a car and a casino\", \"Casinoville\"]\n",
    "    >>> keywords = ['casino', 'they']\n",
    "    >>> multi_word_search(doc_list, keywords)\n",
    "    {'casino': [0, 1], 'they': [1]}\n",
    "    \"\"\"\n",
    "    #for key in keywords: --> NOT NECESARY!!! The comprehension already does it!!!\n",
    "    return {keyword: word_search(doc_list, keyword) for keyword in keywords}\n",
    "\n",
    "doc_list = [\"The Learn Python Challenge Casino casino.\", \"They bought a car and a casino\", \"Casinoville\"]\n",
    "keywords = ['casino', 'they','banana']\n",
    "multi_word_search(doc_list, keywords)"
   ]
  },
  {
   "cell_type": "code",
   "execution_count": 123,
   "id": "f7fad4c9-a03b-4b52-9db0-1b83d4aeb16a",
   "metadata": {},
   "outputs": [
    {
     "data": {
      "text/plain": [
       "{'casino': [0, 1], 'they': [1], 'banana': []}"
      ]
     },
     "execution_count": 123,
     "metadata": {},
     "output_type": "execute_result"
    }
   ],
   "source": [
    "#Solution:\n",
    "def multi_word_search(documents, keywords):\n",
    "    keyword_to_indices = {}\n",
    "    for keyword in keywords:\n",
    "        keyword_to_indices[keyword] = word_search(documents, keyword) #creates dictionary with keyword as key and value = result from using the funcion\n",
    "    return keyword_to_indices\n",
    "    \n",
    "doc_list = [\"The Learn Python Challenge Casino casino.\", \"They bought a car and a casino\", \"Casinoville\"]\n",
    "keywords = ['casino', 'they','banana']\n",
    "multi_word_search(doc_list, keywords)"
   ]
  },
  {
   "cell_type": "code",
   "execution_count": null,
   "id": "67b3bf00-92df-4843-b271-28864207e23a",
   "metadata": {},
   "outputs": [],
   "source": []
  }
 ],
 "metadata": {
  "kernelspec": {
   "display_name": "Python 3 (ipykernel)",
   "language": "python",
   "name": "python3"
  },
  "language_info": {
   "codemirror_mode": {
    "name": "ipython",
    "version": 3
   },
   "file_extension": ".py",
   "mimetype": "text/x-python",
   "name": "python",
   "nbconvert_exporter": "python",
   "pygments_lexer": "ipython3",
   "version": "3.12.4"
  }
 },
 "nbformat": 4,
 "nbformat_minor": 5
}
