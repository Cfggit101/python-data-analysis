{
 "cells": [
  {
   "cell_type": "markdown",
   "id": "c4c9d9ba-1df2-4638-affa-0c8adf41575a",
   "metadata": {},
   "source": [
    "**INDEXING, SELECTING & ASSIGNING**\n"
   ]
  },
  {
   "cell_type": "markdown",
   "id": "a7721576-af07-450a-b77a-740c445dec87",
   "metadata": {},
   "source": [
    "**Introduction**"
   ]
  },
  {
   "cell_type": "markdown",
   "id": "03df2ba5-dec6-48f2-b49f-f038c0cca290",
   "metadata": {},
   "source": [
    "Selecting specific values of a pandas DataFrame or Series to work on is an implicit step in almost any data operation you'll run, so one of the first things you need to learn in working with data in Python is how to go about selecting the data points relevant to you quickly and effectively"
   ]
  },
  {
   "cell_type": "markdown",
   "id": "08516e59-8b31-4fe7-961a-1e35f6d11a2f",
   "metadata": {},
   "source": [
    "**Native accessors**"
   ]
  },
  {
   "cell_type": "markdown",
   "id": "1cd78dea-0786-4908-b2e1-0640002653a2",
   "metadata": {},
   "source": [
    "Native Python objects provide good ways of indexing data. Pandas carries all of these over, which helps make it easy to start with.\r\n"
   ]
  },
  {
   "cell_type": "markdown",
   "id": "2bb52c06-867c-46ed-af2e-af3d575400e4",
   "metadata": {},
   "source": [
    "Consider a DataFrame. In Python, we can access the property of an object by accessing it as an attribute. A book object, for example, might have a title property, which we can access by calling book.title. Columns in a pandas DataFrame work in much the same way.\r",
    "Hence to access the country property of reviews we can use:\r",
    "```\n",
    "reviews.country\n",
    "```\r\n",
    "If we have a Python dictionary, we can access its values using the indexing ([]) operator. We can do the same with columns in a DataFrame:\r\n",
    "```\n",
    "reviews['country']\n",
    "```\r",
    "These are the two ways of selecting a specific Series out of a DataFrame. Neither of them is more or less syntactically valid than the other, but the indexing operator [] does have the advantage that it can handle column names with reserved characters in them (e.g. if we had a country providence column, reviews.country providence wouldn't work).\n",
    "\r\n",
    "\r\n",
    "\n",
    "\r\n"
   ]
  },
  {
   "cell_type": "markdown",
   "id": "3fd882b4-b681-409b-8e12-5c2d53d1a1d5",
   "metadata": {},
   "source": [
    "Doesn't a pandas Series look kind of like a fancy dictionary? It pretty much is, so it's no surprise that, to drill down to a single specific value, we need only use the indexing operator [] once more:\r",
    "```\n",
    "reviews['country'][0]\n",
    "\r\n"
   ]
  },
  {
   "cell_type": "markdown",
   "id": "4aa45cbf-cd47-44e5-b552-7e18cde0429f",
   "metadata": {},
   "source": [
    "**Indexing in pandas**\n"
   ]
  },
  {
   "cell_type": "markdown",
   "id": "84d38c53-0c95-4fed-8919-cd82ca283706",
   "metadata": {},
   "source": [
    "The indexing operator and attribute selection are nice because they work just like they do in the rest of the Python ecosystem. As a novice, this makes them easy to pick up and use. However, pandas has its own accessor operators, loc and iloc. For more advanced operations, these are the ones you're supposed to be using."
   ]
  },
  {
   "cell_type": "markdown",
   "id": "b4de80f6-e2d9-432f-80a2-b355c8b41176",
   "metadata": {},
   "source": [
    "*Index-based selection*"
   ]
  },
  {
   "cell_type": "markdown",
   "id": "83a22c96-8745-46ab-b85c-f46322cf716e",
   "metadata": {},
   "source": [
    "Pandas indexing works in one of two paradigms. The first is index-based selection: selecting data based on its numerical position in the data. iloc follows this paradigm."
   ]
  },
  {
   "cell_type": "markdown",
   "id": "2692a47b-2aeb-48e8-ae92-5f65c2dcca2e",
   "metadata": {},
   "source": [
    "To select the first row of data in a DataFrame, we may use the following:\n",
    "```\n",
    "reviews.iloc[0]\n"
   ]
  },
  {
   "cell_type": "markdown",
   "id": "e3944b94-c8d4-4083-afbf-376e200c108a",
   "metadata": {},
   "source": [
    "Both loc and iloc are *row-first, column-second*. This is the opposite of what we do in native Python, which is column-first, row-second."
   ]
  },
  {
   "cell_type": "markdown",
   "id": "7627b62c-b3de-4a1c-b95f-7694e4a3fc7d",
   "metadata": {},
   "source": [
    "This means that it's marginally easier to retrieve rows, and marginally harder to get retrieve columns. To get a column with iloc, we can do the following:\n",
    "```\n",
    "reviews.iloc[:, 0] --> this would select all the column 0 (all the rows)\n",
    "```\n",
    "On its own, the : operator, which also comes from native Python, means \"everything\". When combined with other selectors, however, it can be used to indicate a range of values. For example, to select the country column from just the first, second, and third row, we would do:\n",
    "```\n",
    "reviews.iloc[:3, 0] --> this would select rows 0 to 3 of column 0\n",
    "```\n",
    "Or, to select just the second and third entries, we would do:\r",
    "```\n",
    "reviews.iloc[1:3, 0] --> selects rows 1 (2º entry) and 2 (3º entry) of column 0 \r",
    "```\n",
    "It's also possible to pass a list:\n",
    "```\n",
    "reviews.iloc[[0, 1, 2], 0] ---> selects 0,1,2 of column 0\r",
    "```\n",
    "Finally, it's worth knowing that negative numbers can be used in selection. This will start counting forwards from the end of the values. So for example here are the last five elements of the dataset.\n",
    "```\n",
    "reviews.iloc[-5:]\r",
    "```\n",
    "\n",
    "\r\n",
    "\r\n",
    "\n",
    "\r\n"
   ]
  },
  {
   "cell_type": "markdown",
   "id": "4e21b8d1-cc03-4333-ba8d-a1afcc76a7d3",
   "metadata": {},
   "source": [
    "**Label-based selection**\n"
   ]
  },
  {
   "cell_type": "markdown",
   "id": "2f1927e5-6dcf-4ba7-a165-52dd823f1f29",
   "metadata": {},
   "source": [
    "The second paradigm for attribute selection is the one followed by the loc operator: label-based selection. In this paradigm, it's the data index value, not its position, which matters."
   ]
  },
  {
   "cell_type": "markdown",
   "id": "106c8e11-34ed-4645-adc8-dd10d39f400d",
   "metadata": {},
   "source": [
    "For example, to get the first entry in reviews, we would now do the following:\n",
    "```\n",
    "reviews.loc[0, 'country']\n",
    "\n",
    "```\n",
    "\r\n"
   ]
  },
  {
   "cell_type": "markdown",
   "id": "61aca2d9-bb9c-4dbb-9875-4e13344007e2",
   "metadata": {},
   "source": [
    "iloc is conceptually simpler than loc because it ignores the dataset's indices. When we use iloc we treat the dataset like a big matrix (a list of lists), one that we have to index into by position. loc, by contrast, uses the information in the indices to do its work. Since your dataset usually has meaningful indices, it's usually easier to do things using loc instead. For example, here's one operation that's much easier using loc:\n",
    "```\n",
    "reviews.loc[:, ['taster_name', 'taster_twitter_handle', 'points']]\n",
    "```\n"
   ]
  },
  {
   "cell_type": "markdown",
   "id": "320fbc50-40a0-4546-9b0f-8d1436a45c1d",
   "metadata": {},
   "source": [
    "**Choosing between loc and iloc**\n"
   ]
  },
  {
   "cell_type": "markdown",
   "id": "c485e5a6-5cc6-46ec-8b97-233eab167960",
   "metadata": {},
   "source": [
    "When choosing or transitioning between loc and iloc, there is one \"gotcha\" worth keeping in mind, which is that the two methods use slightly different indexing schemes.\r\n",
    "\r\n",
    "iloc uses the Python stdlib indexing scheme, where the first element of the range is included and the last one excluded. So 0:10 will select entries 0,...,9. loc, meanwhile, indexes inclusively. So 0:10 will select entries 0,...,10.\r\n",
    "\r\n",
    "Why the change? Remember that loc can index any stdlib type: strings, for example. If we have a DataFrame with index values Apples, ..., Potatoes, ..., and we want to select \"all the alphabetical fruit choices between Apples and Potatoes\", then it's a lot more convenient to index df.loc['Apples':'Potatoes'] than it is to index something like df.loc['Apples', 'Potatoet'] (t coming after s in the alphabet).\r\n",
    "\r\n",
    "This is particularly confusing when the DataFrame index is a simple numerical list, e.g. 0,...,1000. In this case df.iloc[0:1000] will return 1000 entries, while df.loc[0:1000] return 1001 of them! To get 1000 elements using loc, you will need to go one lower and ask for df.loc[0\n",
    "\n",
    "Otherwise, the semantics of using loc are the same as those for iloc.\r\n",
    ":999]."
   ]
  },
  {
   "cell_type": "markdown",
   "id": "29421bb8-34e6-4a2e-ad82-5ee4464e6b9c",
   "metadata": {},
   "source": [
    "**Manipulating the index**\n"
   ]
  },
  {
   "cell_type": "markdown",
   "id": "51f60354-aba3-4a53-87d4-211a804f3708",
   "metadata": {},
   "source": [
    "Label-based selection derives its power from the labels in the index. Critically, the index we use is not immutable. We can manipulate the index in any way we see fit.\n",
    "\n",
    "The set_index() method can be used to do the job. Here is what happens when we set_index to the title field:\n",
    "```\n",
    "reviews.set_index(\"title\") --> This way now the index is the column 'title'\n",
    "```\n",
    "This is useful if you can come up with an index for the dataset which is better than the current one.\r\n"
   ]
  },
  {
   "cell_type": "markdown",
   "id": "272dbf8c-1d03-4d72-adfd-0c5a70163604",
   "metadata": {},
   "source": [
    "**Conditional selection**"
   ]
  },
  {
   "cell_type": "markdown",
   "id": "9c01a162-8991-44ac-ba7c-5b3a95426801",
   "metadata": {},
   "source": [
    "So far we've been indexing various strides of data, using structural properties of the DataFrame itself. To do interesting things with the data, however, we often need to ask questions based on conditions.\n",
    "For example, suppose that we're interested specifically in better-than-average wines produced in Italy.\r",
    "We can start by checking if each wine is Italian or not:\r",
    "```\n",
    "reviews.country == 'Italy'\r",
    "```\n",
    "This operation produced a Series of True/False booleans based on the country of each record. This result can then be used inside of loc to select the relevant data:\r",
    "```\n",
    "reviews.loc[reviews.country == 'Italy']\r",
    "```\n",
    "This DataFrame has ~20,000 rows. The original had ~130,000. That means that around 15% of wines originate from Italy.\r\n",
    "\r\n",
    "We also wanted to know which ones are better than average. Wines are reviewed on a 80-to-100 point scale, so this could mean wines that accrued at least 90 points.\r\n",
    "\r\n",
    "We can use **the ampersand** (&) to bring the two questions toget\n",
    "```\n",
    "reviews.loc[(reviews.country == 'Italy') & (reviews.points >= 90)]\n",
    "```\n",
    "Suppose we'll buy any wine that's made in Italy or which is rated above average. For this we use a **pipe (|)**:\r",
    "```\n",
    "reviews.loc[(reviews.country == 'Italy') | (reviews.points >= 90)]\r",
    "```\r\n",
    "\r\n",
    "her:\n",
    "\r\n",
    "\r\n",
    "\n",
    "\r\n"
   ]
  },
  {
   "cell_type": "markdown",
   "id": "edc8d560-7f4a-4c7d-bee3-82a46f0c0fa8",
   "metadata": {},
   "source": [
    "Pandas comes with a few **built-in conditional selectors**, two of which we will highlight here.\r",
    "The first is *isin*. isin is lets you select data whose value \"is in\" a list of values. For example, here's how we can use it to select wines only from Italy or France:\n",
    "```\n",
    "reviews.loc[reviews.country.isin(['Italy', 'France'])]\n",
    "```\n",
    "The second is *isnull* (and its companion notnull). These methods let you highlight values which are (or are not) empty (NaN). For example, to filter out wines lacking a price tag in the dataset, here's what we would do:\r",
    "```\n",
    "reviews.loc[reviews.price.notnull()]\r",
    "```\n",
    "\r\n",
    "\n",
    "\n",
    "\r\n"
   ]
  },
  {
   "cell_type": "markdown",
   "id": "8162f0ac-ed50-48df-96a5-35d0f91fa0c8",
   "metadata": {},
   "source": [
    "**Assigning data**\r\n",
    "\n"
   ]
  },
  {
   "cell_type": "markdown",
   "id": "55d0808e-fe68-4550-8fbc-a38fd8e4b211",
   "metadata": {},
   "source": [
    "Going the other way, assigning data to a DataFrame is easy. You can assign either a constant value:\n",
    "```\n",
    "reviews['critic'] = 'everyone'\r\n",
    "reviews['critic'\n",
    "```\n",
    "Or with an iterable of values:\r",
    "```\n",
    "reviews['index_backwards'] = range(len(reviews), 0, -1)\r\n",
    "reviews['index_backwards'\n",
    "```\n",
    "La función range(inicio, fin, paso) genera una secuencia de números:\n",
    "inicio: empieza en len(reviews) → o sea, en la cantidad de filas que tiene el DataFrame.\n",
    "fin: termina justo antes de 0 (por eso no incluye el 0).\n",
    "paso: va de -1 en -1, o sea, hacia atrás.]\r\n",
    "]"
   ]
  },
  {
   "cell_type": "markdown",
   "id": "e2556211-0d43-4e71-b614-e2b1086a69b3",
   "metadata": {},
   "source": [
    "**EXERCISES**\n",
    "In general, when we select a single column from a DataFrame, we'll get a Series."
   ]
  },
  {
   "cell_type": "code",
   "execution_count": null,
   "id": "a866d6b2-86fb-4907-957b-99b7c01aeebe",
   "metadata": {},
   "outputs": [],
   "source": [
    "#To retrieve a first value of a column there are many options such as:\n",
    "reviews.description.iloc[0]\n",
    "reviews.description.loc[0]\n",
    "reviews.description[0]"
   ]
  },
  {
   "cell_type": "markdown",
   "id": "ab1717c4-9eed-4df6-8833-1256c58665e1",
   "metadata": {},
   "source": [
    "To obtain a specific entry (corresponding to column column and row i) in a DataFrame table, we can call table.column.iloc[i]. Remember that Python indexing starts at 0!"
   ]
  },
  {
   "cell_type": "markdown",
   "id": "7cfeb498-30b0-439d-b93b-81854e464888",
   "metadata": {},
   "source": [
    "#To obtain a specific row of a DataFrame, we can use the iloc operator\n",
    "first_row = reviews.iloc[0,:]"
   ]
  },
  {
   "cell_type": "code",
   "execution_count": null,
   "id": "f05d2a62-1857-4055-93d9-860ad54daa28",
   "metadata": {},
   "outputs": [],
   "source": [
    "first_descriptions = pd.Series(reviews.iloc[:10,1])\n",
    "#remember to put the colon ':' to select all down to...\n",
    "#other options:\n",
    "first_descriptions = desc.head(10)\n",
    "first_descriptions = reviews.loc[:9, \"description\"]\n",
    "first_descriptions = reviews.description.iloc[:10]"
   ]
  },
  {
   "cell_type": "code",
   "execution_count": null,
   "id": "6807f2c7-7f6d-44dd-8209-f02d286a2503",
   "metadata": {},
   "outputs": [],
   "source": [
    "#same result, but w iloc ive gotta know the position of the columns i want\n",
    "#it would require extra effort to convert each column name to a corresponding integer-valued index\n",
    "df = reviews.loc[[0,1,10,100],[\"country\",\"province\",\"region_1\",\"region_2\"]]\n",
    "df = reviews.iloc[[0,1,10,100], [0,5,6,7]]"
   ]
  },
  {
   "cell_type": "code",
   "execution_count": null,
   "id": "0db9f6aa-48e0-4203-8e1c-03394041456c",
   "metadata": {},
   "outputs": [],
   "source": [
    "#REMEMBER THAT WHEN USING LOC IT WILL RETRIVE INCLUDING THE INDEXES INDICATED,\n",
    "#WHEREAS ILOC WILL INCLUDE THE FIRST BUT NOT THE LAST INDICATED\n",
    "#Create a variable `df` containing the `country` and `variety` columns of the first 100 records. \n",
    "df = pd.DataFrame(reviews.loc[:99,[\"country\",\"variety\"]])\n",
    "df = pd.DataFrame(reviews.iloc[:100,[0,-2]])"
   ]
  },
  {
   "cell_type": "code",
   "execution_count": null,
   "id": "aef8a92f-a60b-4340-89bb-369f26c83553",
   "metadata": {},
   "outputs": [],
   "source": [
    "#Conditional indexing:\n",
    "italian_wines = pd.DataFrame(reviews.loc[reviews.country == \"Italy\"])\n",
    "#GOTTA USE [] AND PASS IT TO LOC!!! IF I DONT, IT JUST IS A LIST OF TRUE/FALSE!!!\n",
    "#Other option:\n",
    "italian_wines = reviews[reviews.country == 'Italy'] #PASS IT WITH [] EITHERWAY!!!"
   ]
  },
  {
   "cell_type": "markdown",
   "id": "98870cfd-cd03-4236-b33b-5f74bd005052",
   "metadata": {},
   "source": [
    "Create a DataFrame `top_oceania_wines` containing all reviews with at least 95 points (out of 100) for wines from Australia or New Zealand:"
   ]
  },
  {
   "cell_type": "code",
   "execution_count": null,
   "id": "8a7ad2eb-5f32-4f35-88a6-515773887446",
   "metadata": {},
   "outputs": [],
   "source": [
    "top_oceania_wines = pd.DataFrame(reviews[(reviews.points >= 95) & ((reviews.country == \"Australia\") | (reviews.country == \"New Zealand\"))])\n",
    "#or:\n",
    "reviews[(reviews.country.isin(['New Zealand',\"Australia\"])) & (reviews.points >= 95)]\n",
    "#got to put ([]) for .isin!!!\n",
    "#and also gotta put () around each condition when using '&' or '|'!!!"
   ]
  },
  {
   "cell_type": "code",
   "execution_count": null,
   "id": "70ddc6a3-7ac9-407d-aa10-e479a9c44d34",
   "metadata": {},
   "outputs": [],
   "source": []
  }
 ],
 "metadata": {
  "kernelspec": {
   "display_name": "Python 3 (ipykernel)",
   "language": "python",
   "name": "python3"
  },
  "language_info": {
   "codemirror_mode": {
    "name": "ipython",
    "version": 3
   },
   "file_extension": ".py",
   "mimetype": "text/x-python",
   "name": "python",
   "nbconvert_exporter": "python",
   "pygments_lexer": "ipython3",
   "version": "3.12.4"
  }
 },
 "nbformat": 4,
 "nbformat_minor": 5
}
