{
 "cells": [
  {
   "cell_type": "markdown",
   "id": "0985c186-a415-49cf-9463-d7bf033609cf",
   "metadata": {},
   "source": [
    "**GROUPING AND SORTING**\n",
    "Maps allow us to transform data in a DataFrame or Series one value at a time for an entire column. However, **often we want to group our data, and then do something specific to the group the data is in**\n",
    "As you'll learn, we do this with the **groupby()** operation. We'll also cover some additional topics, such as more complex ways to index your DataFrames, along with how to sort your data."
   ]
  },
  {
   "cell_type": "markdown",
   "id": "70e1cd06-d604-4d73-a2b7-e3ccee101d6a",
   "metadata": {},
   "source": [
    "**Groupwise analysis**"
   ]
  },
  {
   "cell_type": "markdown",
   "id": "49a480c7-8c42-4ee4-bd44-f47bc1491155",
   "metadata": {},
   "source": [
    "One function we've been using heavily thus far is the value_counts() function. We can replicate what value_counts() does by doing the following:"
   ]
  },
  {
   "cell_type": "code",
   "execution_count": null,
   "id": "8348b395-30a6-4a4f-900f-1ebce48a7370",
   "metadata": {},
   "outputs": [],
   "source": [
    "reviews.groupby('points').points.count()"
   ]
  },
  {
   "cell_type": "markdown",
   "id": "093ce0f8-ad5b-4791-bc7f-dfe06b1f8d09",
   "metadata": {},
   "source": [
    "groupby() created a group of reviews which allotted the same point values to the given wines. Then, for each of these groups, we grabbed the points() column and counted how many times it appeared. value_counts() is just a shortcut to this groupby() operation."
   ]
  },
  {
   "cell_type": "markdown",
   "id": "86565760-7a02-4ff4-95e8-e66831d9ede4",
   "metadata": {},
   "source": [
    "groupby('points'): agrupa el DataFrame por el valor de la columna 'points'.\n",
    ".points: selecciona la columna 'points' dentro de cada grupo.\n",
    ".count(): cuenta cuántas veces aparece ese valor en cada grupo. Solo cuenta valores NO NULOS (NaN)!!!\n",
    "--> ¿Por qué usar .points.count() y no cualquier otra columna?\n",
    "Porque si agrupas por 'points', y luego cuentas 'points', solo estás contando las filas donde 'points' realmente estaba presente (no era NaN).\n",
    "--> Es más seguro y más lógico, porque estás contando lo mismo que usaste para agrupar.\n",
    "\n",
    "Conclusión\n",
    "Siempre que agrupes por una columna, lo más coherente es contar esa misma columna. Así evitas errores si hay valores nulos en otras."
   ]
  },
  {
   "cell_type": "markdown",
   "id": "7007d1bd-80df-4071-b3db-e2045f29bbff",
   "metadata": {},
   "source": [
    "We can use any of the summary functions we've used before with this data. For example, to get the cheapest wine in each point value category, we can do the following:"
   ]
  },
  {
   "cell_type": "code",
   "execution_count": null,
   "id": "adb2b527-ac67-458f-bfa3-ae7dce78141a",
   "metadata": {},
   "outputs": [],
   "source": [
    "reviews.groupby('points').price.min()\n",
    "#groups by points, and te¡hen from each group, it grabs the min price"
   ]
  },
  {
   "cell_type": "markdown",
   "id": "f23bfcf0-2d8e-4d41-9e92-eea2be2d9439",
   "metadata": {},
   "source": [
    "You can think of each group we generate as being a slice of our DataFrame containing only data with values that match. This DataFrame is accessible to us directly using the apply() method, and we can then manipulate the data in any way we see fit. For example, here's one way of selecting the name of the first wine reviewed from each winery in the dataset:\n"
   ]
  },
  {
   "cell_type": "code",
   "execution_count": null,
   "id": "b2aece46-d7ba-4eab-8f9e-7c6bdaa68123",
   "metadata": {},
   "outputs": [],
   "source": [
    "reviews.groupby('winery').apply(lambda df: df.title.iloc[0])"
   ]
  },
  {
   "cell_type": "markdown",
   "id": "0c43974e-d35a-4f3b-a921-8f94dfde5bc9",
   "metadata": {},
   "source": [
    "For even more fine-grained control, you can also group by more than one column. For an example, here's how we would pick out the best wine by country and province:"
   ]
  },
  {
   "cell_type": "code",
   "execution_count": null,
   "id": "3e104758-41d5-41cd-bc86-d8e21699338a",
   "metadata": {},
   "outputs": [],
   "source": [
    "reviews.groupby(['country','province']).apply(lambda df: df.loc[df.points.idxmax()])\n",
    "# groups by country and province, and then from each group selects the wine with highest points (retrieves all info about it!!!)"
   ]
  },
  {
   "cell_type": "markdown",
   "id": "d0c1f0d5-fb43-4ed9-a046-93a3fe5f1a57",
   "metadata": {},
   "source": [
    "Another groupby() method worth mentioning is agg(), which lets you run a bunch of different functions on your DataFrame simultaneously. For example, we can generate a simple statistical summary of the dataset as follows:"
   ]
  },
  {
   "cell_type": "code",
   "execution_count": null,
   "id": "3a5fe904-10db-4575-bac7-b0a656a26a9f",
   "metadata": {},
   "outputs": [],
   "source": [
    "reviews.groupby(['country']).price.agg([len, min, max])\n",
    "#groups by country, and then applies in the price various functions (length, min and max)"
   ]
  },
  {
   "cell_type": "markdown",
   "id": "be3d4082-ac91-46d7-9811-43fbd1899933",
   "metadata": {},
   "source": [
    "I can even put a lambda function inside agg()"
   ]
  },
  {
   "cell_type": "markdown",
   "id": "ed275afa-2c67-4ac1-9400-adc8b96efc09",
   "metadata": {},
   "source": [
    "Effective use of groupby() will allow you to do lots of really powerful things with your dataset."
   ]
  },
  {
   "cell_type": "markdown",
   "id": "b62c6b4b-bcc1-4ea7-af2e-98ecdc62e832",
   "metadata": {},
   "source": [
    "**Multi-indexes**"
   ]
  },
  {
   "cell_type": "markdown",
   "id": "7aa68acd-35b6-4e9c-ae57-10251b07b9f0",
   "metadata": {},
   "source": [
    "In all of the examples we've seen thus far we've been working with DataFrame or Series objects with a single-label index. groupby() is slightly different in the fact that, depending on the operation we run, it will sometimes result in what is called a multi-index.\n",
    "\n",
    "A multi-index differs from a regular index in that it has multiple levels. For example:\r",
    "\r\n"
   ]
  },
  {
   "cell_type": "code",
   "execution_count": null,
   "id": "6fa1e3cd-f4a8-4998-9c0a-65563c684252",
   "metadata": {},
   "outputs": [],
   "source": [
    "countries_reviewed = reviews.groupby(['country', 'province']).description.agg([len])\n",
    "countries_reviewed\n",
    "#groups by country and province, and then sees the descriptions and retrieves the number of elements in that series (descriptions)"
   ]
  },
  {
   "cell_type": "code",
   "execution_count": null,
   "id": "96ff2d8b-a211-40b6-bc62-e62429be6b2b",
   "metadata": {},
   "outputs": [],
   "source": [
    "mi = countries_reviewed.index\n",
    "type(mi)\n",
    "#--> pandas.core.indexes.multi.MultiIndex"
   ]
  },
  {
   "cell_type": "markdown",
   "id": "edaac96f-91f4-425c-9dc0-6d576383317a",
   "metadata": {},
   "source": [
    "Multi-indices have several methods for dealing with their tiered structure which are absent for single-level indices. They also require two levels of labels to retrieve a value. Dealing with multi-index output is a common \"gotcha\" for users new to pandas.\r\n",
    "\r\n",
    "The use cases for a multi-index are detailed alongside instructions on using them in the MultiIndex / Advanced Selection section of the pandas documentation.\r\n",
    "\r\n",
    "However, in general the multi-index method you will use most often is the one for converting back to a regular index, the reset_index() method:"
   ]
  },
  {
   "cell_type": "code",
   "execution_count": null,
   "id": "3e69842c-e0e6-4b23-b362-7f6677b8ea34",
   "metadata": {},
   "outputs": [],
   "source": [
    "countries_reviewed.reset_index()\n",
    "#this will retrieve a one-index df were you see all info from all row separated (not a common one for ones that are in the same country for example)\n",
    "#before you would see common rows of country fex, but now all rows have all columns individually (pountry, province,... each one, not common country for some of them)\n",
    "#reset_index() no reordena las filas, solo convierte el índice en columnas y agrega un nuevo índice numérico basado en el orden actual.(important to keep inf mind for the sort_values later)"
   ]
  },
  {
   "cell_type": "markdown",
   "id": "fd4beef7-7da9-4d5a-88fc-f6dcb74127d4",
   "metadata": {},
   "source": [
    "**Sorting**"
   ]
  },
  {
   "cell_type": "markdown",
   "id": "b742ba3b-80f4-48d0-b4cc-d825b3bb8764",
   "metadata": {},
   "source": [
    "Looking again at countries_reviewed we can see that grouping returns data in index order, not in value order. That is to say, when outputting the result of a groupby, the order of the rows is dependent on the values in the index, not in the data.\n",
    "\n",
    "To get data in the order want it in we can sort it ourselves. The sort_values() method is handy for this.\n"
   ]
  },
  {
   "cell_type": "code",
   "execution_count": null,
   "id": "ca5e365c-8e1d-4706-922f-99efe0d3d3f0",
   "metadata": {},
   "outputs": [],
   "source": [
    "countries_reviewed = countries_reviewed.reset_index()\n",
    "countries_reviewed.sort_values(by='len')\n",
    "#retrieves the list sorted by len (number of elements in the group)\n",
    "#from lowest to highest"
   ]
  },
  {
   "cell_type": "markdown",
   "id": "b48595d8-51cc-436a-ad61-58e46c7801e6",
   "metadata": {},
   "source": [
    "sort_values() defaults to an ascending sort, where the lowest values go first. However, most of the time we want a descending sort, where the higher numbers go first. That goes thusly:"
   ]
  },
  {
   "cell_type": "code",
   "execution_count": null,
   "id": "c7e23c2a-2c38-4db2-b56d-34855fb31384",
   "metadata": {},
   "outputs": [],
   "source": [
    "countries_reviewed.sort_values(by='len', ascending=False)\n",
    "#now from highest to lowest"
   ]
  },
  {
   "cell_type": "markdown",
   "id": "8d945b42-5399-4ac5-9c85-5c154916817a",
   "metadata": {},
   "source": [
    "To sort by index values, use the companion method sort_index(). This method has the same arguments and default order:\n"
   ]
  },
  {
   "cell_type": "code",
   "execution_count": null,
   "id": "aee99651-7609-48ef-b016-4ea3428cc3e2",
   "metadata": {},
   "outputs": [],
   "source": [
    "countries_reviewed.sort_index() #sorts by index (numerical that was created when 'reset_index()'' was called (keeps the order of the groups but individualizes the rows)"
   ]
  },
  {
   "cell_type": "markdown",
   "id": "6576246e-0906-4f63-b342-adc8e94c13b6",
   "metadata": {},
   "source": [
    "Finally, know that you can sort by more than one column at a time:\n"
   ]
  },
  {
   "cell_type": "code",
   "execution_count": null,
   "id": "21e3037a-886f-4be1-8f30-32f111da8951",
   "metadata": {},
   "outputs": [],
   "source": [
    "countries_reviewed.sort_values(by=['country', 'len'])\n",
    "#i use 'sort_values()'!!! not 'sort_index()'"
   ]
  },
  {
   "cell_type": "markdown",
   "id": "6cd684e5-fd67-45b8-909e-f3312f9ebe70",
   "metadata": {},
   "source": [
    "**EXERCISES**"
   ]
  },
  {
   "cell_type": "code",
   "execution_count": 3,
   "id": "9e12e78f-3b51-4573-ae35-f7909c8a57e5",
   "metadata": {},
   "outputs": [],
   "source": [
    "import pandas as pd"
   ]
  },
  {
   "cell_type": "code",
   "execution_count": 145,
   "id": "08039fe7-d37c-4415-81e8-70d3d2fd9789",
   "metadata": {},
   "outputs": [
    {
     "name": "stdout",
     "output_type": "stream",
     "text": [
      "    country                                        description  \\\n",
      "0     Italy  Aromas include tropical fruit, broom, and mine...   \n",
      "1  Portugal  This is ripe and fruity, a wine that is smooth...   \n",
      "2    France  A dry style of Pinot Gris, crisp with acidity ...   \n",
      "3    France  Big, rich and off-dry, with intensity and flor...   \n",
      "4     Spain  Dark cherry, spice and leather aromas dominate...   \n",
      "\n",
      "                     designation  points  price           province  \\\n",
      "0                   Vulkà Bianco      87   20.0  Sicily & Sardinia   \n",
      "1                       Avidagos      87   15.0              Douro   \n",
      "2                        Classic     100   32.0             Alsace   \n",
      "3  Lieu-dit Harth Cuvée Caroline      90   21.0             Berona   \n",
      "4                        Reserva      89   18.0              Rioja   \n",
      "\n",
      "     region_1           region_2        taster_name taster_twitter_handle  \\\n",
      "0        Etna     Eastern Sicily      Kerin O’Keefe          @kerinokeefe   \n",
      "1       Douro  Northern Portugal         Roger Voss            @vossroger   \n",
      "2      Alsace   Northeast France         Roger Voss            @vossroger   \n",
      "3      Alsace   Northeast France         Roger Voss            @vossroger   \n",
      "4  Rioja Alta     Northern Spain  Michael Schachner           @wineschach   \n",
      "\n",
      "                                               title         variety  \\\n",
      "0                   Nicosia 2013 Vulkà Bianco (Etna)     White Blend   \n",
      "1      Quinta dos Avidagos 2011 Avidagos Red (Douro)  Portuguese Red   \n",
      "2      Domaine Marcel Deiss 2012 Pinot Gris (Alsace)      Pinot Gris   \n",
      "3  Domaine Schoffit 2012 Lieu-dit Harth Cuvée Car...  Gewürztraminer   \n",
      "4            Marqués de Cáceres 2011 Reserva (Rioja)     Tempranillo   \n",
      "\n",
      "                 winery  \n",
      "0               Nicosia  \n",
      "1   Quinta dos Avidagos  \n",
      "2  Domaine Marcel Deiss  \n",
      "3      Domaine Schoffit  \n",
      "4    Marqués de Cáceres  \n"
     ]
    }
   ],
   "source": [
    "reviews = pd.DataFrame([\n",
    "    {\n",
    "        'country': 'Italy',\n",
    "        'description': 'Aromas include tropical fruit, broom, and minerals.',\n",
    "        'designation': 'Vulkà Bianco',\n",
    "        'points': 87,\n",
    "        'price': 20.0,\n",
    "        'province': 'Sicily & Sardinia',\n",
    "        'region_1': 'Etna',\n",
    "        'region_2': 'Eastern Sicily',\n",
    "        'taster_name': 'Kerin O’Keefe',\n",
    "        'taster_twitter_handle': '@kerinokeefe',\n",
    "        'title': 'Nicosia 2013 Vulkà Bianco (Etna)',\n",
    "        'variety': 'White Blend',\n",
    "        'winery': 'Nicosia'\n",
    "    },\n",
    "    {\n",
    "        'country': 'Portugal',\n",
    "        'description': 'This is ripe and fruity, a wine that is smooth and balanced.',\n",
    "        'designation': 'Avidagos',\n",
    "        'points': 87,\n",
    "        'price': 15.0,\n",
    "        'province': 'Douro',\n",
    "        'region_1': 'Douro',\n",
    "        'region_2': 'Northern Portugal',\n",
    "        'taster_name': 'Roger Voss',\n",
    "        'taster_twitter_handle': '@vossroger',\n",
    "        'title': 'Quinta dos Avidagos 2011 Avidagos Red (Douro)',\n",
    "        'variety': 'Portuguese Red',\n",
    "        'winery': 'Quinta dos Avidagos'\n",
    "    },\n",
    "    {\n",
    "        'country': 'France',\n",
    "        'description': 'A dry style of Pinot Gris, crisp with acidity and minerality.',\n",
    "        'designation': 'Classic',\n",
    "        'points': 100,\n",
    "        'price': 32.0,\n",
    "        'province': 'Alsace',\n",
    "        'region_1': 'Alsace',\n",
    "        'region_2': 'Northeast France',\n",
    "        'taster_name': 'Roger Voss',\n",
    "        'taster_twitter_handle': '@vossroger',\n",
    "        'title': 'Domaine Marcel Deiss 2012 Pinot Gris (Alsace)',\n",
    "        'variety': 'Pinot Gris',\n",
    "        'winery': 'Domaine Marcel Deiss'\n",
    "    },\n",
    "    {\n",
    "        'country': 'France',\n",
    "        'description': 'Big, rich and off-dry, with intensity and floral notes.',\n",
    "        'designation': 'Lieu-dit Harth Cuvée Caroline',\n",
    "        'points': 90,\n",
    "        'price': 21.0,\n",
    "        'province': 'Berona',\n",
    "        'region_1': 'Alsace',\n",
    "        'region_2': 'Northeast France',\n",
    "        'taster_name': 'Roger Voss',\n",
    "        'taster_twitter_handle': '@vossroger',\n",
    "        'title': 'Domaine Schoffit 2012 Lieu-dit Harth Cuvée Caroline (Alsace)',\n",
    "        'variety': 'Gewürztraminer',\n",
    "        'winery': 'Domaine Schoffit'\n",
    "    },\n",
    "    {\n",
    "        'country': 'Spain',\n",
    "        'description': 'Dark cherry, spice and leather aromas dominate this classic Rioja.',\n",
    "        'designation': 'Reserva',\n",
    "        'points': 89,\n",
    "        'price': 18.0,\n",
    "        'province': 'Rioja',\n",
    "        'region_1': 'Rioja Alta',\n",
    "        'region_2': 'Northern Spain',\n",
    "        'taster_name': 'Michael Schachner',\n",
    "        'taster_twitter_handle': '@wineschach',\n",
    "        'title': 'Marqués de Cáceres 2011 Reserva (Rioja)',\n",
    "        'variety': 'Tempranillo',\n",
    "        'winery': 'Marqués de Cáceres'\n",
    "    },\n",
    "    {\n",
    "        'country': 'US',\n",
    "        'description': 'Fruity and soft, with hints of raspberry and vanilla.',\n",
    "        'designation': 'Estate',\n",
    "        'points': 88,\n",
    "        'price': 25.0,\n",
    "        'province': 'California',\n",
    "        'region_1': 'Napa Valley',\n",
    "        'region_2': 'North Coast',\n",
    "        'taster_name': 'Jim Gordon',\n",
    "        'taster_twitter_handle': '@jimgordonwine',\n",
    "        'title': 'Robert Mondavi 2014 Cabernet Sauvignon (Napa Valley)',\n",
    "        'variety': 'Cabernet Sauvignon',\n",
    "        'winery': 'Robert Mondavi'\n",
    "    },\n",
    "    {\n",
    "        'country': 'Argentina',\n",
    "        'description': 'Bold and structured, offering black fruit and mocha.',\n",
    "        'designation': 'Gran Reserva',\n",
    "        'points': 92,\n",
    "        'price': 30.0,\n",
    "        'province': 'Mendoza Province',\n",
    "        'region_1': 'Uco Valley',\n",
    "        'region_2': 'Mendoza',\n",
    "        'taster_name': 'Alejandro Iglesias',\n",
    "        'taster_twitter_handle': '@aliglesiaswine',\n",
    "        'title': 'Trapiche 2015 Gran Reserva Malbec (Uco Valley)',\n",
    "        'variety': 'Malbec',\n",
    "        'winery': 'Trapiche'\n",
    "    },\n",
    "    {\n",
    "        'country': 'Chile',\n",
    "        'description': 'Smooth, with red berries and a touch of herbs.',\n",
    "        'designation': 'Reserva Especial',\n",
    "        'points': 86,\n",
    "        'price': 12.0,\n",
    "        'province': 'Maipo Valley',\n",
    "        'region_1': 'Maipo Valley',\n",
    "        'region_2': 'Central Valley',\n",
    "        'taster_name': 'Patricio Tapia',\n",
    "        'taster_twitter_handle': '@ptapiawine',\n",
    "        'title': 'Concha y Toro 2016 Carmenere (Maipo Valley)',\n",
    "        'variety': 'Carmenere',\n",
    "        'winery': 'Concha y Toro'\n",
    "    },\n",
    "    {\n",
    "        'country': 'Germany',\n",
    "        'description': 'Lively and fresh, with notes of green apple and lime.',\n",
    "        'designation': 'Kabinett',\n",
    "        'points': 91,\n",
    "        'price': 22.0,\n",
    "        'province': 'Mosel',\n",
    "        'region_1': 'Mosel',\n",
    "        'region_2': 'Western Germany',\n",
    "        'taster_name': 'Anne Krebiehl',\n",
    "        'taster_twitter_handle': '@annewine',\n",
    "        'title': 'Dr. Loosen 2015 Riesling Kabinett (Mosel)',\n",
    "        'variety': 'Riesling',\n",
    "        'winery': 'Dr. Loosen'\n",
    "    },\n",
    "    {\n",
    "        'country': 'South Africa',\n",
    "        'description': 'Aromas of citrus and melon, fresh and vibrant.',\n",
    "        'designation': 'Signature',\n",
    "        'points': 85,\n",
    "        'price': 10.0,\n",
    "        'province': 'Western Cape',\n",
    "        'region_1': 'Stellenbosch',\n",
    "        'region_2': 'Coastal Region',\n",
    "        'taster_name': 'Lauren Buzzeo',\n",
    "        'taster_twitter_handle': '@laurenbuzzeo',\n",
    "        'title': 'Spier 2016 Chenin Blanc (Western Cape)',\n",
    "        'variety': 'Chenin Blanc',\n",
    "        'winery': 'Spier'\n",
    "    },\n",
    "    {\n",
    "        'country': 'South Africa',\n",
    "        'description': 'Aromas of citrus and melon, fresh and vibrant.',\n",
    "        'designation': 'Signature',\n",
    "        'points': 87,\n",
    "        'price': 10.0,\n",
    "        'province': 'Western Cape',\n",
    "        'region_1': 'Stellenbosch',\n",
    "        'region_2': 'Coastal Region',\n",
    "        'taster_name': 'Lauren Buzzeo',\n",
    "        'taster_twitter_handle': '@laurenbuzzeo',\n",
    "        'title': 'Spier 2016 Chenin Blanc (Western Cape)',\n",
    "        'variety': 'Chenin Blanc',\n",
    "        'winery': 'Spier'\n",
    "    }\n",
    "])\n",
    "\n",
    "print(reviews.head())"
   ]
  },
  {
   "cell_type": "markdown",
   "id": "223b6be4-f25b-42be-a046-a8b4619b693e",
   "metadata": {},
   "source": [
    "**Exercise 1:**\n",
    "Who are the most common wine reviewers in the dataset? Create a Series whose index is the taster_twitter_handle category from the dataset, and whose values count how many reviews each person wrote."
   ]
  },
  {
   "cell_type": "code",
   "execution_count": 11,
   "id": "38b91f69-15f8-426f-b5cf-61b70fa8145c",
   "metadata": {},
   "outputs": [
    {
     "data": {
      "text/plain": [
       "taster_twitter_handle\n",
       "@aliglesiaswine    1\n",
       "@annewine          1\n",
       "@jimgordonwine     1\n",
       "@kerinokeefe       1\n",
       "@laurenbuzzeo      2\n",
       "@ptapiawine        1\n",
       "@vossroger         3\n",
       "@wineschach        1\n",
       "Name: taster_twitter_handle, dtype: int64"
      ]
     },
     "execution_count": 11,
     "metadata": {},
     "output_type": "execute_result"
    }
   ],
   "source": [
    "reviews_written = reviews.groupby('taster_twitter_handle').taster_twitter_handle.agg(len)\n",
    "reviews_written"
   ]
  },
  {
   "cell_type": "markdown",
   "id": "d6b2ebd4-e1e8-446b-b34b-7d0111d9f6c3",
   "metadata": {},
   "source": [
    "Other posible solutions:\n",
    "reviews_written = reviews.groupby('taster_twitter_handle').size()\r\n",
    "\n",
    "or\r\n",
    "\r\n",
    "reviews_written = reviews.groupby('taster_twitter_handle').taster_twitter_handle.count()"
   ]
  },
  {
   "cell_type": "markdown",
   "id": "a53df609-c038-416c-975d-fb10f5dc0367",
   "metadata": {},
   "source": [
    "Differences btw these three:\n",
    "\n",
    "*.groupby(...).size()*\n",
    "\n",
    "Cuenta el número total de filas en cada grupo.\n",
    "\n",
    "**Incluye valores NaN** en cualquier columna (porque solo le importa la cantidad de filas, no los valores).\n",
    "\n",
    "Es la forma más rápida y directa de contar elementos por grupo\n",
    "\n",
    "*.groupby(...).taster_twitter_handle.count()*\n",
    "\n",
    "Agrupa por taster_twitter_handle, y luego cuenta esa misma columna.\n",
    "\n",
    "**No incluye los NaN** en esa columna.\n",
    "\n",
    "Si alguna fila tiene taster_twitter_handle = NaN, no se cuenta.\n",
    "\n",
    "*.groupby(...).taster_twitter_handle.agg(len)*\n",
    "\n",
    "Hace lo mismo que .count() aquí.\n",
    "\n",
    "En este contexto, len y .count() dan el mismo resultado.\n",
    "\n",
    "**También ignora los NaN** en esa columna.\n"
   ]
  },
  {
   "cell_type": "markdown",
   "id": "bd99ae29-af88-441d-ba1c-1d9fbd728d60",
   "metadata": {},
   "source": [
    "**Exercise 2:**"
   ]
  },
  {
   "cell_type": "markdown",
   "id": "53ec3f95-d26e-4c73-ae1a-393f0f41c14a",
   "metadata": {},
   "source": [
    "What is the best wine I can buy for a given amount of money? Create a Series whose index is wine prices and whose values is the maximum number of points a wine costing that much was given in a review. Sort the values by price, ascending (so that 4.0 dollars is at the top and 3300.0 dollars is at the bottom)."
   ]
  },
  {
   "cell_type": "code",
   "execution_count": 29,
   "id": "affcb8c4-9e89-409c-a7bd-c0b904532fc7",
   "metadata": {},
   "outputs": [
    {
     "data": {
      "text/plain": [
       "10     87\n",
       "7      86\n",
       "1      87\n",
       "4      89\n",
       "0      87\n",
       "3      90\n",
       "8      91\n",
       "5      88\n",
       "6      92\n",
       "2     100\n",
       "Name: points, dtype: int64"
      ]
     },
     "execution_count": 29,
     "metadata": {},
     "output_type": "execute_result"
    }
   ],
   "source": [
    "best_rating_per_price = reviews.points.loc[reviews.groupby('price').points.idxmax()]\n",
    "best_rating_per_price\n",
    "#be careful!!! gotta pass it to reviews.points.loc (specificly to points so that it retrieves points and not all the info!) cos .idxmax() what it does is that it retrieves the index of the max element en the serie (or group in this case)\n",
    "#--> No devuelve el valor máximo, sino la fila donde se encuentra ese valor máximo."
   ]
  },
  {
   "cell_type": "code",
   "execution_count": 33,
   "id": "bbce51fb-65d2-45a9-a4ac-c74861cb1839",
   "metadata": {},
   "outputs": [
    {
     "data": {
      "text/plain": [
       "price\n",
       "10.0     87\n",
       "12.0     86\n",
       "15.0     87\n",
       "18.0     89\n",
       "20.0     87\n",
       "21.0     90\n",
       "22.0     91\n",
       "25.0     88\n",
       "30.0     92\n",
       "32.0    100\n",
       "Name: points, dtype: int64"
      ]
     },
     "execution_count": 33,
     "metadata": {},
     "output_type": "execute_result"
    }
   ],
   "source": [
    "#easier:\n",
    "reviews.groupby('price').points.max()\n",
    "#max() retrieves the max value directly!!! (not the index of the possition where it is)"
   ]
  },
  {
   "cell_type": "markdown",
   "id": "0b9a2c33-6eac-4b0e-8801-ea4c7cd5e4e4",
   "metadata": {},
   "source": [
    "**Exercise 3:**"
   ]
  },
  {
   "cell_type": "markdown",
   "id": "3667cb3e-70d7-469a-951e-72b458c52c94",
   "metadata": {},
   "source": [
    "What are the minimum and maximum prices for each variety of wine? Create a DataFrame whose index is the variety category from the dataset and whose values are the min and max values thereof."
   ]
  },
  {
   "cell_type": "code",
   "execution_count": 59,
   "id": "0a5c3210-0dec-4cdf-add4-7e0ee5286948",
   "metadata": {},
   "outputs": [
    {
     "name": "stderr",
     "output_type": "stream",
     "text": [
      "C:\\Users\\mirlo\\AppData\\Local\\Temp\\ipykernel_14600\\2102104477.py:1: FutureWarning: The provided callable <built-in function max> is currently using SeriesGroupBy.max. In a future version of pandas, the provided callable will be used directly. To keep current behavior pass the string \"max\" instead.\n",
      "  price_extremes = reviews.groupby('variety').price.agg([max, min])\n",
      "C:\\Users\\mirlo\\AppData\\Local\\Temp\\ipykernel_14600\\2102104477.py:1: FutureWarning: The provided callable <built-in function min> is currently using SeriesGroupBy.min. In a future version of pandas, the provided callable will be used directly. To keep current behavior pass the string \"min\" instead.\n",
      "  price_extremes = reviews.groupby('variety').price.agg([max, min])\n"
     ]
    },
    {
     "data": {
      "text/html": [
       "<div>\n",
       "<style scoped>\n",
       "    .dataframe tbody tr th:only-of-type {\n",
       "        vertical-align: middle;\n",
       "    }\n",
       "\n",
       "    .dataframe tbody tr th {\n",
       "        vertical-align: top;\n",
       "    }\n",
       "\n",
       "    .dataframe thead th {\n",
       "        text-align: right;\n",
       "    }\n",
       "</style>\n",
       "<table border=\"1\" class=\"dataframe\">\n",
       "  <thead>\n",
       "    <tr style=\"text-align: right;\">\n",
       "      <th></th>\n",
       "      <th>max</th>\n",
       "      <th>min</th>\n",
       "    </tr>\n",
       "    <tr>\n",
       "      <th>variety</th>\n",
       "      <th></th>\n",
       "      <th></th>\n",
       "    </tr>\n",
       "  </thead>\n",
       "  <tbody>\n",
       "    <tr>\n",
       "      <th>Cabernet Sauvignon</th>\n",
       "      <td>25.0</td>\n",
       "      <td>25.0</td>\n",
       "    </tr>\n",
       "    <tr>\n",
       "      <th>Carmenere</th>\n",
       "      <td>12.0</td>\n",
       "      <td>12.0</td>\n",
       "    </tr>\n",
       "    <tr>\n",
       "      <th>Chenin Blanc</th>\n",
       "      <td>10.0</td>\n",
       "      <td>10.0</td>\n",
       "    </tr>\n",
       "    <tr>\n",
       "      <th>Gewürztraminer</th>\n",
       "      <td>21.0</td>\n",
       "      <td>21.0</td>\n",
       "    </tr>\n",
       "    <tr>\n",
       "      <th>Malbec</th>\n",
       "      <td>30.0</td>\n",
       "      <td>30.0</td>\n",
       "    </tr>\n",
       "    <tr>\n",
       "      <th>Pinot Gris</th>\n",
       "      <td>32.0</td>\n",
       "      <td>32.0</td>\n",
       "    </tr>\n",
       "    <tr>\n",
       "      <th>Portuguese Red</th>\n",
       "      <td>15.0</td>\n",
       "      <td>15.0</td>\n",
       "    </tr>\n",
       "    <tr>\n",
       "      <th>Riesling</th>\n",
       "      <td>22.0</td>\n",
       "      <td>22.0</td>\n",
       "    </tr>\n",
       "    <tr>\n",
       "      <th>Tempranillo</th>\n",
       "      <td>18.0</td>\n",
       "      <td>18.0</td>\n",
       "    </tr>\n",
       "    <tr>\n",
       "      <th>White Blend</th>\n",
       "      <td>20.0</td>\n",
       "      <td>20.0</td>\n",
       "    </tr>\n",
       "  </tbody>\n",
       "</table>\n",
       "</div>"
      ],
      "text/plain": [
       "                     max   min\n",
       "variety                       \n",
       "Cabernet Sauvignon  25.0  25.0\n",
       "Carmenere           12.0  12.0\n",
       "Chenin Blanc        10.0  10.0\n",
       "Gewürztraminer      21.0  21.0\n",
       "Malbec              30.0  30.0\n",
       "Pinot Gris          32.0  32.0\n",
       "Portuguese Red      15.0  15.0\n",
       "Riesling            22.0  22.0\n",
       "Tempranillo         18.0  18.0\n",
       "White Blend         20.0  20.0"
      ]
     },
     "execution_count": 59,
     "metadata": {},
     "output_type": "execute_result"
    }
   ],
   "source": [
    "price_extremes = reviews.groupby('variety').price.agg([max, min])\n",
    "price_extremes"
   ]
  },
  {
   "cell_type": "markdown",
   "id": "34194aa9-9754-4a81-8c1a-f3ca6009c82b",
   "metadata": {},
   "source": [
    "**Exercise 4:**"
   ]
  },
  {
   "cell_type": "markdown",
   "id": "37603152-330e-4264-8471-3dd072b1f0c1",
   "metadata": {},
   "source": [
    "What are the most expensive wine varieties? Create a variable sorted_varieties containing a copy of the dataframe from the previous question where varieties are sorted in descending order based on minimum price, then on maximum price (to break ties)."
   ]
  },
  {
   "cell_type": "code",
   "execution_count": 79,
   "id": "4372706f-e732-4cf3-8824-77b8298a0c35",
   "metadata": {},
   "outputs": [
    {
     "name": "stderr",
     "output_type": "stream",
     "text": [
      "C:\\Users\\mirlo\\AppData\\Local\\Temp\\ipykernel_14600\\2354892809.py:1: FutureWarning: The provided callable <built-in function max> is currently using SeriesGroupBy.max. In a future version of pandas, the provided callable will be used directly. To keep current behavior pass the string \"max\" instead.\n",
      "  price_extremes = reviews.groupby('variety').price.agg([max, min])\n",
      "C:\\Users\\mirlo\\AppData\\Local\\Temp\\ipykernel_14600\\2354892809.py:1: FutureWarning: The provided callable <built-in function min> is currently using SeriesGroupBy.min. In a future version of pandas, the provided callable will be used directly. To keep current behavior pass the string \"min\" instead.\n",
      "  price_extremes = reviews.groupby('variety').price.agg([max, min])\n"
     ]
    },
    {
     "data": {
      "text/html": [
       "<div>\n",
       "<style scoped>\n",
       "    .dataframe tbody tr th:only-of-type {\n",
       "        vertical-align: middle;\n",
       "    }\n",
       "\n",
       "    .dataframe tbody tr th {\n",
       "        vertical-align: top;\n",
       "    }\n",
       "\n",
       "    .dataframe thead th {\n",
       "        text-align: right;\n",
       "    }\n",
       "</style>\n",
       "<table border=\"1\" class=\"dataframe\">\n",
       "  <thead>\n",
       "    <tr style=\"text-align: right;\">\n",
       "      <th></th>\n",
       "      <th>max</th>\n",
       "      <th>min</th>\n",
       "    </tr>\n",
       "    <tr>\n",
       "      <th>variety</th>\n",
       "      <th></th>\n",
       "      <th></th>\n",
       "    </tr>\n",
       "  </thead>\n",
       "  <tbody>\n",
       "    <tr>\n",
       "      <th>Pinot Gris</th>\n",
       "      <td>32.0</td>\n",
       "      <td>32.0</td>\n",
       "    </tr>\n",
       "    <tr>\n",
       "      <th>Malbec</th>\n",
       "      <td>30.0</td>\n",
       "      <td>30.0</td>\n",
       "    </tr>\n",
       "    <tr>\n",
       "      <th>Cabernet Sauvignon</th>\n",
       "      <td>25.0</td>\n",
       "      <td>25.0</td>\n",
       "    </tr>\n",
       "    <tr>\n",
       "      <th>Riesling</th>\n",
       "      <td>22.0</td>\n",
       "      <td>22.0</td>\n",
       "    </tr>\n",
       "    <tr>\n",
       "      <th>Gewürztraminer</th>\n",
       "      <td>21.0</td>\n",
       "      <td>21.0</td>\n",
       "    </tr>\n",
       "    <tr>\n",
       "      <th>White Blend</th>\n",
       "      <td>20.0</td>\n",
       "      <td>20.0</td>\n",
       "    </tr>\n",
       "    <tr>\n",
       "      <th>Tempranillo</th>\n",
       "      <td>18.0</td>\n",
       "      <td>18.0</td>\n",
       "    </tr>\n",
       "    <tr>\n",
       "      <th>Portuguese Red</th>\n",
       "      <td>15.0</td>\n",
       "      <td>15.0</td>\n",
       "    </tr>\n",
       "    <tr>\n",
       "      <th>Carmenere</th>\n",
       "      <td>12.0</td>\n",
       "      <td>12.0</td>\n",
       "    </tr>\n",
       "    <tr>\n",
       "      <th>Chenin Blanc</th>\n",
       "      <td>10.0</td>\n",
       "      <td>10.0</td>\n",
       "    </tr>\n",
       "  </tbody>\n",
       "</table>\n",
       "</div>"
      ],
      "text/plain": [
       "                     max   min\n",
       "variety                       \n",
       "Pinot Gris          32.0  32.0\n",
       "Malbec              30.0  30.0\n",
       "Cabernet Sauvignon  25.0  25.0\n",
       "Riesling            22.0  22.0\n",
       "Gewürztraminer      21.0  21.0\n",
       "White Blend         20.0  20.0\n",
       "Tempranillo         18.0  18.0\n",
       "Portuguese Red      15.0  15.0\n",
       "Carmenere           12.0  12.0\n",
       "Chenin Blanc        10.0  10.0"
      ]
     },
     "execution_count": 79,
     "metadata": {},
     "output_type": "execute_result"
    }
   ],
   "source": [
    "price_extremes = reviews.groupby('variety').price.agg([max, min])\n",
    "sorted_varieties = price_extremes.sort_values(by=['min','max'], ascending= False)\n",
    "sorted_varieties"
   ]
  },
  {
   "cell_type": "markdown",
   "id": "b4a5305d-c9a0-4277-a81e-8929be3700c8",
   "metadata": {},
   "source": [
    "**Exercise 5:**"
   ]
  },
  {
   "cell_type": "markdown",
   "id": "f0905547-16cd-4798-b14f-87bbb840f050",
   "metadata": {},
   "source": [
    "Create a `Series` whose index is reviewers and whose values is the average review score given out by that reviewer. Hint: you will need the `taster_name` and `points` columns."
   ]
  },
  {
   "cell_type": "code",
   "execution_count": 85,
   "id": "2a90c75d-c6b6-4347-8f9c-25c5fd938677",
   "metadata": {},
   "outputs": [
    {
     "data": {
      "text/plain": [
       "taster_name\n",
       "Alejandro Iglesias    92.000000\n",
       "Anne Krebiehl         91.000000\n",
       "Jim Gordon            88.000000\n",
       "Kerin O’Keefe         87.000000\n",
       "Lauren Buzzeo         86.000000\n",
       "Michael Schachner     89.000000\n",
       "Patricio Tapia        86.000000\n",
       "Roger Voss            92.333333\n",
       "Name: points, dtype: float64"
      ]
     },
     "execution_count": 85,
     "metadata": {},
     "output_type": "execute_result"
    }
   ],
   "source": [
    "reviewer_mean_ratings = reviews.groupby('taster_name').points.mean()\n",
    "reviewer_mean_ratings"
   ]
  },
  {
   "cell_type": "markdown",
   "id": "43585cc4-49fc-4d9f-9a87-33f2b00701d2",
   "metadata": {},
   "source": [
    "Are there significant differences in the average scores assigned by the various reviewers? \n",
    "\n",
    "Use the describe() method to see a summary of the range of values."
   ]
  },
  {
   "cell_type": "code",
   "execution_count": 87,
   "id": "58267e03-f69d-48b7-b99f-c52b00fd6923",
   "metadata": {},
   "outputs": [
    {
     "data": {
      "text/plain": [
       "count     8.000000\n",
       "mean     88.916667\n",
       "std       2.592725\n",
       "min      86.000000\n",
       "25%      86.750000\n",
       "50%      88.500000\n",
       "75%      91.250000\n",
       "max      92.333333\n",
       "Name: points, dtype: float64"
      ]
     },
     "execution_count": 87,
     "metadata": {},
     "output_type": "execute_result"
    }
   ],
   "source": [
    "reviewer_mean_ratings.describe()"
   ]
  },
  {
   "cell_type": "markdown",
   "id": "6233a231-d88a-45b6-910b-40b325997ce9",
   "metadata": {},
   "source": [
    "**Exercise 6:**"
   ]
  },
  {
   "cell_type": "markdown",
   "id": "430f1006-66a7-4401-9fc6-9f8f542087e4",
   "metadata": {},
   "source": [
    "What combination of countries and varieties are most common? Create a Series whose index is a MultiIndexof {country, variety} pairs. For example, a pinot noir produced in the US should map to {\"US\", \"Pinot Noir\"}. Sort the values in the Series in descending order based on wine count."
   ]
  },
  {
   "cell_type": "code",
   "execution_count": 135,
   "id": "be039cb4-a34d-46bc-bd5f-7cba3ee0021b",
   "metadata": {},
   "outputs": [
    {
     "data": {
      "text/html": [
       "<div>\n",
       "<style scoped>\n",
       "    .dataframe tbody tr th:only-of-type {\n",
       "        vertical-align: middle;\n",
       "    }\n",
       "\n",
       "    .dataframe tbody tr th {\n",
       "        vertical-align: top;\n",
       "    }\n",
       "\n",
       "    .dataframe thead th {\n",
       "        text-align: right;\n",
       "    }\n",
       "</style>\n",
       "<table border=\"1\" class=\"dataframe\">\n",
       "  <thead>\n",
       "    <tr style=\"text-align: right;\">\n",
       "      <th></th>\n",
       "      <th></th>\n",
       "      <th>len</th>\n",
       "    </tr>\n",
       "    <tr>\n",
       "      <th>country</th>\n",
       "      <th>province</th>\n",
       "      <th></th>\n",
       "    </tr>\n",
       "  </thead>\n",
       "  <tbody>\n",
       "    <tr>\n",
       "      <th>South Africa</th>\n",
       "      <th>Western Cape</th>\n",
       "      <td>2</td>\n",
       "    </tr>\n",
       "    <tr>\n",
       "      <th>Argentina</th>\n",
       "      <th>Mendoza Province</th>\n",
       "      <td>1</td>\n",
       "    </tr>\n",
       "    <tr>\n",
       "      <th>Chile</th>\n",
       "      <th>Maipo Valley</th>\n",
       "      <td>1</td>\n",
       "    </tr>\n",
       "    <tr>\n",
       "      <th rowspan=\"2\" valign=\"top\">France</th>\n",
       "      <th>Alsace</th>\n",
       "      <td>1</td>\n",
       "    </tr>\n",
       "    <tr>\n",
       "      <th>Berona</th>\n",
       "      <td>1</td>\n",
       "    </tr>\n",
       "    <tr>\n",
       "      <th>Germany</th>\n",
       "      <th>Mosel</th>\n",
       "      <td>1</td>\n",
       "    </tr>\n",
       "    <tr>\n",
       "      <th>Italy</th>\n",
       "      <th>Sicily &amp; Sardinia</th>\n",
       "      <td>1</td>\n",
       "    </tr>\n",
       "    <tr>\n",
       "      <th>Portugal</th>\n",
       "      <th>Douro</th>\n",
       "      <td>1</td>\n",
       "    </tr>\n",
       "    <tr>\n",
       "      <th>Spain</th>\n",
       "      <th>Rioja</th>\n",
       "      <td>1</td>\n",
       "    </tr>\n",
       "    <tr>\n",
       "      <th>US</th>\n",
       "      <th>California</th>\n",
       "      <td>1</td>\n",
       "    </tr>\n",
       "  </tbody>\n",
       "</table>\n",
       "</div>"
      ],
      "text/plain": [
       "                                len\n",
       "country      province              \n",
       "South Africa Western Cape         2\n",
       "Argentina    Mendoza Province     1\n",
       "Chile        Maipo Valley         1\n",
       "France       Alsace               1\n",
       "             Berona               1\n",
       "Germany      Mosel                1\n",
       "Italy        Sicily & Sardinia    1\n",
       "Portugal     Douro                1\n",
       "Spain        Rioja                1\n",
       "US           California           1"
      ]
     },
     "execution_count": 135,
     "metadata": {},
     "output_type": "execute_result"
    }
   ],
   "source": [
    "series = (reviews.groupby(['country','province']).title.agg(len)).sort_values(by= 'len', ascending= False)\n",
    "series\n",
    "#aplicando agg([len]) me devuelve un df!!! y me piden una serie\n",
    "#pq? pq al poner [len] con corchetes interpreta q vas s querer aplicar varias funciones y te devuelve un df\n",
    "# --> agg(len) sí, agg([len]) no!!!"
   ]
  },
  {
   "cell_type": "code",
   "execution_count": 153,
   "id": "ef0e2b05-16a9-4fe8-b055-4d521142f81f",
   "metadata": {},
   "outputs": [
    {
     "data": {
      "text/plain": [
       "country       province         \n",
       "South Africa  Western Cape         2\n",
       "Argentina     Mendoza Province     1\n",
       "Chile         Maipo Valley         1\n",
       "France        Alsace               1\n",
       "              Berona               1\n",
       "Germany       Mosel                1\n",
       "Italy         Sicily & Sardinia    1\n",
       "Portugal      Douro                1\n",
       "Spain         Rioja                1\n",
       "US            California           1\n",
       "dtype: int64"
      ]
     },
     "execution_count": 153,
     "metadata": {},
     "output_type": "execute_result"
    }
   ],
   "source": [
    "series = reviews.groupby(['country','province']).size().sort_values(ascending= False)\n",
    "series"
   ]
  },
  {
   "cell_type": "markdown",
   "id": "6330f099-de4e-4edf-9563-e5cea8cc64d4",
   "metadata": {},
   "source": [
    "“¿Por qué con .size() o .agg(len) no hace falta decir by='len'?”\n",
    "\n",
    "Porque:\n",
    "\n",
    "Si el resultado es una Series, solo hay una cosa que ordenar → pandas sabe que debe ordenar por los valores de la Serie.\n",
    "\n",
    "En cambio, si es un DataFrame, tiene múltiples columnas y necesitas decirle por cuál columna ordenar (by='len' en tu caso)."
   ]
  },
  {
   "cell_type": "code",
   "execution_count": 177,
   "id": "a329f0e9-6d53-4f10-b8d2-7cd2a416e453",
   "metadata": {},
   "outputs": [
    {
     "data": {
      "text/plain": [
       "pandas.core.series.Series"
      ]
     },
     "execution_count": 177,
     "metadata": {},
     "output_type": "execute_result"
    }
   ],
   "source": [
    "country_variety_counts = (reviews.groupby(['country','variety']).title.agg(len)).sort_values(ascending=False)\n",
    "type(country_variety_counts)"
   ]
  },
  {
   "cell_type": "code",
   "execution_count": 175,
   "id": "8978266c-56c0-475f-b570-728de77a3ea2",
   "metadata": {},
   "outputs": [
    {
     "data": {
      "text/plain": [
       "country       variety           \n",
       "South Africa  Chenin Blanc          2\n",
       "Argentina     Malbec                1\n",
       "Chile         Carmenere             1\n",
       "France        Gewürztraminer        1\n",
       "              Pinot Gris            1\n",
       "Germany       Riesling              1\n",
       "Italy         White Blend           1\n",
       "Portugal      Portuguese Red        1\n",
       "Spain         Tempranillo           1\n",
       "US            Cabernet Sauvignon    1\n",
       "dtype: int64"
      ]
     },
     "execution_count": 175,
     "metadata": {},
     "output_type": "execute_result"
    }
   ],
   "source": [
    "country_variety_counts = reviews.groupby(['country', 'variety']).size().sort_values(ascending=False)\n",
    "country_variety_counts\n",
    "#it asks with variety!!!!!! not country and province!!!"
   ]
  },
  {
   "cell_type": "code",
   "execution_count": null,
   "id": "ffd00bbf-16e8-48a9-a9ce-89672254f89d",
   "metadata": {},
   "outputs": [],
   "source": []
  }
 ],
 "metadata": {
  "kernelspec": {
   "display_name": "Python 3 (ipykernel)",
   "language": "python",
   "name": "python3"
  },
  "language_info": {
   "codemirror_mode": {
    "name": "ipython",
    "version": 3
   },
   "file_extension": ".py",
   "mimetype": "text/x-python",
   "name": "python",
   "nbconvert_exporter": "python",
   "pygments_lexer": "ipython3",
   "version": "3.12.4"
  }
 },
 "nbformat": 4,
 "nbformat_minor": 5
}
