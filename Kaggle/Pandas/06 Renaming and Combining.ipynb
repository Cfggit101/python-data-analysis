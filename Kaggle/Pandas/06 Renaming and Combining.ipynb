{
 "cells": [
  {
   "cell_type": "markdown",
   "id": "13b532d5-3940-4a6a-ac54-edcc53f1a958",
   "metadata": {},
   "source": [
    "**RENAMING AND COMBINING**"
   ]
  },
  {
   "cell_type": "markdown",
   "id": "982ed448-e555-4a69-95ad-ebe406d7324f",
   "metadata": {},
   "source": [
    "Oftentimes data will come to us with column names, index names, or other naming conventions that we are not satisfied with. \n",
    "We're going to see how to use pandas functions to change the names of the offending entries to something better.\n",
    "We'll also explore how to combine data from multiple DataFrames and/or Series."
   ]
  },
  {
   "cell_type": "markdown",
   "id": "46d20200-c088-4377-9009-02fc3c462624",
   "metadata": {},
   "source": [
    "**Renaming**"
   ]
  },
  {
   "cell_type": "markdown",
   "id": "0e1d02e6-0243-4247-9ca3-d972edc6412a",
   "metadata": {},
   "source": [
    "**rename()** --> lets you change index names and/or column names.\n",
    "For example we can change the 'points' column to 'score'"
   ]
  },
  {
   "cell_type": "code",
   "execution_count": 25,
   "id": "6d671bdc-f1bb-458d-97a8-1530c9a90d5a",
   "metadata": {},
   "outputs": [
    {
     "data": {
      "text/plain": [
       "Index(['country', 'description', 'designation', 'score', 'price', 'province',\n",
       "       'region_1', 'region_2', 'taster_name', 'taster_twitter_handle', 'title',\n",
       "       'variety', 'winery'],\n",
       "      dtype='object')"
      ]
     },
     "execution_count": 25,
     "metadata": {},
     "output_type": "execute_result"
    }
   ],
   "source": [
    "points_renamed = reviews.rename(columns={'points' : 'score'})\n",
    "points_renamed.columns"
   ]
  },
  {
   "cell_type": "markdown",
   "id": "d74a6267-a511-4c90-876f-25bf8db3fd0b",
   "metadata": {},
   "source": [
    "rename() lets you rename index or column values by specifying a index or column keyword parameter, respectively. It supports a variety of input formats, but usually a Python dictionary is the most convenient. Here is an example using it to rename some elements of the index."
   ]
  },
  {
   "cell_type": "code",
   "execution_count": 41,
   "id": "1550e6e9-d3a3-4012-88f7-6977362eaf88",
   "metadata": {},
   "outputs": [
    {
     "data": {
      "text/html": [
       "<div>\n",
       "<style scoped>\n",
       "    .dataframe tbody tr th:only-of-type {\n",
       "        vertical-align: middle;\n",
       "    }\n",
       "\n",
       "    .dataframe tbody tr th {\n",
       "        vertical-align: top;\n",
       "    }\n",
       "\n",
       "    .dataframe thead th {\n",
       "        text-align: right;\n",
       "    }\n",
       "</style>\n",
       "<table border=\"1\" class=\"dataframe\">\n",
       "  <thead>\n",
       "    <tr style=\"text-align: right;\">\n",
       "      <th></th>\n",
       "      <th>country</th>\n",
       "      <th>description</th>\n",
       "      <th>designation</th>\n",
       "      <th>points</th>\n",
       "      <th>price</th>\n",
       "      <th>province</th>\n",
       "      <th>region_1</th>\n",
       "      <th>region_2</th>\n",
       "      <th>taster_name</th>\n",
       "      <th>taster_twitter_handle</th>\n",
       "      <th>title</th>\n",
       "      <th>variety</th>\n",
       "      <th>winery</th>\n",
       "    </tr>\n",
       "  </thead>\n",
       "  <tbody>\n",
       "    <tr>\n",
       "      <th>firstEntry</th>\n",
       "      <td>Italy</td>\n",
       "      <td>Aromas include tropical fruit, broom, and mine...</td>\n",
       "      <td>Vulkà Bianco</td>\n",
       "      <td>87</td>\n",
       "      <td>20.0</td>\n",
       "      <td>Sicily &amp; Sardinia</td>\n",
       "      <td>Etna</td>\n",
       "      <td>Eastern Sicily</td>\n",
       "      <td>Kerin O’Keefe</td>\n",
       "      <td>@kerinokeefe</td>\n",
       "      <td>Nicosia 2013 Vulkà Bianco (Etna)</td>\n",
       "      <td>White Blend</td>\n",
       "      <td>Nicosia</td>\n",
       "    </tr>\n",
       "    <tr>\n",
       "      <th>secondEntry</th>\n",
       "      <td>Portugal</td>\n",
       "      <td>This is ripe and fruity, a wine that is smooth...</td>\n",
       "      <td>Avidagos</td>\n",
       "      <td>87</td>\n",
       "      <td>15.0</td>\n",
       "      <td>Douro</td>\n",
       "      <td>Douro</td>\n",
       "      <td>Northern Portugal</td>\n",
       "      <td>Roger Voss</td>\n",
       "      <td>@vossroger</td>\n",
       "      <td>Quinta dos Avidagos 2011 Avidagos Red (Douro)</td>\n",
       "      <td>Portuguese Red</td>\n",
       "      <td>Quinta dos Avidagos</td>\n",
       "    </tr>\n",
       "  </tbody>\n",
       "</table>\n",
       "</div>"
      ],
      "text/plain": [
       "              country                                        description  \\\n",
       "firstEntry      Italy  Aromas include tropical fruit, broom, and mine...   \n",
       "secondEntry  Portugal  This is ripe and fruity, a wine that is smooth...   \n",
       "\n",
       "              designation  points  price           province region_1  \\\n",
       "firstEntry   Vulkà Bianco      87   20.0  Sicily & Sardinia     Etna   \n",
       "secondEntry      Avidagos      87   15.0              Douro    Douro   \n",
       "\n",
       "                      region_2    taster_name taster_twitter_handle  \\\n",
       "firstEntry      Eastern Sicily  Kerin O’Keefe          @kerinokeefe   \n",
       "secondEntry  Northern Portugal     Roger Voss            @vossroger   \n",
       "\n",
       "                                                     title         variety  \\\n",
       "firstEntry                Nicosia 2013 Vulkà Bianco (Etna)     White Blend   \n",
       "secondEntry  Quinta dos Avidagos 2011 Avidagos Red (Douro)  Portuguese Red   \n",
       "\n",
       "                          winery  \n",
       "firstEntry               Nicosia  \n",
       "secondEntry  Quinta dos Avidagos  "
      ]
     },
     "execution_count": 41,
     "metadata": {},
     "output_type": "execute_result"
    }
   ],
   "source": [
    "reviews.rename(index={0: 'firstEntry', 1: 'secondEntry'}).head(2)"
   ]
  },
  {
   "cell_type": "markdown",
   "id": "0dabb5f0-1f82-4d30-bec8-4d621789c3ee",
   "metadata": {},
   "source": [
    "You'll probably rename columns very often, but rename index values very rarely. For that, set_index() is usually more convenient.\n",
    "**set_index()** --> para convertir una o más columnas en el índice del DataFrame."
   ]
  },
  {
   "cell_type": "markdown",
   "id": "5309e759-d0e8-462e-ab82-57afe3057263",
   "metadata": {},
   "source": [
    "Both the row index and the column index can have their own name attribute. The complimentary **rename_axis()** method may be used to change these names. For example:"
   ]
  },
  {
   "cell_type": "code",
   "execution_count": 43,
   "id": "20200e38-7d4b-49f0-b625-780618301282",
   "metadata": {},
   "outputs": [
    {
     "data": {
      "text/html": [
       "<div>\n",
       "<style scoped>\n",
       "    .dataframe tbody tr th:only-of-type {\n",
       "        vertical-align: middle;\n",
       "    }\n",
       "\n",
       "    .dataframe tbody tr th {\n",
       "        vertical-align: top;\n",
       "    }\n",
       "\n",
       "    .dataframe thead th {\n",
       "        text-align: right;\n",
       "    }\n",
       "</style>\n",
       "<table border=\"1\" class=\"dataframe\">\n",
       "  <thead>\n",
       "    <tr style=\"text-align: right;\">\n",
       "      <th>fields</th>\n",
       "      <th>country</th>\n",
       "      <th>description</th>\n",
       "      <th>designation</th>\n",
       "      <th>points</th>\n",
       "      <th>price</th>\n",
       "      <th>province</th>\n",
       "      <th>region_1</th>\n",
       "      <th>region_2</th>\n",
       "      <th>taster_name</th>\n",
       "      <th>taster_twitter_handle</th>\n",
       "      <th>title</th>\n",
       "      <th>variety</th>\n",
       "      <th>winery</th>\n",
       "    </tr>\n",
       "    <tr>\n",
       "      <th>wines</th>\n",
       "      <th></th>\n",
       "      <th></th>\n",
       "      <th></th>\n",
       "      <th></th>\n",
       "      <th></th>\n",
       "      <th></th>\n",
       "      <th></th>\n",
       "      <th></th>\n",
       "      <th></th>\n",
       "      <th></th>\n",
       "      <th></th>\n",
       "      <th></th>\n",
       "      <th></th>\n",
       "    </tr>\n",
       "  </thead>\n",
       "  <tbody>\n",
       "    <tr>\n",
       "      <th>0</th>\n",
       "      <td>Italy</td>\n",
       "      <td>Aromas include tropical fruit, broom, and mine...</td>\n",
       "      <td>Vulkà Bianco</td>\n",
       "      <td>87</td>\n",
       "      <td>20.0</td>\n",
       "      <td>Sicily &amp; Sardinia</td>\n",
       "      <td>Etna</td>\n",
       "      <td>Eastern Sicily</td>\n",
       "      <td>Kerin O’Keefe</td>\n",
       "      <td>@kerinokeefe</td>\n",
       "      <td>Nicosia 2013 Vulkà Bianco (Etna)</td>\n",
       "      <td>White Blend</td>\n",
       "      <td>Nicosia</td>\n",
       "    </tr>\n",
       "    <tr>\n",
       "      <th>1</th>\n",
       "      <td>Portugal</td>\n",
       "      <td>This is ripe and fruity, a wine that is smooth...</td>\n",
       "      <td>Avidagos</td>\n",
       "      <td>87</td>\n",
       "      <td>15.0</td>\n",
       "      <td>Douro</td>\n",
       "      <td>Douro</td>\n",
       "      <td>Northern Portugal</td>\n",
       "      <td>Roger Voss</td>\n",
       "      <td>@vossroger</td>\n",
       "      <td>Quinta dos Avidagos 2011 Avidagos Red (Douro)</td>\n",
       "      <td>Portuguese Red</td>\n",
       "      <td>Quinta dos Avidagos</td>\n",
       "    </tr>\n",
       "  </tbody>\n",
       "</table>\n",
       "</div>"
      ],
      "text/plain": [
       "fields   country                                        description  \\\n",
       "wines                                                                 \n",
       "0          Italy  Aromas include tropical fruit, broom, and mine...   \n",
       "1       Portugal  This is ripe and fruity, a wine that is smooth...   \n",
       "\n",
       "fields   designation  points  price           province region_1  \\\n",
       "wines                                                             \n",
       "0       Vulkà Bianco      87   20.0  Sicily & Sardinia     Etna   \n",
       "1           Avidagos      87   15.0              Douro    Douro   \n",
       "\n",
       "fields           region_2    taster_name taster_twitter_handle  \\\n",
       "wines                                                            \n",
       "0          Eastern Sicily  Kerin O’Keefe          @kerinokeefe   \n",
       "1       Northern Portugal     Roger Voss            @vossroger   \n",
       "\n",
       "fields                                          title         variety  \\\n",
       "wines                                                                   \n",
       "0                    Nicosia 2013 Vulkà Bianco (Etna)     White Blend   \n",
       "1       Quinta dos Avidagos 2011 Avidagos Red (Douro)  Portuguese Red   \n",
       "\n",
       "fields               winery  \n",
       "wines                        \n",
       "0                   Nicosia  \n",
       "1       Quinta dos Avidagos  "
      ]
     },
     "execution_count": 43,
     "metadata": {},
     "output_type": "execute_result"
    }
   ],
   "source": [
    "reviews.rename_axis(\"wines\", axis='rows').rename_axis(\"fields\", axis='columns').head(2)"
   ]
  },
  {
   "cell_type": "markdown",
   "id": "45a68326-ee5c-4f10-89cd-536498f4b43f",
   "metadata": {},
   "source": [
    "**Combining**"
   ]
  },
  {
   "cell_type": "markdown",
   "id": "e617301e-4564-49e1-a93f-b814b2c384d5",
   "metadata": {},
   "source": [
    "When performing operations on a dataset, we will sometimes need to combine different DataFrames and/or Series in non-trivial ways.\n",
    "Pandas has three core methods for doing this. In order of increasing complexity, these are **concat()**, **join()**, and **merge()**. Most of what merge() can do can also be done more simply with join(), so we will omit it and focus on the first two functions here."
   ]
  },
  {
   "cell_type": "markdown",
   "id": "abb4e41c-2b62-41f2-af2b-82ae70349b5b",
   "metadata": {},
   "source": [
    "The simplest combining method is concat(). Given a list of elements, this function will smush those elements together along an axis."
   ]
  },
  {
   "cell_type": "markdown",
   "id": "bff42afa-1017-4f39-99c9-d7be8d7a4dec",
   "metadata": {},
   "source": [
    "**concat()** --> Une (concatena) varios objetos de pandas —como DataFrames o Series— a lo largo de un eje (filas o columnas).\n",
    "```\n",
    "pd.concat([df1, df2], axis=0)  # Por filas (uno debajo del otro) - OJO los indices no se reinician automáticamente\r\n",
    "pd.concat([df1, df2], axis=1)  # Por columnas (uno al lado del otro\n",
    "```)"
   ]
  },
  {
   "cell_type": "markdown",
   "id": "98c513f7-3aa9-4024-83de-a6cf1820ad86",
   "metadata": {},
   "source": [
    "This is useful when we have data in different DataFrame or Series objects but having the same fields (columns). One example: the YouTube Videos dataset, which splits the data up based on country of origin (e.g. Canada and the UK, in this example). If we want to study multiple countries simultaneously, we can use concat() to smush them together:"
   ]
  },
  {
   "cell_type": "code",
   "execution_count": null,
   "id": "08d9145a-bd9a-4588-bec6-8e3d96e0fb64",
   "metadata": {},
   "outputs": [],
   "source": [
    "canadian_youtube = pd.read_csv(\"../input/youtube-new/CAvideos.csv\")\n",
    "british_youtube = pd.read_csv(\"../input/youtube-new/GBvideos.csv\")\n",
    "\n",
    "pd.concat([canadian_youtube, british_youtube])\n",
    "#returns one df below the other one"
   ]
  },
  {
   "cell_type": "markdown",
   "id": "021f7ff8-a62b-4629-8fb2-a84552556d2a",
   "metadata": {},
   "source": [
    "The middlemost combiner in terms of complexity is join(). **join()** lets you combine different DataFrame objects **which have an index in common**. For example, to pull down videos that happened to be trending on the same day in both Canada and the UK, we could do the following:"
   ]
  },
  {
   "cell_type": "code",
   "execution_count": null,
   "id": "32c85356-521f-4cd9-93bb-65181502b5ac",
   "metadata": {},
   "outputs": [],
   "source": [
    "left = canadian_youtube.set_index(['title', 'trending_date'])\n",
    "right = british_youtube.set_index(['title', 'trending_date'])\n",
    "\n",
    "left.join(right, lsuffix='_CAN', rsuffix='_UK')\n",
    "#returns df next to the other, and i specify an extra \"name\" to differenciate btw the columns of each"
   ]
  },
  {
   "cell_type": "markdown",
   "id": "234989fb-c427-4b72-8342-c7b288ff5c81",
   "metadata": {},
   "source": [
    "The lsuffix and rsuffix parameters are necessary here because the data has the same column names in both British and Canadian datasets. If this wasn't true (because, say, we'd renamed them beforehand) we wouldn't need them."
   ]
  },
  {
   "cell_type": "markdown",
   "id": "99ae82f7-7116-4efb-94b6-c74f865027c9",
   "metadata": {},
   "source": [
    "**EXERCISES**"
   ]
  },
  {
   "cell_type": "code",
   "execution_count": 3,
   "id": "83d18d70-d7ea-4d8f-87bb-0c7d353b04ff",
   "metadata": {},
   "outputs": [],
   "source": [
    "import pandas as pd"
   ]
  },
  {
   "cell_type": "code",
   "execution_count": 51,
   "id": "dd326a31-9a9d-4563-a591-3ca4be18523e",
   "metadata": {},
   "outputs": [],
   "source": [
    "reviews = pd.DataFrame([\n",
    "    {\n",
    "        'country': 'Italy',\n",
    "        'description': 'Aromas include tropical fruit, broom, and minerals.',\n",
    "        'designation': 'Vulkà Bianco',\n",
    "        'points': 87,\n",
    "        'price': 20.0,\n",
    "        'province': 'Sicily & Sardinia',\n",
    "        'region_1': 'Etna',\n",
    "        'region_2': 'Eastern Sicily',\n",
    "        'taster_name': 'Kerin O’Keefe',\n",
    "        'taster_twitter_handle': '@kerinokeefe',\n",
    "        'title': 'Nicosia 2013 Vulkà Bianco (Etna)',\n",
    "        'variety': 'White Blend',\n",
    "        'winery': 'Nicosia'\n",
    "    },\n",
    "    {\n",
    "        'country': 'Portugal',\n",
    "        'description': 'This is ripe and fruity, a wine that is smooth and balanced.',\n",
    "        'designation': 'Avidagos',\n",
    "        'points': 87,\n",
    "        'price': 15.0,\n",
    "        'province': 'Douro',\n",
    "        'region_1': 'Douro',\n",
    "        'region_2': 'Northern Portugal',\n",
    "        'taster_name': 'Roger Voss',\n",
    "        'taster_twitter_handle': '@vossroger',\n",
    "        'title': 'Quinta dos Avidagos 2011 Avidagos Red (Douro)',\n",
    "        'variety': 'Portuguese Red',\n",
    "        'winery': 'Quinta dos Avidagos'\n",
    "    },\n",
    "    {\n",
    "        'country': 'France',\n",
    "        'description': 'A dry style of Pinot Gris, crisp with acidity and minerality.',\n",
    "        'designation': 'Classic',\n",
    "        'points': 100,\n",
    "        'price': 32.0,\n",
    "        'province': 'Alsace',\n",
    "        'region_1': 'Alsace',\n",
    "        'region_2': 'Northeast France',\n",
    "        'taster_name': 'Roger Voss',\n",
    "        'taster_twitter_handle': '@vossroger',\n",
    "        'title': 'Domaine Marcel Deiss 2012 Pinot Gris (Alsace)',\n",
    "        'variety': 'Pinot Gris',\n",
    "        'winery': 'Domaine Marcel Deiss'\n",
    "    },\n",
    "    {\n",
    "        'country': 'France',\n",
    "        'description': 'Big, rich and off-dry, with intensity and floral notes.',\n",
    "        'designation': 'Lieu-dit Harth Cuvée Caroline',\n",
    "        'points': 90,\n",
    "        'price': 21.0,\n",
    "        'province': 'Berona',\n",
    "        'region_1': 'Alsace',\n",
    "        'region_2': 'Northeast France',\n",
    "        'taster_name': 'Roger Voss',\n",
    "        'taster_twitter_handle': '@vossroger',\n",
    "        'title': 'Domaine Schoffit 2012 Lieu-dit Harth Cuvée Caroline (Alsace)',\n",
    "        'variety': 'Gewürztraminer',\n",
    "        'winery': 'Domaine Schoffit'\n",
    "    },\n",
    "    {\n",
    "        'country': 'Spain',\n",
    "        'description': 'Dark cherry, spice and leather aromas dominate this classic Rioja.',\n",
    "        'designation': 'Reserva',\n",
    "        'points': 89,\n",
    "        'price': 18.0,\n",
    "        'province': 'Rioja',\n",
    "        'region_1': 'Rioja Alta',\n",
    "        'region_2': 'Northern Spain',\n",
    "        'taster_name': 'Michael Schachner',\n",
    "        'taster_twitter_handle': '@wineschach',\n",
    "        'title': 'Marqués de Cáceres 2011 Reserva (Rioja)',\n",
    "        'variety': 'Tempranillo',\n",
    "        'winery': 'Marqués de Cáceres'\n",
    "    },\n",
    "    {\n",
    "        'country': 'US',\n",
    "        'description': 'Fruity and soft, with hints of raspberry and vanilla.',\n",
    "        'designation': 'Estate',\n",
    "        'points': 88,\n",
    "        'price': 25.0,\n",
    "        'province': 'California',\n",
    "        'region_1': 'Napa Valley',\n",
    "        'region_2': 'North Coast',\n",
    "        'taster_name': 'Jim Gordon',\n",
    "        'taster_twitter_handle': '@jimgordonwine',\n",
    "        'title': 'Robert Mondavi 2014 Cabernet Sauvignon (Napa Valley)',\n",
    "        'variety': 'Cabernet Sauvignon',\n",
    "        'winery': 'Robert Mondavi'\n",
    "    },\n",
    "    {\n",
    "        'country': 'Argentina',\n",
    "        'description': 'Bold and structured, offering black fruit and mocha.',\n",
    "        'designation': 'Gran Reserva',\n",
    "        'points': 92,\n",
    "        'price': 30.0,\n",
    "        'province': 'Mendoza Province',\n",
    "        'region_1': 'Uco Valley',\n",
    "        'taster_name': 'Alejandro Iglesias',\n",
    "        'taster_twitter_handle': '@aliglesiaswine',\n",
    "        'title': 'Trapiche 2015 Gran Reserva Malbec (Uco Valley)',\n",
    "        'variety': 'Malbec',\n",
    "        'winery': 'Trapiche'\n",
    "    },\n",
    "    {\n",
    "        'country': 'Chile',\n",
    "        'description': 'Smooth, with red berries and a touch of herbs.',\n",
    "        'designation': 'Reserva Especial',\n",
    "        'points': 86,\n",
    "        'price': 12.0,\n",
    "        'province': 'Maipo Valley',\n",
    "        'region_2': 'Central Valley',\n",
    "        'taster_name': 'Patricio Tapia',\n",
    "        'taster_twitter_handle': '@ptapiawine',\n",
    "        'title': 'Concha y Toro 2016 Carmenere (Maipo Valley)',\n",
    "        'variety': 'Carmenere',\n",
    "        'winery': 'Concha y Toro'\n",
    "    },\n",
    "    {\n",
    "        'country': 'Germany',\n",
    "        'description': 'Lively and fresh, with notes of green apple and lime.',\n",
    "        'designation': 'Kabinett',\n",
    "        'points': 91,\n",
    "        'price': 22.0,\n",
    "        'province': 'Mosel',\n",
    "        'region_1': 'Mosel',\n",
    "        'region_2': 'Western Germany',\n",
    "        'taster_name': 'Anne Krebiehl',\n",
    "        'taster_twitter_handle': '@annewine',\n",
    "        'title': 'Dr. Loosen 2015 Riesling Kabinett (Mosel)',\n",
    "        'variety': 'Riesling',\n",
    "        'winery': 'Dr. Loosen'\n",
    "    },\n",
    "    {\n",
    "        'country': 'South Africa',\n",
    "        'description': 'Aromas of citrus and melon, fresh and vibrant.',\n",
    "        'designation': 'Signature',\n",
    "        'points': 85,\n",
    "        'price': 10.0,\n",
    "        'province': 'Western Cape',\n",
    "        'region_1': 'Stellenbosch',\n",
    "        'region_2': 'Coastal Region',\n",
    "        'taster_name': 'Lauren Buzzeo',\n",
    "        'taster_twitter_handle': '@laurenbuzzeo',\n",
    "        'title': 'Spier 2016 Chenin Blanc (Western Cape)',\n",
    "        'variety': 'Chenin Blanc',\n",
    "        'winery': 'Spier'\n",
    "    },\n",
    "    {\n",
    "        'country': 'South Africa',\n",
    "        'description': 'Aromas of citrus and melon, fresh and vibrant.',\n",
    "        'designation': 'Signature',\n",
    "        'points': 87,\n",
    "        'price': 10.0,\n",
    "        'province': 'Western Cape',\n",
    "        'region_1': 'Stellenbosch',\n",
    "        'region_2': 'Coastal Region',\n",
    "        'taster_name': 'Lauren Buzzeo',\n",
    "        'taster_twitter_handle': '@laurenbuzzeo',\n",
    "        'title': 'Spier 2016 Chenin Blanc (Western Cape)',\n",
    "        'variety': 'Chenin Blanc',\n",
    "        'winery': 'Spier'\n",
    "    }\n",
    "])"
   ]
  },
  {
   "cell_type": "markdown",
   "id": "4b5bcdd0-f9c1-44fd-9bcf-5dbbe00b45a5",
   "metadata": {},
   "source": [
    "**Exercise 1**"
   ]
  },
  {
   "cell_type": "markdown",
   "id": "7f5b849d-4e84-45d9-9cd0-f719875c8bd1",
   "metadata": {},
   "source": [
    "region_1 and region_2 are pretty uninformative names for locale columns in the dataset. Create a copy of reviews with these columns renamed to region and locale, respectively."
   ]
  },
  {
   "cell_type": "code",
   "execution_count": 77,
   "id": "396d2b44-abeb-4aa0-bc63-8518ae8b7992",
   "metadata": {},
   "outputs": [
    {
     "data": {
      "text/html": [
       "<div>\n",
       "<style scoped>\n",
       "    .dataframe tbody tr th:only-of-type {\n",
       "        vertical-align: middle;\n",
       "    }\n",
       "\n",
       "    .dataframe tbody tr th {\n",
       "        vertical-align: top;\n",
       "    }\n",
       "\n",
       "    .dataframe thead th {\n",
       "        text-align: right;\n",
       "    }\n",
       "</style>\n",
       "<table border=\"1\" class=\"dataframe\">\n",
       "  <thead>\n",
       "    <tr style=\"text-align: right;\">\n",
       "      <th></th>\n",
       "      <th>country</th>\n",
       "      <th>description</th>\n",
       "      <th>designation</th>\n",
       "      <th>points</th>\n",
       "      <th>price</th>\n",
       "      <th>province</th>\n",
       "      <th>region</th>\n",
       "      <th>locale</th>\n",
       "      <th>taster_name</th>\n",
       "      <th>taster_twitter_handle</th>\n",
       "      <th>title</th>\n",
       "      <th>variety</th>\n",
       "      <th>winery</th>\n",
       "    </tr>\n",
       "  </thead>\n",
       "  <tbody>\n",
       "    <tr>\n",
       "      <th>0</th>\n",
       "      <td>Italy</td>\n",
       "      <td>Aromas include tropical fruit, broom, and mine...</td>\n",
       "      <td>Vulkà Bianco</td>\n",
       "      <td>87</td>\n",
       "      <td>20.0</td>\n",
       "      <td>Sicily &amp; Sardinia</td>\n",
       "      <td>Etna</td>\n",
       "      <td>Eastern Sicily</td>\n",
       "      <td>Kerin O’Keefe</td>\n",
       "      <td>@kerinokeefe</td>\n",
       "      <td>Nicosia 2013 Vulkà Bianco (Etna)</td>\n",
       "      <td>White Blend</td>\n",
       "      <td>Nicosia</td>\n",
       "    </tr>\n",
       "  </tbody>\n",
       "</table>\n",
       "</div>"
      ],
      "text/plain": [
       "  country                                        description   designation  \\\n",
       "0   Italy  Aromas include tropical fruit, broom, and mine...  Vulkà Bianco   \n",
       "\n",
       "   points  price           province region          locale    taster_name  \\\n",
       "0      87   20.0  Sicily & Sardinia   Etna  Eastern Sicily  Kerin O’Keefe   \n",
       "\n",
       "  taster_twitter_handle                             title      variety  \\\n",
       "0          @kerinokeefe  Nicosia 2013 Vulkà Bianco (Etna)  White Blend   \n",
       "\n",
       "    winery  \n",
       "0  Nicosia  "
      ]
     },
     "execution_count": 77,
     "metadata": {},
     "output_type": "execute_result"
    }
   ],
   "source": [
    "renamed = reviews.rename(columns= {\"region_1\" : \"region\", \"region_2\" : \"locale\"})\n",
    "renamed.head(1)"
   ]
  },
  {
   "cell_type": "code",
   "execution_count": null,
   "id": "c305cbc9-8a3e-4479-a5ae-1138198e321a",
   "metadata": {},
   "outputs": [],
   "source": [
    "#also valid:\n",
    "renamed = reviews.rename(columns=dict(region_1='region', region_2='locale'))"
   ]
  },
  {
   "cell_type": "markdown",
   "id": "b9ec1fc2-2196-4c2c-a261-0d84d32846f9",
   "metadata": {},
   "source": [
    "**Exercise 2**"
   ]
  },
  {
   "cell_type": "code",
   "execution_count": 81,
   "id": "ebfab3d4-fe6c-4ae2-a347-6b7331a566b7",
   "metadata": {},
   "outputs": [
    {
     "data": {
      "text/html": [
       "<div>\n",
       "<style scoped>\n",
       "    .dataframe tbody tr th:only-of-type {\n",
       "        vertical-align: middle;\n",
       "    }\n",
       "\n",
       "    .dataframe tbody tr th {\n",
       "        vertical-align: top;\n",
       "    }\n",
       "\n",
       "    .dataframe thead th {\n",
       "        text-align: right;\n",
       "    }\n",
       "</style>\n",
       "<table border=\"1\" class=\"dataframe\">\n",
       "  <thead>\n",
       "    <tr style=\"text-align: right;\">\n",
       "      <th></th>\n",
       "      <th>country</th>\n",
       "      <th>description</th>\n",
       "      <th>designation</th>\n",
       "      <th>points</th>\n",
       "      <th>price</th>\n",
       "      <th>province</th>\n",
       "      <th>region_1</th>\n",
       "      <th>region_2</th>\n",
       "      <th>taster_name</th>\n",
       "      <th>taster_twitter_handle</th>\n",
       "      <th>title</th>\n",
       "      <th>variety</th>\n",
       "      <th>winery</th>\n",
       "    </tr>\n",
       "    <tr>\n",
       "      <th>wine</th>\n",
       "      <th></th>\n",
       "      <th></th>\n",
       "      <th></th>\n",
       "      <th></th>\n",
       "      <th></th>\n",
       "      <th></th>\n",
       "      <th></th>\n",
       "      <th></th>\n",
       "      <th></th>\n",
       "      <th></th>\n",
       "      <th></th>\n",
       "      <th></th>\n",
       "      <th></th>\n",
       "    </tr>\n",
       "  </thead>\n",
       "  <tbody>\n",
       "    <tr>\n",
       "      <th>0</th>\n",
       "      <td>Italy</td>\n",
       "      <td>Aromas include tropical fruit, broom, and mine...</td>\n",
       "      <td>Vulkà Bianco</td>\n",
       "      <td>87</td>\n",
       "      <td>20.0</td>\n",
       "      <td>Sicily &amp; Sardinia</td>\n",
       "      <td>Etna</td>\n",
       "      <td>Eastern Sicily</td>\n",
       "      <td>Kerin O’Keefe</td>\n",
       "      <td>@kerinokeefe</td>\n",
       "      <td>Nicosia 2013 Vulkà Bianco (Etna)</td>\n",
       "      <td>White Blend</td>\n",
       "      <td>Nicosia</td>\n",
       "    </tr>\n",
       "  </tbody>\n",
       "</table>\n",
       "</div>"
      ],
      "text/plain": [
       "     country                                        description   designation  \\\n",
       "wine                                                                            \n",
       "0      Italy  Aromas include tropical fruit, broom, and mine...  Vulkà Bianco   \n",
       "\n",
       "      points  price           province region_1        region_2  \\\n",
       "wine                                                              \n",
       "0         87   20.0  Sicily & Sardinia     Etna  Eastern Sicily   \n",
       "\n",
       "        taster_name taster_twitter_handle                             title  \\\n",
       "wine                                                                          \n",
       "0     Kerin O’Keefe          @kerinokeefe  Nicosia 2013 Vulkà Bianco (Etna)   \n",
       "\n",
       "          variety   winery  \n",
       "wine                        \n",
       "0     White Blend  Nicosia  "
      ]
     },
     "execution_count": 81,
     "metadata": {},
     "output_type": "execute_result"
    }
   ],
   "source": [
    "reviews.rename_axis(\"wine\", axis = 'rows').head(1)"
   ]
  },
  {
   "cell_type": "markdown",
   "id": "9ada8435-3c23-495c-8921-fc0c326d970e",
   "metadata": {},
   "source": [
    "**Exercise 3:**"
   ]
  },
  {
   "cell_type": "markdown",
   "id": "d196c6bd-23b7-4689-85af-e317cb50efa9",
   "metadata": {},
   "source": [
    "The Things on Reddit dataset includes product links from a selection of top-ranked forums (\"subreddits\") on reddit.com. Run the cell below to load a dataframe of products mentioned on the /r/gaming subreddit and another dataframe for products mentioned on the r//movies subreddit.\n",
    "Create a DataFrame of products mentioned on either subreddit."
   ]
  },
  {
   "cell_type": "code",
   "execution_count": null,
   "id": "5c41182b-c106-4125-b25b-442b068983dd",
   "metadata": {},
   "outputs": [],
   "source": [
    "combined_products = pd.concat([movie_products, gaming_products])"
   ]
  },
  {
   "cell_type": "markdown",
   "id": "78426812-f4af-4c3e-8224-2822a74b5e81",
   "metadata": {},
   "source": [
    "**Exercise 4:**"
   ]
  },
  {
   "cell_type": "markdown",
   "id": "45b3d5e7-b4f3-4a84-90fc-29d9c81bab94",
   "metadata": {},
   "source": [
    "The Powerlifting Database dataset on Kaggle includes one CSV table for powerlifting meets and a separate one for powerlifting competitors. \n",
    "Both tables include references to a MeetID, a unique key for each meet (competition) included in the database. Using this, generate a dataset combining the two tables into one."
   ]
  },
  {
   "cell_type": "markdown",
   "id": "c9810a2b-5fd9-41ca-aba4-1844a3348d29",
   "metadata": {},
   "source": [
    "**join()** --> Une dos DataFrames horizontalmente (por columnas) usando:\n",
    "El índice por defecto\n",
    "O una columna clave, si se especifica con on="
   ]
  },
  {
   "cell_type": "markdown",
   "id": "46f520a4-c9d2-477b-9676-3ed951297ffa",
   "metadata": {},
   "source": [
    "I need to hace 'MeetID' as the index in both of them!!!"
   ]
  },
  {
   "cell_type": "code",
   "execution_count": null,
   "id": "3fa0aa4c-f45b-4cc9-9b7a-9ed83e181c2e",
   "metadata": {},
   "outputs": [],
   "source": [
    "powerlifting_combined = powerlifting_meets.set_index('MeetID').join(powerlifting_competitors.set_index('MeetID'))"
   ]
  }
 ],
 "metadata": {
  "kernelspec": {
   "display_name": "Python 3 (ipykernel)",
   "language": "python",
   "name": "python3"
  },
  "language_info": {
   "codemirror_mode": {
    "name": "ipython",
    "version": 3
   },
   "file_extension": ".py",
   "mimetype": "text/x-python",
   "name": "python",
   "nbconvert_exporter": "python",
   "pygments_lexer": "ipython3",
   "version": "3.12.4"
  }
 },
 "nbformat": 4,
 "nbformat_minor": 5
}
