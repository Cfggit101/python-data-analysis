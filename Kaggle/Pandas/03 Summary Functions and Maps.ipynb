{
 "cells": [
  {
   "cell_type": "markdown",
   "id": "4d31f6a1-3509-4231-9b84-c241bedd6a6a",
   "metadata": {},
   "source": [
    "**SUMMARY FUNCTIONS AND MAPS**"
   ]
  },
  {
   "cell_type": "markdown",
   "id": "ad90cfae-40eb-429d-b2d9-36d5064a477b",
   "metadata": {},
   "source": [
    "Data does not always come out of memory in the format we want it in right out of the bat. Sometimes we have to do some more work ourselves to reformat it for the task at hand. This tutorial will cover different operations we can apply to our data to get the input \"just right\"."
   ]
  },
  {
   "cell_type": "markdown",
   "id": "c735d84d-e683-4291-b727-532502b0aad1",
   "metadata": {},
   "source": [
    "**Summary functions**"
   ]
  },
  {
   "cell_type": "markdown",
   "id": "42954536-e060-41d2-b2e3-d21cc16f07b5",
   "metadata": {},
   "source": [
    "Pandas provides many simple \"summary functions\" (not an official name) which restructure the data in some useful way. For example, consider the describe() method:\n",
    "This method generates a high-level summary of the attributes of the given column. It is type-aware, meaning that its output changes based on the data type of the input. \n",
    "With numerical --> count, mean, 75%, max, name. length, dtype\n",
    "The output above only makes sense for numerical data; for string data here's what we get --> count, unique, top, freq, name, dtype\r\n"
   ]
  },
  {
   "cell_type": "markdown",
   "id": "e1b04043-8b90-4da4-94f5-b24d822d04bf",
   "metadata": {},
   "source": [
    "If you want to get some particular simple summary statistic about a column in a DataFrame or a Series, there is usually a helpful pandas function that makes it happen.\r\n",
    "For example, to see the mean of the points allotted (e.g. how well an averagely rated wine does), we can use the **mean()** function:\n",
    "```\n",
    "reviews.points.mean()\r\n",
    "\r\n"
   ]
  },
  {
   "cell_type": "markdown",
   "id": "f1d51dca-93e0-441e-8b84-04815eb6fcd0",
   "metadata": {},
   "source": [
    "To see a list of unique values we can use the **unique()** function:\n",
    "```\n",
    "reviews.taster_name.unique()\r\n"
   ]
  },
  {
   "cell_type": "markdown",
   "id": "2a119acf-730b-424b-a153-1bfd68c46289",
   "metadata": {},
   "source": [
    "To see a list of unique values and how often they occur in the dataset, we can use the **value_counts()** method:\n",
    "```\n",
    "reviews.taster_name.value_counts()\n"
   ]
  },
  {
   "cell_type": "markdown",
   "id": "dd9257cd-3c1c-4430-b287-ad59b1496482",
   "metadata": {},
   "source": [
    "**Maps**\r\n"
   ]
  },
  {
   "cell_type": "markdown",
   "id": "1abae0ef-bf45-40ed-bc9d-4dd9421815db",
   "metadata": {},
   "source": [
    "A map is a term, borrowed from mathematics, for a function that takes one set of values and \"maps\" them to another set of values. In data science we often have a need for creating new representations from existing data, or for transforming data from the format it is in now to the format that we want it to be in later. Maps are what handle this work, making them extremely important for getting your work done!\n",
    "\n",
    "--> es una forma de transformar un conjunto de datos en otro, **aplicando una función a cada elemento**.\n",
    "👉 Piensa en él como un traductor automático que toma una lista de cosas y las convierte en otra lista, cambiando cada cosa con una misma regla."
   ]
  },
  {
   "cell_type": "markdown",
   "id": "b3aa22f3-af80-4b15-9d5b-8f2bff502913",
   "metadata": {},
   "source": [
    "There are two mapping methods that you will use often.\n",
    "\n",
    "**map()** is the first, and slightly simpler one. For example, suppose that we wanted to remean the scores the wines received to 0. We can do this as follows:\n",
    "\n",
    "```\n",
    "review_points_mean = reviews.points.mean()\r\n",
    "reviews.points.map(lambda p: p - review_points_mean\n",
    "```\n",
    "Esto aplica una función a cada elemento de reviews.points.\n",
    "lambda p: define una función anónima que recibe un valor p (un punto individual).\n",
    "p - review_points_mean es lo que devuelve esa función: la diferencia entre el valor p y la media.\n",
    "\n",
    "¿Qué es lambda?\n",
    "Una función lambda es simplemente una forma rápida y anónima de definir una función pequeña.\n",
    "🧠 Es como una función normal, pero escrita en una línea sin def ni nombre.\n",
    "\n",
    "**Comparémoslo:*\n",
    "*\n",
    "*Con for:\n",
    "*\n",
    "review_points_mean = reviews.points.mean()\r\n",
    "nuevos_puntos = []\r\n",
    "for p in reviews.points:\r\n",
    "    nuevos_puntos.append(p - review_points_mean)\r\n",
    "✔️ Hace lo mismo, pro:\r\n",
    "\r\n",
    "Es máslargo\r\n",
    "\r\n",
    "Crea una lista unueva manalmente\r\n",
    "\r\n",
    "Tienes que es\n",
    "\n",
    "*Con lambda y .map():*\n",
    "reviews.points.map(lambda p: p - review_points_mean)\n",
    "✔️ Hace lo mismo pero:\n",
    "En una sola línea\n",
    "Más expresivo y legible\n",
    "Más \"pythónico\" (al estilo profesional de Python)\r\n",
    "RESUMEN:\n",
    "lambda es una forma rápida de definir funciones pequeñas.\n",
    ".map() aplica esa función a cada elemento de una serie o lista.\n",
    "cribir más)"
   ]
  },
  {
   "cell_type": "markdown",
   "id": "fcea0fc9-917d-43d2-b029-4032c1d59967",
   "metadata": {},
   "source": [
    "--> The function you pass to map() should expect a **single value** from the Series (a point value, in the above example), and return a transformed version of that value. map() returns a new Series where all the values have been transformed by your function."
   ]
  },
  {
   "cell_type": "markdown",
   "id": "5be23fec-eb80-4279-a330-b6e047df46eb",
   "metadata": {},
   "source": [
    "**apply()** is the equivalent method if we want to transform a whole DataFrame by calling a custom method on each row.\n",
    "\n",
    "If we had called reviews.apply() with axis='index', then instead of passing a function to transform each row, we would need to give a function to transform each column.\r\n",
    "\n",
    "\n",
    "```\n",
    "def remean_points(row):\r\n",
    "    row.points = row.points - review_points_mean\r\n",
    "    return row\r\n",
    "\r\n",
    "reviews.apply(remean_points, axis='ns')colum\n",
    "```\n",
    "apply(función, axis='columns') ⇒ aplica la función a cada \n",
    "fila.\n",
    "axis='columns' o axis=1 → recorre \n",
    "filas\n",
    "(por contraste: axis=0 recorre colu)ns')"
   ]
  },
  {
   "cell_type": "markdown",
   "id": "7dd21a2b-22f8-40eb-b97e-706073f09284",
   "metadata": {},
   "source": [
    "**COMPARACION -map() VS apply()**\n",
    ".map() --> for Series, goes one value at a time, and applies the function to each element on the Series or list (does not access to various columns)\n",
    ".apply() --> for DataFrames, goes row by row, and can access multiple columns\n",
    "¿Cómo sabe apply() qué columnas usar?\n",
    "*No es que se las pases directamente a apply().\n",
    "👉 Es la función que tú escribes (la que le das a apply) la que decide qué columnas usar.*\n",
    "\n",
    "¿Y si quisieras acceder a varias?\n",
    "Solo tienes que hacerlo dentro de la función:\n",
    "```\n",
    "def add_ratio(row):\r\n",
    "    row[\"price_per_point\"] = row[\"price\"] / row[\"points\"]\r\n",
    "    return r\n",
    "reviews.apply(add_ratio, axis='columns')\n",
    "```\n",
    "✅ Aquí tú decides usar price y points,\n",
    "✅ y creas una nueva columna price_per_point.\n",
    "ow"
   ]
  },
  {
   "cell_type": "markdown",
   "id": "c32b0692-3a53-4440-98e4-4e35bbde0478",
   "metadata": {},
   "source": [
    "*IMPORTANT*\n",
    "Note that map() and apply() return new, transformed Series and DataFrames, respectively. They don't modify the original data they're called on. If we look at the first row of reviews, we can see that it still has its original points value."
   ]
  },
  {
   "cell_type": "markdown",
   "id": "d85e2619-0d53-40f8-9d31-fd1c2d87e6f6",
   "metadata": {},
   "source": [
    "Pandas provides many common mapping operations as built-ins. For example, here's a faster way of remeaning our points column:\n",
    "```\n",
    "review_points_mean = reviews.points.mean()\r\n",
    "reviews.points - review_points_mea\n",
    "```\n",
    "In this code we are performing an operation between a lot of values on the left-hand side (everything in the Series) and a single value on the right-hand side (the mean value). Pandas looks at this expression and figures out that we must mean to subtract that mean value from every value in the dataset.\n",
    "\n",
    "Pandas will also understand what to do if we perform these operations between Series of equal length. For example, an easy way of combining country and region information in the dataset would be to do the following:\n",
    "```\n",
    "reviews.country + \" - \" + reviews.region_1\r",
    "```\n",
    "These operators are faster than map() or apply() because they use speed ups built into pandas. All of the standard Python operators (>, <, ==, and so on) work in this manner.\r\n",
    "\r\n",
    "However, they are not as flexible as map() or apply(), which can do more advanced things, like applying conditional logic, which cannot be done with addition and subtraction alone.\n",
    ".\n",
    "n\r\n"
   ]
  },
  {
   "cell_type": "markdown",
   "id": "2de863e0-b8b7-40ad-bfb7-9971855064e5",
   "metadata": {},
   "source": [
    "REMEMBER:\n",
    "¿Y si quisieras guardarlo?\n",
    "```\n",
    "reviews[\"points_demeaned\"] = reviews.points - review_points_mean\n",
    "```\n",
    "Esto crea una nueva columna llamada \"points_demeaned\" y guarda allí el resultado de restarle el promedio a cada valor."
   ]
  },
  {
   "cell_type": "markdown",
   "id": "75741b7e-0fd8-4c6f-a7fd-a22491dbbfc8",
   "metadata": {},
   "source": [
    "**EXERCISES**"
   ]
  },
  {
   "cell_type": "code",
   "execution_count": 3,
   "id": "0482180a-cf8e-4a4b-bb47-1eafbb1f107e",
   "metadata": {},
   "outputs": [],
   "source": [
    "import pandas as pd"
   ]
  },
  {
   "cell_type": "code",
   "execution_count": 89,
   "id": "c85ac10f-7b3f-4367-b615-49ad3072a6ab",
   "metadata": {},
   "outputs": [
    {
     "name": "stdout",
     "output_type": "stream",
     "text": [
      "    country                                        description  \\\n",
      "0     Italy  Aromas include tropical fruit, broom, and mine...   \n",
      "1  Portugal  This is ripe and fruity, a wine that is smooth...   \n",
      "2    France  A dry style of Pinot Gris, crisp with acidity ...   \n",
      "3    France  Big, rich and off-dry, with intensity and flor...   \n",
      "4     Spain  Dark cherry, spice and leather aromas dominate...   \n",
      "\n",
      "                     designation  points  price           province  \\\n",
      "0                   Vulkà Bianco      87   20.0  Sicily & Sardinia   \n",
      "1                       Avidagos      87   15.0              Douro   \n",
      "2                        Classic      90   32.0             Alsace   \n",
      "3  Lieu-dit Harth Cuvée Caroline      90   21.0             Alsace   \n",
      "4                        Reserva      98   18.0              Rioja   \n",
      "\n",
      "     region_1           region_2        taster_name taster_twitter_handle  \\\n",
      "0        Etna     Eastern Sicily      Kerin O’Keefe          @kerinokeefe   \n",
      "1       Douro  Northern Portugal         Roger Voss            @vossroger   \n",
      "2      Alsace   Northeast France         Roger Voss            @vossroger   \n",
      "3      Alsace   Northeast France         Roger Voss            @vossroger   \n",
      "4  Rioja Alta     Northern Spain  Michael Schachner           @wineschach   \n",
      "\n",
      "                                               title         variety  \\\n",
      "0                   Nicosia 2013 Vulkà Bianco (Etna)     White Blend   \n",
      "1      Quinta dos Avidagos 2011 Avidagos Red (Douro)  Portuguese Red   \n",
      "2      Domaine Marcel Deiss 2012 Pinot Gris (Alsace)      Pinot Gris   \n",
      "3  Domaine Schoffit 2012 Lieu-dit Harth Cuvée Car...  Gewürztraminer   \n",
      "4            Marqués de Cáceres 2011 Reserva (Rioja)     Tempranillo   \n",
      "\n",
      "                 winery  \n",
      "0               Nicosia  \n",
      "1   Quinta dos Avidagos  \n",
      "2  Domaine Marcel Deiss  \n",
      "3      Domaine Schoffit  \n",
      "4    Marqués de Cáceres  \n"
     ]
    }
   ],
   "source": [
    "reviews = pd.DataFrame([\n",
    "    {\n",
    "        'country': 'Italy',\n",
    "        'description': 'Aromas include tropical fruit, broom, and minerals.',\n",
    "        'designation': 'Vulkà Bianco',\n",
    "        'points': 87,\n",
    "        'price': 20.0,\n",
    "        'province': 'Sicily & Sardinia',\n",
    "        'region_1': 'Etna',\n",
    "        'region_2': 'Eastern Sicily',\n",
    "        'taster_name': 'Kerin O’Keefe',\n",
    "        'taster_twitter_handle': '@kerinokeefe',\n",
    "        'title': 'Nicosia 2013 Vulkà Bianco (Etna)',\n",
    "        'variety': 'White Blend',\n",
    "        'winery': 'Nicosia'\n",
    "    },\n",
    "    {\n",
    "        'country': 'Portugal',\n",
    "        'description': 'This is ripe and fruity, a wine that is smooth and balanced.',\n",
    "        'designation': 'Avidagos',\n",
    "        'points': 87,\n",
    "        'price': 15.0,\n",
    "        'province': 'Douro',\n",
    "        'region_1': 'Douro',\n",
    "        'region_2': 'Northern Portugal',\n",
    "        'taster_name': 'Roger Voss',\n",
    "        'taster_twitter_handle': '@vossroger',\n",
    "        'title': 'Quinta dos Avidagos 2011 Avidagos Red (Douro)',\n",
    "        'variety': 'Portuguese Red',\n",
    "        'winery': 'Quinta dos Avidagos'\n",
    "    },\n",
    "    {\n",
    "        'country': 'France',\n",
    "        'description': 'A dry style of Pinot Gris, crisp with acidity and minerality.',\n",
    "        'designation': 'Classic',\n",
    "        'points': 90,\n",
    "        'price': 32.0,\n",
    "        'province': 'Alsace',\n",
    "        'region_1': 'Alsace',\n",
    "        'region_2': 'Northeast France',\n",
    "        'taster_name': 'Roger Voss',\n",
    "        'taster_twitter_handle': '@vossroger',\n",
    "        'title': 'Domaine Marcel Deiss 2012 Pinot Gris (Alsace)',\n",
    "        'variety': 'Pinot Gris',\n",
    "        'winery': 'Domaine Marcel Deiss'\n",
    "    },\n",
    "    {\n",
    "        'country': 'France',\n",
    "        'description': 'Big, rich and off-dry, with intensity and floral notes.',\n",
    "        'designation': 'Lieu-dit Harth Cuvée Caroline',\n",
    "        'points': 90,\n",
    "        'price': 21.0,\n",
    "        'province': 'Alsace',\n",
    "        'region_1': 'Alsace',\n",
    "        'region_2': 'Northeast France',\n",
    "        'taster_name': 'Roger Voss',\n",
    "        'taster_twitter_handle': '@vossroger',\n",
    "        'title': 'Domaine Schoffit 2012 Lieu-dit Harth Cuvée Caroline (Alsace)',\n",
    "        'variety': 'Gewürztraminer',\n",
    "        'winery': 'Domaine Schoffit'\n",
    "    },\n",
    "    {\n",
    "        'country': 'Spain',\n",
    "        'description': 'Dark cherry, spice and leather aromas dominate this classic Rioja.',\n",
    "        'designation': 'Reserva',\n",
    "        'points': 98,\n",
    "        'price': 18.0,\n",
    "        'province': 'Rioja',\n",
    "        'region_1': 'Rioja Alta',\n",
    "        'region_2': 'Northern Spain',\n",
    "        'taster_name': 'Michael Schachner',\n",
    "        'taster_twitter_handle': '@wineschach',\n",
    "        'title': 'Marqués de Cáceres 2011 Reserva (Rioja)',\n",
    "        'variety': 'Tempranillo',\n",
    "        'winery': 'Marqués de Cáceres'\n",
    "    },\n",
    "    {\n",
    "        'country': 'Canada',\n",
    "        'description': 'Fruity and soft, with hints of raspberry and vanilla.',\n",
    "        'designation': 'Estate',\n",
    "        'points': 60,\n",
    "        'price': 25.0,\n",
    "        'province': 'California',\n",
    "        'region_1': 'Napa Valley',\n",
    "        'region_2': 'North Coast',\n",
    "        'taster_name': 'Jim Gordon',\n",
    "        'taster_twitter_handle': '@jimgordonwine',\n",
    "        'title': 'Robert Mondavi 2014 Cabernet Sauvignon (Napa Valley)',\n",
    "        'variety': 'Cabernet Sauvignon',\n",
    "        'winery': 'Robert Mondavi'\n",
    "    },\n",
    "    {\n",
    "        'country': 'Argentina',\n",
    "        'description': 'Bold and structured, offering black fruit and mocha.',\n",
    "        'designation': 'Gran Reserva',\n",
    "        'points': 92,\n",
    "        'price': 30.0,\n",
    "        'province': 'Mendoza Province',\n",
    "        'region_1': 'Uco Valley',\n",
    "        'region_2': 'Mendoza',\n",
    "        'taster_name': 'Alejandro Iglesias',\n",
    "        'taster_twitter_handle': '@aliglesiaswine',\n",
    "        'title': 'Trapiche 2015 Gran Reserva Malbec (Uco Valley)',\n",
    "        'variety': 'Malbec',\n",
    "        'winery': 'Trapiche'\n",
    "    },\n",
    "    {\n",
    "        'country': 'Chile',\n",
    "        'description': 'Smooth, with red berries and a touch of herbs.',\n",
    "        'designation': 'Reserva Especial',\n",
    "        'points': 86,\n",
    "        'price': 12.0,\n",
    "        'province': 'Maipo Valley',\n",
    "        'region_1': 'Maipo Valley',\n",
    "        'region_2': 'Central Valley',\n",
    "        'taster_name': 'Patricio Tapia',\n",
    "        'taster_twitter_handle': '@ptapiawine',\n",
    "        'title': 'Concha y Toro 2016 Carmenere (Maipo Valley)',\n",
    "        'variety': 'Carmenere',\n",
    "        'winery': 'Concha y Toro'\n",
    "    },\n",
    "    {\n",
    "        'country': 'Germany',\n",
    "        'description': 'Lively and fresh, with notes of green apple and lime.',\n",
    "        'designation': 'Kabinett',\n",
    "        'points': 91,\n",
    "        'price': 22.0,\n",
    "        'province': 'Mosel',\n",
    "        'region_1': 'Mosel',\n",
    "        'region_2': 'Western Germany',\n",
    "        'taster_name': 'Anne Krebiehl',\n",
    "        'taster_twitter_handle': '@annewine',\n",
    "        'title': 'Dr. Loosen 2015 Riesling Kabinett (Mosel)',\n",
    "        'variety': 'Riesling',\n",
    "        'winery': 'Dr. Loosen'\n",
    "    },\n",
    "    {\n",
    "        'country': 'South Africa',\n",
    "        'description': 'Aromas of citrus and melon, fresh and vibrant.',\n",
    "        'designation': 'Signature',\n",
    "        'points': 85,\n",
    "        'price': 10.0,\n",
    "        'province': 'Western Cape',\n",
    "        'region_1': 'Stellenbosch',\n",
    "        'region_2': 'Coastal Region',\n",
    "        'taster_name': 'Lauren Buzzeo',\n",
    "        'taster_twitter_handle': '@laurenbuzzeo',\n",
    "        'title': 'Spier 2016 Chenin Blanc (Western Cape)',\n",
    "        'variety': 'Chenin Blanc',\n",
    "        'winery': 'Spier'\n",
    "    },\n",
    "    {\n",
    "        'country': 'South Africa',\n",
    "        'description': 'Aromas of citrus and melon, fresh and vibrant.',\n",
    "        'designation': 'Signature',\n",
    "        'points': 85,\n",
    "        'price': 10.0,\n",
    "        'province': 'Western Cape',\n",
    "        'region_1': 'Stellenbosch',\n",
    "        'region_2': 'Coastal Region',\n",
    "        'taster_name': 'Lauren Buzzeo',\n",
    "        'taster_twitter_handle': '@laurenbuzzeo',\n",
    "        'title': 'Spier 2016 Chenin Blanc (Western Cape)',\n",
    "        'variety': 'Chenin Blanc',\n",
    "        'winery': 'Spier'\n",
    "    }\n",
    "])\n",
    "\n",
    "print(reviews.head())"
   ]
  },
  {
   "cell_type": "code",
   "execution_count": null,
   "id": "30edb264-fb29-4ae5-9fb4-fd39e0a7d05e",
   "metadata": {},
   "outputs": [],
   "source": [
    "dir(reviews.points)"
   ]
  },
  {
   "cell_type": "code",
   "execution_count": 20,
   "id": "e7bbbc42-8188-4ca6-9cd9-db7d3278e93e",
   "metadata": {},
   "outputs": [
    {
     "name": "stdout",
     "output_type": "stream",
     "text": [
      "    country                                        description  \\\n",
      "0     Italy  Aromas include tropical fruit, broom, and mine...   \n",
      "1  Portugal  This is ripe and fruity, a wine that is smooth...   \n",
      "2    France  A dry style of Pinot Gris, crisp with acidity ...   \n",
      "3    France  Big, rich and off-dry, with intensity and flor...   \n",
      "4     Spain  Dark cherry, spice and leather aromas dominate...   \n",
      "\n",
      "                     designation  points  price           province  \\\n",
      "0                   Vulkà Bianco      87   20.0  Sicily & Sardinia   \n",
      "1                       Avidagos      87   15.0              Douro   \n",
      "2                        Classic      90   32.0             Alsace   \n",
      "3  Lieu-dit Harth Cuvée Caroline      90   21.0             Alsace   \n",
      "4                        Reserva      89   18.0              Rioja   \n",
      "\n",
      "     region_1           region_2        taster_name taster_twitter_handle  \\\n",
      "0        Etna     Eastern Sicily      Kerin O’Keefe          @kerinokeefe   \n",
      "1       Douro  Northern Portugal         Roger Voss            @vossroger   \n",
      "2      Alsace   Northeast France         Roger Voss            @vossroger   \n",
      "3      Alsace   Northeast France         Roger Voss            @vossroger   \n",
      "4  Rioja Alta     Northern Spain  Michael Schachner           @wineschach   \n",
      "\n",
      "                                               title         variety  \\\n",
      "0                   Nicosia 2013 Vulkà Bianco (Etna)     White Blend   \n",
      "1      Quinta dos Avidagos 2011 Avidagos Red (Douro)  Portuguese Red   \n",
      "2      Domaine Marcel Deiss 2012 Pinot Gris (Alsace)      Pinot Gris   \n",
      "3  Domaine Schoffit 2012 Lieu-dit Harth Cuvée Car...  Gewürztraminer   \n",
      "4            Marqués de Cáceres 2011 Reserva (Rioja)     Tempranillo   \n",
      "\n",
      "                 winery  points_mean  \n",
      "0               Nicosia         88.5  \n",
      "1   Quinta dos Avidagos         88.5  \n",
      "2  Domaine Marcel Deiss         88.5  \n",
      "3      Domaine Schoffit         88.5  \n",
      "4    Marqués de Cáceres         88.5  \n"
     ]
    }
   ],
   "source": [
    "reviews[\"points_mean\"] = reviews.points.mean()\n",
    "print(reviews.head(5))"
   ]
  },
  {
   "cell_type": "code",
   "execution_count": 24,
   "id": "d42f0c6f-7bc9-4685-aa3d-c25b386cb07a",
   "metadata": {},
   "outputs": [
    {
     "name": "stdout",
     "output_type": "stream",
     "text": [
      "    country                                        description  \\\n",
      "0     Italy  Aromas include tropical fruit, broom, and mine...   \n",
      "1  Portugal  This is ripe and fruity, a wine that is smooth...   \n",
      "2    France  A dry style of Pinot Gris, crisp with acidity ...   \n",
      "3    France  Big, rich and off-dry, with intensity and flor...   \n",
      "4     Spain  Dark cherry, spice and leather aromas dominate...   \n",
      "\n",
      "                     designation  points  price           province  \\\n",
      "0                   Vulkà Bianco      87   20.0  Sicily & Sardinia   \n",
      "1                       Avidagos      87   15.0              Douro   \n",
      "2                        Classic      90   32.0             Alsace   \n",
      "3  Lieu-dit Harth Cuvée Caroline      90   21.0             Alsace   \n",
      "4                        Reserva      89   18.0              Rioja   \n",
      "\n",
      "     region_1           region_2        taster_name taster_twitter_handle  \\\n",
      "0        Etna     Eastern Sicily      Kerin O’Keefe          @kerinokeefe   \n",
      "1       Douro  Northern Portugal         Roger Voss            @vossroger   \n",
      "2      Alsace   Northeast France         Roger Voss            @vossroger   \n",
      "3      Alsace   Northeast France         Roger Voss            @vossroger   \n",
      "4  Rioja Alta     Northern Spain  Michael Schachner           @wineschach   \n",
      "\n",
      "                                               title         variety  \\\n",
      "0                   Nicosia 2013 Vulkà Bianco (Etna)     White Blend   \n",
      "1      Quinta dos Avidagos 2011 Avidagos Red (Douro)  Portuguese Red   \n",
      "2      Domaine Marcel Deiss 2012 Pinot Gris (Alsace)      Pinot Gris   \n",
      "3  Domaine Schoffit 2012 Lieu-dit Harth Cuvée Car...  Gewürztraminer   \n",
      "4            Marqués de Cáceres 2011 Reserva (Rioja)     Tempranillo   \n",
      "\n",
      "                 winery  points_mean  median_points  \n",
      "0               Nicosia         88.5           88.5  \n",
      "1   Quinta dos Avidagos         88.5           88.5  \n",
      "2  Domaine Marcel Deiss         88.5           88.5  \n",
      "3      Domaine Schoffit         88.5           88.5  \n",
      "4    Marqués de Cáceres         88.5           88.5  \n"
     ]
    }
   ],
   "source": [
    "reviews[\"median_points\"] = reviews.points.median()\n",
    "print(reviews.head())"
   ]
  },
  {
   "cell_type": "code",
   "execution_count": 58,
   "id": "4860b7c5-c62e-4b83-b3e4-965d18e9466c",
   "metadata": {},
   "outputs": [
    {
     "name": "stdout",
     "output_type": "stream",
     "text": [
      "['Nicosia' 'Quinta dos Avidagos' 'Domaine Marcel Deiss' 'Domaine Schoffit'\n",
      " 'Marqués de Cáceres' 'Robert Mondavi' 'Trapiche' 'Concha y Toro'\n",
      " 'Dr. Loosen' 'Spier']\n",
      "11\n",
      "winery\n",
      "Spier                   2\n",
      "Nicosia                 1\n",
      "Quinta dos Avidagos     1\n",
      "Domaine Marcel Deiss    1\n",
      "Domaine Schoffit        1\n",
      "Marqués de Cáceres      1\n",
      "Robert Mondavi          1\n",
      "Trapiche                1\n",
      "Concha y Toro           1\n",
      "Dr. Loosen              1\n",
      "Name: count, dtype: int64\n"
     ]
    }
   ],
   "source": [
    "#see how many different wines im seeing\n",
    "print(reviews.winery.unique()) #to get a list of unique entries in a column\n",
    "print(reviews.winery.count())\n",
    "print(reviews.winery.value_counts()) #To see a list of unique values and how often they occur in a Series"
   ]
  },
  {
   "cell_type": "code",
   "execution_count": 64,
   "id": "59621dca-4aa1-462e-a69d-fcce6705609f",
   "metadata": {},
   "outputs": [
    {
     "data": {
      "text/html": [
       "<div>\n",
       "<style scoped>\n",
       "    .dataframe tbody tr th:only-of-type {\n",
       "        vertical-align: middle;\n",
       "    }\n",
       "\n",
       "    .dataframe tbody tr th {\n",
       "        vertical-align: top;\n",
       "    }\n",
       "\n",
       "    .dataframe thead th {\n",
       "        text-align: right;\n",
       "    }\n",
       "</style>\n",
       "<table border=\"1\" class=\"dataframe\">\n",
       "  <thead>\n",
       "    <tr style=\"text-align: right;\">\n",
       "      <th></th>\n",
       "      <th>country</th>\n",
       "      <th>description</th>\n",
       "      <th>designation</th>\n",
       "      <th>points</th>\n",
       "      <th>price</th>\n",
       "      <th>province</th>\n",
       "      <th>region_1</th>\n",
       "      <th>region_2</th>\n",
       "      <th>taster_name</th>\n",
       "      <th>taster_twitter_handle</th>\n",
       "      <th>title</th>\n",
       "      <th>variety</th>\n",
       "      <th>winery</th>\n",
       "    </tr>\n",
       "  </thead>\n",
       "  <tbody>\n",
       "    <tr>\n",
       "      <th>0</th>\n",
       "      <td>Italy</td>\n",
       "      <td>Aromas include tropical fruit, broom, and mine...</td>\n",
       "      <td>Vulkà Bianco</td>\n",
       "      <td>87</td>\n",
       "      <td>20.0</td>\n",
       "      <td>Sicily &amp; Sardinia</td>\n",
       "      <td>Etna</td>\n",
       "      <td>Eastern Sicily</td>\n",
       "      <td>Kerin O’Keefe</td>\n",
       "      <td>@kerinokeefe</td>\n",
       "      <td>Nicosia 2013 Vulkà Bianco (Etna)</td>\n",
       "      <td>White Blend</td>\n",
       "      <td>Nicosia</td>\n",
       "    </tr>\n",
       "    <tr>\n",
       "      <th>1</th>\n",
       "      <td>Portugal</td>\n",
       "      <td>This is ripe and fruity, a wine that is smooth...</td>\n",
       "      <td>Avidagos</td>\n",
       "      <td>87</td>\n",
       "      <td>15.0</td>\n",
       "      <td>Douro</td>\n",
       "      <td>Douro</td>\n",
       "      <td>Northern Portugal</td>\n",
       "      <td>Roger Voss</td>\n",
       "      <td>@vossroger</td>\n",
       "      <td>Quinta dos Avidagos 2011 Avidagos Red (Douro)</td>\n",
       "      <td>Portuguese Red</td>\n",
       "      <td>Quinta dos Avidagos</td>\n",
       "    </tr>\n",
       "    <tr>\n",
       "      <th>2</th>\n",
       "      <td>France</td>\n",
       "      <td>A dry style of Pinot Gris, crisp with acidity ...</td>\n",
       "      <td>Classic</td>\n",
       "      <td>90</td>\n",
       "      <td>32.0</td>\n",
       "      <td>Alsace</td>\n",
       "      <td>Alsace</td>\n",
       "      <td>Northeast France</td>\n",
       "      <td>Roger Voss</td>\n",
       "      <td>@vossroger</td>\n",
       "      <td>Domaine Marcel Deiss 2012 Pinot Gris (Alsace)</td>\n",
       "      <td>Pinot Gris</td>\n",
       "      <td>Domaine Marcel Deiss</td>\n",
       "    </tr>\n",
       "    <tr>\n",
       "      <th>3</th>\n",
       "      <td>France</td>\n",
       "      <td>Big, rich and off-dry, with intensity and flor...</td>\n",
       "      <td>Lieu-dit Harth Cuvée Caroline</td>\n",
       "      <td>90</td>\n",
       "      <td>21.0</td>\n",
       "      <td>Alsace</td>\n",
       "      <td>Alsace</td>\n",
       "      <td>Northeast France</td>\n",
       "      <td>Roger Voss</td>\n",
       "      <td>@vossroger</td>\n",
       "      <td>Domaine Schoffit 2012 Lieu-dit Harth Cuvée Car...</td>\n",
       "      <td>Gewürztraminer</td>\n",
       "      <td>Domaine Schoffit</td>\n",
       "    </tr>\n",
       "    <tr>\n",
       "      <th>4</th>\n",
       "      <td>Spain</td>\n",
       "      <td>Dark cherry, spice and leather aromas dominate...</td>\n",
       "      <td>Reserva</td>\n",
       "      <td>89</td>\n",
       "      <td>18.0</td>\n",
       "      <td>Rioja</td>\n",
       "      <td>Rioja Alta</td>\n",
       "      <td>Northern Spain</td>\n",
       "      <td>Michael Schachner</td>\n",
       "      <td>@wineschach</td>\n",
       "      <td>Marqués de Cáceres 2011 Reserva (Rioja)</td>\n",
       "      <td>Tempranillo</td>\n",
       "      <td>Marqués de Cáceres</td>\n",
       "    </tr>\n",
       "    <tr>\n",
       "      <th>5</th>\n",
       "      <td>US</td>\n",
       "      <td>Fruity and soft, with hints of raspberry and v...</td>\n",
       "      <td>Estate</td>\n",
       "      <td>88</td>\n",
       "      <td>25.0</td>\n",
       "      <td>California</td>\n",
       "      <td>Napa Valley</td>\n",
       "      <td>North Coast</td>\n",
       "      <td>Jim Gordon</td>\n",
       "      <td>@jimgordonwine</td>\n",
       "      <td>Robert Mondavi 2014 Cabernet Sauvignon (Napa V...</td>\n",
       "      <td>Cabernet Sauvignon</td>\n",
       "      <td>Robert Mondavi</td>\n",
       "    </tr>\n",
       "    <tr>\n",
       "      <th>6</th>\n",
       "      <td>Argentina</td>\n",
       "      <td>Bold and structured, offering black fruit and ...</td>\n",
       "      <td>Gran Reserva</td>\n",
       "      <td>92</td>\n",
       "      <td>30.0</td>\n",
       "      <td>Mendoza Province</td>\n",
       "      <td>Uco Valley</td>\n",
       "      <td>Mendoza</td>\n",
       "      <td>Alejandro Iglesias</td>\n",
       "      <td>@aliglesiaswine</td>\n",
       "      <td>Trapiche 2015 Gran Reserva Malbec (Uco Valley)</td>\n",
       "      <td>Malbec</td>\n",
       "      <td>Trapiche</td>\n",
       "    </tr>\n",
       "    <tr>\n",
       "      <th>7</th>\n",
       "      <td>Chile</td>\n",
       "      <td>Smooth, with red berries and a touch of herbs.</td>\n",
       "      <td>Reserva Especial</td>\n",
       "      <td>86</td>\n",
       "      <td>12.0</td>\n",
       "      <td>Maipo Valley</td>\n",
       "      <td>Maipo Valley</td>\n",
       "      <td>Central Valley</td>\n",
       "      <td>Patricio Tapia</td>\n",
       "      <td>@ptapiawine</td>\n",
       "      <td>Concha y Toro 2016 Carmenere (Maipo Valley)</td>\n",
       "      <td>Carmenere</td>\n",
       "      <td>Concha y Toro</td>\n",
       "    </tr>\n",
       "    <tr>\n",
       "      <th>8</th>\n",
       "      <td>Germany</td>\n",
       "      <td>Lively and fresh, with notes of green apple an...</td>\n",
       "      <td>Kabinett</td>\n",
       "      <td>91</td>\n",
       "      <td>22.0</td>\n",
       "      <td>Mosel</td>\n",
       "      <td>Mosel</td>\n",
       "      <td>Western Germany</td>\n",
       "      <td>Anne Krebiehl</td>\n",
       "      <td>@annewine</td>\n",
       "      <td>Dr. Loosen 2015 Riesling Kabinett (Mosel)</td>\n",
       "      <td>Riesling</td>\n",
       "      <td>Dr. Loosen</td>\n",
       "    </tr>\n",
       "    <tr>\n",
       "      <th>9</th>\n",
       "      <td>South Africa</td>\n",
       "      <td>Aromas of citrus and melon, fresh and vibrant.</td>\n",
       "      <td>Signature</td>\n",
       "      <td>85</td>\n",
       "      <td>10.0</td>\n",
       "      <td>Western Cape</td>\n",
       "      <td>Stellenbosch</td>\n",
       "      <td>Coastal Region</td>\n",
       "      <td>Lauren Buzzeo</td>\n",
       "      <td>@laurenbuzzeo</td>\n",
       "      <td>Spier 2016 Chenin Blanc (Western Cape)</td>\n",
       "      <td>Chenin Blanc</td>\n",
       "      <td>Spier</td>\n",
       "    </tr>\n",
       "    <tr>\n",
       "      <th>10</th>\n",
       "      <td>South Africa</td>\n",
       "      <td>Aromas of citrus and melon, fresh and vibrant.</td>\n",
       "      <td>Signature</td>\n",
       "      <td>85</td>\n",
       "      <td>10.0</td>\n",
       "      <td>Western Cape</td>\n",
       "      <td>Stellenbosch</td>\n",
       "      <td>Coastal Region</td>\n",
       "      <td>Lauren Buzzeo</td>\n",
       "      <td>@laurenbuzzeo</td>\n",
       "      <td>Spier 2016 Chenin Blanc (Western Cape)</td>\n",
       "      <td>Chenin Blanc</td>\n",
       "      <td>Spier</td>\n",
       "    </tr>\n",
       "  </tbody>\n",
       "</table>\n",
       "</div>"
      ],
      "text/plain": [
       "         country                                        description  \\\n",
       "0          Italy  Aromas include tropical fruit, broom, and mine...   \n",
       "1       Portugal  This is ripe and fruity, a wine that is smooth...   \n",
       "2         France  A dry style of Pinot Gris, crisp with acidity ...   \n",
       "3         France  Big, rich and off-dry, with intensity and flor...   \n",
       "4          Spain  Dark cherry, spice and leather aromas dominate...   \n",
       "5             US  Fruity and soft, with hints of raspberry and v...   \n",
       "6      Argentina  Bold and structured, offering black fruit and ...   \n",
       "7          Chile     Smooth, with red berries and a touch of herbs.   \n",
       "8        Germany  Lively and fresh, with notes of green apple an...   \n",
       "9   South Africa     Aromas of citrus and melon, fresh and vibrant.   \n",
       "10  South Africa     Aromas of citrus and melon, fresh and vibrant.   \n",
       "\n",
       "                      designation  points  price           province  \\\n",
       "0                    Vulkà Bianco      87   20.0  Sicily & Sardinia   \n",
       "1                        Avidagos      87   15.0              Douro   \n",
       "2                         Classic      90   32.0             Alsace   \n",
       "3   Lieu-dit Harth Cuvée Caroline      90   21.0             Alsace   \n",
       "4                         Reserva      89   18.0              Rioja   \n",
       "5                          Estate      88   25.0         California   \n",
       "6                    Gran Reserva      92   30.0   Mendoza Province   \n",
       "7                Reserva Especial      86   12.0       Maipo Valley   \n",
       "8                        Kabinett      91   22.0              Mosel   \n",
       "9                       Signature      85   10.0       Western Cape   \n",
       "10                      Signature      85   10.0       Western Cape   \n",
       "\n",
       "        region_1           region_2         taster_name taster_twitter_handle  \\\n",
       "0           Etna     Eastern Sicily       Kerin O’Keefe          @kerinokeefe   \n",
       "1          Douro  Northern Portugal          Roger Voss            @vossroger   \n",
       "2         Alsace   Northeast France          Roger Voss            @vossroger   \n",
       "3         Alsace   Northeast France          Roger Voss            @vossroger   \n",
       "4     Rioja Alta     Northern Spain   Michael Schachner           @wineschach   \n",
       "5    Napa Valley        North Coast          Jim Gordon        @jimgordonwine   \n",
       "6     Uco Valley            Mendoza  Alejandro Iglesias       @aliglesiaswine   \n",
       "7   Maipo Valley     Central Valley      Patricio Tapia           @ptapiawine   \n",
       "8          Mosel    Western Germany       Anne Krebiehl             @annewine   \n",
       "9   Stellenbosch     Coastal Region       Lauren Buzzeo         @laurenbuzzeo   \n",
       "10  Stellenbosch     Coastal Region       Lauren Buzzeo         @laurenbuzzeo   \n",
       "\n",
       "                                                title             variety  \\\n",
       "0                    Nicosia 2013 Vulkà Bianco (Etna)         White Blend   \n",
       "1       Quinta dos Avidagos 2011 Avidagos Red (Douro)      Portuguese Red   \n",
       "2       Domaine Marcel Deiss 2012 Pinot Gris (Alsace)          Pinot Gris   \n",
       "3   Domaine Schoffit 2012 Lieu-dit Harth Cuvée Car...      Gewürztraminer   \n",
       "4             Marqués de Cáceres 2011 Reserva (Rioja)         Tempranillo   \n",
       "5   Robert Mondavi 2014 Cabernet Sauvignon (Napa V...  Cabernet Sauvignon   \n",
       "6      Trapiche 2015 Gran Reserva Malbec (Uco Valley)              Malbec   \n",
       "7         Concha y Toro 2016 Carmenere (Maipo Valley)           Carmenere   \n",
       "8           Dr. Loosen 2015 Riesling Kabinett (Mosel)            Riesling   \n",
       "9              Spier 2016 Chenin Blanc (Western Cape)        Chenin Blanc   \n",
       "10             Spier 2016 Chenin Blanc (Western Cape)        Chenin Blanc   \n",
       "\n",
       "                  winery  \n",
       "0                Nicosia  \n",
       "1    Quinta dos Avidagos  \n",
       "2   Domaine Marcel Deiss  \n",
       "3       Domaine Schoffit  \n",
       "4     Marqués de Cáceres  \n",
       "5         Robert Mondavi  \n",
       "6               Trapiche  \n",
       "7          Concha y Toro  \n",
       "8             Dr. Loosen  \n",
       "9                  Spier  \n",
       "10                 Spier  "
      ]
     },
     "execution_count": 64,
     "metadata": {},
     "output_type": "execute_result"
    }
   ],
   "source": [
    "reviews.head(11)"
   ]
  },
  {
   "cell_type": "code",
   "execution_count": 68,
   "id": "922f1666-59a4-42a1-9eaa-0fe98316f5e6",
   "metadata": {},
   "outputs": [
    {
     "data": {
      "text/plain": [
       "country\n",
       "France          2\n",
       "South Africa    2\n",
       "Italy           1\n",
       "Portugal        1\n",
       "Spain           1\n",
       "US              1\n",
       "Argentina       1\n",
       "Chile           1\n",
       "Germany         1\n",
       "Name: count, dtype: int64"
      ]
     },
     "execution_count": 68,
     "metadata": {},
     "output_type": "execute_result"
    }
   ],
   "source": [
    "reviews.country.value_counts()"
   ]
  },
  {
   "cell_type": "markdown",
   "id": "5d4b34f3-6e9b-43e2-8801-2540fa2ee939",
   "metadata": {},
   "source": [
    "**Exercise 4:** Create variable centered_price containing a version of the price column with the mean price subtracted.\n",
    "(Note: this 'centering' transformation is a common preprocessing step before applying various machine learning algorithms.) "
   ]
  },
  {
   "cell_type": "code",
   "execution_count": 72,
   "id": "ae918306-5988-45c1-babc-c78cb2f50803",
   "metadata": {},
   "outputs": [
    {
     "name": "stdout",
     "output_type": "stream",
     "text": [
      "0      0.454545\n",
      "1     -4.545455\n",
      "2     12.454545\n",
      "3      1.454545\n",
      "4     -1.545455\n",
      "5      5.454545\n",
      "6     10.454545\n",
      "7     -7.545455\n",
      "8      2.454545\n",
      "9     -9.545455\n",
      "10    -9.545455\n",
      "Name: price, dtype: float64\n"
     ]
    }
   ],
   "source": [
    "centered_price = reviews.price - reviews.price.mean()\n",
    "print(centered_price)"
   ]
  },
  {
   "cell_type": "code",
   "execution_count": 9,
   "id": "d0c10781-ed66-4685-a9a3-b1604556ecaa",
   "metadata": {},
   "outputs": [
    {
     "name": "stdout",
     "output_type": "stream",
     "text": [
      "0      0.454545\n",
      "1     -4.545455\n",
      "2     12.454545\n",
      "3      1.454545\n",
      "4     -1.545455\n",
      "5      5.454545\n",
      "6     10.454545\n",
      "7     -7.545455\n",
      "8      2.454545\n",
      "9     -9.545455\n",
      "10    -9.545455\n",
      "Name: price, dtype: float64\n"
     ]
    }
   ],
   "source": [
    "mean_price = reviews.price.mean()\n",
    "cent_price = reviews.price.map(lambda p: p - mean_price)\n",
    "print(cent_price)"
   ]
  },
  {
   "cell_type": "markdown",
   "id": "76bc1b0a-65b4-4f86-bad7-ab3290f6c541",
   "metadata": {},
   "source": [
    "**Exercise 5:** I'm an economical wine buyer. Which wine is the \"best bargain\"? Create a variable bargain_wine with the title of the wine with the highest points-to-price ratio in the dataset."
   ]
  },
  {
   "cell_type": "code",
   "execution_count": 15,
   "id": "289d1965-526b-42ab-815f-44854aec4ce0",
   "metadata": {},
   "outputs": [
    {
     "name": "stdout",
     "output_type": "stream",
     "text": [
      "Spier 2016 Chenin Blanc (Western Cape)\n"
     ]
    }
   ],
   "source": [
    "bargain_wine = reviews.title[(reviews.points/reviews.price).idxmax()]\n",
    "print(bargain_wine)"
   ]
  },
  {
   "cell_type": "code",
   "execution_count": 90,
   "id": "b9ac77b2-7aaf-487c-9428-e5642e985028",
   "metadata": {},
   "outputs": [
    {
     "name": "stdout",
     "output_type": "stream",
     "text": [
      "Spier\n"
     ]
    }
   ],
   "source": [
    "bargain_wine = reviews[\"winery\"][(reviews.points/reviews.price).idxmax()]\n",
    "print(bargain_wine)"
   ]
  },
  {
   "cell_type": "code",
   "execution_count": 96,
   "id": "b0e0a298-2367-4d8f-b605-614be371a410",
   "metadata": {},
   "outputs": [
    {
     "name": "stdout",
     "output_type": "stream",
     "text": [
      "Spier 2016 Chenin Blanc (Western Cape)\n"
     ]
    }
   ],
   "source": [
    "#Solution:\n",
    "bargain_idx = (reviews.points / reviews.price).idxmax()\n",
    "bargain_wine = reviews.loc[bargain_idx, 'title']\n",
    "print(bargain_wine)\n",
    "#REMEMBER Both loc and iloc are row-first, column-second!!!"
   ]
  },
  {
   "cell_type": "markdown",
   "id": "e62198b1-c98e-4d8e-bac7-c07f8cbdebc2",
   "metadata": {},
   "source": [
    "**Exercise 6:**\n",
    "There are only so many words you can use when describing a bottle of wine. Is a wine more likely to be \"tropical\" or \"fruity\"? Create a Series `descriptor_counts` counting how many times each of these two words appears in the `description` column in the dataset. (For simplicity, let's ignore the capitalized versions of these words.)"
   ]
  },
  {
   "cell_type": "code",
   "execution_count": 352,
   "id": "a0729bb9-b4d3-4c28-bb01-3152b2bb5789",
   "metadata": {},
   "outputs": [
    {
     "name": "stdout",
     "output_type": "stream",
     "text": [
      "tropical    1\n",
      "fruity      2\n",
      "dtype: int64\n"
     ]
    }
   ],
   "source": [
    "#define a function that splits the string into words, cleans them and then searches for the words:\n",
    "def tropical_search (list):\n",
    "    tropical = 0\n",
    "    clean_list = [i.lower().strip('.,') for i in list.split(' ')]\n",
    "    if 'tropical' in clean_list:\n",
    "        tropical += 1\n",
    "    return tropical\n",
    "def fruity_search(list):\n",
    "    fruity = 0\n",
    "    clean_list = [i.lower().strip('.,') for i in list.split(' ')]\n",
    "    if 'fruity' in clean_list:\n",
    "        fruity += 1\n",
    "    return fruity\n",
    "#now use map() to apply it to every row in the column 'description':\n",
    "result = pd.Series([sum(reviews.description.map(tropical_search)), sum(reviews.description.map(fruity_search))], index = ['tropical','fruity'] )\n",
    "print(result)\n"
   ]
  },
  {
   "cell_type": "code",
   "execution_count": 350,
   "id": "333edc3f-718e-43e1-a407-0a39dee1a8ff",
   "metadata": {},
   "outputs": [
    {
     "name": "stdout",
     "output_type": "stream",
     "text": [
      "0     False\n",
      "1      True\n",
      "2     False\n",
      "3     False\n",
      "4     False\n",
      "5     False\n",
      "6     False\n",
      "7     False\n",
      "8     False\n",
      "9     False\n",
      "10    False\n",
      "Name: description, dtype: bool\n"
     ]
    }
   ],
   "source": [
    "search_fruity = reviews.description.map(lambda description: 'fruity' in description)\n",
    "print(search_fruity)"
   ]
  },
  {
   "cell_type": "code",
   "execution_count": 340,
   "id": "36399ec6-4d6c-43a9-a5e9-6a266f0b3416",
   "metadata": {},
   "outputs": [
    {
     "name": "stdout",
     "output_type": "stream",
     "text": [
      "Fruity      1\n",
      "Tropical    1\n",
      "dtype: int64\n"
     ]
    }
   ],
   "source": [
    "search_fruity = reviews.description.map(lambda description: 'fruity' in description).sum()\n",
    "search_tropical = reviews.description.map(lambda description: 'tropical' in description).sum()\n",
    "results = pd.Series([search_fruity, search_tropical], index = ['Fruity', 'Tropical'])\n",
    "print(results)\n",
    "# have to use .sum() at the end cos i wanna sum after having the list of booleans that tell me whether the word is in the description or not"
   ]
  },
  {
   "cell_type": "code",
   "execution_count": 318,
   "id": "533305eb-4e76-48ac-b1f0-117464545795",
   "metadata": {},
   "outputs": [
    {
     "name": "stdout",
     "output_type": "stream",
     "text": [
      "tropical    1\n",
      "fruity      1\n",
      "dtype: int64\n"
     ]
    }
   ],
   "source": [
    "#Solution:\n",
    "n_trop = reviews.description.map(lambda desc: \"tropical\" in desc).sum()\n",
    "n_fruity = reviews.description.map(lambda desc: \"fruity\" in desc).sum()\n",
    "descriptor_counts = pd.Series([n_trop, n_fruity], index=['tropical', 'fruity'])\n",
    "print(descriptor_counts)"
   ]
  },
  {
   "cell_type": "markdown",
   "id": "2963d7b3-5c44-427c-91a8-fc96a79e1e3a",
   "metadata": {},
   "source": [
    "**Exercise 7:**\n",
    "We'd like to host these wine reviews on our website, but a rating system ranging from 80 to 100 points is too hard to understand - we'd like to translate them into simple star ratings. A score of 95 or higher counts as 3 stars, a score of at least 85 but less than 95 is 2 stars. Any other score is 1 star.\r\n",
    "\r\n",
    "Also, the Canadian Vintners Association bought a lot of ads on the site, so any wines from Canada should automatically get 3 stars, regardless of points.\r\n",
    "\r\n",
    "Create a series star_ratings with the number of stars corresponding to each review in the dataset."
   ]
  },
  {
   "cell_type": "code",
   "execution_count": 95,
   "id": "ba7af9a0-50ee-48e8-9063-bed8f3ecb58f",
   "metadata": {},
   "outputs": [
    {
     "name": "stdout",
     "output_type": "stream",
     "text": [
      "0      **\n",
      "1      **\n",
      "2      **\n",
      "3      **\n",
      "4     ***\n",
      "5     ***\n",
      "6      **\n",
      "7      **\n",
      "8      **\n",
      "9      **\n",
      "10     **\n",
      "dtype: object\n"
     ]
    }
   ],
   "source": [
    "def rating(row): \n",
    "    if row.country == 'Canada':\n",
    "        return('***')\n",
    "    elif row.points >=95:\n",
    "        return('***')\n",
    "    elif row.points>=85 and row.points<95: #that and is not needed cos if the latter one was crrect, this line wouldnt run\n",
    "        return('**')\n",
    "    else:\n",
    "        return('*')\n",
    "star_ratings = reviews.apply(rating,'columns')\n",
    "\n",
    "print (star_ratings)"
   ]
  },
  {
   "cell_type": "code",
   "execution_count": 75,
   "id": "b459908f-c236-430e-a539-7355a6645ee9",
   "metadata": {},
   "outputs": [
    {
     "name": "stdout",
     "output_type": "stream",
     "text": [
      "0\n",
      "11\n",
      "0\n"
     ]
    }
   ],
   "source": [
    "three = reviews.title[(reviews.points >= 95)].count()\n",
    "two = reviews.title[(reviews.points >= 85) & (reviews.points < 95)].count()\n",
    "one = reviews.title[(reviews.points < 85)].count()\n",
    "print(three)\n",
    "print(two)\n",
    "print(one)"
   ]
  },
  {
   "cell_type": "code",
   "execution_count": null,
   "id": "67c2e60d-f117-46fb-8c20-b07cbb8b2534",
   "metadata": {},
   "outputs": [],
   "source": []
  }
 ],
 "metadata": {
  "kernelspec": {
   "display_name": "Python 3 (ipykernel)",
   "language": "python",
   "name": "python3"
  },
  "language_info": {
   "codemirror_mode": {
    "name": "ipython",
    "version": 3
   },
   "file_extension": ".py",
   "mimetype": "text/x-python",
   "name": "python",
   "nbconvert_exporter": "python",
   "pygments_lexer": "ipython3",
   "version": "3.12.4"
  }
 },
 "nbformat": 4,
 "nbformat_minor": 5
}
