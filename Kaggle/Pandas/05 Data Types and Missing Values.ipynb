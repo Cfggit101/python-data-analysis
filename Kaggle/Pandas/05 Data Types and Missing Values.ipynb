{
 "cells": [
  {
   "cell_type": "markdown",
   "id": "81f5072a-aeae-480f-8f38-d2f5009e1685",
   "metadata": {},
   "source": [
    "**DATA TYPES AND MISSING VALUES**"
   ]
  },
  {
   "cell_type": "markdown",
   "id": "a0950278-a588-4476-85f5-dc96f92c953e",
   "metadata": {},
   "source": [
    "We'll see how to investigate data types within a DataFrame or Series, and also learn how to find and replace entries."
   ]
  },
  {
   "cell_type": "markdown",
   "id": "eed06dde-c235-4e0f-83e8-5636920163c8",
   "metadata": {},
   "source": [
    "**Dtypes**"
   ]
  },
  {
   "cell_type": "markdown",
   "id": "7817744d-fd61-4036-aaeb-32c46db19f4d",
   "metadata": {},
   "source": [
    "Dtypes is the data type for a column in a DataFrame or a Series\n",
    "\n",
    "You can use the dtype property to grab the type of a specific column. For instance, we can get the dtype of the price column in the reviews DataFrame:"
   ]
  },
  {
   "cell_type": "code",
   "execution_count": 11,
   "id": "6cd610c1-7a0a-4644-a9c2-a95439460f8d",
   "metadata": {},
   "outputs": [
    {
     "data": {
      "text/plain": [
       "dtype('float64')"
      ]
     },
     "execution_count": 11,
     "metadata": {},
     "output_type": "execute_result"
    }
   ],
   "source": [
    "reviews.price.dtype"
   ]
  },
  {
   "cell_type": "markdown",
   "id": "2f468898-67ce-4a12-bc9c-5b52c1af3eaa",
   "metadata": {},
   "source": [
    "Alternatively, the dtypes **property** returns the dtype of every column in the DataFrame:"
   ]
  },
  {
   "cell_type": "code",
   "execution_count": 13,
   "id": "18940836-3886-4a06-ad70-c06633b2e65f",
   "metadata": {},
   "outputs": [
    {
     "data": {
      "text/plain": [
       "country                   object\n",
       "description               object\n",
       "designation               object\n",
       "points                     int64\n",
       "price                    float64\n",
       "province                  object\n",
       "region_1                  object\n",
       "region_2                  object\n",
       "taster_name               object\n",
       "taster_twitter_handle     object\n",
       "title                     object\n",
       "variety                   object\n",
       "winery                    object\n",
       "dtype: object"
      ]
     },
     "execution_count": 13,
     "metadata": {},
     "output_type": "execute_result"
    }
   ],
   "source": [
    "reviews.dtypes"
   ]
  },
  {
   "cell_type": "markdown",
   "id": "3aa7a489-f7c3-4fb7-b499-64574bb0db0e",
   "metadata": {},
   "source": [
    "Data types tell us something about how pandas is storing the data internally. float64 means that it's using a 64-bit floating point number; int64 means a similarly sized integer instead, and so on.\n",
    "\n",
    "One peculiarity to keep in mind (and on display very clearly here) is that columns consisting entirely of strings do not get their own type; they are instead given the object type.\r\n",
    "It's possible to convert a column of one type into another wherever such a conversion makes sense by using the **astype()** function. For example, we may transform the points column from its existing int64 data type into a float64 data type:\r",
    "\r\n",
    "\r\n"
   ]
  },
  {
   "cell_type": "code",
   "execution_count": 9,
   "id": "39da1e2d-a3c1-44ea-a29e-a9d81b874cd5",
   "metadata": {},
   "outputs": [
    {
     "data": {
      "text/plain": [
       "0      87.0\n",
       "1      87.0\n",
       "2     100.0\n",
       "3      90.0\n",
       "4      89.0\n",
       "5      88.0\n",
       "6      92.0\n",
       "7      86.0\n",
       "8      91.0\n",
       "9      85.0\n",
       "10     87.0\n",
       "Name: points, dtype: float64"
      ]
     },
     "execution_count": 9,
     "metadata": {},
     "output_type": "execute_result"
    }
   ],
   "source": [
    "reviews.points.astype('float64')\n"
   ]
  },
  {
   "cell_type": "markdown",
   "id": "34be5b44-a1e2-4af3-a8b8-9ecfe9040ff7",
   "metadata": {},
   "source": [
    "A DataFrame or Series index has its own dtype, too:\r",
    "\r\n"
   ]
  },
  {
   "cell_type": "code",
   "execution_count": 7,
   "id": "c9aa79d1-5d5b-4f69-b873-e1687789c031",
   "metadata": {},
   "outputs": [
    {
     "data": {
      "text/plain": [
       "dtype('int64')"
      ]
     },
     "execution_count": 7,
     "metadata": {},
     "output_type": "execute_result"
    }
   ],
   "source": [
    "reviews.index.dtype\n"
   ]
  },
  {
   "cell_type": "markdown",
   "id": "f3525a35-173d-408c-8d82-d1377afac848",
   "metadata": {},
   "source": [
    "Pandas also supports more exotic data types, such as categorical data and timeseries data. Because these data types are more rarely used, we will omit them until a much later section of this tutorial.\n"
   ]
  },
  {
   "cell_type": "markdown",
   "id": "98b81124-b08d-49c3-8c77-4d6b9f187fe1",
   "metadata": {},
   "source": [
    "**Missing data**"
   ]
  },
  {
   "cell_type": "markdown",
   "id": "b2cce157-19db-44f0-a97f-cbbef3be7a76",
   "metadata": {},
   "source": [
    "Entries missing values are given the value NaN, short for \"Not a Number\". For technical reasons these NaN values are always of the float64 dtype"
   ]
  },
  {
   "cell_type": "markdown",
   "id": "c8bccf51-0fd5-4e86-a9f2-b7f6d569eb45",
   "metadata": {},
   "source": [
    "Pandas provides some methods specific to missing data. To select NaN entries you can use **pd.isnull()** (or its companion **pd.notnull()**). This is meant to be used thusly:"
   ]
  },
  {
   "cell_type": "code",
   "execution_count": 17,
   "id": "4e0061f5-2941-467d-901b-242ec82d73a2",
   "metadata": {},
   "outputs": [
    {
     "data": {
      "text/html": [
       "<div>\n",
       "<style scoped>\n",
       "    .dataframe tbody tr th:only-of-type {\n",
       "        vertical-align: middle;\n",
       "    }\n",
       "\n",
       "    .dataframe tbody tr th {\n",
       "        vertical-align: top;\n",
       "    }\n",
       "\n",
       "    .dataframe thead th {\n",
       "        text-align: right;\n",
       "    }\n",
       "</style>\n",
       "<table border=\"1\" class=\"dataframe\">\n",
       "  <thead>\n",
       "    <tr style=\"text-align: right;\">\n",
       "      <th></th>\n",
       "      <th>country</th>\n",
       "      <th>description</th>\n",
       "      <th>designation</th>\n",
       "      <th>points</th>\n",
       "      <th>price</th>\n",
       "      <th>province</th>\n",
       "      <th>region_1</th>\n",
       "      <th>region_2</th>\n",
       "      <th>taster_name</th>\n",
       "      <th>taster_twitter_handle</th>\n",
       "      <th>title</th>\n",
       "      <th>variety</th>\n",
       "      <th>winery</th>\n",
       "    </tr>\n",
       "  </thead>\n",
       "  <tbody>\n",
       "  </tbody>\n",
       "</table>\n",
       "</div>"
      ],
      "text/plain": [
       "Empty DataFrame\n",
       "Columns: [country, description, designation, points, price, province, region_1, region_2, taster_name, taster_twitter_handle, title, variety, winery]\n",
       "Index: []"
      ]
     },
     "execution_count": 17,
     "metadata": {},
     "output_type": "execute_result"
    }
   ],
   "source": [
    "reviews[pd.isnull(reviews.country)]\n"
   ]
  },
  {
   "cell_type": "markdown",
   "id": "6f027d7b-1500-4dc2-996d-4e9f417629f7",
   "metadata": {},
   "source": [
    "Replacing missing values is a common operation. Pandas provides a really handy method for this problem: fillna(). **fillna()** provides a few different strategies for mitigating such data. For example, we can simply replace each NaN with an \"Unknown\":"
   ]
  },
  {
   "cell_type": "code",
   "execution_count": 23,
   "id": "81a84e5e-fd59-465c-9cc4-426450786381",
   "metadata": {},
   "outputs": [
    {
     "data": {
      "text/html": [
       "<div>\n",
       "<style scoped>\n",
       "    .dataframe tbody tr th:only-of-type {\n",
       "        vertical-align: middle;\n",
       "    }\n",
       "\n",
       "    .dataframe tbody tr th {\n",
       "        vertical-align: top;\n",
       "    }\n",
       "\n",
       "    .dataframe thead th {\n",
       "        text-align: right;\n",
       "    }\n",
       "</style>\n",
       "<table border=\"1\" class=\"dataframe\">\n",
       "  <thead>\n",
       "    <tr style=\"text-align: right;\">\n",
       "      <th></th>\n",
       "      <th>country</th>\n",
       "      <th>description</th>\n",
       "      <th>designation</th>\n",
       "      <th>points</th>\n",
       "      <th>price</th>\n",
       "      <th>province</th>\n",
       "      <th>region_1</th>\n",
       "      <th>region_2</th>\n",
       "      <th>taster_name</th>\n",
       "      <th>taster_twitter_handle</th>\n",
       "      <th>title</th>\n",
       "      <th>variety</th>\n",
       "      <th>winery</th>\n",
       "    </tr>\n",
       "  </thead>\n",
       "  <tbody>\n",
       "    <tr>\n",
       "      <th>6</th>\n",
       "      <td>Argentina</td>\n",
       "      <td>Bold and structured, offering black fruit and ...</td>\n",
       "      <td>Gran Reserva</td>\n",
       "      <td>92</td>\n",
       "      <td>30.0</td>\n",
       "      <td>Mendoza Province</td>\n",
       "      <td>Uco Valley</td>\n",
       "      <td>NaN</td>\n",
       "      <td>Alejandro Iglesias</td>\n",
       "      <td>@aliglesiaswine</td>\n",
       "      <td>Trapiche 2015 Gran Reserva Malbec (Uco Valley)</td>\n",
       "      <td>Malbec</td>\n",
       "      <td>Trapiche</td>\n",
       "    </tr>\n",
       "  </tbody>\n",
       "</table>\n",
       "</div>"
      ],
      "text/plain": [
       "     country                                        description   designation  \\\n",
       "6  Argentina  Bold and structured, offering black fruit and ...  Gran Reserva   \n",
       "\n",
       "   points  price          province    region_1 region_2         taster_name  \\\n",
       "6      92   30.0  Mendoza Province  Uco Valley      NaN  Alejandro Iglesias   \n",
       "\n",
       "  taster_twitter_handle                                           title  \\\n",
       "6       @aliglesiaswine  Trapiche 2015 Gran Reserva Malbec (Uco Valley)   \n",
       "\n",
       "  variety    winery  \n",
       "6  Malbec  Trapiche  "
      ]
     },
     "execution_count": 23,
     "metadata": {},
     "output_type": "execute_result"
    }
   ],
   "source": [
    "reviews[pd.isnull(reviews.region_2)]"
   ]
  },
  {
   "cell_type": "code",
   "execution_count": 35,
   "id": "997fdc71-7462-4a04-b1a0-3bb6cb106495",
   "metadata": {},
   "outputs": [
    {
     "data": {
      "text/plain": [
       "0        Eastern Sicily\n",
       "1     Northern Portugal\n",
       "2      Northeast France\n",
       "3      Northeast France\n",
       "4        Northern Spain\n",
       "5           North Coast\n",
       "6               Unknown\n",
       "7        Central Valley\n",
       "8       Western Germany\n",
       "9        Coastal Region\n",
       "10       Coastal Region\n",
       "Name: region_2, dtype: object"
      ]
     },
     "execution_count": 35,
     "metadata": {},
     "output_type": "execute_result"
    }
   ],
   "source": [
    "reviews.region_2.fillna(\"Unknown\")\n",
    "#It wont replace it in the original df unless I assign it back \n",
    "#--> reviews['region_2'] = reviews['region_2'].fillna(\"Unknown\")"
   ]
  },
  {
   "cell_type": "code",
   "execution_count": 45,
   "id": "3730d223-ea70-49a8-b0b6-7b151943b1ba",
   "metadata": {},
   "outputs": [
    {
     "data": {
      "text/html": [
       "<div>\n",
       "<style scoped>\n",
       "    .dataframe tbody tr th:only-of-type {\n",
       "        vertical-align: middle;\n",
       "    }\n",
       "\n",
       "    .dataframe tbody tr th {\n",
       "        vertical-align: top;\n",
       "    }\n",
       "\n",
       "    .dataframe thead th {\n",
       "        text-align: right;\n",
       "    }\n",
       "</style>\n",
       "<table border=\"1\" class=\"dataframe\">\n",
       "  <thead>\n",
       "    <tr style=\"text-align: right;\">\n",
       "      <th></th>\n",
       "      <th>country</th>\n",
       "      <th>description</th>\n",
       "      <th>designation</th>\n",
       "      <th>points</th>\n",
       "      <th>price</th>\n",
       "      <th>province</th>\n",
       "      <th>region_1</th>\n",
       "      <th>region_2</th>\n",
       "      <th>taster_name</th>\n",
       "      <th>taster_twitter_handle</th>\n",
       "      <th>title</th>\n",
       "      <th>variety</th>\n",
       "      <th>winery</th>\n",
       "    </tr>\n",
       "  </thead>\n",
       "  <tbody>\n",
       "    <tr>\n",
       "      <th>0</th>\n",
       "      <td>Italy</td>\n",
       "      <td>Aromas include tropical fruit, broom, and mine...</td>\n",
       "      <td>Vulkà Bianco</td>\n",
       "      <td>87</td>\n",
       "      <td>20.0</td>\n",
       "      <td>Sicily &amp; Sardinia</td>\n",
       "      <td>Etna</td>\n",
       "      <td>Eastern Sicily</td>\n",
       "      <td>Kerin O’Keefe</td>\n",
       "      <td>@kerinokeefe</td>\n",
       "      <td>Nicosia 2013 Vulkà Bianco (Etna)</td>\n",
       "      <td>White Blend</td>\n",
       "      <td>Nicosia</td>\n",
       "    </tr>\n",
       "    <tr>\n",
       "      <th>1</th>\n",
       "      <td>Portugal</td>\n",
       "      <td>This is ripe and fruity, a wine that is smooth...</td>\n",
       "      <td>Avidagos</td>\n",
       "      <td>87</td>\n",
       "      <td>15.0</td>\n",
       "      <td>Douro</td>\n",
       "      <td>Douro</td>\n",
       "      <td>Northern Portugal</td>\n",
       "      <td>Roger Voss</td>\n",
       "      <td>@vossroger</td>\n",
       "      <td>Quinta dos Avidagos 2011 Avidagos Red (Douro)</td>\n",
       "      <td>Portuguese Red</td>\n",
       "      <td>Quinta dos Avidagos</td>\n",
       "    </tr>\n",
       "    <tr>\n",
       "      <th>2</th>\n",
       "      <td>France</td>\n",
       "      <td>A dry style of Pinot Gris, crisp with acidity ...</td>\n",
       "      <td>Classic</td>\n",
       "      <td>100</td>\n",
       "      <td>32.0</td>\n",
       "      <td>Alsace</td>\n",
       "      <td>Alsace</td>\n",
       "      <td>Northeast France</td>\n",
       "      <td>Roger Voss</td>\n",
       "      <td>@vossroger</td>\n",
       "      <td>Domaine Marcel Deiss 2012 Pinot Gris (Alsace)</td>\n",
       "      <td>Pinot Gris</td>\n",
       "      <td>Domaine Marcel Deiss</td>\n",
       "    </tr>\n",
       "    <tr>\n",
       "      <th>3</th>\n",
       "      <td>France</td>\n",
       "      <td>Big, rich and off-dry, with intensity and flor...</td>\n",
       "      <td>Lieu-dit Harth Cuvée Caroline</td>\n",
       "      <td>90</td>\n",
       "      <td>21.0</td>\n",
       "      <td>Berona</td>\n",
       "      <td>Alsace</td>\n",
       "      <td>Northeast France</td>\n",
       "      <td>Roger Voss</td>\n",
       "      <td>@vossroger</td>\n",
       "      <td>Domaine Schoffit 2012 Lieu-dit Harth Cuvée Car...</td>\n",
       "      <td>Gewürztraminer</td>\n",
       "      <td>Domaine Schoffit</td>\n",
       "    </tr>\n",
       "    <tr>\n",
       "      <th>4</th>\n",
       "      <td>Spain</td>\n",
       "      <td>Dark cherry, spice and leather aromas dominate...</td>\n",
       "      <td>Reserva</td>\n",
       "      <td>89</td>\n",
       "      <td>18.0</td>\n",
       "      <td>Rioja</td>\n",
       "      <td>Rioja Alta</td>\n",
       "      <td>Northern Spain</td>\n",
       "      <td>Michael Schachner</td>\n",
       "      <td>@wineschach</td>\n",
       "      <td>Marqués de Cáceres 2011 Reserva (Rioja)</td>\n",
       "      <td>Tempranillo</td>\n",
       "      <td>Marqués de Cáceres</td>\n",
       "    </tr>\n",
       "    <tr>\n",
       "      <th>5</th>\n",
       "      <td>US</td>\n",
       "      <td>Fruity and soft, with hints of raspberry and v...</td>\n",
       "      <td>Estate</td>\n",
       "      <td>88</td>\n",
       "      <td>25.0</td>\n",
       "      <td>California</td>\n",
       "      <td>Napa Valley</td>\n",
       "      <td>North Coast</td>\n",
       "      <td>Jim Gordon</td>\n",
       "      <td>@jimgordonwine</td>\n",
       "      <td>Robert Mondavi 2014 Cabernet Sauvignon (Napa V...</td>\n",
       "      <td>Cabernet Sauvignon</td>\n",
       "      <td>Robert Mondavi</td>\n",
       "    </tr>\n",
       "    <tr>\n",
       "      <th>6</th>\n",
       "      <td>Argentina</td>\n",
       "      <td>Bold and structured, offering black fruit and ...</td>\n",
       "      <td>Gran Reserva</td>\n",
       "      <td>92</td>\n",
       "      <td>30.0</td>\n",
       "      <td>Mendoza Province</td>\n",
       "      <td>Uco Valley</td>\n",
       "      <td>Unknown</td>\n",
       "      <td>Alejandro Iglesias</td>\n",
       "      <td>@aliglesiaswine</td>\n",
       "      <td>Trapiche 2015 Gran Reserva Malbec (Uco Valley)</td>\n",
       "      <td>Malbec</td>\n",
       "      <td>Trapiche</td>\n",
       "    </tr>\n",
       "    <tr>\n",
       "      <th>7</th>\n",
       "      <td>Chile</td>\n",
       "      <td>Smooth, with red berries and a touch of herbs.</td>\n",
       "      <td>Reserva Especial</td>\n",
       "      <td>86</td>\n",
       "      <td>12.0</td>\n",
       "      <td>Maipo Valley</td>\n",
       "      <td>Maipo Valley</td>\n",
       "      <td>Central Valley</td>\n",
       "      <td>Patricio Tapia</td>\n",
       "      <td>@ptapiawine</td>\n",
       "      <td>Concha y Toro 2016 Carmenere (Maipo Valley)</td>\n",
       "      <td>Carmenere</td>\n",
       "      <td>Concha y Toro</td>\n",
       "    </tr>\n",
       "    <tr>\n",
       "      <th>8</th>\n",
       "      <td>Germany</td>\n",
       "      <td>Lively and fresh, with notes of green apple an...</td>\n",
       "      <td>Kabinett</td>\n",
       "      <td>91</td>\n",
       "      <td>22.0</td>\n",
       "      <td>Mosel</td>\n",
       "      <td>Mosel</td>\n",
       "      <td>Western Germany</td>\n",
       "      <td>Anne Krebiehl</td>\n",
       "      <td>@annewine</td>\n",
       "      <td>Dr. Loosen 2015 Riesling Kabinett (Mosel)</td>\n",
       "      <td>Riesling</td>\n",
       "      <td>Dr. Loosen</td>\n",
       "    </tr>\n",
       "    <tr>\n",
       "      <th>9</th>\n",
       "      <td>South Africa</td>\n",
       "      <td>Aromas of citrus and melon, fresh and vibrant.</td>\n",
       "      <td>Signature</td>\n",
       "      <td>85</td>\n",
       "      <td>10.0</td>\n",
       "      <td>Western Cape</td>\n",
       "      <td>Stellenbosch</td>\n",
       "      <td>Coastal Region</td>\n",
       "      <td>Lauren Buzzeo</td>\n",
       "      <td>@laurenbuzzeo</td>\n",
       "      <td>Spier 2016 Chenin Blanc (Western Cape)</td>\n",
       "      <td>Chenin Blanc</td>\n",
       "      <td>Spier</td>\n",
       "    </tr>\n",
       "    <tr>\n",
       "      <th>10</th>\n",
       "      <td>South Africa</td>\n",
       "      <td>Aromas of citrus and melon, fresh and vibrant.</td>\n",
       "      <td>Signature</td>\n",
       "      <td>87</td>\n",
       "      <td>10.0</td>\n",
       "      <td>Western Cape</td>\n",
       "      <td>Stellenbosch</td>\n",
       "      <td>Coastal Region</td>\n",
       "      <td>Lauren Buzzeo</td>\n",
       "      <td>@laurenbuzzeo</td>\n",
       "      <td>Spier 2016 Chenin Blanc (Western Cape)</td>\n",
       "      <td>Chenin Blanc</td>\n",
       "      <td>Spier</td>\n",
       "    </tr>\n",
       "  </tbody>\n",
       "</table>\n",
       "</div>"
      ],
      "text/plain": [
       "         country                                        description  \\\n",
       "0          Italy  Aromas include tropical fruit, broom, and mine...   \n",
       "1       Portugal  This is ripe and fruity, a wine that is smooth...   \n",
       "2         France  A dry style of Pinot Gris, crisp with acidity ...   \n",
       "3         France  Big, rich and off-dry, with intensity and flor...   \n",
       "4          Spain  Dark cherry, spice and leather aromas dominate...   \n",
       "5             US  Fruity and soft, with hints of raspberry and v...   \n",
       "6      Argentina  Bold and structured, offering black fruit and ...   \n",
       "7          Chile     Smooth, with red berries and a touch of herbs.   \n",
       "8        Germany  Lively and fresh, with notes of green apple an...   \n",
       "9   South Africa     Aromas of citrus and melon, fresh and vibrant.   \n",
       "10  South Africa     Aromas of citrus and melon, fresh and vibrant.   \n",
       "\n",
       "                      designation  points  price           province  \\\n",
       "0                    Vulkà Bianco      87   20.0  Sicily & Sardinia   \n",
       "1                        Avidagos      87   15.0              Douro   \n",
       "2                         Classic     100   32.0             Alsace   \n",
       "3   Lieu-dit Harth Cuvée Caroline      90   21.0             Berona   \n",
       "4                         Reserva      89   18.0              Rioja   \n",
       "5                          Estate      88   25.0         California   \n",
       "6                    Gran Reserva      92   30.0   Mendoza Province   \n",
       "7                Reserva Especial      86   12.0       Maipo Valley   \n",
       "8                        Kabinett      91   22.0              Mosel   \n",
       "9                       Signature      85   10.0       Western Cape   \n",
       "10                      Signature      87   10.0       Western Cape   \n",
       "\n",
       "        region_1           region_2         taster_name taster_twitter_handle  \\\n",
       "0           Etna     Eastern Sicily       Kerin O’Keefe          @kerinokeefe   \n",
       "1          Douro  Northern Portugal          Roger Voss            @vossroger   \n",
       "2         Alsace   Northeast France          Roger Voss            @vossroger   \n",
       "3         Alsace   Northeast France          Roger Voss            @vossroger   \n",
       "4     Rioja Alta     Northern Spain   Michael Schachner           @wineschach   \n",
       "5    Napa Valley        North Coast          Jim Gordon        @jimgordonwine   \n",
       "6     Uco Valley            Unknown  Alejandro Iglesias       @aliglesiaswine   \n",
       "7   Maipo Valley     Central Valley      Patricio Tapia           @ptapiawine   \n",
       "8          Mosel    Western Germany       Anne Krebiehl             @annewine   \n",
       "9   Stellenbosch     Coastal Region       Lauren Buzzeo         @laurenbuzzeo   \n",
       "10  Stellenbosch     Coastal Region       Lauren Buzzeo         @laurenbuzzeo   \n",
       "\n",
       "                                                title             variety  \\\n",
       "0                    Nicosia 2013 Vulkà Bianco (Etna)         White Blend   \n",
       "1       Quinta dos Avidagos 2011 Avidagos Red (Douro)      Portuguese Red   \n",
       "2       Domaine Marcel Deiss 2012 Pinot Gris (Alsace)          Pinot Gris   \n",
       "3   Domaine Schoffit 2012 Lieu-dit Harth Cuvée Car...      Gewürztraminer   \n",
       "4             Marqués de Cáceres 2011 Reserva (Rioja)         Tempranillo   \n",
       "5   Robert Mondavi 2014 Cabernet Sauvignon (Napa V...  Cabernet Sauvignon   \n",
       "6      Trapiche 2015 Gran Reserva Malbec (Uco Valley)              Malbec   \n",
       "7         Concha y Toro 2016 Carmenere (Maipo Valley)           Carmenere   \n",
       "8           Dr. Loosen 2015 Riesling Kabinett (Mosel)            Riesling   \n",
       "9              Spier 2016 Chenin Blanc (Western Cape)        Chenin Blanc   \n",
       "10             Spier 2016 Chenin Blanc (Western Cape)        Chenin Blanc   \n",
       "\n",
       "                  winery  \n",
       "0                Nicosia  \n",
       "1    Quinta dos Avidagos  \n",
       "2   Domaine Marcel Deiss  \n",
       "3       Domaine Schoffit  \n",
       "4     Marqués de Cáceres  \n",
       "5         Robert Mondavi  \n",
       "6               Trapiche  \n",
       "7          Concha y Toro  \n",
       "8             Dr. Loosen  \n",
       "9                  Spier  \n",
       "10                 Spier  "
      ]
     },
     "execution_count": 45,
     "metadata": {},
     "output_type": "execute_result"
    }
   ],
   "source": [
    "reviews['region_2'] = reviews['region_2'].fillna(\"Unknown\")\n",
    "reviews"
   ]
  },
  {
   "cell_type": "markdown",
   "id": "395beed3-30a8-4d29-9098-d99e90bab0a5",
   "metadata": {},
   "source": [
    "Or we could fill each missing value with the first non-null value that appears sometime after the given record in the database. This is known as the **BACKFILL STRATEGY**.\n",
    "\n",
    "Alternatively, we may have a non-null value that we would like to **replace**. For example, suppose that since this dataset was published, reviewer Kerin O'Keefe has changed her Twitter handle from @kerinokeefe to @kerino. One way to reflect this in the dataset is using the **replace()** method:\r\n"
   ]
  },
  {
   "cell_type": "code",
   "execution_count": 47,
   "id": "cb85173f-5848-43ba-80b8-eeff05a4ba34",
   "metadata": {},
   "outputs": [
    {
     "data": {
      "text/plain": [
       "0             @kerino\n",
       "1          @vossroger\n",
       "2          @vossroger\n",
       "3          @vossroger\n",
       "4         @wineschach\n",
       "5      @jimgordonwine\n",
       "6     @aliglesiaswine\n",
       "7         @ptapiawine\n",
       "8           @annewine\n",
       "9       @laurenbuzzeo\n",
       "10      @laurenbuzzeo\n",
       "Name: taster_twitter_handle, dtype: object"
      ]
     },
     "execution_count": 47,
     "metadata": {},
     "output_type": "execute_result"
    }
   ],
   "source": [
    "reviews.taster_twitter_handle.replace(\"@kerinokeefe\", \"@kerino\")\n"
   ]
  },
  {
   "cell_type": "markdown",
   "id": "c98ccd04-307d-4ca5-a772-e24fa2afef88",
   "metadata": {},
   "source": [
    "The replace() method is worth mentioning here because it's handy for replacing missing data which is given some kind of sentinel value in the dataset: things like \"Unknown\", \"Undisclosed\", \"Invalid\", and so on.\n"
   ]
  },
  {
   "cell_type": "code",
   "execution_count": 49,
   "id": "edbb5961-fac4-465e-b05b-4fe786dad04e",
   "metadata": {},
   "outputs": [
    {
     "data": {
      "text/plain": [
       "0        Eastern Sicily\n",
       "1     Northern Portugal\n",
       "2      Northeast France\n",
       "3      Northeast France\n",
       "4        Northern Spain\n",
       "5           North Coast\n",
       "6               Badajoz\n",
       "7        Central Valley\n",
       "8       Western Germany\n",
       "9        Coastal Region\n",
       "10       Coastal Region\n",
       "Name: region_2, dtype: object"
      ]
     },
     "execution_count": 49,
     "metadata": {},
     "output_type": "execute_result"
    }
   ],
   "source": [
    "reviews.region_2.replace('Unknown','Badajoz')"
   ]
  },
  {
   "cell_type": "markdown",
   "id": "02d8b23b-34b0-4961-999f-30326c7c49d5",
   "metadata": {},
   "source": [
    "**EXERCISES**"
   ]
  },
  {
   "cell_type": "code",
   "execution_count": 3,
   "id": "6b3edee6-db22-4cff-a7b2-c20740f3f34c",
   "metadata": {},
   "outputs": [],
   "source": [
    "import pandas as pd"
   ]
  },
  {
   "cell_type": "code",
   "execution_count": 137,
   "id": "374613d1-197d-4bc4-9fe2-e526565fb7c1",
   "metadata": {},
   "outputs": [
    {
     "name": "stdout",
     "output_type": "stream",
     "text": [
      "    country                                        description  \\\n",
      "0     Italy  Aromas include tropical fruit, broom, and mine...   \n",
      "1  Portugal  This is ripe and fruity, a wine that is smooth...   \n",
      "2    France  A dry style of Pinot Gris, crisp with acidity ...   \n",
      "3    France  Big, rich and off-dry, with intensity and flor...   \n",
      "4     Spain  Dark cherry, spice and leather aromas dominate...   \n",
      "\n",
      "                     designation  points  price           province  \\\n",
      "0                   Vulkà Bianco      87   20.0  Sicily & Sardinia   \n",
      "1                       Avidagos      87   15.0              Douro   \n",
      "2                        Classic     100   32.0             Alsace   \n",
      "3  Lieu-dit Harth Cuvée Caroline      90   21.0             Berona   \n",
      "4                        Reserva      89   18.0              Rioja   \n",
      "\n",
      "     region_1           region_2        taster_name taster_twitter_handle  \\\n",
      "0        Etna     Eastern Sicily      Kerin O’Keefe          @kerinokeefe   \n",
      "1       Douro  Northern Portugal         Roger Voss            @vossroger   \n",
      "2      Alsace   Northeast France         Roger Voss            @vossroger   \n",
      "3      Alsace   Northeast France         Roger Voss            @vossroger   \n",
      "4  Rioja Alta     Northern Spain  Michael Schachner           @wineschach   \n",
      "\n",
      "                                               title         variety  \\\n",
      "0                   Nicosia 2013 Vulkà Bianco (Etna)     White Blend   \n",
      "1      Quinta dos Avidagos 2011 Avidagos Red (Douro)  Portuguese Red   \n",
      "2      Domaine Marcel Deiss 2012 Pinot Gris (Alsace)      Pinot Gris   \n",
      "3  Domaine Schoffit 2012 Lieu-dit Harth Cuvée Car...  Gewürztraminer   \n",
      "4            Marqués de Cáceres 2011 Reserva (Rioja)     Tempranillo   \n",
      "\n",
      "                 winery  \n",
      "0               Nicosia  \n",
      "1   Quinta dos Avidagos  \n",
      "2  Domaine Marcel Deiss  \n",
      "3      Domaine Schoffit  \n",
      "4    Marqués de Cáceres  \n"
     ]
    }
   ],
   "source": [
    "reviews = pd.DataFrame([\n",
    "    {\n",
    "        'country': 'Italy',\n",
    "        'description': 'Aromas include tropical fruit, broom, and minerals.',\n",
    "        'designation': 'Vulkà Bianco',\n",
    "        'points': 87,\n",
    "        'price': 20.0,\n",
    "        'province': 'Sicily & Sardinia',\n",
    "        'region_1': 'Etna',\n",
    "        'region_2': 'Eastern Sicily',\n",
    "        'taster_name': 'Kerin O’Keefe',\n",
    "        'taster_twitter_handle': '@kerinokeefe',\n",
    "        'title': 'Nicosia 2013 Vulkà Bianco (Etna)',\n",
    "        'variety': 'White Blend',\n",
    "        'winery': 'Nicosia'\n",
    "    },\n",
    "    {\n",
    "        'country': 'Portugal',\n",
    "        'description': 'This is ripe and fruity, a wine that is smooth and balanced.',\n",
    "        'designation': 'Avidagos',\n",
    "        'points': 87,\n",
    "        'price': 15.0,\n",
    "        'province': 'Douro',\n",
    "        'region_1': 'Douro',\n",
    "        'region_2': 'Northern Portugal',\n",
    "        'taster_name': 'Roger Voss',\n",
    "        'taster_twitter_handle': '@vossroger',\n",
    "        'title': 'Quinta dos Avidagos 2011 Avidagos Red (Douro)',\n",
    "        'variety': 'Portuguese Red',\n",
    "        'winery': 'Quinta dos Avidagos'\n",
    "    },\n",
    "    {\n",
    "        'country': 'France',\n",
    "        'description': 'A dry style of Pinot Gris, crisp with acidity and minerality.',\n",
    "        'designation': 'Classic',\n",
    "        'points': 100,\n",
    "        'price': 32.0,\n",
    "        'province': 'Alsace',\n",
    "        'region_1': 'Alsace',\n",
    "        'region_2': 'Northeast France',\n",
    "        'taster_name': 'Roger Voss',\n",
    "        'taster_twitter_handle': '@vossroger',\n",
    "        'title': 'Domaine Marcel Deiss 2012 Pinot Gris (Alsace)',\n",
    "        'variety': 'Pinot Gris',\n",
    "        'winery': 'Domaine Marcel Deiss'\n",
    "    },\n",
    "    {\n",
    "        'country': 'France',\n",
    "        'description': 'Big, rich and off-dry, with intensity and floral notes.',\n",
    "        'designation': 'Lieu-dit Harth Cuvée Caroline',\n",
    "        'points': 90,\n",
    "        'price': 21.0,\n",
    "        'province': 'Berona',\n",
    "        'region_1': 'Alsace',\n",
    "        'region_2': 'Northeast France',\n",
    "        'taster_name': 'Roger Voss',\n",
    "        'taster_twitter_handle': '@vossroger',\n",
    "        'title': 'Domaine Schoffit 2012 Lieu-dit Harth Cuvée Caroline (Alsace)',\n",
    "        'variety': 'Gewürztraminer',\n",
    "        'winery': 'Domaine Schoffit'\n",
    "    },\n",
    "    {\n",
    "        'country': 'Spain',\n",
    "        'description': 'Dark cherry, spice and leather aromas dominate this classic Rioja.',\n",
    "        'designation': 'Reserva',\n",
    "        'points': 89,\n",
    "        'price': 18.0,\n",
    "        'province': 'Rioja',\n",
    "        'region_1': 'Rioja Alta',\n",
    "        'region_2': 'Northern Spain',\n",
    "        'taster_name': 'Michael Schachner',\n",
    "        'taster_twitter_handle': '@wineschach',\n",
    "        'title': 'Marqués de Cáceres 2011 Reserva (Rioja)',\n",
    "        'variety': 'Tempranillo',\n",
    "        'winery': 'Marqués de Cáceres'\n",
    "    },\n",
    "    {\n",
    "        'country': 'US',\n",
    "        'description': 'Fruity and soft, with hints of raspberry and vanilla.',\n",
    "        'designation': 'Estate',\n",
    "        'points': 88,\n",
    "        'price': 25.0,\n",
    "        'province': 'California',\n",
    "        'region_1': 'Napa Valley',\n",
    "        'region_2': 'North Coast',\n",
    "        'taster_name': 'Jim Gordon',\n",
    "        'taster_twitter_handle': '@jimgordonwine',\n",
    "        'title': 'Robert Mondavi 2014 Cabernet Sauvignon (Napa Valley)',\n",
    "        'variety': 'Cabernet Sauvignon',\n",
    "        'winery': 'Robert Mondavi'\n",
    "    },\n",
    "    {\n",
    "        'country': 'Argentina',\n",
    "        'description': 'Bold and structured, offering black fruit and mocha.',\n",
    "        'designation': 'Gran Reserva',\n",
    "        'points': 92,\n",
    "        'price': 30.0,\n",
    "        'province': 'Mendoza Province',\n",
    "        'region_1': 'Uco Valley',\n",
    "        'taster_name': 'Alejandro Iglesias',\n",
    "        'taster_twitter_handle': '@aliglesiaswine',\n",
    "        'title': 'Trapiche 2015 Gran Reserva Malbec (Uco Valley)',\n",
    "        'variety': 'Malbec',\n",
    "        'winery': 'Trapiche'\n",
    "    },\n",
    "    {\n",
    "        'country': 'Chile',\n",
    "        'description': 'Smooth, with red berries and a touch of herbs.',\n",
    "        'designation': 'Reserva Especial',\n",
    "        'points': 86,\n",
    "        'price': 12.0,\n",
    "        'province': 'Maipo Valley',\n",
    "        'region_2': 'Central Valley',\n",
    "        'taster_name': 'Patricio Tapia',\n",
    "        'taster_twitter_handle': '@ptapiawine',\n",
    "        'title': 'Concha y Toro 2016 Carmenere (Maipo Valley)',\n",
    "        'variety': 'Carmenere',\n",
    "        'winery': 'Concha y Toro'\n",
    "    },\n",
    "    {\n",
    "        'country': 'Germany',\n",
    "        'description': 'Lively and fresh, with notes of green apple and lime.',\n",
    "        'designation': 'Kabinett',\n",
    "        'points': 91,\n",
    "        'price': 22.0,\n",
    "        'province': 'Mosel',\n",
    "        'region_1': 'Mosel',\n",
    "        'region_2': 'Western Germany',\n",
    "        'taster_name': 'Anne Krebiehl',\n",
    "        'taster_twitter_handle': '@annewine',\n",
    "        'title': 'Dr. Loosen 2015 Riesling Kabinett (Mosel)',\n",
    "        'variety': 'Riesling',\n",
    "        'winery': 'Dr. Loosen'\n",
    "    },\n",
    "    {\n",
    "        'country': 'South Africa',\n",
    "        'description': 'Aromas of citrus and melon, fresh and vibrant.',\n",
    "        'designation': 'Signature',\n",
    "        'points': 85,\n",
    "        'price': 10.0,\n",
    "        'province': 'Western Cape',\n",
    "        'region_1': 'Stellenbosch',\n",
    "        'region_2': 'Coastal Region',\n",
    "        'taster_name': 'Lauren Buzzeo',\n",
    "        'taster_twitter_handle': '@laurenbuzzeo',\n",
    "        'title': 'Spier 2016 Chenin Blanc (Western Cape)',\n",
    "        'variety': 'Chenin Blanc',\n",
    "        'winery': 'Spier'\n",
    "    },\n",
    "    {\n",
    "        'country': 'South Africa',\n",
    "        'description': 'Aromas of citrus and melon, fresh and vibrant.',\n",
    "        'designation': 'Signature',\n",
    "        'points': 87,\n",
    "        'price': 10.0,\n",
    "        'province': 'Western Cape',\n",
    "        'region_1': 'Stellenbosch',\n",
    "        'region_2': 'Coastal Region',\n",
    "        'taster_name': 'Lauren Buzzeo',\n",
    "        'taster_twitter_handle': '@laurenbuzzeo',\n",
    "        'title': 'Spier 2016 Chenin Blanc (Western Cape)',\n",
    "        'variety': 'Chenin Blanc',\n",
    "        'winery': 'Spier'\n",
    "    }\n",
    "])\n",
    "\n",
    "print(reviews.head())"
   ]
  },
  {
   "cell_type": "markdown",
   "id": "ef251e72-d095-4657-ae0e-62114e53a3e9",
   "metadata": {},
   "source": [
    "**Exercise 1:**"
   ]
  },
  {
   "cell_type": "markdown",
   "id": "697dcdd4-692e-487a-8ab0-fe187ff48181",
   "metadata": {},
   "source": [
    "What is the data type of the points column in the dataset?"
   ]
  },
  {
   "cell_type": "code",
   "execution_count": 59,
   "id": "2bc4d70c-6ce3-48a3-baf3-4a4cb02a1aef",
   "metadata": {},
   "outputs": [
    {
     "data": {
      "text/plain": [
       "dtype('int64')"
      ]
     },
     "execution_count": 59,
     "metadata": {},
     "output_type": "execute_result"
    }
   ],
   "source": [
    "dtype = reviews.points.dtype #attribute\n",
    "dtype"
   ]
  },
  {
   "cell_type": "markdown",
   "id": "8e5d68b3-e8b0-47f7-9dd6-58340da1d38f",
   "metadata": {},
   "source": [
    "**Exercise 2:**"
   ]
  },
  {
   "cell_type": "markdown",
   "id": "3075e33d-5414-4040-b694-b540079fd297",
   "metadata": {},
   "source": [
    "Create a Series from entries in the points column, but convert the entries to strings. Hint: strings are str in native Python."
   ]
  },
  {
   "cell_type": "code",
   "execution_count": 67,
   "id": "55655cab-d0ec-4f90-a4a0-9b8e4fa2148d",
   "metadata": {},
   "outputs": [
    {
     "data": {
      "text/plain": [
       "country                   object\n",
       "description               object\n",
       "designation               object\n",
       "points                     int64\n",
       "price                    float64\n",
       "province                  object\n",
       "region_1                  object\n",
       "region_2                  object\n",
       "taster_name               object\n",
       "taster_twitter_handle     object\n",
       "title                     object\n",
       "variety                   object\n",
       "winery                    object\n",
       "dtype: object"
      ]
     },
     "execution_count": 67,
     "metadata": {},
     "output_type": "execute_result"
    }
   ],
   "source": [
    "point_strings = reviews.points.astype('str')\n",
    "reviews.dtypes\n",
    "#for it to be shown here, again, i'd have to asign it to reviews['points'] = ..."
   ]
  },
  {
   "cell_type": "markdown",
   "id": "a5072a06-b3ff-47e5-aae5-5216f703053e",
   "metadata": {},
   "source": [
    "**Exercise 3**"
   ]
  },
  {
   "cell_type": "markdown",
   "id": "59e4bc40-d0ee-484d-be20-6fbe2a354482",
   "metadata": {},
   "source": [
    "Sometimes the price column is null. *How many* reviews in the dataset are missing a price? (BE CAREFUL TO READ WELL WHAT IS BEING ASKED!!!)"
   ]
  },
  {
   "cell_type": "code",
   "execution_count": 105,
   "id": "ad92d55e-9700-40f3-8203-ccc3fd10a464",
   "metadata": {},
   "outputs": [
    {
     "data": {
      "text/plain": [
       "0"
      ]
     },
     "execution_count": 105,
     "metadata": {},
     "output_type": "execute_result"
    }
   ],
   "source": [
    "reviews.price.isnull().sum()\n",
    "#.count() counts the number of NOT NULLS!!!\n",
    "#here i wanna use sum() so that it sums the 'True's in the "
   ]
  },
  {
   "cell_type": "code",
   "execution_count": 113,
   "id": "6728bcfb-7711-4409-aeaf-dee6ef93738b",
   "metadata": {},
   "outputs": [
    {
     "data": {
      "text/plain": [
       "0"
      ]
     },
     "execution_count": 113,
     "metadata": {},
     "output_type": "execute_result"
    }
   ],
   "source": [
    "# Another option:\n",
    "missing_price_reviews = reviews[reviews.price.isnull()]\n",
    "n_missing_prices = len(missing_price_reviews)\n",
    "missing_price_reviews\n",
    "n_missing_prices"
   ]
  },
  {
   "cell_type": "code",
   "execution_count": 119,
   "id": "0fa65a6a-bcfd-4994-b3b9-cb9170ae2079",
   "metadata": {},
   "outputs": [
    {
     "data": {
      "text/plain": [
       "0"
      ]
     },
     "execution_count": 119,
     "metadata": {},
     "output_type": "execute_result"
    }
   ],
   "source": [
    "reviews.price.isnull()\n",
    "#if i keep it like this, it happens the same, it counts number of entries, not the not nulls, so i have to pass it as reviews[...] so that now that df has the nulls only and now it counts just those\n",
    "len(reviews[reviews.price.isnull()])"
   ]
  },
  {
   "cell_type": "code",
   "execution_count": null,
   "id": "39ef285b-6738-4266-97b1-574175f92fd0",
   "metadata": {},
   "outputs": [],
   "source": [
    "# More options:\n",
    "# Cute alternative solution: if we sum a boolean series, True is treated as 1 and False as 0\n",
    "n_missing_prices = reviews.price.isnull().sum()\n",
    "# or equivalently:\n",
    "n_missing_prices = pd.isnull(reviews.price).sum()"
   ]
  },
  {
   "cell_type": "markdown",
   "id": "1c407d48-c917-403a-9553-17b14d49f544",
   "metadata": {},
   "source": [
    "**Exercise 4:**"
   ]
  },
  {
   "cell_type": "markdown",
   "id": "beb0782e-e8c8-4973-bedc-ac4c6c39b444",
   "metadata": {},
   "source": [
    "What are the most common wine-producing regions? Create a Series counting the number of times each value occurs in the region_1 field. This field is often missing data, so replace missing values with Unknown. Sort in descending order. Your output should look something like this:"
   ]
  },
  {
   "cell_type": "code",
   "execution_count": 143,
   "id": "aba435aa-b6de-4a31-8caa-9b99a431cd05",
   "metadata": {},
   "outputs": [
    {
     "data": {
      "text/plain": [
       "region_1\n",
       "Alsace          2\n",
       "Stellenbosch    2\n",
       "Douro           1\n",
       "Etna            1\n",
       "Mosel           1\n",
       "Napa Valley     1\n",
       "Rioja Alta      1\n",
       "Uco Valley      1\n",
       "Unknown         1\n",
       "Name: title, dtype: int64"
      ]
     },
     "execution_count": 143,
     "metadata": {},
     "output_type": "execute_result"
    }
   ],
   "source": [
    "reviews['region_1'] = reviews.region_1.fillna('Unknown')\n",
    "reviews.groupby('region_1').title.count().sort_values(ascending = False)"
   ]
  },
  {
   "cell_type": "code",
   "execution_count": null,
   "id": "7909a5d5-a06f-4bbb-bc06-35702177f1e6",
   "metadata": {},
   "outputs": [],
   "source": [
    "#Solution:\n",
    "reviews_per_region = reviews.region_1.fillna('Unknown').value_counts().sort_values(ascending=False)\n"
   ]
  }
 ],
 "metadata": {
  "kernelspec": {
   "display_name": "Python 3 (ipykernel)",
   "language": "python",
   "name": "python3"
  },
  "language_info": {
   "codemirror_mode": {
    "name": "ipython",
    "version": 3
   },
   "file_extension": ".py",
   "mimetype": "text/x-python",
   "name": "python",
   "nbconvert_exporter": "python",
   "pygments_lexer": "ipython3",
   "version": "3.12.4"
  }
 },
 "nbformat": 4,
 "nbformat_minor": 5
}
