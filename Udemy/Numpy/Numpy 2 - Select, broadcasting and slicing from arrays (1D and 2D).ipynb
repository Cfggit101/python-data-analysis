{
 "cells": [
  {
   "cell_type": "code",
   "execution_count": 3,
   "id": "6e9c5b10-fda1-492c-9d89-b9a1e30902fd",
   "metadata": {},
   "outputs": [],
   "source": [
    "import numpy as np"
   ]
  },
  {
   "cell_type": "code",
   "execution_count": 5,
   "id": "dcfd51df-4495-4db0-8920-eb47db8020a7",
   "metadata": {},
   "outputs": [],
   "source": [
    "arr = np.arange(0,11)"
   ]
  },
  {
   "cell_type": "code",
   "execution_count": 9,
   "id": "31d86ebd-2985-4d1b-b355-ebf14780204a",
   "metadata": {},
   "outputs": [
    {
     "data": {
      "text/plain": [
       "array([ 0,  1,  2,  3,  4,  5,  6,  7,  8,  9, 10])"
      ]
     },
     "execution_count": 9,
     "metadata": {},
     "output_type": "execute_result"
    }
   ],
   "source": [
    "arr"
   ]
  },
  {
   "cell_type": "code",
   "execution_count": 15,
   "id": "f3d7f89f-fc4c-489d-aa74-a1c55b1c3315",
   "metadata": {},
   "outputs": [
    {
     "data": {
      "text/plain": [
       "8"
      ]
     },
     "execution_count": 15,
     "metadata": {},
     "output_type": "execute_result"
    }
   ],
   "source": [
    "#TO SELECT AN ELEMENT:\n",
    "arr[8]\n",
    "#remember it starts in zero!"
   ]
  },
  {
   "cell_type": "code",
   "execution_count": 21,
   "id": "3cb90759-386d-4500-be17-9ad55808c165",
   "metadata": {},
   "outputs": [
    {
     "data": {
      "text/plain": [
       "array([0, 1, 2, 3, 4])"
      ]
     },
     "execution_count": 21,
     "metadata": {},
     "output_type": "execute_result"
    }
   ],
   "source": [
    "#TO SELECT A SLICE OF ELEMENTS:\n",
    "arr[0:5]\n",
    "#can do the same but w a starting and an ending position (the ending position not included)"
   ]
  },
  {
   "cell_type": "code",
   "execution_count": 25,
   "id": "db0138fc-ddb4-4b0d-9bc6-53569cc9ce43",
   "metadata": {},
   "outputs": [
    {
     "data": {
      "text/plain": [
       "array([0, 1, 2, 3, 4])"
      ]
     },
     "execution_count": 25,
     "metadata": {},
     "output_type": "execute_result"
    }
   ],
   "source": [
    "arr[:5]\n",
    "#start at the beggining and go up to 5 (not included) --> [:5] = [0:5]"
   ]
  },
  {
   "cell_type": "code",
   "execution_count": 27,
   "id": "b562692c-a980-4e17-952f-a0b7acb52873",
   "metadata": {},
   "outputs": [
    {
     "data": {
      "text/plain": [
       "array([ 5,  6,  7,  8,  9, 10])"
      ]
     },
     "execution_count": 27,
     "metadata": {},
     "output_type": "execute_result"
    }
   ],
   "source": [
    "arr[5:]\n",
    "#start in 5 (included) and go all the way to the end (as i dont specify the end, the last number will be included this time\n",
    "#nice so i dont have to know the exact length of the array to index all the way to the end"
   ]
  },
  {
   "cell_type": "code",
   "execution_count": 31,
   "id": "f5fa72c6-bb18-4ca9-bbd1-bf373b4d61b1",
   "metadata": {},
   "outputs": [
    {
     "data": {
      "text/plain": [
       "array([ 0,  1,  2,  3,  4,  5,  6,  7,  8,  9, 10])"
      ]
     },
     "execution_count": 31,
     "metadata": {},
     "output_type": "execute_result"
    }
   ],
   "source": [
    "#BROADCASTING:\n",
    "#NumPy arrays differ from normal Python lists because of this ability to broadcast.\n",
    "'''\n",
    "With lists in normal Python,you can only reassign parts of a list\n",
    "with new parts of the same shape and size. \n",
    "And then you would also need then possibly reassign this to a new variable.\n",
    "However, NumPy, you can actually broadcast a single value across a larger set of values.\n",
    "'''\n",
    "arr"
   ]
  },
  {
   "cell_type": "code",
   "execution_count": 33,
   "id": "ac354806-a90f-455b-9d35-5bb356618f31",
   "metadata": {},
   "outputs": [
    {
     "data": {
      "text/plain": [
       "array([100, 100, 100, 100, 100,   5,   6,   7,   8,   9,  10])"
      ]
     },
     "execution_count": 33,
     "metadata": {},
     "output_type": "execute_result"
    }
   ],
   "source": [
    "arr[0:5] = 100\n",
    "#makes me able to select a slice of the array and set it equal to smth (this i cannot do in python)\n",
    "#100 has been broadcasted across those values y selected\n",
    "arr"
   ]
  },
  {
   "cell_type": "code",
   "execution_count": 45,
   "id": "3565e1ad-7514-4637-b3c3-5b38044e0667",
   "metadata": {},
   "outputs": [
    {
     "data": {
      "text/plain": [
       "array([ 0,  1,  2,  3,  4,  5,  6,  7,  8,  9, 10])"
      ]
     },
     "execution_count": 45,
     "metadata": {},
     "output_type": "execute_result"
    }
   ],
   "source": [
    "arr = np.arange(0,11)\n",
    "arr"
   ]
  },
  {
   "cell_type": "code",
   "execution_count": 39,
   "id": "785d41b6-02e2-4dbd-8171-76735bf5dc66",
   "metadata": {},
   "outputs": [
    {
     "data": {
      "text/plain": [
       "'\\nactually slicing a section of an array and setting it to a new variable \\nwill actually only act as a pointer to the original array\\n'"
      ]
     },
     "execution_count": 39,
     "metadata": {},
     "output_type": "execute_result"
    }
   ],
   "source": [
    "'''\n",
    "actually slicing a section of an array and setting it to a new variable \n",
    "will actually only act as a pointer to the original array\n",
    "'''"
   ]
  },
  {
   "cell_type": "code",
   "execution_count": 41,
   "id": "86a82a3c-d570-4826-8963-9b18d9956c3b",
   "metadata": {},
   "outputs": [],
   "source": [
    "slice_of_arr = arr[0:5]"
   ]
  },
  {
   "cell_type": "code",
   "execution_count": 47,
   "id": "5cb106c3-bd4e-438e-a5e5-625b4196a808",
   "metadata": {},
   "outputs": [
    {
     "data": {
      "text/plain": [
       "array([0, 1, 2, 3, 4])"
      ]
     },
     "execution_count": 47,
     "metadata": {},
     "output_type": "execute_result"
    }
   ],
   "source": [
    "slice_of_arr"
   ]
  },
  {
   "cell_type": "code",
   "execution_count": 51,
   "id": "4b93cde4-710e-4f79-b729-a8d5a7c33638",
   "metadata": {},
   "outputs": [
    {
     "data": {
      "text/plain": [
       "array([ 0,  1,  2,  3,  4,  5,  6,  7,  8,  9, 10])"
      ]
     },
     "execution_count": 51,
     "metadata": {},
     "output_type": "execute_result"
    }
   ],
   "source": [
    "arr"
   ]
  },
  {
   "cell_type": "code",
   "execution_count": 59,
   "id": "f0ff80e4-e416-4c66-a55e-ba9fcb946045",
   "metadata": {},
   "outputs": [],
   "source": [
    "slice_of_arr[:] = 99\n",
    "#this  [:] is to select all in that array\n"
   ]
  },
  {
   "cell_type": "code",
   "execution_count": 61,
   "id": "c6811be7-412a-4788-a5ad-485547a2f695",
   "metadata": {},
   "outputs": [
    {
     "data": {
      "text/plain": [
       "array([99, 99, 99, 99, 99])"
      ]
     },
     "execution_count": 61,
     "metadata": {},
     "output_type": "execute_result"
    }
   ],
   "source": [
    "slice_of_arr"
   ]
  },
  {
   "cell_type": "code",
   "execution_count": 63,
   "id": "0bfa4de2-ac42-4f89-8fd9-fddf0a03c869",
   "metadata": {},
   "outputs": [
    {
     "data": {
      "text/plain": [
       "array([ 0,  1,  2,  3,  4,  5,  6,  7,  8,  9, 10])"
      ]
     },
     "execution_count": 63,
     "metadata": {},
     "output_type": "execute_result"
    }
   ],
   "source": [
    "arr"
   ]
  },
  {
   "cell_type": "code",
   "execution_count": 67,
   "id": "459ef09b-89ff-4dcc-98a4-01f2a4879941",
   "metadata": {},
   "outputs": [
    {
     "data": {
      "text/plain": [
       "array([ 0,  1,  2,  3,  4,  5,  6,  7,  8,  9, 10])"
      ]
     },
     "execution_count": 67,
     "metadata": {},
     "output_type": "execute_result"
    }
   ],
   "source": [
    "#this should be returning [99,99,99,99,99,5,6,7,8,9,10] cos the slice_of_arr works as a pointer\n",
    "#dont know why it doesnt\n",
    "#if i dont want the original arr to change, i should get a copy of arr and modify that one:\n",
    "copy_arr = arr.copy()\n",
    "copy_arr"
   ]
  },
  {
   "cell_type": "code",
   "execution_count": 73,
   "id": "7fd140cb-639b-4e17-8c26-3a69ecec77ba",
   "metadata": {},
   "outputs": [
    {
     "data": {
      "text/plain": [
       "array([0, 1, 2, 3, 4])"
      ]
     },
     "execution_count": 73,
     "metadata": {},
     "output_type": "execute_result"
    }
   ],
   "source": [
    "slice_of_copy = copy_arr[0:5]\n",
    "slice_of_copy"
   ]
  },
  {
   "cell_type": "code",
   "execution_count": 79,
   "id": "37fccbc4-4cce-4d2e-b251-42314b17155e",
   "metadata": {},
   "outputs": [
    {
     "data": {
      "text/plain": [
       "array([999, 999, 999, 999, 999])"
      ]
     },
     "execution_count": 79,
     "metadata": {},
     "output_type": "execute_result"
    }
   ],
   "source": [
    "slice_of_copy[:] = 999\n",
    "slice_of_copy"
   ]
  },
  {
   "cell_type": "code",
   "execution_count": 83,
   "id": "9052a566-65e4-4902-b6d6-8b5301e4478a",
   "metadata": {},
   "outputs": [
    {
     "data": {
      "text/plain": [
       "array([999, 999, 999, 999, 999,   5,   6,   7,   8,   9,  10])"
      ]
     },
     "execution_count": 83,
     "metadata": {},
     "output_type": "execute_result"
    }
   ],
   "source": [
    "copy_arr"
   ]
  },
  {
   "cell_type": "code",
   "execution_count": 87,
   "id": "1124f0ed-6d93-4621-8057-1de884c2ca3e",
   "metadata": {},
   "outputs": [
    {
     "data": {
      "text/plain": [
       "array([ 0,  1,  2,  3,  4,  5,  6,  7,  8,  9, 10])"
      ]
     },
     "execution_count": 87,
     "metadata": {},
     "output_type": "execute_result"
    }
   ],
   "source": [
    "#NOW IT WORKED YUJUUU, it changes the copy_arr cos i changed the slice_of_copy \n",
    "#and it works as a pointer to the copy_arr, but the originar arr is unmodified\n",
    "arr"
   ]
  },
  {
   "cell_type": "code",
   "execution_count": 89,
   "id": "8054ba5d-3a1e-4a77-b286-ff84bf663848",
   "metadata": {},
   "outputs": [],
   "source": [
    "#TO SELECT AND INDEX FROM 2D ARRAYS:"
   ]
  },
  {
   "cell_type": "code",
   "execution_count": 113,
   "id": "72d3d9c6-1535-4e23-b2b5-2cc986a33871",
   "metadata": {},
   "outputs": [
    {
     "data": {
      "text/plain": [
       "array([[ 5, 10, 15],\n",
       "       [20, 25, 20],\n",
       "       [35, 40, 45]])"
      ]
     },
     "execution_count": 113,
     "metadata": {},
     "output_type": "execute_result"
    }
   ],
   "source": [
    "arr_2d = np.array([[5,10,15],[20,25,20],[35,40,45]])\n",
    "arr_2d"
   ]
  },
  {
   "cell_type": "code",
   "execution_count": 115,
   "id": "499cbbbe-f49d-4b35-a30b-48aac082bba4",
   "metadata": {},
   "outputs": [],
   "source": [
    "#i only want 1 row --> ill have one dimension for rows and another for columns\n"
   ]
  },
  {
   "cell_type": "code",
   "execution_count": 119,
   "id": "39574d14-5f6d-4de3-833b-5b0280d6b2d0",
   "metadata": {},
   "outputs": [
    {
     "data": {
      "text/plain": [
       "(3, 3)"
      ]
     },
     "execution_count": 119,
     "metadata": {},
     "output_type": "execute_result"
    }
   ],
   "source": [
    "arr_2d.shape"
   ]
  },
  {
   "cell_type": "code",
   "execution_count": 123,
   "id": "bc0d2719-d726-40d1-b668-eb4ae8aefac5",
   "metadata": {},
   "outputs": [],
   "source": [
    "#So index zero, we have number of rows. The index one, we have number of columns.\n",
    "#That distinction is going to be important later on when we cover Pandas"
   ]
  },
  {
   "cell_type": "code",
   "execution_count": 127,
   "id": "b5e15574-7a3c-4585-b824-3aa7ea262471",
   "metadata": {},
   "outputs": [
    {
     "data": {
      "text/plain": [
       "array([ 5, 10, 15])"
      ]
     },
     "execution_count": 127,
     "metadata": {},
     "output_type": "execute_result"
    }
   ],
   "source": [
    "arr_2d [0]"
   ]
  },
  {
   "cell_type": "code",
   "execution_count": 131,
   "id": "68bb7b70-87f7-4760-8b6b-1676081a705f",
   "metadata": {},
   "outputs": [
    {
     "data": {
      "text/plain": [
       "array([20, 25, 20])"
      ]
     },
     "execution_count": 131,
     "metadata": {},
     "output_type": "execute_result"
    }
   ],
   "source": [
    "arr_2d[1]"
   ]
  },
  {
   "cell_type": "code",
   "execution_count": 135,
   "id": "c67ad0d5-8884-4fff-8671-f33ef6170eb0",
   "metadata": {},
   "outputs": [
    {
     "data": {
      "text/plain": [
       "10"
      ]
     },
     "execution_count": 135,
     "metadata": {},
     "output_type": "execute_result"
    }
   ],
   "source": [
    "arr_2d [0] [1]\n",
    "#WE START ALWAYS AT ZERO!\n",
    "#i can index into the row index to get one of the elements (column if seen that way)"
   ]
  },
  {
   "cell_type": "code",
   "execution_count": 141,
   "id": "472766ca-7589-4f70-82a2-b881fa2b49d6",
   "metadata": {},
   "outputs": [
    {
     "data": {
      "text/plain": [
       "10"
      ]
     },
     "execution_count": 141,
     "metadata": {},
     "output_type": "execute_result"
    }
   ],
   "source": [
    "#same i can intro it in the same []\n",
    "arr_2d [0,1]"
   ]
  },
  {
   "cell_type": "code",
   "execution_count": 147,
   "id": "98979946-63f9-4c36-b3fd-b0fb0c5e029f",
   "metadata": {},
   "outputs": [
    {
     "data": {
      "text/plain": [
       "25"
      ]
     },
     "execution_count": 147,
     "metadata": {},
     "output_type": "execute_result"
    }
   ],
   "source": [
    "arr_2d [1,1]\n",
    "#REMEMBER IT STARTS AT ZEEEROOOO"
   ]
  },
  {
   "cell_type": "code",
   "execution_count": 151,
   "id": "17dc34df-369f-41e2-a56f-5b746d7af74b",
   "metadata": {},
   "outputs": [],
   "source": [
    "#SLICING IN 2D"
   ]
  },
  {
   "cell_type": "code",
   "execution_count": 165,
   "id": "98464b4e-7c2b-4dab-8624-332aa68b69fb",
   "metadata": {},
   "outputs": [
    {
     "data": {
      "text/plain": [
       "array([[10, 15],\n",
       "       [25, 20]])"
      ]
     },
     "execution_count": 165,
     "metadata": {},
     "output_type": "execute_result"
    }
   ],
   "source": [
    "arr_2d[:2,1:]"
   ]
  },
  {
   "cell_type": "code",
   "execution_count": 167,
   "id": "b5277c38-491d-46ba-adbd-691dfe8987d2",
   "metadata": {},
   "outputs": [],
   "source": [
    "#in data sets the rows usually stand for data points and the columns for features\n",
    "#--> its unusual to do double subsets - normally you subserr either a whole row or a whole column"
   ]
  },
  {
   "cell_type": "code",
   "execution_count": 169,
   "id": "837e1946-ea96-499c-857d-59f955f7eba3",
   "metadata": {},
   "outputs": [],
   "source": [
    "#CONDITIONAL SELECTION:"
   ]
  },
  {
   "cell_type": "code",
   "execution_count": 171,
   "id": "34dbd3cd-794c-43a8-980c-30d793aeb337",
   "metadata": {},
   "outputs": [
    {
     "data": {
      "text/plain": [
       "array([ 1,  2,  3,  4,  5,  6,  7,  8,  9, 10])"
      ]
     },
     "execution_count": 171,
     "metadata": {},
     "output_type": "execute_result"
    }
   ],
   "source": [
    "arr = np.arange(1,11)\n",
    "arr"
   ]
  },
  {
   "cell_type": "code",
   "execution_count": 173,
   "id": "3dc22ca7-f55e-4874-8297-c880b401173d",
   "metadata": {},
   "outputs": [],
   "source": [
    "#I can broadcast a condition or a comparison out of this"
   ]
  },
  {
   "cell_type": "code",
   "execution_count": 177,
   "id": "8a7b2ae5-0600-44c4-8112-13ce5ec23788",
   "metadata": {},
   "outputs": [
    {
     "data": {
      "text/plain": [
       "array([False, False, False, False,  True,  True,  True,  True,  True,\n",
       "        True])"
      ]
     },
     "execution_count": 177,
     "metadata": {},
     "output_type": "execute_result"
    }
   ],
   "source": [
    "arr > 4"
   ]
  },
  {
   "cell_type": "code",
   "execution_count": 179,
   "id": "7c221e84-2fcc-4702-9493-690319f68c6e",
   "metadata": {},
   "outputs": [],
   "source": [
    "#So I run that, and this returns back a NumPy array of boolean values where the index location matches up\n",
    "#with the original data."
   ]
  },
  {
   "cell_type": "code",
   "execution_count": 183,
   "id": "f3aa4974-0e6a-4576-b58a-a06896d94351",
   "metadata": {},
   "outputs": [
    {
     "data": {
      "text/plain": [
       "array([False, False, False, False,  True,  True,  True,  True,  True,\n",
       "        True])"
      ]
     },
     "execution_count": 183,
     "metadata": {},
     "output_type": "execute_result"
    }
   ],
   "source": [
    "bool_arr = arr>4\n",
    "bool_arr"
   ]
  },
  {
   "cell_type": "code",
   "execution_count": 187,
   "id": "56cf59ff-42ae-48a6-8306-1c272402cc92",
   "metadata": {},
   "outputs": [
    {
     "data": {
      "text/plain": [
       "array([ 5,  6,  7,  8,  9, 10])"
      ]
     },
     "execution_count": 187,
     "metadata": {},
     "output_type": "execute_result"
    }
   ],
   "source": [
    "arr[bool_arr]"
   ]
  },
  {
   "cell_type": "code",
   "execution_count": 189,
   "id": "e4d59467-eb23-427e-99b1-b24db32f2255",
   "metadata": {},
   "outputs": [],
   "source": [
    "#now it will only return back the index locations of this boolean array where it happens to be true"
   ]
  },
  {
   "cell_type": "code",
   "execution_count": 191,
   "id": "e7fa67c8-a1e6-48f5-a576-1cbc6112cbcd",
   "metadata": {},
   "outputs": [
    {
     "data": {
      "text/plain": [
       "'\\nSo again, the steps here I did was have some sort of original array, do a comparison operator,\\nwhich gives you back this boolean array, which you can then use to filter out your original array.\\n'"
      ]
     },
     "execution_count": 191,
     "metadata": {},
     "output_type": "execute_result"
    }
   ],
   "source": [
    "'''\n",
    "So again, the steps here I did was have some sort of original array, do a comparison operator,\n",
    "which gives you back this boolean array, which you can then use to filter out your original array.\n",
    "'''"
   ]
  },
  {
   "cell_type": "code",
   "execution_count": 199,
   "id": "510215bd-6572-4411-bec6-c2c421f4bcb8",
   "metadata": {},
   "outputs": [
    {
     "data": {
      "text/plain": [
       "array([ 5,  6,  7,  8,  9, 10])"
      ]
     },
     "execution_count": 199,
     "metadata": {},
     "output_type": "execute_result"
    }
   ],
   "source": [
    "#Can do all these at once:\n",
    "arr[arr>4]\n",
    "#Shorter way\n",
    "#Pandas will allow me to do multiple comparissons at once"
   ]
  },
  {
   "cell_type": "code",
   "execution_count": 201,
   "id": "1c0201ad-111c-4333-8edf-aa8d1e4c1ccb",
   "metadata": {},
   "outputs": [
    {
     "data": {
      "text/plain": [
       "'\\nSo for right now, we just need to understand this basic idea\\nthat I can perform a comparison within my array\\nand then pass that as my conditional selection filter.\\n'"
      ]
     },
     "execution_count": 201,
     "metadata": {},
     "output_type": "execute_result"
    }
   ],
   "source": [
    "'''\n",
    "So for right now, we just need to understand this basic idea\n",
    "that I can perform a comparison within my array\n",
    "and then pass that as my conditional selection filter.\n",
    "'''"
   ]
  },
  {
   "cell_type": "code",
   "execution_count": 263,
   "id": "c187e5a8-8990-4a86-95b1-8ff120e91c7d",
   "metadata": {},
   "outputs": [
    {
     "data": {
      "text/plain": [
       "array([[5, 6],\n",
       "       [8, 9]])"
      ]
     },
     "execution_count": 263,
     "metadata": {},
     "output_type": "execute_result"
    }
   ],
   "source": [
    "myarr = np.array([[1,2,3],[4,5,6],[7,8,9]])\n",
    "myarr\n"
   ]
  },
  {
   "cell_type": "code",
   "execution_count": 261,
   "id": "a185d4ee-630a-46e8-aa7b-bcbc0ce27372",
   "metadata": {},
   "outputs": [
    {
     "data": {
      "text/plain": [
       "array([[4, 4],\n",
       "       [4, 4]])"
      ]
     },
     "execution_count": 261,
     "metadata": {},
     "output_type": "execute_result"
    }
   ],
   "source": []
  },
  {
   "cell_type": "code",
   "execution_count": 247,
   "id": "aa071fc3-b0d1-4033-b0bc-b224b2b7106a",
   "metadata": {},
   "outputs": [
    {
     "data": {
      "text/plain": [
       "array([[1, 2, 3],\n",
       "       [4, 5, 6],\n",
       "       [7, 8, 4]])"
      ]
     },
     "execution_count": 247,
     "metadata": {},
     "output_type": "execute_result"
    }
   ],
   "source": [
    "ss = subarr [1:, 1:]\n",
    "ss[:] = 4\n",
    "myarr"
   ]
  }
 ],
 "metadata": {
  "kernelspec": {
   "display_name": "Python 3 (ipykernel)",
   "language": "python",
   "name": "python3"
  },
  "language_info": {
   "codemirror_mode": {
    "name": "ipython",
    "version": 3
   },
   "file_extension": ".py",
   "mimetype": "text/x-python",
   "name": "python",
   "nbconvert_exporter": "python",
   "pygments_lexer": "ipython3",
   "version": "3.12.4"
  }
 },
 "nbformat": 4,
 "nbformat_minor": 5
}
