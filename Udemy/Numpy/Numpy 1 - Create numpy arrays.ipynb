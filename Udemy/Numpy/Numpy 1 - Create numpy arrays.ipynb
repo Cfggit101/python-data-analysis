{
 "cells": [
  {
   "cell_type": "code",
   "execution_count": 3,
   "id": "effa1f7a-8a38-43c3-ad55-a2fd64ddcb03",
   "metadata": {},
   "outputs": [],
   "source": [
    "import numpy as np\n",
    "#HOW TO CREATE NUMPY ARRAYS"
   ]
  },
  {
   "cell_type": "code",
   "execution_count": 7,
   "id": "970c9a9b-3840-43e8-b33d-26478d46ff43",
   "metadata": {},
   "outputs": [],
   "source": [
    "#1) convert python list into numpy array\n",
    "mylist = [1,2,3]"
   ]
  },
  {
   "cell_type": "code",
   "execution_count": 11,
   "id": "8ca81a22-d1f7-4ee8-9a71-c83d9d5f39f3",
   "metadata": {},
   "outputs": [
    {
     "data": {
      "text/plain": [
       "[1, 2, 3]"
      ]
     },
     "execution_count": 11,
     "metadata": {},
     "output_type": "execute_result"
    }
   ],
   "source": [
    "mylist"
   ]
  },
  {
   "cell_type": "code",
   "execution_count": 13,
   "id": "23369d7e-7827-4bc1-bdfb-a4c920585d55",
   "metadata": {},
   "outputs": [],
   "source": [
    "myarr = np.array(mylist)"
   ]
  },
  {
   "cell_type": "code",
   "execution_count": 15,
   "id": "8b74203e-438e-4606-959d-d5800db55ac5",
   "metadata": {},
   "outputs": [
    {
     "data": {
      "text/plain": [
       "array([1, 2, 3])"
      ]
     },
     "execution_count": 15,
     "metadata": {},
     "output_type": "execute_result"
    }
   ],
   "source": [
    "myarr"
   ]
  },
  {
   "cell_type": "code",
   "execution_count": 17,
   "id": "7fc7e7a3-d9ba-4f54-9037-c8efc026f785",
   "metadata": {},
   "outputs": [
    {
     "data": {
      "text/plain": [
       "numpy.ndarray"
      ]
     },
     "execution_count": 17,
     "metadata": {},
     "output_type": "execute_result"
    }
   ],
   "source": [
    "type(myarr)"
   ]
  },
  {
   "cell_type": "code",
   "execution_count": 19,
   "id": "d2df5e68-da70-4534-b904-c2f090458033",
   "metadata": {},
   "outputs": [],
   "source": [
    "my_matrix = [[1,2,3],[4,5,6]]\n"
   ]
  },
  {
   "cell_type": "code",
   "execution_count": 21,
   "id": "4137c4a2-884e-4fb3-992a-37064bb3bf77",
   "metadata": {},
   "outputs": [
    {
     "data": {
      "text/plain": [
       "[[1, 2, 3], [4, 5, 6]]"
      ]
     },
     "execution_count": 21,
     "metadata": {},
     "output_type": "execute_result"
    }
   ],
   "source": [
    "my_matrix\n"
   ]
  },
  {
   "cell_type": "code",
   "execution_count": 23,
   "id": "8a6b9a92-82e4-41fd-8538-da5441f6811c",
   "metadata": {},
   "outputs": [
    {
     "data": {
      "text/plain": [
       "array([[1, 2, 3],\n",
       "       [4, 5, 6]])"
      ]
     },
     "execution_count": 23,
     "metadata": {},
     "output_type": "execute_result"
    }
   ],
   "source": [
    "np.array(my_matrix)\n",
    "#converts it into a 2D"
   ]
  },
  {
   "cell_type": "code",
   "execution_count": 25,
   "id": "f289ca00-2e80-4169-94a4-d77289550d97",
   "metadata": {},
   "outputs": [],
   "source": [
    "#2) Using built in functions"
   ]
  },
  {
   "cell_type": "code",
   "execution_count": 29,
   "id": "6a17ede8-5a76-4b91-adbc-ecdb6662a0a6",
   "metadata": {},
   "outputs": [
    {
     "data": {
      "text/plain": [
       "array([0, 2, 4, 6, 8])"
      ]
     },
     "execution_count": 29,
     "metadata": {},
     "output_type": "execute_result"
    }
   ],
   "source": [
    "np.arange(0,10,2)\n",
    "#w one 'r'!\n",
    "#equivalent to 'range' function in python\n",
    "#w shift+tab i can see info about the function --> arange([start,] stop[, step,], dtype=None, *, like=None)\n",
    "#w the (0,10) will go all the way from 0 to 10 without including the 10 --> UP TO BUT NOT INCLUDING\n",
    "#3 w the (0,10,2) will go fron 0 to 10 without includiong 10 but w a stepsize of 2 (de dos en dos)"
   ]
  },
  {
   "cell_type": "code",
   "execution_count": 31,
   "id": "e24b3703-8660-4a3f-b531-28e4054318c6",
   "metadata": {},
   "outputs": [
    {
     "data": {
      "text/plain": [
       "array([ 0, 20, 40, 60, 80])"
      ]
     },
     "execution_count": 31,
     "metadata": {},
     "output_type": "execute_result"
    }
   ],
   "source": [
    "np.arange(0,100,20)\n",
    "#wont include 100! careful --> id have to put 202 if i want the 100 included"
   ]
  },
  {
   "cell_type": "code",
   "execution_count": 37,
   "id": "c7c2d15e-e237-4452-840b-41a3cd105cbb",
   "metadata": {},
   "outputs": [
    {
     "data": {
      "text/plain": [
       "array([[0., 0.],\n",
       "       [0., 0.],\n",
       "       [0., 0.],\n",
       "       [0., 0.],\n",
       "       [0., 0.]])"
      ]
     },
     "execution_count": 37,
     "metadata": {},
     "output_type": "execute_result"
    }
   ],
   "source": [
    "np.zeros((5,2))\n",
    "#will return zeros as FLOATING POINT NUMBERS\n",
    "#gotta put 4 parenthesis if i want 2D\n",
    "#1º rowa; 2º columns!!!"
   ]
  },
  {
   "cell_type": "code",
   "execution_count": 39,
   "id": "aa24c4c2-d961-4c98-bae1-e1deb88c2f19",
   "metadata": {},
   "outputs": [
    {
     "data": {
      "text/plain": [
       "array([[1., 1., 1., 1.],\n",
       "       [1., 1., 1., 1.],\n",
       "       [1., 1., 1., 1.],\n",
       "       [1., 1., 1., 1.]])"
      ]
     },
     "execution_count": 39,
     "metadata": {},
     "output_type": "execute_result"
    }
   ],
   "source": [
    "np.ones((4,4))"
   ]
  },
  {
   "cell_type": "code",
   "execution_count": 47,
   "id": "c5450440-fb07-446c-a0ab-94adda8f2f96",
   "metadata": {},
   "outputs": [
    {
     "data": {
      "text/plain": [
       "array([ 0.,  5., 10.])"
      ]
     },
     "execution_count": 47,
     "metadata": {},
     "output_type": "execute_result"
    }
   ],
   "source": [
    "np.linspace(0,10,3)\n",
    "#will take a start, a stop and a 'num' (how many numbers i want btw start and stop \n",
    "# --> linearly/evenly spaced over that interval)"
   ]
  },
  {
   "cell_type": "code",
   "execution_count": 51,
   "id": "de6af9b3-1146-4c09-99a0-ca50f937eada",
   "metadata": {},
   "outputs": [
    {
     "data": {
      "text/plain": [
       "array([ 0.,  1.,  2.,  3.,  4.,  5.,  6.,  7.,  8.,  9., 10.])"
      ]
     },
     "execution_count": 51,
     "metadata": {},
     "output_type": "execute_result"
    }
   ],
   "source": [
    "np.linspace(0,10,11)\n",
    "#cos it INCLUDES THE STOPPING POINT --> from 0 to 10 are 11 numbers --> you always have to add one more\n",
    "#all floats for precission"
   ]
  },
  {
   "cell_type": "code",
   "execution_count": 57,
   "id": "465e4c03-7e0a-45df-af39-464874c3cdec",
   "metadata": {},
   "outputs": [
    {
     "data": {
      "text/plain": [
       "11"
      ]
     },
     "execution_count": 57,
     "metadata": {},
     "output_type": "execute_result"
    }
   ],
   "source": [
    "#if i checke the len of that result, should be the same as the 'num' entered\n",
    "len(np.linspace(0,10,11))"
   ]
  },
  {
   "cell_type": "code",
   "execution_count": 63,
   "id": "ad7c543d-1907-4075-8b7c-e13fea5929d9",
   "metadata": {},
   "outputs": [
    {
     "data": {
      "text/plain": [
       "array([[1., 0., 0., 0., 0.],\n",
       "       [0., 1., 0., 0., 0.],\n",
       "       [0., 0., 1., 0., 0.],\n",
       "       [0., 0., 0., 1., 0.],\n",
       "       [0., 0., 0., 0., 1.]])"
      ]
     },
     "execution_count": 63,
     "metadata": {},
     "output_type": "execute_result"
    }
   ],
   "source": [
    "np.eye(5)\n",
    "#will create an identity matrix == ssquare matrix = same n of columns and row and ones in the diagonal"
   ]
  },
  {
   "cell_type": "code",
   "execution_count": 73,
   "id": "7d6cc22a-ca6b-476d-94c1-c233809b7403",
   "metadata": {},
   "outputs": [
    {
     "data": {
      "text/plain": [
       "array([[0.70518023, 0.38645839],\n",
       "       [0.31011011, 0.8541646 ],\n",
       "       [0.37650104, 0.29520378],\n",
       "       [0.14617493, 0.12781209],\n",
       "       [0.76371131, 0.84367676]])"
      ]
     },
     "execution_count": 73,
     "metadata": {},
     "output_type": "execute_result"
    }
   ],
   "source": [
    "#TO CREATE RANDOM DISTRIBUTIONS OF DATA:\n",
    "np.random.rand(5,2)\n",
    "#Create an array of the given shape and populate it with random samples from a uniform distribution over ``[0, 1)``. - where 0 inclusive and 1 exclusive -- can return 0 but not 1\n",
    "#uniform distribution --> all the numbers in btw 0 and 1 have the same likelihood of being picked\n",
    "#WILL PICK ME A RANDOM NUMBER BTW 0 AND 1 (NEVER 1), AND ALL OF THEM HAVE THE SAME LIKELIHOOD OF BEING RETURNED\n",
    "#AND AGAIN I CAN MAKE IT 2D (1º ROWS; 2º COLUMNS)\n",
    "#tab allow me to see all possible functions with that beginning"
   ]
  },
  {
   "cell_type": "code",
   "execution_count": 75,
   "id": "940e2879-90a4-43fe-840b-0cfab5f09320",
   "metadata": {},
   "outputs": [
    {
     "data": {
      "text/plain": [
       "array([-1.0254556 ,  0.48550392,  1.27381796, -0.17877077, -0.6086514 ,\n",
       "       -0.68964659,  1.124312  , -1.25963518,  1.0280196 ,  0.34857438])"
      ]
     },
     "execution_count": 75,
     "metadata": {},
     "output_type": "execute_result"
    }
   ],
   "source": [
    "#for a standard normal distribution\n",
    "np.random.randn(10)\n",
    "#Return a sample (or samples) from the \"standard normal\" distribution\n",
    "#mean 0 and variance 1\n",
    "# --> i can get negative numbers, however the numbers that are closest to 0 have a higher likelihood of being selected (bc of the 'standard normald'"
   ]
  },
  {
   "cell_type": "code",
   "execution_count": 77,
   "id": "8079eea4-c834-4bfb-ba4d-b997efe89ba6",
   "metadata": {},
   "outputs": [
    {
     "data": {
      "text/plain": [
       "array([[-0.15215619,  0.44791207, -0.17942882],\n",
       "       [-0.62756796, -0.75889004,  0.03301836]])"
      ]
     },
     "execution_count": 77,
     "metadata": {},
     "output_type": "execute_result"
    }
   ],
   "source": [
    "np.random.randn(2,3)"
   ]
  },
  {
   "cell_type": "code",
   "execution_count": 81,
   "id": "e009ad16-6c1b-45b7-9e80-1222d3a1398f",
   "metadata": {},
   "outputs": [
    {
     "data": {
      "text/plain": [
       "array([9, 9, 9, 9, 9])"
      ]
     },
     "execution_count": 81,
     "metadata": {},
     "output_type": "execute_result"
    }
   ],
   "source": [
    "np.random.randint(9,10,5)\n",
    "#Return random integers from the \"discrete uniform\" distribution of the \n",
    "    #specified dtype in the \"half-open\" interval [`low`, `high`). If `high` is None (the default), \n",
    "    #then results are from [0, `low`)."
   ]
  },
  {
   "cell_type": "code",
   "execution_count": 87,
   "id": "c16f0825-3519-4554-8e5b-723ba36df171",
   "metadata": {},
   "outputs": [],
   "source": [
    "#this happens bc 10 is not included and intergers are not decimals (only whole numbers)!!! --> the only possibility is all nines"
   ]
  },
  {
   "cell_type": "code",
   "execution_count": 91,
   "id": "175de0dc-fb8f-4417-a2bf-14b27834200a",
   "metadata": {},
   "outputs": [
    {
     "data": {
      "text/plain": [
       "array([[35, 12,  1, 76, 12],\n",
       "       [49, 76, 48, 59, 71],\n",
       "       [54, 44, 39, 53, 50],\n",
       "       [70, 83,  4, 52,  0]])"
      ]
     },
     "execution_count": 91,
     "metadata": {},
     "output_type": "execute_result"
    }
   ],
   "source": [
    "np.random.randint(0,101,(4,5))\n",
    "<3can also pass it for 2D"
   ]
  },
  {
   "cell_type": "code",
   "execution_count": 99,
   "id": "4b8594ea-b34d-4809-ba08-c4e98eb999f3",
   "metadata": {},
   "outputs": [
    {
     "data": {
      "text/plain": [
       "array([0.37454012, 0.95071431, 0.73199394, 0.59865848])"
      ]
     },
     "execution_count": 99,
     "metadata": {},
     "output_type": "execute_result"
    }
   ],
   "source": [
    "'''\n",
    "TO SET A SEED:\n",
    "Something to note here is that when you're using random data\n",
    "and you're running different tests on it,\n",
    "it's very useful to be able to actually set a seed\n",
    "and the seed is used to set a random state so\n",
    "that the random results can actually be reproduced.\n",
    "Keep in mind the results themselves are still random,\n",
    "but you're choosing an arbitrary seed number so\n",
    "that you get a particular set of random numbers.\n",
    "'''\n",
    "np.random.seed(42)\n",
    "#usually used 42 in reference to hitchers guide to the galaxi book\n",
    "np.random.rand(4)\n",
    "#be aware of doing it all in the same cell!\n",
    "#what seed allows it to set a particular set of random numbers\n",
    "#very important to be able to repeat random distributions in order to test different models on them and different visualization methods\n"
   ]
  },
  {
   "cell_type": "code",
   "execution_count": 107,
   "id": "3e7729e8-cf46-4467-a65d-967d9d7b7e44",
   "metadata": {},
   "outputs": [
    {
     "data": {
      "text/plain": [
       "array([0.37454012, 0.95071431, 0.73199394, 0.59865848, 0.15601864])"
      ]
     },
     "execution_count": 107,
     "metadata": {},
     "output_type": "execute_result"
    }
   ],
   "source": [
    "#the importatn thing is as long as you put those two in the same cell, youll be given the same exact numbers again\n",
    "np.random.seed(42)\n",
    "np.random.rand(5)\n",
    "#if you add more, the firsts are the same as long as you keep the 42 seed but adds you more of those pre-stablisez random numbers"
   ]
  },
  {
   "cell_type": "code",
   "execution_count": 113,
   "id": "c2774521-7fd5-46e9-aac5-2e6b50bfc044",
   "metadata": {},
   "outputs": [],
   "source": [
    "#ATTRIBUTES AND METHODS FOR NUMPY ARRAYS:\n",
    "arr = np.arange(0,25)"
   ]
  },
  {
   "cell_type": "code",
   "execution_count": 119,
   "id": "3bc370c0-c171-4700-bcb1-323a11201be9",
   "metadata": {},
   "outputs": [
    {
     "data": {
      "text/plain": [
       "array([ 0,  1,  2,  3,  4,  5,  6,  7,  8,  9, 10, 11, 12, 13, 14, 15, 16,\n",
       "       17, 18, 19, 20, 21, 22, 23, 24])"
      ]
     },
     "execution_count": 119,
     "metadata": {},
     "output_type": "execute_result"
    }
   ],
   "source": [
    "arr"
   ]
  },
  {
   "cell_type": "code",
   "execution_count": 127,
   "id": "15ca1afb-1744-4ca0-b891-83835e6b9c93",
   "metadata": {},
   "outputs": [
    {
     "data": {
      "text/plain": [
       "array([[ 0,  1,  2,  3,  4],\n",
       "       [ 5,  6,  7,  8,  9],\n",
       "       [10, 11, 12, 13, 14],\n",
       "       [15, 16, 17, 18, 19],\n",
       "       [20, 21, 22, 23, 24]])"
      ]
     },
     "execution_count": 127,
     "metadata": {},
     "output_type": "execute_result"
    }
   ],
   "source": [
    "arr.reshape(5,5)\n",
    "#can reshape an existing array in the form i waht (2D f ex)\n",
    "#be careful of enetering a shape that can fit all the elements you got in the array\n",
    "#test it by multiplying the two numbers you put and that should be equal to the number of elements you got originally"
   ]
  },
  {
   "cell_type": "code",
   "execution_count": 129,
   "id": "49099572-a553-4998-a749-27f284cf32be",
   "metadata": {},
   "outputs": [],
   "source": [
    "ranarr = np.random.randint(0,101,10)"
   ]
  },
  {
   "cell_type": "code",
   "execution_count": 133,
   "id": "c146c92d-bbe4-4012-8417-8d052c46b779",
   "metadata": {},
   "outputs": [
    {
     "data": {
      "text/plain": [
       "array([82, 86, 74, 74, 87, 99, 23,  2, 21, 52])"
      ]
     },
     "execution_count": 133,
     "metadata": {},
     "output_type": "execute_result"
    }
   ],
   "source": [
    "ranarr"
   ]
  },
  {
   "cell_type": "code",
   "execution_count": 137,
   "id": "51225bc9-1b5b-4b85-a264-25fdef97abcf",
   "metadata": {},
   "outputs": [
    {
     "data": {
      "text/plain": [
       "99"
      ]
     },
     "execution_count": 137,
     "metadata": {},
     "output_type": "execute_result"
    }
   ],
   "source": [
    "ranarr.max()\n",
    "#gives me the max or highest value in the array"
   ]
  },
  {
   "cell_type": "code",
   "execution_count": 141,
   "id": "b72b493b-c081-45be-9e6a-68dbd702352f",
   "metadata": {},
   "outputs": [
    {
     "data": {
      "text/plain": [
       "2"
      ]
     },
     "execution_count": 141,
     "metadata": {},
     "output_type": "execute_result"
    }
   ],
   "source": [
    "ranarr.min()\n",
    "#gives me the min or lowest value in the array"
   ]
  },
  {
   "cell_type": "code",
   "execution_count": 145,
   "id": "fef9ebbf-5701-4388-821b-84db2f961da2",
   "metadata": {},
   "outputs": [
    {
     "data": {
      "text/plain": [
       "5"
      ]
     },
     "execution_count": 145,
     "metadata": {},
     "output_type": "execute_result"
    }
   ],
   "source": [
    "#to know the index location of these elements:\n",
    "ranarr.argmax()\n",
    "#that max arg is found in that index location"
   ]
  },
  {
   "cell_type": "code",
   "execution_count": 147,
   "id": "d0b275d7-13a8-4415-b7ae-e21fd87da456",
   "metadata": {},
   "outputs": [
    {
     "data": {
      "text/plain": [
       "7"
      ]
     },
     "execution_count": 147,
     "metadata": {},
     "output_type": "execute_result"
    }
   ],
   "source": [
    "ranarr.argmin()\n",
    "#that min arg is found in that index location"
   ]
  },
  {
   "cell_type": "code",
   "execution_count": 151,
   "id": "8b435e09-57cd-4228-a7aa-1a7d7f71027b",
   "metadata": {},
   "outputs": [
    {
     "data": {
      "text/plain": [
       "dtype('int32')"
      ]
     },
     "execution_count": 151,
     "metadata": {},
     "output_type": "execute_result"
    }
   ],
   "source": [
    "#to call the data type of an array:\n",
    "ranarr.dtype"
   ]
  },
  {
   "cell_type": "code",
   "execution_count": 153,
   "id": "22d20a7d-5095-4f74-b114-dc6f10e9cfd0",
   "metadata": {},
   "outputs": [
    {
     "data": {
      "text/plain": [
       "dtype('float64')"
      ]
     },
     "execution_count": 153,
     "metadata": {},
     "output_type": "execute_result"
    }
   ],
   "source": [
    "ones = np.ones((4,4))\n",
    "ones.dtype"
   ]
  },
  {
   "cell_type": "markdown",
   "id": "d4f12ee6-388d-4e84-b757-3c8c734bffff",
   "metadata": {},
   "source": [
    "#the 32 or 64 are the numbers of bit the computers actually holding on - will depend of the precision its using for¿? memory"
   ]
  },
  {
   "cell_type": "code",
   "execution_count": 191,
   "id": "34e041eb-cab1-402c-8afd-569c21f993e6",
   "metadata": {},
   "outputs": [],
   "source": [
    "array = np.random.randint(0,101,10)"
   ]
  },
  {
   "cell_type": "code",
   "execution_count": 193,
   "id": "48c45f60-f256-4158-92fe-674fb2bdda68",
   "metadata": {},
   "outputs": [
    {
     "data": {
      "text/plain": [
       "array([57, 21, 88, 48, 90, 58, 41, 91, 59, 79])"
      ]
     },
     "execution_count": 193,
     "metadata": {},
     "output_type": "execute_result"
    }
   ],
   "source": [
    "array"
   ]
  },
  {
   "cell_type": "code",
   "execution_count": 197,
   "id": "3c92d4e7-6153-4220-8e04-91da0833ab13",
   "metadata": {},
   "outputs": [
    {
     "data": {
      "text/plain": [
       "(10,)"
      ]
     },
     "execution_count": 197,
     "metadata": {},
     "output_type": "execute_result"
    }
   ],
   "source": [
    "array.shape\n",
    "#will tell me the shape of the array --> line, matrix,... as (ROWS, COLUMNS) as always\n",
    "#it says 10,nothing to note that it is a 1D!!! 2D would be the 10,0 but then id have 4[]'s inside to note it"
   ]
  },
  {
   "cell_type": "code",
   "execution_count": 199,
   "id": "ad1acc0e-b62b-43c4-9491-1d82312b985d",
   "metadata": {},
   "outputs": [
    {
     "data": {
      "text/plain": [
       "array([[57, 21, 88, 48, 90],\n",
       "       [58, 41, 91, 59, 79]])"
      ]
     },
     "execution_count": 199,
     "metadata": {},
     "output_type": "execute_result"
    }
   ],
   "source": [
    "array = array.reshape(2,5)"
   ]
  },
  {
   "cell_type": "code",
   "execution_count": 211,
   "id": "4df57c2b-54f4-4557-be73-15e70e6a2712",
   "metadata": {},
   "outputs": [
    {
     "data": {
      "text/plain": [
       "(10,)"
      ]
     },
     "execution_count": 211,
     "metadata": {},
     "output_type": "execute_result"
    }
   ],
   "source": [
    "array.shape\n",
    "#should put (2,5)¿?"
   ]
  }
 ],
 "metadata": {
  "kernelspec": {
   "display_name": "Python 3 (ipykernel)",
   "language": "python",
   "name": "python3"
  },
  "language_info": {
   "codemirror_mode": {
    "name": "ipython",
    "version": 3
   },
   "file_extension": ".py",
   "mimetype": "text/x-python",
   "name": "python",
   "nbconvert_exporter": "python",
   "pygments_lexer": "ipython3",
   "version": "3.12.4"
  }
 },
 "nbformat": 4,
 "nbformat_minor": 5
}
