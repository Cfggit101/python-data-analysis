{
 "cells": [
  {
   "cell_type": "code",
   "execution_count": 7,
   "id": "aa10035a-9796-4a2d-949b-f03df752ae5b",
   "metadata": {},
   "outputs": [],
   "source": [
    "import numpy as np"
   ]
  },
  {
   "cell_type": "code",
   "execution_count": 11,
   "id": "a211d426-8951-4aff-9bce-62dbd2b3d08b",
   "metadata": {},
   "outputs": [],
   "source": [
    "arr = np.arange(0,10)"
   ]
  },
  {
   "cell_type": "code",
   "execution_count": 9,
   "id": "20bbd5d4-5253-4144-9603-d1a7a8860942",
   "metadata": {},
   "outputs": [
    {
     "data": {
      "text/plain": [
       "array([0, 1, 2, 3, 4, 5, 6, 7, 8, 9])"
      ]
     },
     "execution_count": 9,
     "metadata": {},
     "output_type": "execute_result"
    }
   ],
   "source": [
    "arr"
   ]
  },
  {
   "cell_type": "code",
   "execution_count": 11,
   "id": "c200e927-98fd-4165-9a1a-a3eadbc741c3",
   "metadata": {},
   "outputs": [],
   "source": [
    "#ARITHMETICS BTW ARRAYS AND ARITHMETICS BTW SCALAR AND ARRAYS"
   ]
  },
  {
   "cell_type": "code",
   "execution_count": 21,
   "id": "52f33d4b-6f28-41af-81e1-7c40cf8dc590",
   "metadata": {},
   "outputs": [
    {
     "data": {
      "text/plain": [
       "array([ 5,  6,  7,  8,  9, 10, 11, 12, 13, 14])"
      ]
     },
     "execution_count": 21,
     "metadata": {},
     "output_type": "execute_result"
    }
   ],
   "source": [
    "arrplus = arr + 5\n",
    "#will perform it element by element\n",
    "arrplus"
   ]
  },
  {
   "cell_type": "code",
   "execution_count": 27,
   "id": "e27b3beb-a94f-44db-80ac-1f02c4d5cded",
   "metadata": {},
   "outputs": [
    {
     "data": {
      "text/plain": [
       "array([55, 55, 55, 55, 55, 55])"
      ]
     },
     "execution_count": 27,
     "metadata": {},
     "output_type": "execute_result"
    }
   ],
   "source": [
    "subarr [:] = arrplus[arrplus>8] = 55\n",
    "subarr"
   ]
  },
  {
   "cell_type": "code",
   "execution_count": 31,
   "id": "d0c776be-8754-4c48-9125-a3f429344194",
   "metadata": {},
   "outputs": [
    {
     "data": {
      "text/plain": [
       "array([0, 1, 2, 3, 4, 5, 6, 7, 8, 9])"
      ]
     },
     "execution_count": 31,
     "metadata": {},
     "output_type": "execute_result"
    }
   ],
   "source": [
    "arr"
   ]
  },
  {
   "cell_type": "code",
   "execution_count": 35,
   "id": "35a1c7f8-4cba-4660-953c-22b33e56851d",
   "metadata": {},
   "outputs": [
    {
     "data": {
      "text/plain": [
       "array([ 5,  6,  7,  8, 55, 55, 55, 55, 55, 55])"
      ]
     },
     "execution_count": 35,
     "metadata": {},
     "output_type": "execute_result"
    }
   ],
   "source": [
    "arrplus"
   ]
  },
  {
   "cell_type": "code",
   "execution_count": 37,
   "id": "7a4378df-98c0-4851-8481-e928ebcd6a0c",
   "metadata": {},
   "outputs": [],
   "source": [
    "#see arrplus is now indeondent of arr --> arr is the same and only arrplus is modified"
   ]
  },
  {
   "cell_type": "code",
   "execution_count": 39,
   "id": "7be42a18-33a2-432e-8f52-42f6e5857742",
   "metadata": {},
   "outputs": [
    {
     "data": {
      "text/plain": [
       "array([-2, -1,  0,  1,  2,  3,  4,  5,  6,  7])"
      ]
     },
     "execution_count": 39,
     "metadata": {},
     "output_type": "execute_result"
    }
   ],
   "source": [
    "arr -2"
   ]
  },
  {
   "cell_type": "code",
   "execution_count": 43,
   "id": "c73b8231-a4e3-4f12-aeef-496167cdca59",
   "metadata": {},
   "outputs": [
    {
     "data": {
      "text/plain": [
       "array([ 0,  2,  4,  6,  8, 10, 12, 14, 16, 18])"
      ]
     },
     "execution_count": 43,
     "metadata": {},
     "output_type": "execute_result"
    }
   ],
   "source": [
    "arr + arr\n",
    "#to be able to do this the two arrays must have the same size obv"
   ]
  },
  {
   "cell_type": "code",
   "execution_count": 57,
   "id": "fae7ed1a-232d-4a47-ad55-1b697a7eec25",
   "metadata": {},
   "outputs": [
    {
     "data": {
      "text/plain": [
       "array([[1, 2, 3],\n",
       "       [1, 2, 3],\n",
       "       [1, 2, 3]])"
      ]
     },
     "execution_count": 57,
     "metadata": {},
     "output_type": "execute_result"
    }
   ],
   "source": [
    "d2_1 = np.array([[1,2,3],[1,2,3],[1,2,3]])\n",
    "d2_1\n"
   ]
  },
  {
   "cell_type": "code",
   "execution_count": 59,
   "id": "64c6bfbd-9610-4502-9e44-62813c887d2f",
   "metadata": {},
   "outputs": [
    {
     "data": {
      "text/plain": [
       "array([[1, 2, 4],\n",
       "       [1, 2, 3],\n",
       "       [1, 2, 3]])"
      ]
     },
     "execution_count": 59,
     "metadata": {},
     "output_type": "execute_result"
    }
   ],
   "source": [
    "d2_2 = np.array([[1,2,4],[1,2,3],[1,2,3]])\n",
    "d2_2"
   ]
  },
  {
   "cell_type": "code",
   "execution_count": 63,
   "id": "08bc12ca-b034-4687-892f-ae571fb1373b",
   "metadata": {},
   "outputs": [
    {
     "data": {
      "text/plain": [
       "array([[2, 4, 7],\n",
       "       [2, 4, 6],\n",
       "       [2, 4, 6]])"
      ]
     },
     "execution_count": 63,
     "metadata": {},
     "output_type": "execute_result"
    }
   ],
   "source": [
    "d2_1 + d2_2"
   ]
  },
  {
   "cell_type": "code",
   "execution_count": 67,
   "id": "9addfdc4-0c39-41b2-b30c-c3bd4cbcd088",
   "metadata": {},
   "outputs": [
    {
     "data": {
      "text/plain": [
       "array([[ 1,  4, 12],\n",
       "       [ 1,  4,  9],\n",
       "       [ 1,  4,  9]])"
      ]
     },
     "execution_count": 67,
     "metadata": {},
     "output_type": "execute_result"
    }
   ],
   "source": [
    "d2_1 * d2_2"
   ]
  },
  {
   "cell_type": "code",
   "execution_count": 71,
   "id": "6d85385b-1e1b-4dac-bb1b-3aa64af6ac1e",
   "metadata": {},
   "outputs": [],
   "source": [
    "#numpy works different with divisions when divided by zero"
   ]
  },
  {
   "cell_type": "code",
   "execution_count": 75,
   "id": "6e3979e7-56dd-491c-81a0-904e92acebe2",
   "metadata": {},
   "outputs": [
    {
     "data": {
      "text/plain": [
       "array([0, 1, 2, 3, 4, 5, 6, 7, 8, 9])"
      ]
     },
     "execution_count": 75,
     "metadata": {},
     "output_type": "execute_result"
    }
   ],
   "source": [
    "arr"
   ]
  },
  {
   "cell_type": "code",
   "execution_count": 81,
   "id": "555092f6-349c-409b-9146-faf25bc9ea04",
   "metadata": {},
   "outputs": [
    {
     "name": "stderr",
     "output_type": "stream",
     "text": [
      "C:\\Users\\mirlo\\AppData\\Local\\Temp\\ipykernel_18860\\3001117470.py:1: RuntimeWarning: invalid value encountered in divide\n",
      "  arr / arr\n"
     ]
    },
    {
     "data": {
      "text/plain": [
       "array([nan,  1.,  1.,  1.,  1.,  1.,  1.,  1.,  1.,  1.])"
      ]
     },
     "execution_count": 81,
     "metadata": {},
     "output_type": "execute_result"
    }
   ],
   "source": [
    "arr / arr"
   ]
  },
  {
   "cell_type": "code",
   "execution_count": 83,
   "id": "d52d2e42-8161-4ba9-836c-fb5f7761f3d9",
   "metadata": {},
   "outputs": [],
   "source": [
    "#it ll still output a result however itll give you a warning --> sustitutes the division by 0 w 'nan' (not a number)"
   ]
  },
  {
   "cell_type": "code",
   "execution_count": 3,
   "id": "ef90254e-56ef-4d79-b95d-267168780432",
   "metadata": {},
   "outputs": [],
   "source": [
    "#in python it doesnt let you but in numpy if 0/0 --> nan; int!=0/0 --> inf (infinite)\n",
    "#--> numpy will let me do it but places a placeholder in that spot"
   ]
  },
  {
   "cell_type": "code",
   "execution_count": 17,
   "id": "d076d7a2-ba7a-4a4e-bf22-fc5abc391aa4",
   "metadata": {},
   "outputs": [
    {
     "data": {
      "text/plain": [
       "array([0.        , 1.        , 1.41421356, 1.73205081, 2.        ,\n",
       "       2.23606798, 2.44948974, 2.64575131, 2.82842712, 3.        ])"
      ]
     },
     "execution_count": 17,
     "metadata": {},
     "output_type": "execute_result"
    }
   ],
   "source": [
    "np.sqrt(arr)"
   ]
  },
  {
   "cell_type": "code",
   "execution_count": 32,
   "id": "6341030e-aa1e-4a00-af27-a0313be8bcef",
   "metadata": {},
   "outputs": [
    {
     "data": {
      "text/plain": [
       "array([ 0.        ,  0.84147098,  0.90929743,  0.14112001, -0.7568025 ,\n",
       "       -0.95892427, -0.2794155 ,  0.6569866 ,  0.98935825,  0.41211849])"
      ]
     },
     "execution_count": 32,
     "metadata": {},
     "output_type": "execute_result"
    }
   ],
   "source": [
    "np.sin(arr)\n"
   ]
  },
  {
   "cell_type": "code",
   "execution_count": 36,
   "id": "4424c82e-99da-4416-9e13-0d8e0b1987eb",
   "metadata": {},
   "outputs": [
    {
     "name": "stderr",
     "output_type": "stream",
     "text": [
      "C:\\Users\\mirlo\\AppData\\Local\\Temp\\ipykernel_21088\\111955462.py:1: RuntimeWarning: divide by zero encountered in log\n",
      "  np.log(arr)\n"
     ]
    },
    {
     "data": {
      "text/plain": [
       "array([      -inf, 0.        , 0.69314718, 1.09861229, 1.38629436,\n",
       "       1.60943791, 1.79175947, 1.94591015, 2.07944154, 2.19722458])"
      ]
     },
     "execution_count": 36,
     "metadata": {},
     "output_type": "execute_result"
    }
   ],
   "source": [
    "np.log(arr)\n",
    "#we get a warning bc log of zero desnt make sense"
   ]
  },
  {
   "cell_type": "code",
   "execution_count": 38,
   "id": "19aa1c63-0ae1-47ab-bfa8-67ea2ebed580",
   "metadata": {},
   "outputs": [],
   "source": [
    "#can see other numpy universall function calls in their website"
   ]
  },
  {
   "cell_type": "code",
   "execution_count": 42,
   "id": "e8ed51f7-9570-436e-9d67-bcc2884d1196",
   "metadata": {},
   "outputs": [
    {
     "data": {
      "text/plain": [
       "45"
      ]
     },
     "execution_count": 42,
     "metadata": {},
     "output_type": "execute_result"
    }
   ],
   "source": [
    "arr.sum()\n",
    "#sums up elements in the array"
   ]
  },
  {
   "cell_type": "code",
   "execution_count": 48,
   "id": "c2e6f9db-f97f-4aed-8f99-2aeb53c4ed5f",
   "metadata": {},
   "outputs": [
    {
     "data": {
      "text/plain": [
       "4.5"
      ]
     },
     "execution_count": 48,
     "metadata": {},
     "output_type": "execute_result"
    }
   ],
   "source": [
    "arr.mean()\n",
    "#average"
   ]
  },
  {
   "cell_type": "code",
   "execution_count": 52,
   "id": "0c96b955-7961-4c94-a524-ee83786b55f5",
   "metadata": {},
   "outputs": [
    {
     "data": {
      "text/plain": [
       "9"
      ]
     },
     "execution_count": 52,
     "metadata": {},
     "output_type": "execute_result"
    }
   ],
   "source": [
    "arr.max()\n",
    "#maximum value in the array"
   ]
  },
  {
   "cell_type": "code",
   "execution_count": 56,
   "id": "210dd605-d1c8-4c1d-ba54-f4b24292932f",
   "metadata": {},
   "outputs": [
    {
     "data": {
      "text/plain": [
       "8.25"
      ]
     },
     "execution_count": 56,
     "metadata": {},
     "output_type": "execute_result"
    }
   ],
   "source": [
    "arr.var()\n",
    "#varianza"
   ]
  },
  {
   "cell_type": "code",
   "execution_count": 60,
   "id": "1ebf1f2e-e01d-44ef-9451-d50d1d7775aa",
   "metadata": {},
   "outputs": [
    {
     "data": {
      "text/plain": [
       "2.8722813232690143"
      ]
     },
     "execution_count": 60,
     "metadata": {},
     "output_type": "execute_result"
    }
   ],
   "source": [
    "arr.std()\n",
    "#desviacion tipica"
   ]
  },
  {
   "cell_type": "code",
   "execution_count": 62,
   "id": "90819a19-9cde-4f42-97c1-6e46138ef3a2",
   "metadata": {},
   "outputs": [],
   "source": [
    "#AXIS LOGIC (2D)"
   ]
  },
  {
   "cell_type": "code",
   "execution_count": 72,
   "id": "ad308aa6-ed2e-4f1b-bbdc-3d122be41595",
   "metadata": {},
   "outputs": [],
   "source": [
    "arr2d = np.arange(0,25).reshape(5,5)"
   ]
  },
  {
   "cell_type": "code",
   "execution_count": 74,
   "id": "bd19aadb-d0e3-4136-a5f5-6fccbbbe86d4",
   "metadata": {},
   "outputs": [
    {
     "data": {
      "text/plain": [
       "(5, 5)"
      ]
     },
     "execution_count": 74,
     "metadata": {},
     "output_type": "execute_result"
    }
   ],
   "source": [
    "arr2d.shape"
   ]
  },
  {
   "cell_type": "code",
   "execution_count": 78,
   "id": "daccfb08-d64b-484c-9e34-ce0e6b6ae842",
   "metadata": {},
   "outputs": [
    {
     "data": {
      "text/plain": [
       "array([[ 0,  1,  2,  3,  4],\n",
       "       [ 5,  6,  7,  8,  9],\n",
       "       [10, 11, 12, 13, 14],\n",
       "       [15, 16, 17, 18, 19],\n",
       "       [20, 21, 22, 23, 24]])"
      ]
     },
     "execution_count": 78,
     "metadata": {},
     "output_type": "execute_result"
    }
   ],
   "source": [
    "arr2d"
   ]
  },
  {
   "cell_type": "code",
   "execution_count": 84,
   "id": "2a807886-301b-4c67-899e-e0da3b0291a8",
   "metadata": {},
   "outputs": [
    {
     "data": {
      "text/plain": [
       "300"
      ]
     },
     "execution_count": 84,
     "metadata": {},
     "output_type": "execute_result"
    }
   ],
   "source": [
    "arr2d.sum()\n",
    "#sums all"
   ]
  },
  {
   "cell_type": "code",
   "execution_count": 86,
   "id": "149124a2-76be-41ae-810c-fd88857048f9",
   "metadata": {},
   "outputs": [],
   "source": [
    "#if i wanna sum only rows or columns --> sum function takes 'axis parameters' \n",
    "# --> 'a.sum(axis=None, dtype=None, out=None, keepdims=False, initial=0, where=True)''"
   ]
  },
  {
   "cell_type": "code",
   "execution_count": 90,
   "id": "3ad0cf88-e1a6-4f00-b76c-6d5336944dd6",
   "metadata": {},
   "outputs": [
    {
     "data": {
      "text/plain": [
       "array([50, 55, 60, 65, 70])"
      ]
     },
     "execution_count": 90,
     "metadata": {},
     "output_type": "execute_result"
    }
   ],
   "source": [
    "arr2d.sum(axis=0)\n",
    "#when i called shape, the first number was rows, so the '0' position reffers to rows\n",
    "#and so putting axis=0 itll perform the operation ACROSS THE ROWS\n",
    "#performs the operation across the index of shape refered to!!!"
   ]
  },
  {
   "cell_type": "code",
   "execution_count": 94,
   "id": "f9e71904-dd98-42fb-83fd-24298c252ff1",
   "metadata": {},
   "outputs": [
    {
     "data": {
      "text/plain": [
       "array([ 10,  35,  60,  85, 110])"
      ]
     },
     "execution_count": 94,
     "metadata": {},
     "output_type": "execute_result"
    }
   ],
   "source": [
    "arr2d.sum(axis=1)\n",
    "#1 reffers to columns and so itll make the operation ACROSS the columns (not with them!!!)"
   ]
  },
  {
   "cell_type": "code",
   "execution_count": null,
   "id": "8affe2a6-5d2e-40fb-bc5b-a69c70e42508",
   "metadata": {},
   "outputs": [],
   "source": []
  }
 ],
 "metadata": {
  "kernelspec": {
   "display_name": "Python 3 (ipykernel)",
   "language": "python",
   "name": "python3"
  },
  "language_info": {
   "codemirror_mode": {
    "name": "ipython",
    "version": 3
   },
   "file_extension": ".py",
   "mimetype": "text/x-python",
   "name": "python",
   "nbconvert_exporter": "python",
   "pygments_lexer": "ipython3",
   "version": "3.12.4"
  }
 },
 "nbformat": 4,
 "nbformat_minor": 5
}
