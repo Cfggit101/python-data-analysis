{
 "cells": [
  {
   "cell_type": "code",
   "execution_count": 3,
   "id": "8546b553-9945-436d-90c4-11bead22d213",
   "metadata": {},
   "outputs": [],
   "source": [
    "import numpy as np"
   ]
  },
  {
   "cell_type": "code",
   "execution_count": 7,
   "id": "816afa3d-1937-4bfc-956b-4061855f750f",
   "metadata": {},
   "outputs": [],
   "source": [
    "import pandas as pd"
   ]
  },
  {
   "cell_type": "code",
   "execution_count": 11,
   "id": "c92af4ec-62c7-445a-8958-6dbc47667951",
   "metadata": {},
   "outputs": [],
   "source": [
    "#help(pd.Series) for more info on Pandas Series"
   ]
  },
  {
   "cell_type": "code",
   "execution_count": 13,
   "id": "d2166b7f-5020-4132-b891-873cae65b0c1",
   "metadata": {},
   "outputs": [
    {
     "data": {
      "text/plain": [
       "pandas.core.series.Series"
      ]
     },
     "execution_count": 13,
     "metadata": {},
     "output_type": "execute_result"
    }
   ],
   "source": [
    "pd.Series\n",
    "#pd.Series(\n",
    "    #data=None,\n",
    "    #index=None,\n",
    "#This is what's gonna add up that supplemental index to the data stored as an array whithin the series\n"
   ]
  },
  {
   "cell_type": "code",
   "execution_count": 35,
   "id": "5d84b200-5bc9-481a-9bab-7626af0f80b3",
   "metadata": {},
   "outputs": [
    {
     "data": {
      "text/plain": [
       "0    1776\n",
       "1    1867\n",
       "2    1821\n",
       "dtype: int64"
      ]
     },
     "execution_count": 35,
     "metadata": {},
     "output_type": "execute_result"
    }
   ],
   "source": [
    "myindex = [\"USA\", \"Canada\", \"Mexico\"]\n",
    "mydata = [1776,1867,1821]\n",
    "myser = pd.Series(data=mydata)\n",
    "#Internally, it's essentially converting this Python list to a NumPy array held inside as a Pandas Series.\n",
    "myser\n"
   ]
  },
  {
   "cell_type": "code",
   "execution_count": 45,
   "id": "fde1f1d7-397b-42a2-add5-bc154cef2468",
   "metadata": {},
   "outputs": [
    {
     "data": {
      "text/plain": [
       "USA       1776\n",
       "Canada    1867\n",
       "Mexico    1821\n",
       "dtype: int64"
      ]
     },
     "execution_count": 45,
     "metadata": {},
     "output_type": "execute_result"
    }
   ],
   "source": [
    "myser = pd.Series(data=mydata, index=myindex)\n",
    "#same: myser = pd.Series(mydata, myindex)\n",
    "myser\n",
    "#Internally, it's essentially converting this Python list to a NumPy array held inside as a Pandas Series.\n"
   ]
  },
  {
   "cell_type": "code",
   "execution_count": 49,
   "id": "aa1b5604-3f4e-4225-9270-518613e90dda",
   "metadata": {},
   "outputs": [
    {
     "data": {
      "text/plain": [
       "1776"
      ]
     },
     "execution_count": 49,
     "metadata": {},
     "output_type": "execute_result"
    }
   ],
   "source": [
    "#Its really useful cos instead of knowing where everything is i can just call info by the string (label) attached to it\n",
    "myser[\"USA\"]"
   ]
  },
  {
   "cell_type": "code",
   "execution_count": 55,
   "id": "ddc560dd-f24f-4d96-9150-e0ad9a76c921",
   "metadata": {},
   "outputs": [
    {
     "name": "stderr",
     "output_type": "stream",
     "text": [
      "C:\\Users\\mirlo\\AppData\\Local\\Temp\\ipykernel_9404\\4153259285.py:1: FutureWarning: Series.__getitem__ treating keys as positions is deprecated. In a future version, integer keys will always be treated as labels (consistent with DataFrame behavior). To access a value by position, use `ser.iloc[pos]`\n",
      "  myser[0]\n"
     ]
    },
    {
     "data": {
      "text/plain": [
       "1776"
      ]
     },
     "execution_count": 55,
     "metadata": {},
     "output_type": "execute_result"
    }
   ],
   "source": [
    "myser[0]\n",
    "#so it retains the numeric index by location and the labeled index\n",
    "#--> i can call info both ways"
   ]
  },
  {
   "cell_type": "code",
   "execution_count": 57,
   "id": "4090000f-ff9d-40c4-8827-0eeb9ec0c759",
   "metadata": {},
   "outputs": [],
   "source": [
    "#CREATE A SERIES FROM A DICTIONARY"
   ]
  },
  {
   "cell_type": "code",
   "execution_count": 64,
   "id": "dd64e380-a8ae-4902-92ce-84ec7875fe45",
   "metadata": {},
   "outputs": [
    {
     "data": {
      "text/plain": [
       "{'Sam': 5, 'Frank': 7, 'Spike': 6}"
      ]
     },
     "execution_count": 64,
     "metadata": {},
     "output_type": "execute_result"
    }
   ],
   "source": [
    "ages = {\"Sam\":5, \"Frank\":7, \"Spike\": 6}\n",
    "ages"
   ]
  },
  {
   "cell_type": "code",
   "execution_count": 70,
   "id": "36c6f0dd-775b-498f-86f4-c778a115712a",
   "metadata": {},
   "outputs": [
    {
     "data": {
      "text/plain": [
       "Sam      5\n",
       "Frank    7\n",
       "Spike    6\n",
       "dtype: int64"
      ]
     },
     "execution_count": 70,
     "metadata": {},
     "output_type": "execute_result"
    }
   ],
   "source": [
    "pd.Series (ages)\n",
    "#Pandas Series will make the dictionary keys the index and the values the array data\n",
    "#very useful cos a lot of times youre gonna have info passed to you in a form of dictionary, and so you can easily transform it into a Pandas Series object"
   ]
  },
  {
   "cell_type": "code",
   "execution_count": null,
   "id": "a5e2d124-c850-4328-a308-cf686edf9ee7",
   "metadata": {},
   "outputs": [],
   "source": [
    "#--> Pandas Series takes in data, and index ,and with dictionaries it will directly transform it in those two"
   ]
  },
  {
   "cell_type": "code",
   "execution_count": null,
   "id": "0cd373c5-3a4f-42f0-8d75-05731907f3f9",
   "metadata": {},
   "outputs": [],
   "source": []
  }
 ],
 "metadata": {
  "kernelspec": {
   "display_name": "Python 3 (ipykernel)",
   "language": "python",
   "name": "python3"
  },
  "language_info": {
   "codemirror_mode": {
    "name": "ipython",
    "version": 3
   },
   "file_extension": ".py",
   "mimetype": "text/x-python",
   "name": "python",
   "nbconvert_exporter": "python",
   "pygments_lexer": "ipython3",
   "version": "3.12.4"
  }
 },
 "nbformat": 4,
 "nbformat_minor": 5
}
