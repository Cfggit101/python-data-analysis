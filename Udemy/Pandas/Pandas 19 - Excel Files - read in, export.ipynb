{
 "cells": [
  {
   "cell_type": "code",
   "execution_count": 1,
   "id": "3402da7e-5c41-4bf5-b682-3b73b2aaacee",
   "metadata": {},
   "outputs": [],
   "source": [
    "#EXCEL FILES\n",
    "#Pandas can only read and write in the raw data. If you have a more advanced Excel spreadsheet that has macros or visualizations\n",
    "#or specific formulas created inside the spreadsheet, Pandas is not going to be able to read in those relationships.\n",
    "#It's just going to grab the actual value in the cell and then read it in as a data frame."
   ]
  },
  {
   "cell_type": "code",
   "execution_count": null,
   "id": "ac1a13a4-4012-448d-a080-fe4e638fcace",
   "metadata": {},
   "outputs": [],
   "source": [
    "#pandas treats the workbook as a disctionary, w the key being the sheet name and the value being every dataframe associated w it\n",
    "#gotta use specific libraries (can use them directly without being limited by pandas - see web)"
   ]
  },
  {
   "cell_type": "code",
   "execution_count": 3,
   "id": "ab3fd381-4e08-481a-a254-595da89354bc",
   "metadata": {},
   "outputs": [],
   "source": [
    "import pandas as pd"
   ]
  },
  {
   "cell_type": "code",
   "execution_count": 11,
   "id": "dc645f47-af58-4178-a2cc-0e7a23b9802e",
   "metadata": {},
   "outputs": [
    {
     "data": {
      "text/html": [
       "<div>\n",
       "<style scoped>\n",
       "    .dataframe tbody tr th:only-of-type {\n",
       "        vertical-align: middle;\n",
       "    }\n",
       "\n",
       "    .dataframe tbody tr th {\n",
       "        vertical-align: top;\n",
       "    }\n",
       "\n",
       "    .dataframe thead th {\n",
       "        text-align: right;\n",
       "    }\n",
       "</style>\n",
       "<table border=\"1\" class=\"dataframe\">\n",
       "  <thead>\n",
       "    <tr style=\"text-align: right;\">\n",
       "      <th></th>\n",
       "      <th>a</th>\n",
       "      <th>b</th>\n",
       "      <th>c</th>\n",
       "      <th>d</th>\n",
       "    </tr>\n",
       "  </thead>\n",
       "  <tbody>\n",
       "    <tr>\n",
       "      <th>0</th>\n",
       "      <td>0</td>\n",
       "      <td>1</td>\n",
       "      <td>2</td>\n",
       "      <td>3</td>\n",
       "    </tr>\n",
       "    <tr>\n",
       "      <th>1</th>\n",
       "      <td>4</td>\n",
       "      <td>5</td>\n",
       "      <td>6</td>\n",
       "      <td>7</td>\n",
       "    </tr>\n",
       "    <tr>\n",
       "      <th>2</th>\n",
       "      <td>8</td>\n",
       "      <td>9</td>\n",
       "      <td>10</td>\n",
       "      <td>11</td>\n",
       "    </tr>\n",
       "    <tr>\n",
       "      <th>3</th>\n",
       "      <td>12</td>\n",
       "      <td>13</td>\n",
       "      <td>14</td>\n",
       "      <td>15</td>\n",
       "    </tr>\n",
       "  </tbody>\n",
       "</table>\n",
       "</div>"
      ],
      "text/plain": [
       "    a   b   c   d\n",
       "0   0   1   2   3\n",
       "1   4   5   6   7\n",
       "2   8   9  10  11\n",
       "3  12  13  14  15"
      ]
     },
     "execution_count": 11,
     "metadata": {},
     "output_type": "execute_result"
    }
   ],
   "source": [
    "df = pd.read_excel('my_excel_file.xlsx', sheet_name='First_Sheet')\n",
    "#if just wanna read one sheet -- i say sheet_name= 'and the sheet name'\n",
    "df"
   ]
  },
  {
   "cell_type": "code",
   "execution_count": null,
   "id": "fc8406ea-410c-412d-ad0a-7547a37b5b32",
   "metadata": {},
   "outputs": [],
   "source": [
    "#what if i dont know my sheet names so i wanna loopt through them all?"
   ]
  },
  {
   "cell_type": "code",
   "execution_count": 18,
   "id": "65a61e5d-896e-47fb-b1c9-05e6ef12ea32",
   "metadata": {},
   "outputs": [
    {
     "data": {
      "text/plain": [
       "['First_Sheet']"
      ]
     },
     "execution_count": 18,
     "metadata": {},
     "output_type": "execute_result"
    }
   ],
   "source": [
    "#to know the names of all your workbooks:\n",
    "wb = pd.ExcelFile('my_excel_file.xlsx')\n",
    "wb.sheet_names\n",
    "#this will provide me a list of all the workbooks so i can then use it to loop through the 'read_excel' function by passing them to 'sheet_name' thorugh a variable and looping it"
   ]
  },
  {
   "cell_type": "code",
   "execution_count": 32,
   "id": "ff3efbf1-2168-44dc-8432-9c5f05341045",
   "metadata": {},
   "outputs": [],
   "source": [
    "#or i can directly grab all the sheets and so pandas will generate a dictionary as we mentioned\n",
    "excel_dict = pd.read_excel('my_excel_file.xlsx', sheet_name= None)\n",
    "#if you pass a 'None' to the sheet_name, itll read all and pass them as a dictionary to the variable"
   ]
  },
  {
   "cell_type": "code",
   "execution_count": 28,
   "id": "7cd06c5e-1700-4164-b7a5-b8750d9cb679",
   "metadata": {},
   "outputs": [
    {
     "data": {
      "text/plain": [
       "dict_keys(['First_Sheet'])"
      ]
     },
     "execution_count": 28,
     "metadata": {},
     "output_type": "execute_result"
    }
   ],
   "source": [
    "#and so this dict has keys\n",
    "excel_dict.keys()"
   ]
  },
  {
   "cell_type": "code",
   "execution_count": 30,
   "id": "ac39d471-c98e-45dc-8090-703dc67b9d1b",
   "metadata": {},
   "outputs": [
    {
     "data": {
      "text/html": [
       "<div>\n",
       "<style scoped>\n",
       "    .dataframe tbody tr th:only-of-type {\n",
       "        vertical-align: middle;\n",
       "    }\n",
       "\n",
       "    .dataframe tbody tr th {\n",
       "        vertical-align: top;\n",
       "    }\n",
       "\n",
       "    .dataframe thead th {\n",
       "        text-align: right;\n",
       "    }\n",
       "</style>\n",
       "<table border=\"1\" class=\"dataframe\">\n",
       "  <thead>\n",
       "    <tr style=\"text-align: right;\">\n",
       "      <th></th>\n",
       "      <th>a</th>\n",
       "      <th>b</th>\n",
       "      <th>c</th>\n",
       "      <th>d</th>\n",
       "    </tr>\n",
       "  </thead>\n",
       "  <tbody>\n",
       "    <tr>\n",
       "      <th>0</th>\n",
       "      <td>0</td>\n",
       "      <td>1</td>\n",
       "      <td>2</td>\n",
       "      <td>3</td>\n",
       "    </tr>\n",
       "    <tr>\n",
       "      <th>1</th>\n",
       "      <td>4</td>\n",
       "      <td>5</td>\n",
       "      <td>6</td>\n",
       "      <td>7</td>\n",
       "    </tr>\n",
       "    <tr>\n",
       "      <th>2</th>\n",
       "      <td>8</td>\n",
       "      <td>9</td>\n",
       "      <td>10</td>\n",
       "      <td>11</td>\n",
       "    </tr>\n",
       "    <tr>\n",
       "      <th>3</th>\n",
       "      <td>12</td>\n",
       "      <td>13</td>\n",
       "      <td>14</td>\n",
       "      <td>15</td>\n",
       "    </tr>\n",
       "  </tbody>\n",
       "</table>\n",
       "</div>"
      ],
      "text/plain": [
       "    a   b   c   d\n",
       "0   0   1   2   3\n",
       "1   4   5   6   7\n",
       "2   8   9  10  11\n",
       "3  12  13  14  15"
      ]
     },
     "execution_count": 30,
     "metadata": {},
     "output_type": "execute_result"
    }
   ],
   "source": [
    "# so i can pass this aname and get that associated df:\n",
    "excel_dict['First_Sheet']\n",
    "#remember its a dictionary where the key is the sheetname and the value is the df itself"
   ]
  },
  {
   "cell_type": "code",
   "execution_count": 34,
   "id": "75e87421-0ca0-48c0-93df-754855160cf8",
   "metadata": {},
   "outputs": [
    {
     "data": {
      "text/plain": [
       "{'First_Sheet':     a   b   c   d\n",
       " 0   0   1   2   3\n",
       " 1   4   5   6   7\n",
       " 2   8   9  10  11\n",
       " 3  12  13  14  15}"
      ]
     },
     "execution_count": 34,
     "metadata": {},
     "output_type": "execute_result"
    }
   ],
   "source": [
    "# as we here:\n",
    "excel_dict"
   ]
  },
  {
   "cell_type": "code",
   "execution_count": 42,
   "id": "f3a14d7d-9872-4bc4-817d-d52a97e5e73a",
   "metadata": {},
   "outputs": [],
   "source": [
    "#TO EXPORT IT AS EXCEL:\n",
    "mydf = excel_dict['First_Sheet']"
   ]
  },
  {
   "cell_type": "code",
   "execution_count": 44,
   "id": "38d015a9-3600-491e-8b0f-ff7bb697fc26",
   "metadata": {},
   "outputs": [],
   "source": [
    "mydf.to_excel('ex.xlsx', sheet_name = 'First_Sheet', index= False)\n",
    "#through sheetname i can provide a name for that sheet\n",
    "#keep in mind that if that file youre creating already exists, itll search for that sheet name and overwrite it w whatever you export\n",
    "#index= False to not save it (when it the default index by pandas)"
   ]
  }
 ],
 "metadata": {
  "kernelspec": {
   "display_name": "Python 3 (ipykernel)",
   "language": "python",
   "name": "python3"
  },
  "language_info": {
   "codemirror_mode": {
    "name": "ipython",
    "version": 3
   },
   "file_extension": ".py",
   "mimetype": "text/x-python",
   "name": "python",
   "nbconvert_exporter": "python",
   "pygments_lexer": "ipython3",
   "version": "3.12.4"
  }
 },
 "nbformat": 4,
 "nbformat_minor": 5
}
