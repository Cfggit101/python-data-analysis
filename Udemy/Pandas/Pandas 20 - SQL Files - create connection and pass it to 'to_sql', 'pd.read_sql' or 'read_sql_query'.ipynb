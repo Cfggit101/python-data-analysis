{
 "cells": [
  {
   "cell_type": "code",
   "execution_count": 1,
   "id": "7a80c6da-a8ea-4f47-b626-8ec80ce89694",
   "metadata": {},
   "outputs": [],
   "source": [
    "#SQL\n",
    "#Pandas can read and write to various SQL engines through the use of both a driver and then the SQLAlchemy Python Library.\n",
    "\n",
    "#As you may already be familiar with SQL comes in various engines like MySQL or PostgreSQL or Microsoft SQL Server.\n",
    "#And the setup for all of these is a little different, and it also depends on what permissions you have, what the name of your database is and so on.\n",
    "\n",
    "#So step number one is to figure out what SQL engine you're actually connecting to. For just a few examples, this could be something like PostgreSQL, MySQL, MS SQL Server, Oracle databases, et cetera.\n",
    "#Step two is to then install the appropriate Python driver library. And often this just requires a quick Google search. So you would just Google search PostgreSQL plus Python, and you would quickly find that the appropriate Python driver for that is psycopg2 or MySQL is pymysql or MS SQL Server is pyodbc.\n",
    "#Step three - you use SQLAlchemy Library to actually connect your SQL database with the driver.\n",
    "#SQLAlchemy essentially just connects Python to your actual SQL engine. It makes that connection to the driver, that way Python in general can communicate with your SQL database.\n",
    "#Step four - you can use that SQLAlchemy driver connection with the Pandas read_sql method. So essentially just passing that connection as a parameter into pd.read_sql.\n",
    "\n",
    "#What's really nice about Pandas, it can both read in an entire table as a DataFrame, or if you want to use your SQL skills first, maybe you already know a little bit of SQL,\n",
    "#you can actually pass in and parse an entire SQL query through that connection through Pandas and get only that subset of the results."
   ]
  },
  {
   "cell_type": "code",
   "execution_count": 3,
   "id": "da499c02-e23f-41db-9ffc-9ae9e1974de2",
   "metadata": {},
   "outputs": [],
   "source": [
    "#We are gonna use SQLite"
   ]
  },
  {
   "cell_type": "code",
   "execution_count": 15,
   "id": "16497b3c-bf4a-4299-ba18-aa3a985d3921",
   "metadata": {},
   "outputs": [],
   "source": [
    "import pandas as pd\n",
    "import numpy as np"
   ]
  },
  {
   "cell_type": "code",
   "execution_count": null,
   "id": "c5f71b81-c390-4602-ba42-b051b2c8e20a",
   "metadata": {},
   "outputs": [],
   "source": [
    "#SQLAlchemy can connect to a wide variety of SQL engines, and then basically once you've made that connection to that engine, you'll go ahead and pass in that connection to Pandas."
   ]
  },
  {
   "cell_type": "code",
   "execution_count": null,
   "id": "e6094f28-0be1-4b43-9be4-39cbd152e3f5",
   "metadata": {},
   "outputs": [],
   "source": [
    "#TO CREATE TEMPORARY DATABASE INSIDE OF YOUR RAM"
   ]
  },
  {
   "cell_type": "code",
   "execution_count": 9,
   "id": "a031e9a6-689d-45bf-ad43-d0c0cbd397d9",
   "metadata": {},
   "outputs": [],
   "source": [
    "from sqlalchemy import create_engine"
   ]
  },
  {
   "cell_type": "code",
   "execution_count": 13,
   "id": "3ab85271-15f3-453e-b45a-05b953e239b1",
   "metadata": {},
   "outputs": [],
   "source": [
    "temp_db = create_engine('sqlite:///:memory:')\n",
    "#making the connection\n",
    "#then i pass that connection to 'to_sql', to 'pd.read_sql' or to ''"
   ]
  },
  {
   "cell_type": "code",
   "execution_count": 25,
   "id": "a9ded93e-daa7-4c23-9cca-760542232ec2",
   "metadata": {},
   "outputs": [
    {
     "data": {
      "text/html": [
       "<div>\n",
       "<style scoped>\n",
       "    .dataframe tbody tr th:only-of-type {\n",
       "        vertical-align: middle;\n",
       "    }\n",
       "\n",
       "    .dataframe tbody tr th {\n",
       "        vertical-align: top;\n",
       "    }\n",
       "\n",
       "    .dataframe thead th {\n",
       "        text-align: right;\n",
       "    }\n",
       "</style>\n",
       "<table border=\"1\" class=\"dataframe\">\n",
       "  <thead>\n",
       "    <tr style=\"text-align: right;\">\n",
       "      <th></th>\n",
       "      <th>a</th>\n",
       "      <th>b</th>\n",
       "      <th>c</th>\n",
       "      <th>d</th>\n",
       "    </tr>\n",
       "  </thead>\n",
       "  <tbody>\n",
       "    <tr>\n",
       "      <th>0</th>\n",
       "      <td>47</td>\n",
       "      <td>3</td>\n",
       "      <td>39</td>\n",
       "      <td>35</td>\n",
       "    </tr>\n",
       "    <tr>\n",
       "      <th>1</th>\n",
       "      <td>5</td>\n",
       "      <td>39</td>\n",
       "      <td>69</td>\n",
       "      <td>19</td>\n",
       "    </tr>\n",
       "    <tr>\n",
       "      <th>2</th>\n",
       "      <td>76</td>\n",
       "      <td>62</td>\n",
       "      <td>8</td>\n",
       "      <td>44</td>\n",
       "    </tr>\n",
       "    <tr>\n",
       "      <th>3</th>\n",
       "      <td>69</td>\n",
       "      <td>53</td>\n",
       "      <td>29</td>\n",
       "      <td>83</td>\n",
       "    </tr>\n",
       "  </tbody>\n",
       "</table>\n",
       "</div>"
      ],
      "text/plain": [
       "    a   b   c   d\n",
       "0  47   3  39  35\n",
       "1   5  39  69  19\n",
       "2  76  62   8  44\n",
       "3  69  53  29  83"
      ]
     },
     "execution_count": 25,
     "metadata": {},
     "output_type": "execute_result"
    }
   ],
   "source": [
    "df = pd.DataFrame(data = np.random.randint(low=0,high=100,size=(4,4)),columns= ['a','b','c','d'])\n",
    "df"
   ]
  },
  {
   "cell_type": "code",
   "execution_count": 27,
   "id": "54b10a9d-2a6d-453b-883c-9dd5fbfaa95e",
   "metadata": {},
   "outputs": [
    {
     "data": {
      "text/plain": [
       "4"
      ]
     },
     "execution_count": 27,
     "metadata": {},
     "output_type": "execute_result"
    }
   ],
   "source": [
    "df.to_sql(name='new_table', con= temp_db)\n",
    "#'con' is the connection\n",
    "#now i have a table into my database\n",
    "\n",
    "#be aware of the existing tables in your db - you have the 'if_exists' for:\n",
    "    # =fail --> raises a ValueError but doesnt overwrite it\n",
    "    # =replace --> drop the table before inserting new values --> overwrites the existing one, be careful!\n",
    "    # append --> insert new values to the existing table"
   ]
  },
  {
   "cell_type": "code",
   "execution_count": 29,
   "id": "edc0fb1a-cdae-4d7c-90f4-645ad863f856",
   "metadata": {},
   "outputs": [],
   "source": [
    "#now that i have one table in my database, lets try to grab info or read from the SQL db\n",
    "#Theres two ways:\n",
    "#1 - read in an entire table at once"
   ]
  },
  {
   "cell_type": "code",
   "execution_count": 33,
   "id": "1a78ed0e-36b4-4066-bcac-268035ad4ea4",
   "metadata": {},
   "outputs": [
    {
     "data": {
      "text/html": [
       "<div>\n",
       "<style scoped>\n",
       "    .dataframe tbody tr th:only-of-type {\n",
       "        vertical-align: middle;\n",
       "    }\n",
       "\n",
       "    .dataframe tbody tr th {\n",
       "        vertical-align: top;\n",
       "    }\n",
       "\n",
       "    .dataframe thead th {\n",
       "        text-align: right;\n",
       "    }\n",
       "</style>\n",
       "<table border=\"1\" class=\"dataframe\">\n",
       "  <thead>\n",
       "    <tr style=\"text-align: right;\">\n",
       "      <th></th>\n",
       "      <th>index</th>\n",
       "      <th>a</th>\n",
       "      <th>b</th>\n",
       "      <th>c</th>\n",
       "      <th>d</th>\n",
       "    </tr>\n",
       "  </thead>\n",
       "  <tbody>\n",
       "    <tr>\n",
       "      <th>0</th>\n",
       "      <td>0</td>\n",
       "      <td>47</td>\n",
       "      <td>3</td>\n",
       "      <td>39</td>\n",
       "      <td>35</td>\n",
       "    </tr>\n",
       "    <tr>\n",
       "      <th>1</th>\n",
       "      <td>1</td>\n",
       "      <td>5</td>\n",
       "      <td>39</td>\n",
       "      <td>69</td>\n",
       "      <td>19</td>\n",
       "    </tr>\n",
       "    <tr>\n",
       "      <th>2</th>\n",
       "      <td>2</td>\n",
       "      <td>76</td>\n",
       "      <td>62</td>\n",
       "      <td>8</td>\n",
       "      <td>44</td>\n",
       "    </tr>\n",
       "    <tr>\n",
       "      <th>3</th>\n",
       "      <td>3</td>\n",
       "      <td>69</td>\n",
       "      <td>53</td>\n",
       "      <td>29</td>\n",
       "      <td>83</td>\n",
       "    </tr>\n",
       "  </tbody>\n",
       "</table>\n",
       "</div>"
      ],
      "text/plain": [
       "   index   a   b   c   d\n",
       "0      0  47   3  39  35\n",
       "1      1   5  39  69  19\n",
       "2      2  76  62   8  44\n",
       "3      3  69  53  29  83"
      ]
     },
     "execution_count": 33,
     "metadata": {},
     "output_type": "execute_result"
    }
   ],
   "source": [
    "new_df = pd.read_sql(sql= 'new_table', con= temp_db)\n",
    "new_df\n",
    "#theres an extra column called 'index' cos i didnt put 'index=False' so i saved it with the index and now its an extra column"
   ]
  },
  {
   "cell_type": "code",
   "execution_count": 37,
   "id": "dc799c13-c996-4384-b2e4-2cf443099cad",
   "metadata": {},
   "outputs": [],
   "source": [
    "#2 - pass in an entire SQL query in Pnadas - will perform that query and then return the results as a df\n",
    "#requires to know SQL syntax"
   ]
  },
  {
   "cell_type": "code",
   "execution_count": 39,
   "id": "193285e0-3404-429d-96f9-3f0d07120daf",
   "metadata": {},
   "outputs": [
    {
     "data": {
      "text/html": [
       "<div>\n",
       "<style scoped>\n",
       "    .dataframe tbody tr th:only-of-type {\n",
       "        vertical-align: middle;\n",
       "    }\n",
       "\n",
       "    .dataframe tbody tr th {\n",
       "        vertical-align: top;\n",
       "    }\n",
       "\n",
       "    .dataframe thead th {\n",
       "        text-align: right;\n",
       "    }\n",
       "</style>\n",
       "<table border=\"1\" class=\"dataframe\">\n",
       "  <thead>\n",
       "    <tr style=\"text-align: right;\">\n",
       "      <th></th>\n",
       "      <th>a</th>\n",
       "      <th>c</th>\n",
       "    </tr>\n",
       "  </thead>\n",
       "  <tbody>\n",
       "    <tr>\n",
       "      <th>0</th>\n",
       "      <td>47</td>\n",
       "      <td>39</td>\n",
       "    </tr>\n",
       "    <tr>\n",
       "      <th>1</th>\n",
       "      <td>5</td>\n",
       "      <td>69</td>\n",
       "    </tr>\n",
       "    <tr>\n",
       "      <th>2</th>\n",
       "      <td>76</td>\n",
       "      <td>8</td>\n",
       "    </tr>\n",
       "    <tr>\n",
       "      <th>3</th>\n",
       "      <td>69</td>\n",
       "      <td>29</td>\n",
       "    </tr>\n",
       "  </tbody>\n",
       "</table>\n",
       "</div>"
      ],
      "text/plain": [
       "    a   c\n",
       "0  47  39\n",
       "1   5  69\n",
       "2  76   8\n",
       "3  69  29"
      ]
     },
     "execution_count": 39,
     "metadata": {},
     "output_type": "execute_result"
    }
   ],
   "source": [
    "pd.read_sql_query(sql=\"SELECT a,c FROM new_table\", con= temp_db)\n",
    "#you do a prefiltering in SQL w SQL lenguage"
   ]
  }
 ],
 "metadata": {
  "kernelspec": {
   "display_name": "Python 3 (ipykernel)",
   "language": "python",
   "name": "python3"
  },
  "language_info": {
   "codemirror_mode": {
    "name": "ipython",
    "version": 3
   },
   "file_extension": ".py",
   "mimetype": "text/x-python",
   "name": "python",
   "nbconvert_exporter": "python",
   "pygments_lexer": "ipython3",
   "version": "3.12.4"
  }
 },
 "nbformat": 4,
 "nbformat_minor": 5
}
