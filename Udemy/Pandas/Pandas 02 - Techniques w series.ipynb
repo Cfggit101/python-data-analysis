{
 "cells": [
  {
   "cell_type": "code",
   "execution_count": 9,
   "id": "8b698384-a22c-481a-9cea-8241cc419822",
   "metadata": {},
   "outputs": [],
   "source": [
    "import pandas as pd\n",
    "import numpy as np"
   ]
  },
  {
   "cell_type": "code",
   "execution_count": 65,
   "id": "06e4d62a-1e50-4734-ae70-d14a6108d0eb",
   "metadata": {},
   "outputs": [],
   "source": [
    "#Imaginary sales data for the first quarter of a company and the second quarter of a company.\n",
    "q1 = {'Japan' : 80, 'China' : 450, 'India' : 200, 'USA' : 250}\n",
    "q2 = {'Brazil' : 100, 'China' : 500, 'India' : 210, 'USA' : 260}"
   ]
  },
  {
   "cell_type": "code",
   "execution_count": 67,
   "id": "bd72af45-c66b-451b-ae38-421baf6b7e2c",
   "metadata": {},
   "outputs": [],
   "source": [
    "sales_q1 = pd.Series (q1)\n",
    "sales_q2 = pd.Series (q2)"
   ]
  },
  {
   "cell_type": "code",
   "execution_count": 17,
   "id": "2ea1b63f-d5aa-4d56-aa15-da2c020a4136",
   "metadata": {},
   "outputs": [
    {
     "data": {
      "text/plain": [
       "Japan     80\n",
       "China    450\n",
       "India    200\n",
       "USA      250\n",
       "dtype: int64"
      ]
     },
     "execution_count": 17,
     "metadata": {},
     "output_type": "execute_result"
    }
   ],
   "source": [
    "sales_q1"
   ]
  },
  {
   "cell_type": "code",
   "execution_count": 69,
   "id": "5cb8530d-1857-4342-8f21-fb92e7a9abfb",
   "metadata": {},
   "outputs": [
    {
     "data": {
      "text/plain": [
       "Brazil    100\n",
       "China     500\n",
       "India     210\n",
       "USA       260\n",
       "dtype: int64"
      ]
     },
     "execution_count": 69,
     "metadata": {},
     "output_type": "execute_result"
    }
   ],
   "source": [
    "sales_q2"
   ]
  },
  {
   "cell_type": "code",
   "execution_count": 25,
   "id": "160a31ae-1006-4b41-99fa-eb67f24ce905",
   "metadata": {},
   "outputs": [
    {
     "data": {
      "text/plain": [
       "80"
      ]
     },
     "execution_count": 25,
     "metadata": {},
     "output_type": "execute_result"
    }
   ],
   "source": [
    "sales_q1[\"Japan\"]\n",
    "#gotta use the same exact label (case-sensitive!!!)"
   ]
  },
  {
   "cell_type": "code",
   "execution_count": 29,
   "id": "bc32af5d-ded8-43e2-99f8-8bf95dab95a4",
   "metadata": {},
   "outputs": [
    {
     "name": "stderr",
     "output_type": "stream",
     "text": [
      "C:\\Users\\mirlo\\AppData\\Local\\Temp\\ipykernel_3244\\3322456342.py:1: FutureWarning: Series.__getitem__ treating keys as positions is deprecated. In a future version, integer keys will always be treated as labels (consistent with DataFrame behavior). To access a value by position, use `ser.iloc[pos]`\n",
      "  sales_q1[0]\n"
     ]
    },
    {
     "data": {
      "text/plain": [
       "80"
      ]
     },
     "execution_count": 29,
     "metadata": {},
     "output_type": "execute_result"
    }
   ],
   "source": [
    "sales_q1[0]\n",
    "#better use name index so its more readable"
   ]
  },
  {
   "cell_type": "code",
   "execution_count": 35,
   "id": "b5f7f13f-41e1-4356-8cd2-293f9ab24fb5",
   "metadata": {},
   "outputs": [
    {
     "data": {
      "text/plain": [
       "Index(['Japan', 'China', 'India', 'USA'], dtype='object')"
      ]
     },
     "execution_count": 35,
     "metadata": {},
     "output_type": "execute_result"
    }
   ],
   "source": [
    "#if ive got trouble reminding one key word, i can ask to see all the keywords ive got - to find the excat string of what im looking for\n",
    "sales_q1.keys()"
   ]
  },
  {
   "cell_type": "code",
   "execution_count": 39,
   "id": "782737e2-09d1-45d8-ba2e-0a2e117ba8d2",
   "metadata": {},
   "outputs": [
    {
     "data": {
      "text/plain": [
       "[1, 2, 1, 2]"
      ]
     },
     "execution_count": 39,
     "metadata": {},
     "output_type": "execute_result"
    }
   ],
   "source": [
    "#we can perform broadcast ed operations as it comes from a numpy array\n",
    "[1,2] * 2"
   ]
  },
  {
   "cell_type": "code",
   "execution_count": 43,
   "id": "e645c735-c18a-4ac8-bd74-30eb745f119f",
   "metadata": {},
   "outputs": [
    {
     "data": {
      "text/plain": [
       "array([2, 4])"
      ]
     },
     "execution_count": 43,
     "metadata": {},
     "output_type": "execute_result"
    }
   ],
   "source": [
    "#if we turn it into numpyarray: itll broadcast it\n",
    "np.array([1,2]) *2"
   ]
  },
  {
   "cell_type": "code",
   "execution_count": 47,
   "id": "229ff8a1-940b-48dd-9dc6-711434a2295f",
   "metadata": {},
   "outputs": [
    {
     "data": {
      "text/plain": [
       "Japan    160\n",
       "China    900\n",
       "India    400\n",
       "USA      500\n",
       "dtype: int64"
      ]
     },
     "execution_count": 47,
     "metadata": {},
     "output_type": "execute_result"
    }
   ],
   "source": [
    "#then the same its gonna happen with my series as it comes from a numpy array:\n",
    "sales_q1 * 2"
   ]
  },
  {
   "cell_type": "code",
   "execution_count": 71,
   "id": "b3d10f5c-8a46-46e0-882e-2880934ccf4e",
   "metadata": {},
   "outputs": [
    {
     "data": {
      "text/plain": [
       "Brazil      NaN\n",
       "China     950.0\n",
       "India     410.0\n",
       "Japan       NaN\n",
       "USA       510.0\n",
       "dtype: float64"
      ]
     },
     "execution_count": 71,
     "metadata": {},
     "output_type": "execute_result"
    }
   ],
   "source": [
    "#the nice thing about having name indexes is that when performing operations btw two series, its onna take the name index into account\n",
    "sales_q1 + sales_q2"
   ]
  },
  {
   "cell_type": "code",
   "execution_count": 83,
   "id": "ebaecf88-c91a-4219-8991-2ae26f50f53e",
   "metadata": {},
   "outputs": [],
   "source": [
    "#shows you NaN when there not present in both series\n",
    "#How do i fill automatically those missing values?:\n",
    "add_up = sales_q1.add(sales_q2, fill_value=0)\n",
    "#this function adds the up but you gotta indicate which ones, and the fill value you wanna have (for the indexes missing in each series, what do you want the value to be)\n",
    "#beaware - put 'fill_value'!!! (cos we're not using level)"
   ]
  },
  {
   "cell_type": "code",
   "execution_count": 79,
   "id": "573183de-46b0-4afe-ac74-38209e2df15c",
   "metadata": {},
   "outputs": [
    {
     "data": {
      "text/plain": [
       "dtype('int64')"
      ]
     },
     "execution_count": 79,
     "metadata": {},
     "output_type": "execute_result"
    }
   ],
   "source": [
    "#as we start operating with them, they ll turn into floats\n",
    "sales_q1.dtype"
   ]
  },
  {
   "cell_type": "code",
   "execution_count": 87,
   "id": "a02f720e-7881-4e56-bd6e-a79f68c28b15",
   "metadata": {},
   "outputs": [
    {
     "data": {
      "text/plain": [
       "dtype('float64')"
      ]
     },
     "execution_count": 87,
     "metadata": {},
     "output_type": "execute_result"
    }
   ],
   "source": [
    "add_up.dtype"
   ]
  },
  {
   "cell_type": "code",
   "execution_count": 89,
   "id": "4c218c94-b636-4407-95f3-b3a19bede370",
   "metadata": {},
   "outputs": [],
   "source": [
    "#if i really need it to be an interger (not in this course), use pandas round function or hardcore turn it into interger \n",
    "#f ex in the pd.Series function you've got the option to specify the datatype you want (see info w tab+shift)\n",
    "#can also name the series which will be a high level label of that series overall"
   ]
  },
  {
   "cell_type": "code",
   "execution_count": null,
   "id": "df271544-781b-44ff-b426-ea9f006a9c78",
   "metadata": {},
   "outputs": [],
   "source": [
    "#AND SO, I CAN PERFORM OPERATION BTW SERIES BUT KEEP IN MIND THAT IF I HAVE TO FILL BLANK SPACES (INDEXES THAT ARE NOT COMMON TO BOTH) I HAVE TO USE DIFFERENT FUNCTION AND SPECIFY THE FILL VALUE"
   ]
  }
 ],
 "metadata": {
  "kernelspec": {
   "display_name": "Python 3 (ipykernel)",
   "language": "python",
   "name": "python3"
  },
  "language_info": {
   "codemirror_mode": {
    "name": "ipython",
    "version": 3
   },
   "file_extension": ".py",
   "mimetype": "text/x-python",
   "name": "python",
   "nbconvert_exporter": "python",
   "pygments_lexer": "ipython3",
   "version": "3.12.4"
  }
 },
 "nbformat": 4,
 "nbformat_minor": 5
}
